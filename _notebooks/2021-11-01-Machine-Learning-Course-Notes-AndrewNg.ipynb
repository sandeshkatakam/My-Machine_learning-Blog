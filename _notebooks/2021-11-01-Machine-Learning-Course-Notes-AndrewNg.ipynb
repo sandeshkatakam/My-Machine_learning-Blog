{
  "nbformat": 4,
  "nbformat_minor": 0,
  "metadata": {
    "colab": {
      "name": "Machine-Learning-Course-Notes-AndrewNg.ipynb",
      "provenance": [],
      "collapsed_sections": []
    },
    "kernelspec": {
      "name": "python3",
      "display_name": "Python 3"
    },
    "language_info": {
      "name": "python"
    }
  },
  "cells": [
    {
      "cell_type": "markdown",
      "source": [
        "# Machine Learning Course Notes - AndrewNg(with code implementations of Algorithms)\n",
        "> My entire Machine learning course notes along with code implementations for all algorithms. The notes are based on the course taught by AndrewNg offered by stanford on Coursera.\n",
        "\n",
        "- toc: true \n",
        "- badges: true\n",
        "- comments: true\n",
        "- categories: [Machine-Learning]\n",
        "- image: images/stanford_ml_course.png"
      ],
      "metadata": {
        "id": "PAQngIILIbbG"
      }
    },
    {
      "cell_type": "markdown",
      "source": [
        "## Introduction to Machine learning:\n",
        "* Types of Ml problems\n",
        "* Types of Ml algorithms:\n",
        "  * Supervised learning\n",
        "  * Unsupervised learning\n",
        "  * semi supervised learning\n",
        "  * Reinforcement learning\n",
        "* Singular Value Decomposition method"
      ],
      "metadata": {
        "id": "dK-d6UaBJBIM"
      }
    },
    {
      "cell_type": "markdown",
      "source": [
        "### Definition of Machine learning: \n",
        "Many attempts were made to define what is machine learning. Some of the prominent definitions are: \n",
        "* **Arthur Samuel(1959)** : Field of study that gives computers the ability to learn without being explicitly programmed.\n",
        "* **Tom Mitchell(1998)**:   \n",
        "A well-posed learning problem is defined as:  \n",
        "A computer program is said to learn from experience \"E\" with respect to some task \"T\" and some performance measure \"P\", if its performance on T as measured by P improves with E.\n",
        "\n",
        "Ex:  An email program detecting spam mails. In this example:   \n",
        "* Task \"T\": classifying emails as spam or not\n",
        "* Experience \"E\": watching you label email as spam or not spam\n",
        "* Performance \"P\": Fraction of emails correctly classified."
      ],
      "metadata": {
        "id": "dcYfZ607MPb8"
      }
    },
    {
      "cell_type": "markdown",
      "source": [
        "### Types of ML Algorithms(based on learning methods): \n",
        "* Supervised Learning: We give the dataset which contains input data with the labelled ground truths so that the model can learn from it and when trained can produce results which are more close to the actual labels.\n",
        "* Unsupervised Learning:   Allows us to approach problems with little or no idea what our results would look like. These learning algorithms are used to identify the patterns in dataset that has datapoints that are neither classified nor labelled.\n",
        "* Semi-supervised learning:  is an approach to machine learning that combines a small amount of labeled data with a large amount of unlabeled data during training. Semi-supervised learning falls between unsupervised learning (with no labeled training data) and supervised learning (with only labeled training data). It is a special instance of weak supervision.\n",
        "* Reinforcement learning: Reinforcement learning is a machine learning training method based on rewarding desired behaviors and/or punishing undesired ones. In general, a reinforcement learning agent is able to perceive and interpret its environment, take actions and learn through trial and error."
      ],
      "metadata": {
        "id": "X6yFJXfXNiRN"
      }
    },
    {
      "cell_type": "markdown",
      "source": [
        "### Types of problems in supervised learning:\n",
        "* Regression problems: These are problems where our predictions have continous value attribute.(for example: Housing price prediction given different factors as input in the dataset, here house prices are continuous value numbers)\n",
        "* Classification problems: These problems have predictions that are discrete valued (for example: output is there 0(or)1 for binary classification)"
      ],
      "metadata": {
        "id": "VklDyFKzROAV"
      }
    },
    {
      "cell_type": "markdown",
      "source": [
        "### Types of problems in Unsupervised learning:\n",
        "Given, a dataset the unsupervised learning algorithms will try to find some structure of pattern in the data. It decides that data lives in separate clusters. An example of this is **\"Clustering Algorithm\"**.  \n",
        "\n",
        "Examples: \n",
        "* Like Newstories in google news are arranged in a cohesive way\n",
        "* Genome identification and clustering the people based on genome."
      ],
      "metadata": {
        "id": "xB2X_RxoR_9d"
      }
    },
    {
      "cell_type": "markdown",
      "source": [
        "## Regression problems (Linear Regression):\n",
        "* Weights and Bias units\n",
        "* Contour plots\n",
        "* Key Idea\n",
        "* Gradient Descent Algorithm\n",
        "  * FOr linear regression\n",
        "  * Batch Gradient Descent\n",
        "  * Gradient Descent for Multi variable regression\n",
        "* Cost Function and Loss function\n"
      ],
      "metadata": {
        "id": "iKkQT6a9LO3M"
      }
    },
    {
      "cell_type": "markdown",
      "source": [
        "### Linear Regression in One Variable:\n",
        "* **Notation:** \n",
        "  * $m$ = Number of Training examples\n",
        "  * $X$ = input variables/ features\n",
        "  * $y$ = Output variables/ target variables/ labels/ ground truths\n",
        "  * $(X,y)$ = one training example\n",
        "  * $(X^{(i)}, y^{(i)})$ = ith training example.  \n",
        "\n",
        "\n",
        "Important components do discuss:\n",
        "* Training set: Set of training examples for the model.\n",
        "* Learning algorithm: Our choice of algorithm to use for the problem.\n",
        "* Hypothesis function ($h$): is a function mapping from input (features/input variables) to output(predictions)\n",
        "\n",
        "For example:   \n",
        "size of house is the input data($x$) we given in for the model in housing price prediction problem. The Estimated price will be our $y$.   \n",
        "\n",
        "**Idea of Regression:**\n",
        "Choose paramters $\\theta$ and $\\theta_{0}$ such that our hypothesis function $h_{\\theta}(x)$ is close to $y$ for our training examples.  \n",
        "\n",
        "For linear regression, we are going to solve a minimization problem, where the term: \n",
        "$$(h_{\\theta}(x) - y)^{2} → should \\ be \\ minimized$$\n",
        " \n",
        "\n",
        "Representation of our Hypothesis function: \n",
        "$$h_{\\theta}(x) = \\theta_{0} + \\theta_{1}\\cdot x$$\n",
        "\n",
        "$$(x^{(i)}, y^{(i)}) \\\\ \\frac{1}{2m}(\\sum_{i = 1}^{m}(h_{\\theta}(x) - y)^{2})$$\n",
        "\n",
        "In general, our objective is given the hypothesis function,\n",
        "$$h_{\\theta}(x^{(i)}) = \\theta_{0} + \\theta_{1}\\cdot x^{(i)}$$\n",
        "Find the value of $\\theta_{0}$, $\\theta{1}$ so that the average of $\\frac{1}{2m}(\\sum_{i = 1}^{m}(h_{\\theta}(x) - y)^{2})$ to be minimum.  \n",
        "\n",
        "**Cost Function:**  \n",
        "\n",
        "$$J(\\theta_{0}, \\theta{1}) = \\frac{1}{2m}(\\sum_{i = 1}^{m}(h_{\\theta}(x) - y)^{2})$$  \n",
        "\n",
        "In this cost function, we take \"Mean squared error\". This cost function can also be called as \"Squared Error function\".  The mean is halved($\\frac{1}{2}$) as a convienience for the computation of gradient descent (as the derivative term of squared error cancels out $\\frac{1}{2}$. And our goal is:\n",
        "$$\\min_{(\\theta_{0},\\theta_{1})} J(\\theta_{0},\\theta_{1})$$  \n",
        "\n",
        "\n",
        "**An example visualization of linear regression:**\n",
        "\n",
        "![linearreg.png](data:image/png;base64,iVBORw0KGgoAAAANSUhEUgAAAoAAAAHgCAIAAAC6s0uzAAAze0lEQVR42uzde1hU9d7//zUchFLAMwcZEA9bRCHBI1haaZKnbdqV2m6j7d2tqbR/hFd3Ynt3p2WCtX9m3ls0zW+mlVgZd96mhu42qKGWBnzdRm4MDVCIaCuDVBzne+nkOKwZhplhDmuteT7+8GIWi3FYa1iveX/W5+Cl1WoFAADgXB4cAgAACGAAAAhgAABAAAMAQAADAAACGAAAAhgAABDAAAAQwAAAgAAGAIAABgCAAAYAAAQwAAAEMAAAIIABACCAAQAAAQwAAAEMAAAIYAAACGAAAAhgAABAAAMAQAADAAACGAAAAhgAABDAAAAQwAAAgAAGAIAABgCAAAYAAAQwAAAEMAAAIIABACCAAQAAAQwAAAEMAAAIYAAACGAAAAhgAABAAAMAQAADAAACGAAAAhgAABDAAAAQwAAAgAAGAIAABgCAAAYAAAQwAAAEMAAAIIABACCAAQAAAQwAAAEMAAAIYAAACGAAANyUl1v9tq2trVeuXPHz81OpVJx7AJAvrVZbV1cXEhLi4eFBAMvAlStX1Go1b1wAUIby8vLQ0FACWAb8/Px0J8zf3583LgDIl0ajUavVuqs6ASwDupZn/5t4+wKAMq7qMkUnLAAACGAAAAhgAABAAAMAQAADAAACGAAAAhgAABDAAAAQwAAAgAAGAIAABgDAbXhxCAAADlVQdvViTX1E766xYT04GgQwAMAZMg4Wb8kr1X29ZOKAtKlDOSY6NEEDABxY++rTVxCELXmlBWVXOSwEMADAsS7W1He4hQAGAMDOInp37XALAQwAgJ3FhvVYMnGA/uHSiQPoh6VHJywAgAOlTR2aOCyIXtAEMADABXUw0WuMJmgAAAhgAAAIYAAAQAADAEAAAwAAAhgAAAK4s1atWqUyEBQUZLxPbm6uqq1vvvmG0wkAkAuJjgMeNmzYkSNHdF97enq2t9v58+f9/f11X/fp04fTCQAggDv3sry8TBa+In379u3evTtnEQAgOxK9B1xSUhISEhIRETF//vzS0tL2douNjQ0ODp40adI//vEPziUAgAq4U8aOHbtz587f/OY333///Zo1axISEs6dO9erVy/DfYKDg7du3Tpy5MiGhoZdu3ZNmjQpNzd3woQJxs/WcJPua41GwykHgE4qKLvK3M6dp9JqtVJ+ffX19QMHDnz22WeXL19uZreZM2eqVKp9+/YZf2vVqlWrV6823FJbW6u/cwwAsErGwWL9GvtLJg5ImzrUJS9Do9EEBATI+nou9WFIXbt2jY6OLikpMb/buHHj2ttn5cqVtbeUl5fzxwMAnal99ekrCMKWvNKCsqscFmUGcENDQ3FxcXBwcAfviYKC9vbx8fHxN8ApBwCbXayp73CLcWZ/9FXF7ZxuahLq6jiSEr0H/Mwzz8ycOTMsLKy6unrNmjUajWbhwoW6Wvby5cs7d+4UBGHDhg39+/cfNmxYY2PjO++8s/cmTicAOFRE764dbjHUpr16QkTa5hXC/v03Hkj77qf7BnBFRcWjjz5aU1PTp0+fcePGnTx5Mjw8XBCEysrKsrIy3T6NjY3PPPPM5cuX77jjjmHDhn3yySfTpk3jdAKAQ8WG9VgycYA+U5dOHGCmH5Zhe3VcRXHa9Bm3v6fVCiqVmx9MqXfCsi8F3LQHAJezsBf0R19VLH+/qEtz0zf//xwP4VbW+PoKNTVC165cz714JwEArK2DLRmAFNG766V1Mwy3lG55e8CTCziAOizGAABwgJKS2PCehhte+d//S/pSAQMAHKnt/d3agUNKPzvxLLN2UAEDABzlwAFx76qWloAL3zBnFgEMAHBk4Tt9+u2Hc+cKWq3gQdAQwAAAB1m8WFz4arXCnj0cGAIYAODIwnfbttsPV6xgng1L0AkLAGCrwEChulpc+IIKGADgKE1NNwpfw/TNziZ9qYABAI5kPIsk0UsFDABwoJIScfqeP0/6UgEDgLuzcJZmCl8CGABgN23W/ps4IG3qULs99Z49wvz5bbZcvSp0784xJ4ABgNr39tp/giBsyStNHBZknzqYwtcxuAcMAEpwsaa+wy1WmzZNnL6traQvFTAA4LaI3l073ELhSwUMALCz2LAeSyYO0D9cOnGAcftzQdnVj76qKCi72nH0Gs8rSfpSAQOAW7G8Y3Pa1KGJw4La29miLlrGaydMmiQcOcJZIIABwL1Y27E5NqyHyZy2qIsWbc7ORRM0ANi5YLWomdeypxKlps1P20EXrZoacfquX0/6UgEDgGILVhtS07aRRea6aFH4UgEDgNxrX3sVrB2nppVMd9H67DNx+hYWkr5UwAAgM3YsWA1TUx/qJjs2W07cRYvClwAGAGWw/0jcjjo225DoN55k+XLhtdfafKO+XrjzTs4gAQwAsmTfglWcmvZC4UsAA4Dy2LdgtbM77xR+/pnoJYABQLF1sOSil8KXAAYAKCB6HbvqMAEMAJC35mbB27vNlkceEd5/v5PPau1YZ1FaE94EMABQ+NpS+1q16rAorXU/Ynl4KxsTcQCAsly8KE7fPXvsdce3w1WHDWfiNE5r+05UQgUMAFBs4StqMTY/1llU7/4m0K/DOHfnhmgqYADuy44LJ7jee++J0/e77zqZvhkHi2dn5i9/v2h2Zn7GwWLzqw4b17tNLa3mn7/zE5VQAQOA/Nh34QQHfT6wtL+SY7o6m7zd295YZ+PWaW9PD9HMJFqDe8D2mqiEAAYAmdW+VnUmku7ng4ceEj7+uM2W5mbB07PzLyD3fLVoi77F2ORYZ5Ot03PiQkVpLd2JSghgAHACuy+c4JrPBw6bXsMw/s1ErKH2ZuIUpbVEJyohgAHAORyxcIJTPx84cmYrUfyLAtUMSc/EKT10wgLgjsx0JpLB5wNR+vboYd95JY3jP2XSoBWW3SOPDesxJy6U9KUCBgBZlmvtLqzklCmdjeP/3iF9ecPYnUrrTvNxazSagICA2tpaf39/zj0AiWvTC/r6dcGv7bDaFSuEjAwH/deG94CXThywQnpdxBVwPZdiAK9atWr16tX6h4GBgVVVVca75eXlLV++/Ny5cyEhIc8+++ySJUsIYAAOjEBXXqpdsJaRxCdtVsD1XKJN0MOGDTty5Ijua09T/ekvXrw4bdq0RYsWvfPOO59//vmyZcv69Onz8MMPc70A4Igq0GUDhU+eFOLj22zJzRUmTnTC/0x3ZTcNYC8vr6CgIDM7bNmyJSwsbMOGDYIgDB069PTp03/9618JYAB2rP9sHihst9qRRXwVTaK9oEtKSkJCQiIiIubPn19aWmq8w4kTJ6ZMmaJ/mJiYePr06aamJuM9GxoaNAY45QAs0eGqA2bqZtH0jbZYtkycvjU1pC8B7HBjx47duXPnp59+um3btqqqqoSEhB9//FG0T1VVVWBgoP5hYGBgc3NzTU2N8bOlp6cH3KJWqznlACxh20Bh47rZlommVSph82Zx4durFyeFAHa4qVOnPvzww9HR0ZMnT/7kk08EQXj77bdNvUVVBm9OrWiL3sqVK2tvKS8v55QDsIRtA4VtrptvR6/oOtbaSuGrVFIfB9y1a9fo6OiSkhLR9qCgIMOu0dXV1V5eXr1MfUL0uYkzDcBaNgwU7tQEW9zxpQKWlIaGhuLi4uDgYNH2+Pj4w4cP6x/m5OSMGjXK29ubMwrAvnWwVfM62TjBlnHhq9WSvoonxXHAzzzzzMyZM8PCwqqrq9esWZOXl3f27Nnw8PCVK1devnx5586dumFIw4cPf/LJJxctWnTixIklS5bs3r27w17QjAMG4ARW9IJubTWxchHRawHGATtERUXFo48+WlNT06dPn3Hjxp08eTI8PFwQhMrKyrKyMt0+ERERBw4cSE1N3bRpU0hIyMaNGxmDBEA6dbOlhS/RSwXMJyYAcJ5Ll4SIiDZbFi8W3niDA0MFDABwiIKyq7HhPSl8wXKEAOA8h556QZy+eXmkr9uiAgYAp1CpHhRVw9/9m8mWqYABAA4TGirqbxWV+kH/Ffutm6MDVMAAAKsKX9GG/iv2676wYo4OEMAAAJujN+PA14ar3NP+TAADAByevoJWmyYI1s5tCQIYAGB79Oq/ZJV7EMAAYG8//yzceWfbS6yX0NRkt/X5QQADgBRIK9jaKXwzDhbr7/sumTggbepQThx0GIYEQJYyDhbPzsxf/n7R7Mz8jIPFrnwpx46J0/fFF3Xpa5/1+UEFDADSqX1FwZY4LMg1dbDZO74m1+enIRpUwADkymSwOftFPP64OH2LikTzSnZqfX5QAQOAFEpew9u9rg82y1YS1K3Pz9hfEMAAZMm4H5Mrg804epuaBK92r6VpU4cy9hem30qsBwxA4rXv7Mx8wy3ZyxJ0SeaCXtBmC1+GG3E9pwIGoBxm+jE5dVKLjtqcGW4Ea9EJC4CkSaIfU0fpy3AjEMAAlEZ3u1f/0Nn9mFQqcfpqtcb9rSTRKxtyQxM0AKkz04/Jgbddq6qE4OA2WwYPFv71L+mW6SCAAcARdbBxxDrwtqtlo4xEZTrDjUAAA1Amw3rXUZNhvfWW8Mc/ttnyxhvC4sWdKdMBAhiAjInq3d8E+ol2sMMsj1YWvpaU6UB76IQFQB61r6jebWppFe3TqduugwaJ07eiQnCnaRJAAAOACcadir09PezWO1qlEr79Vlz49uvHYYdD0QQNQAZMdjOeExfa2duuxm3Ora0mNgJUwADcU3ujgWPDesyJC7Vb+mq1pC+ogAFIlKtmPLZnN+POdbYCCGAAzubaGY/t0M24uVnw9iZ9IQU0QQOwovaV94zHKpU4fU3NKwkQwABcFrQffVVhHK4ynvH4q6/Ezc6jRhG9cC2aoAG0YaaRWa4zHnPHF1TAAKRf+5ppZHbxwkQ2ePxxcfp+9BHpCypgAJJjZvV7HTnNeEzhCwIYgFxY0sgsgxmPjaO3tlbw9+f8QlJoggbQJlxl1shsYeFL+oIKGIDE2b2R2XkTdyiozdlVs52AAAbg4jrYXtd92ybusCV+zKavvPLMtbOdgAAGIHu2rZlvdfx0VPjKK89sO2iQI6nfA05PT1epVE8//bTxt3bs2KFq65dffuGMAtJhw8QdxvHz2uHz7c63VVvbYfrKbvYuGc92AiUF8Jdffrl169aYmJj2dvD396804OvryxkFpMNMn2rLJ9t6/e8XZmfmZxwsNlH4du8ujl6jm76yyzO5znYCJQXw9evXH3vssW3btvXo0W7bi0qlCjLA6QQkpb0+1RkHi2dn5i9/v8g4WdsLmzaV6/bt4sL3kUfa628luzxTQkd0WEa694CTk5OnT58+efLkNWvWmAnp8PDwlpaWESNGvPTSS7Gxscb7NNyk+1qj0XDKAWcy7lNt/h6nLn4MdzCsXG/sZmVnK9ETyiLP5DTbCZQXwFlZWWfOnDl9+rSZfSIjI3fs2BEdHa3RaF5//fXx48cXFRUNHjxYtFt6evrq1as504ALSzrDFLFwsq3c89Wv//2C4W5zRqrFT33smHD33fpH7XW2klGeGX6AIHoVT6WV3ji58vLyUaNG5eTk3HXXXYIg3HvvvSNGjNiwYYOZH2ltbY2Li5swYcLGjRvNV8Bqtbq2ttafUfmAvQPD8h+ZnZlvuCV7WYLJHzcM1EvrZpgpfK16Wsli9JFVNBpNQECArK/nUqyAz5w5U11dPXLkSN3DlpaWo0eP/u1vf2toaPD09DT5Ix4eHqNHjy4pKTH+ls9NvFkBiQSG5W3Cuso1Nryn+BtNTYKXl3EZbb6wlv5HGUYfuRspBvCkSZPOnj2rf/iHP/whMjJyxYoV7aXvzY/C2sLCwujoaM4oIP3ASJs6NKJ316Lya3epu88bHWYurY3TVymdrRT2AQIKCWA/P7/hw4frH3bt2rVXr166LQsWLOjXr196erogCKtXrx43btzgwYM1Gs3GjRsLCws3bdrEGQWszVHbbo52JjD0pfN7X5RfrKk3XTpbOa+kHDtbKekDBBQSwGaUlZV5ePw6dOratWuLFy+uqqoKCAiIjY09evTomDFjOKOA5Tpz09HmwOi4dNZqBQ8Pq9JXX1jLt/Ow3D9AwAZS7ITlOAq4aQ/YsfbtZK8lw/xeOnHACsvy+7XD50Xdm9fPvWtOXKhtha+rGgDc5PVwPacCBmB/nWlD1uVE4rAgaytOw8wWl87//Kdg3I3DkekrwV7HjD5yKwQw4KZsbkO2ObdEjc/60rnD6TUcVGvS6xiuxYL8gJuybcrDzqxtYFxzp0watGLHKnH6/vGPTljHlzUPQAUMwGVs6LXUmYZr4wo7dUqkkwvfzjcAAFTAAOxTB8+JC7W86bUzuWVYc19aN0M8udU33whO7BPKmgdwOXpBA7CObZ2f9QrKrlo+vYaj0euY6zkBzAkD5BQStr8kp3e2AtdzyeIeMCCbclM6E/TbOFqG9AUMcA8YkHTta3OXY7v87x99VWGf/1GlEqevVkv6ws1RAQPS5cIJ+u1WeTc2CsbLkTkrernFCwIYgC1cNVTGbpNUuLTNmeV1IXE0QQPS5aqhMnaYpGL/ftemr2tb7wEqYED2XLLCT2crbwl0tmJ5XVABA7BDHWzVXBmurLzDwsTpu3WrSzpbMdEVqIABuE3lLaVRRiyvC+ljIg4Anb+QGEXvtWtCQIDLXxe9oLmeUwEDcKf0lczHepbXBQEMgOgFQAADbs8ObbOkL0AAA7BKZ2eokEz0cosXBDAAOdW+ts9yVVkphIRIJH2Z6ApyxzhgwL3YPsuVSiVOX9ctqMBEVyCAAdgnTuy27lBHbJmh4rnnxM3OERGuveNrh8kyAVejCRpwMSc3pVo9Q4UkO1sx0RUIYACdrX3ts+6QNSyd5co4enNyhAcekMJxY6IrEMAAOsVVawZ0PEOF5EcZuWSZCoAABhRCik2pxtHb3Cx4ekrw6DHRFWSNTliAiyPEJSv+Wlf4SjJ9ASpgAJ0ilaZUZrYCCGDADetgV0avVit4eJC+AAEMyIDcJ0G8/frDexK9AAEMyCNo5T4Jou71R1eW/O/OVNIXIIABiQaVKGhdMnLXvh8ptuSVXlo3g+gFXIte0IC5oDIMWt1UkXKfBDF0znRR+n77yALSF6ACBqSivSky5D0JokrVp+2G/iv2Zy9L4HQDVMCAVLQXtJIbuWtx9IoGGk1YvK3/iv1M4ghQAQPSYma2YflNgmg0xrfgu38/zSSOgGv/LrXudO9Ho9EEBATU1tb6+/tz7mEJuQ83YnoNcD2nAgbkWgfLuEYkfQEJk/o94PT0dJVK9fTTT5v87t69e6Oionx8fKKiorKzszmdwO3oFaWvVkv6AgSwpb788sutW7fGxMSY/O6JEyfmzZuXlJRUVFSUlJQ0d+7cU6dOcUbh7n76yQmFb0HZ1Y++qtCNywJg4+dkyd4Dvn79elxcXGZm5po1a0aMGLFhwwbRDvPmzdNoNAcPHtQ9fPDBB3v06LF7924zz8k9YCi/8HVw9JqfCEz2t8whHwq4nju2An788cePHj1q288mJydPnz598uTJ7e1w4sSJKVOm6B8mJibm5+cb79bQ0KAxwLsWyrRrl3PSt735SXTBPDszf/n7RbMz8zMOFnNOAFcGcF1d3ZQpUwYPHrx27drLly9b/oNZWVlnzpxJT083s09VVVVgYKD+YWBgYFVVlfFu6enpAbeo1WpOOSxPGtm0sqpUwoIF4uh1TONWexOBmQlmAC4I4L17916+fPmpp5764IMP+vfvP3Xq1A8//LCpqcn8T5WXl6ekpLz77ru+vr4dXXZUBhccrcq4AhCElStX1t5SXl7OKYclRMWcdMPYuLPVG284tLNVe/OTyH2GTkBpASwIQq9evVJSUgoKCr744otBgwYlJSWFhISkpqaWlJS09yNnzpyprq4eOXKk1015eXkbN2708vJqaWkx3C0oKMiw5K2urjYsiPV8fHz8DXDKYUntKyrmJNqyarLNefFih/6f7U0EJu8ZOgFFBrBOZWVlzk2enp7Tpk07d+5cVFTUa6+9ZnLnSZMmnT17tvCWUaNGPfbYY4WFhZ6enoa7xcfHHz58WP8wJycnIYEpbWEHZko3qbSsGhe+Go3TRhmlTR2avSxh/dy7spclrLjVA0uuM3QCruPYiTiampr27dv31ltv5eTkxMTEpKamPvbYY35+frq7vEuXLk1NTTX+KT8/v+HDh+sfdu3atVevXrotCxYs6Nevn+7ecEpKyoQJE9atWzdr1qyPP/74yJEjx48f54yi88yXbrolGSRX+DqXyflJ5DdDJ6DgAA4ODm5tbX300Ue/+OKLESNGGH4rMTGxe/fu1j5hWVmZh8evVXtCQkJWVtZf/vKX559/fuDAgXv27Bk7dixnFHZJF8NZoK2KZ8VHrw3BDMD0H7RDxwHv2rXrkUce6bAvldMwDhiW0w9p/fRcleGSDCsMhr2SvgDXc4kGMCcMCgtjR5R3HT850Qso8XrOYgxAxxzXsmpmVqkbKioE48HrpC+gCCzID7iysDY3eYVKJU5fFlQACGAAndfu5BXPPSdudh4/nugFFIYmaMAZla7Ju7ymJ6+QyR1f1l0ACGBA0szc5RWNd7q0boawru0PnzghjBsnr18KgIXoBQ04tkycndlmka7sZQmiklFXSs4ZKZvOVpb8UgDX8w5xDxhwIEuWKIgN7ylO35YWKd/xtWHdBRbwB4zRBA04UMdLFMhwjK+16y7QXg1QAQPOZm6JAuMFFWQyysiqdRdYJxigAgZcw8QSBa2tQtulvSwpfCXV69jydRdMtldzwxgggAEnlYxtCl8ro1earbgWzg7GOsFAe2iCBpyloMC29JV1Ky7rBANUwIBLdaKzldxbcVknGKACBlzh4YfF6fvKK1Z1tlJAK25sWI85caGkL0AFDMig8DVML8MJs2jFBQhgANZEb2WlEBRk25PRigsQwACcVPga18FEL0AAA3Be9AJQJDphAaQvACpggOgFQAUMoGP19aQvACpgQH6Fr6QmeQZAAAPS9v77wrx5bbb07y9cvGjt07BUH0AAAwrkqOLSTm3OxpM8Jw4Log4GCGBA3hxSXKrVQkVFmy0ffyz89re2PRlL9QEEMKDA2tf+xaW9O1uxVB/gzugFDWUyWVx2KnpF6fvzz3aZ3Iql+gAqYEBR7FlcOnKUEZM8A1TAgMwUlF396KuK9pamt09xaVz4arV2H+PLUn0AFTAgG5Z0sOpsccn0GgAIYEBU+4o6WPl4edw7pK9xytq4ghDRC8DxaIKG/Bh3p3r97xdmZ+ZnHCzu7FNXVJC+AAhgwLT2ulNtyStt75awpYWvWi2OXtIXAAEMSTHfB8qhRB2szBfHFklPFxe+S5cSvQAcinvAsIXLZzDWdbDKPV/9+t8vWFIcd1D4ihC9AKiAIc3aV9QHylV1cOoDQzo11sh4lNG5c6QvACpgSJSkZjC2fayREwtfFhwEQADDDqQ2g7HVY42Mo7e11cRGOxE11zPvFQAdKTZBb968OSYmxv+m+Pj4gwcPGu+zY8cOVVu//PILp9NpgSfjGYxNFr4OS1/j5vrZmfnL3y+yz6ApAFTA9hUaGpqRkTFo0CBBEN5+++1Zs2YVFBQMGzZMtJu/v//58+f1D319fTmdTiPLGYxd0dnKTK9sSxZoou0aIICdaubMmfqvX3755c2bN588edI4gFUqVVBQEKfQhXWwbFKhpUXw8nJ++nbYOG/+3rnLu5oDcCgPaV82W7Kysurr6+Pj442/e/369fDw8NDQ0BkzZhQUFLT3JA0NDRoDnHK3o1KJ09eJ02uYGbJsPp4l0tUcgNsF8NmzZ7t16+bj47NkyZLs7OyoqCjRDpGRkTt27Ni3b9/u3bt9fX3Hjx9fUlJi8qnS09MDblGL5jmCsp05I252VqmcP8ooberQ7GUJ6+felb0swfJ753ZezxiABKsDrSRHPTY2NpaVlV27dm3v3r1vvvlmXl6ecQbrtba2xsXFTZgwYePGjSYr4IaGBt3XGo1GrVbX1tb6+/tz7pVf+IpI461u4W3dgrKrszPzDbdkL0vQxTC3hAHd9TwgIEDW13OJBrChyZMnDxw48I033jCzz6JFiyoqKkz2l1bYCUPHfv974d1322x5803hiSdk93sY3gNeOnGA9mZDtO4ht4QBBVzPZTAOWKvV6kvY9nYoLCyMjo7mHQklzStp2NVcEATDgtiSHtQACGCrPffcc1OnTlWr1XV1dVlZWbm5uYcOHRIEYcGCBf369UtPTxcEYfXq1ePGjRs8eLBGo9m4cWNhYeGmTZs4nURvGzU1Qq9esv6d9F3NP/qqQvQtF84+BkCxAfz9998nJSVVVlYGBATExMQcOnTogQceEAShrKzMw+PXXmPXrl1bvHhxVVVVQEBAbGzs0aNHx4wZw+kkfRVQ+JoktdnHANjhuqV1p6nnuQcsFwVlV3PPVwuCcO+Qvh3UeW6zlpHolvAK7gHDvdEJixMGxyZNBx2O3GwlQSbGApR0PWcxBkguYwzTt90OR265iK+cZh8D0BHWA4a0mJxuos3GujqW0AegAFTAkBaTfYtubyR6AVABA45gPHnyr1M2vvOOOH0nTiR9AVABA3ajm4CiTS/oThS+dFwCQAADVtTBv+Zl9+5CbW2b7+XkCDfHhVuCFf0AEMCQOtdWiqb/987d8TVe0Y/pGwEQwJAW11aKJv534+htaBC6dLHqaU2u6EcAA5AIOmHBxWu/G//vpgtfK9OX6RsBEMBwcbh+9FWF+UB17drvhv/XpXUzLq2bIY5eW7s6izpUm18AHwCcjCZoZYau7n7qp+eqLGlYdm2lqP+/xNFrjzG+hiv6kb4AJIW5oJVGNJGyoXUPR3t7epiMIhdP9M/0GgDc73pOACut9jVctr09Jqth1/SCLi8XwsJIXwBueD2nCVpRLLx3a3JAjgsm+qfwBeDG6ISlKJbfu3VmNysT1q0Tp++LL5K+ANwKFbCi6Pr9Gt7NnXKzC1JTS+uKvWdti2oKXwAggNEx436/un8v1tQbBrNrugQbR29pqRARwVkD4IbohOVGXLwsAYUvAK7nVMDuyQXdrNqL3tZWExsBwJ0QwKDwBQACGERvR1jfFwABDLSjuVnw9nZE+rK+LwDFYBwwBAvXbLCi8BWlbycWVBC9SBeu2gQAVMCwM7uVlV98IYwd22bLwIHChQv2ep2s7wuAAIaial9RWWk8S6Wlha+IvTtbsb4vACWhCdrd2WEx4IcfFqdvVpYjujqzvi8AKmAoR2fLSueOMmJ9XwBUwFAI28tKlUqcvteuOWGMb2xYjzlxoZanrz37lwEAFTBcXFbKZHoNhi0BIIAh9TpYYdFrz/5lAOAANEHDGrKaV9IO/csAgAoYRK+1GLYEgAoY7ZJBFyGNRqYLKjBsCQAVMEyTQRchma9lxLAlAFTAMFH7Snpm4z17xOn7u9/JcSVBa4ctAQAVsMJJemZjo8K34Lt/36gjy66SZABAAMubRLsIDRokfPttmy2nTmX86LclM1/3iNG0AGAXNEG7jMkuQi7uk6VSidNXqy0IGswigADgFgG8efPmmJgY/5vi4+MPHjxocre9e/dGRUX5+PhERUVlZ2fL8einTR2avSxh/dy7spclrJg6NONg8ezM/OXvF83OzM84WOzs6BU1Ozc16e74MpoWANwlgENDQzMyMk7fdP/998+aNevcuXOifU6cODFv3rykpKSioqKkpKS5c+eeOnVKpnWwrouQK/tkmezq7PXr7QlG0wKAQy69Wsn3a+3Zs+err776xBNPGG6cN2+eRqPRF8cPPvhgjx49du/ebf6pNBpNQEBAbW2tv7+/1H7Nj76qWP5+keGW9XPvmhMX6oLoNWI4XGrpxAEruAcMwNWkfD23kKQ7YbW0tHzwwQf19fXx8fHGFXBqaqr+YWJi4oYNG0w+ScNN+hMm2V/W2YWmVit4eFiSvoymBQBHkGgnrLNnz3br1s3Hx2fJkiXZ2dlRUVGiHaqqqgIDA/UPAwMDq6qqTD5Venp6wC1qtVqyZ8Kp0zapVOL01WrNj/FlNC0AuEUFPGTIkMLCwmvXru3du3fhwoV5eXnGGawyaD7VarUq49bUm1auXLl8+XJ9BSzlDHZGoVlWJoSHi8O4tZW/BAAggG/o0qXLoEGDBEEYNWrUl19++frrr7/xxhuGOwQFBRmWvNXV1YYFsSGfm+RyPqxYFtC2wldEhjNbAYAyyGAcsFar1d/E1YuPjz98+LD+YU5OTkJCgmtfp6SXVfjb38Tpu3496QsAVMBtPPfcc1OnTlWr1XV1dVlZWbm5uYcOHRIEYcGCBf369UtPTxcEISUlZcKECevWrZs1a9bHH3985MiR48ePu/A1S3pZBQpfAKACtsT333+flJQ0ZMiQSZMmnTp16tChQw888MDN25dllZWVun0SEhKysrLeeuutmJiYHTt27NmzZ+zYsS6sfZ0/hNeignvYMHH6XrlC+gKAJIojrTtdjh00bsz5Q3gtKrgpfAFwPacCVjYnD+HtuOA2nleyo1FGAAACWH6cOoS3w8mZKXwBQA5YjtA+nDlXVLsFN9ELAASwe9bBTpgoqqDs6sWa+tmxIdkFV24X3P38SV8AIIDhKIZ9r2bHhtwzuM+Ngju8J9ELALLDPWDZEPW9yi64MuTnH8Xpu2YN6QsAVMCwJ1Hfq0vrZgjrKHwBgAoYDqbvezW9+NiN9DX0z3+SvgBABQyH0A12SpsmXhWK6AUAKmA40iuviNO3oYH0BQAqYDiSEkcZ6YZUOWHkNAAQwLCeWi1UVCgseqW+fhQAOB5N0JIvfA3TNzHRZPpKeinidmpf568fBQBUwDARSOLGWIvbnEWlpNNmxOwMk9NZ0xANgACGU4kbY+8fIPj6ttnjxReF55+3sJSURbuuk9ePAgAJogna9bWvYYKmTYsSp69W2176miwlDcPYye26lreEO3n9KACgAka7CRpa+/3xLU+0+d6xY8Ldd1tbSoqe3GnBZm2nKmeuHwUABDBMJ6h4ZiuLuzrrSknDGtryeHZcHb8lrzRxWFCHseqc9aMAgACGqRD6tlCcvv/+t9DDilgyLCU/PVelD0Jntusat4T/92cl/+fxMZxfACCAJclO02voS8nYsB4uadc1LrU/++aHgrKrFLgA0B46YbnIm2+K07e11S4zbMSG9ZgTF+rk5IsN63HfkD4dlsUAAALY1YXvokW3H86deyN6jathWfn/Jg3usCwGABDALvL44+Kg1WqFPXsU8JsxsggArMI9YGfRagWPth93/vu/haeeUtKvyMgiACCAJSYwUKiuFuexEjGyCAAsRBO0gzU0CCpVm/Q9dsyG9DWcZEp2Sy8AAKiAncvHR2hs7HzhazjJ1Ah1QGF5re5rVvEDACpgtFVZeaPwNUzfH36wLX1Fk0zp05dV/ACAAEbbZmGVSggJuf293r1vRG/v3rY9s/nRtIy1BQCZognaDvRNxDGV/9q3c3mb7zU2Ct7enXly86NpGWsLAFTA7lv76tL30roZbdJXN71G59LXeHztCHWA/mvG2gIAFbD7ulhT363hp5OZC9tstesoI9H42oKyq4y1BQAC2N3dVfR5zvanujX+rHv40n1PzNjxaqy9/xfD8bXWjrUlsAGAAFaWH34QUlIG7t4tCMJ33YNemLwkd+AoqTULW7tOPgCAAJYwrVZ47z0hJUX48UfBw0NITb26KPW39doUiVWZtq2TDwAggCXp8mVh0SLh4MEbX0dHC9u3C6NHjxCEEdJ7pcaDlC7W1BPAACAF9IK2XmurcOyY0KWL8NJLwunTwujRkn2lxoOUGLYEAASwbKnVws6dQmGh8Je/3IhhCWOJQACQLJVWocvymKTRaAICAmpra/39/d3nt6YXNACu51TAFklPTx89erSfn1/fvn0feuih8+fPm9xtx44dqrZ++eUX3pQm6+A5caGkLwAQwB3Iy8tLTk4+efLk4cOHm5ubp0yZUl9vesZjf3//SgO+vr6cUQCALEixF/ShQ4f0X7/11lt9+/Y9c+bMhAkTjPdUqVRBQUGcRQAAFbCd1dbWCoLQs2dPk9+9fv16eHh4aGjojBkzCgoKTO7T0NCgMcApBwAQwB3QarXLly+/++67hw8fbvzdyMjIHTt27Nu3b/fu3b6+vuPHjy8pKTHeLT09PeAWtVrNKQcASIGke0EnJyd/8sknx48fDw0NNb9na2trXFzchAkTNm7caFwBNzQ06L7WaDRqtVruvaDp1QwACugFLd2ZsP70pz/t27fv6NGjHabvjULew2P06NEmK2CfmxTznuv83M7kNwAQwKZptdo//elP2dnZubm5ERERFv5IYWFhdHS0smvQzs/tzNoMAEAAtys5Ofm99977+OOP/fz8qqqqBEEICAi44447BEFYsGBBv3790tPTBUFYvXr1uHHjBg8erNFoNm7cWFhYuGnTJlnUoDbr5NzOrM0AANIhxU5Ymzdvrq2tvffee4Nv2bNnj+5bZWVllZWVuq+vXbu2ePHioUOHTpky5fLly0ePHh0zZozza9CCsqtOOzKdnNvZZH7zNwAAVMC/MtMvLDc3V//1azc5+bW5dn0h3dzO+k8A1s7tzNoMAEAAy5XLMyxt6tDEYUG23YHuZH4DAOyIxRisZngPeOnEASvk1o+JXtAAuJ4TwHI9YVLOMPIVANdzWaAJ2haxYT2kGW+MMgIAuWBBfuVwbQ9tAAAB7KYYZQQAMkITtJNqUyfcl2WUEQAQwLjNafdlGWUEAAQwbte+zpz9sTOjhAEABLBcs9Y4+Zw/c5Zke2gDAAhg+2uvnZn7sgAAk+gFbZ/at73xP7r7svpvcV8WAEAFbDfm25m5LwsAIIAdosN2Zu7LAgBEaIK2A9qZAQBUwK5BOzMAgAB2WR1M9AIALEQTNAAABDAAAAQwAAAggAEAIIABAAABDAAAAQwAAAhgAAAIYAAAQAADAEAAAwDgNtxrLmitVisIgkaj4cQDgKzpruS6qzoBLAN1dXWCIKjVat67AKCMq3pAQIBMX7xK1h8frNXa2nrlyhU/Pz+VSmXzZy61Wl1eXu7v789bnwPCAeGAcEBcdUC0Wm1dXV1ISIiHhwcVsAx4eHiEhoZ2/nn8b+IvhwPCAeGAcEBceEDkW/v+GkmceAAACGAAANyC56pVqzgK1h0yT897773Xy8uLQ8EB4YBwQDggHBCbuVcnLAAAJIImaAAACGAAAAhgAABAAAMAQAC7gczMzIiICF9f35EjRx47dszkPnv37o2KivLx8YmKisrOznbzA7Jt27Z77rmnx02TJ0/+4osveIfoZGVlqVSqhx56iANy7dq15OTk4OBgX1/foUOHHjhwwM0PyIYNG4YMGXLHHXeo1erU1NRffvlFqUfj6NGjM2fODAkJUalU//M//9Pebnl5eSNHjvT19R0wYMCWLVsUHjNamJKVleXt7b1t27avv/46JSWla9eu3333nWif/Px8T0/PtWvXFhcXr1271svL6+TJk+58QH73u99t2rSpoKCguLj4D3/4Q0BAQEVFhTsfEJ1Lly7169fvnnvumTVrlpv/yTQ0NIwaNWratGnHjx+/dOnSsWPHCgsL3fmAvPPOOz4+Pu++++7Fixc//fTT4ODgp59+WqkH5MCBA3/+85/37t0rCEJ2drbJfUpLS++8886UlJSvv/5627Zt3t7eH374oYL/aghg08aMGbNkyRL9w8jIyLS0NNE+c+fOffDBB/UPExMT58+f784HxFBzc7Ofn9/bb7/t5gekubl5/Pjxb7755sKFC5UdwJYckM2bNw8YMKCxsZFriE5ycvL999+vf7h8+fK7775b8UfGTAA/++yzkZGR+odPPvnkuHHjFHwoaII2obGx8cyZM1OmTNFvmTJlSn5+vmi3EydOGO6TmJhovI9bHRBDP/30U1NTU8+ePd38gLz44ot9+vR54okn+JMRBGHfvn3x8fHJycmBgYHDhw9fu3ZtS0uLOx+Qu++++8yZM7qbNaWlpQcOHJg+fbo7X3uNL6qnT59uampS6u/LVCwm1NTUtLS0BAYG6rcEBgZWVVWJdquqqupwH7c6IIbS0tL69es3efJkdz4gn3/++fbt2wsLC/mT0SktLf3ss88ee+yxAwcOlJSUJCcnNzc3/9d//ZfbHpD58+f/8MMPuqq3ubl56dKlaWlp7nztNb6oNjc319TUBAcHE8DuxXDJQq1Wa3IFQ0v2casDovPKK6/s3r07NzfX19fXbQ9IXV3d73//+23btvXu3Zs/GZ3W1ta+fftu3brV09Nz5MiRV65cefXVVxUZwBYekNzc3JdffjkzM3Ps2LEXLlxISUkJDg5+/vnnufDqD5poCwGsfL179/b09DT8uFpdXW34uUwnKCiow33c6oDo/PWvf127du2RI0diYmLc+R3y7bffXrp0aebMmfrsufH35uV1/vz5gQMHuuc7JDg42Nvb29PTU/dw6NChVVVVjY2NXbp0cc8D8vzzzyclJf3Hf/yHIAjR0dH19fWLFy/+85//LN8FbjvJ+KLq5eXVq1cvpf6+3AM2oUuXLiNHjjx8+LB+y+HDhxMSEkS7xcfHG+6Tk5NjvI9bHRBBEF599dWXXnrp0KFDo0aNcvN3SGRk5NmzZwtv+e1vf3vfffcVFhaq1Wq3fYeMHz/+woULus8igiD861//Cg4OVl76Wn5AfvrpJ8Os9fT01HdTck/GF9VRo0Z5e3sr9hemw7OZIQTbt2//+uuvn3766a5du166dEmr1SYlJem7Mn7++eeenp4ZGRnFxcUZGRnuMAzJ/AFZt25dly5dPvzww8pb6urq3PmAGFJ8L2hLDkhZWVm3bt2eeuqp8+fP79+/v2/fvmvWrHHnA/LCCy/4+fnt3r27tLQ0Jydn4MCBc+fOVeoBqaurK7hJEIT169cXFBToxmWlpaUlJSUZDkNKTU39+uuvt2/fzjAk97Vp06bw8PAuXbrExcXl5eXpNk6cOHHhwoX6fT744IMhQ4Z4e3tHRkbu3bvXzQ9IeHi46OPdCy+84ObvEPcJYAsPSH5+/tixY318fAYMGPDyyy83Nze78wFpampatWrVwIEDfX191Wr1smXLrl69qtSj8Y9//EN0fdAdh4ULF06cOFG/W25ubmxsbJcuXfr3779582Zl/8mwHCEAANwDBgCAAAYAAAQwAAAEMAAAIIABACCAAQAAAQwAAAEMAAAIYAAACGAAAAhgAPLyww8/BAUFrV27Vvfw1KlTXbp0ycnJ4cgA0sRc0IByHDhw4KGHHsrPz4+MjIyNjZ0+ffqGDRs4LAABDMDhkpOTjxw5Mnr06KKioi+//NLX15djAhDAABzu559/Hj58eHl5+enTp2NiYjgggGRxDxhQlNLS0itXrrS2tn733XccDYAKGIAzNDY2jhkzZsSIEZGRkevXrz979mxgYCCHBSCAATjWf/7nf3744YdFRUXdunW77777/Pz89u/fz2EBpIkmaEAhcnNzN2zYsGvXLn9/fw8Pj127dh0/fnzz5s0cGYAKGAAAUAEDAEAAAwBAAAMAAAIYAAACGAAAEMAAABDAAACAAAYAgAAGAAAEMAAABDAAAAQwAABwuP8XAAD//x887A1yyFYEAAAAAElFTkSuQmCC)"
      ],
      "metadata": {
        "id": "jPFK2Ll5SogV"
      }
    },
    {
      "cell_type": "code",
      "source": [
        "# This is code implementation of Cost function.\n",
        "def cost_function(X,y,param_0, param_1):\n",
        "  \"\"\"\n",
        "  Calculates the cost function for given data\n",
        "\n",
        "  Arguments:\n",
        "  X : Input features passed in as vector or matrix(if multiple features)(use numpy)\n",
        "  y : Labels or ground truth values passed in as a vector\n",
        "  param_0, param_1 : parameters for calculating the hypothesis function h\n",
        "  m: number of training examples \n",
        "\n",
        "  \"\"\"\n",
        "  m = len(y)\n",
        "  h = (param_0)  + (param_1*X)\n",
        "  return (1/2*(m))*((h - y)^2)"
      ],
      "metadata": {
        "id": "qiIK87Zth5nL"
      },
      "execution_count": 3,
      "outputs": []
    },
    {
      "cell_type": "markdown",
      "source": [
        "#### Contour Plots:   \n",
        "\n",
        "A contour plot is a graph that contain many contour lines. A contour line of a two variable function has a constant value at all points of the same line.  \n",
        "![contour_101.png](data:image/png;base64,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)"
      ],
      "metadata": {
        "id": "56XBR_0ujeMd"
      }
    },
    {
      "cell_type": "markdown",
      "source": [
        "### Gradient Descent Algorithm:  \n",
        "Now that we have some cost function that needs to be minimized.   \n",
        "Outline of Gradient Descent:  \n",
        "* Start with some $\\theta_{0}, \\theta{1}$, for example say $\\theta_{0} = 0$ and $\\theta_{1}=0$\n",
        "* Keep changing $\\theta_{0} ,\\theta_{1}$ to reduce $J(\\theta_{0} ,\\theta_{1})$  until we hopefully end up at a minimum.\n",
        "* In general case:  \n",
        "$$J(\\theta_{0}, \\theta_{1}, \\theta_{2}, \\theta_{3}, ...,\\theta_{n})$$\n",
        "$$\\min_{(\\theta_{0},\\theta_{1}, \\theta_{2},.... \\theta_{n})} J(\\theta_{0},\\theta_{1}, \\theta_{2}, \\theta_{3}...., \\theta_{n})$$  \n",
        "\n",
        "#### Algorithm:  \n",
        "Repeat until convergence { \n",
        "$$\\theta_{j} := \\theta_{j} - (\\alpha)\\frac{\\partial J(\\theta_{0}, \\theta_{1})}{\\partial θ_{j}} for j = 0 \\ and \\ j = 1$$\n",
        "\n",
        "}\n",
        "* $\\alpha$ is the learning rate(It determines how big a step we take during the optimization)\n",
        "* $\\theta_{0}, \\theta_{1}$ are the parameters when j = 0 and j = 1"
      ],
      "metadata": {
        "id": "vIv_7R86kD1u"
      }
    },
    {
      "cell_type": "markdown",
      "source": [
        "## Some Important Concepts: \n",
        "* Mean normalization\n",
        "* Learning Rate\n",
        "* Normal Equation(alternative method)\n"
      ],
      "metadata": {
        "id": "tsFK4lpvLVmT"
      }
    },
    {
      "cell_type": "markdown",
      "source": [
        "## Classification Problems(Logistic Regression)\n",
        "* "
      ],
      "metadata": {
        "id": "6HGapiFTLg8s"
      }
    }
  ]
}