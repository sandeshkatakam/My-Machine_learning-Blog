{
 "cells": [
  {
   "cell_type": "markdown",
   "metadata": {
    "id": "mqhTexeAXQJK"
   },
   "source": [
    "# Higgs Dataset Signal/Background Detection Model \n",
    "> Blog post contains summary of a mini-project on Higgs Dataset from UCI Repo. It involves the classification of Higgs's signal/Background Noise.\n",
    "\n",
    "- toc: true \n",
    "- badges: true\n",
    "- comments: true\n",
    "- categories: [DeepLearning, NeuralNetworks, TensorFlow, Classification]\n",
    "- image: images/higgsmodel.png\n",
    "\n"
   ]
  },
  {
   "cell_type": "markdown",
   "metadata": {},
   "source": [
    "The Higgs Dataset is one of the largest dataset containing labelled data whether a signal is actual higgs signal or of the background. This is a Classification problem to distinguish between a signal process which produces Higgs bosons and a background process which does not.\n",
    "\n",
    "*source of the dataset: Daniel Whiteson daniel '@' uci.edu, Assistant Professor, Physics & Astronomy, Univ. of California Irvine*"
   ]
  },
  {
   "cell_type": "markdown",
   "metadata": {
    "id": "CQ1UINFtYiGC"
   },
   "source": [
    "### Downloading the Dataset:\n",
    "\n",
    "First, we are goint to download the dataset from the UCI Machine Learning repository and since it is in the .gz (zip format) format we are going to unzip the data and get the data ready for processing.  \n",
    "\n",
    "**Data Set Information:**\n",
    "\n",
    "The data has been produced using Monte Carlo simulations. The first 21 features (columns 2-22) are kinematic properties measured by the particle detectors in the accelerator. The last seven features are functions of the first 21 features; these are high-level features derived by physicists to help discriminate between the two classes. There is an interest in using deep learning methods to obviate the need for physicists to manually develop such features. Benchmark results using Bayesian Decision Trees from a standard physics package and 5-layer neural networks are presented in the original paper. The last 500,000 examples are used as a test set.\n",
    "\n"
   ]
  },
  {
   "cell_type": "code",
   "execution_count": 1,
   "metadata": {
    "colab": {
     "base_uri": "https://localhost:8080/"
    },
    "id": "2J1wKlbq1APY",
    "outputId": "5160a3fa-8021-4e97-9c50-e2ab756020e4"
   },
   "outputs": [
    {
     "name": "stdout",
     "output_type": "stream",
     "text": [
      "--2022-03-21 13:33:43--  https://archive.ics.uci.edu/ml/machine-learning-databases/00280/HIGGS.csv.gz\n",
      "Resolving archive.ics.uci.edu (archive.ics.uci.edu)... 128.195.10.252\n",
      "Connecting to archive.ics.uci.edu (archive.ics.uci.edu)|128.195.10.252|:443... connected.\n",
      "HTTP request sent, awaiting response... 200 OK\n",
      "Length: 2816407858 (2.6G) [application/x-httpd-php]\n",
      "Saving to: ‘HIGGS.csv.gz’\n",
      "\n",
      "HIGGS.csv.gz        100%[===================>]   2.62G  56.5MB/s    in 49s     \n",
      "\n",
      "2022-03-21 13:34:32 (55.3 MB/s) - ‘HIGGS.csv.gz’ saved [2816407858/2816407858]\n",
      "\n"
     ]
    }
   ],
   "source": [
    "\n",
    "!wget \"https://archive.ics.uci.edu/ml/machine-learning-databases/00280/HIGGS.csv.gz\""
   ]
  },
  {
   "cell_type": "code",
   "execution_count": 2,
   "metadata": {
    "id": "PrgDuooT1OTT"
   },
   "outputs": [],
   "source": [
    "!gzip -d HIGGS.csv.gz"
   ]
  },
  {
   "cell_type": "markdown",
   "metadata": {
    "id": "ym0Mzy3wZTRJ"
   },
   "source": [
    "### Processing the Data:\n",
    "\n",
    "The most important step after unzipping the data is to process the data inorder to visualize and get to know our data better.  \n",
    "\n",
    "**Note: The First column named 'labels' has values of 0/1 which denotes signal/background respectively**  \n",
    "\n",
    "**1 for Signal**  \n",
    "**0 for Background**"
   ]
  },
  {
   "cell_type": "code",
   "execution_count": 3,
   "metadata": {
    "id": "BfUfNjl_22a8"
   },
   "outputs": [],
   "source": [
    "# Import pandas library \n",
    "import pandas as pd"
   ]
  },
  {
   "cell_type": "code",
   "execution_count": 4,
   "metadata": {
    "id": "E8e7X3Cj2TqO"
   },
   "outputs": [],
   "source": [
    "columns = [\"labels\",\"lepton pT\", \"lepton eta\", \"lepton phi\", \"missing energy magnitude\", \"missing energy phi\", \"jet 1 pt\", \"jet 1 eta\", \"jet 1 phi\", \"jet 1 b-tag\", \"jet 2 pt\", \"jet 2 eta\", \"jet 2 phi\", \"jet 2 b-tag\", \"jet 3 pt\", \"jet 3 eta\", \"jet 3 phi\", \"jet 3 b-tag\", \"jet 4 pt\", \"jet 4 eta\", \"jet 4 phi\", \"jet 4 b-tag\", \"m_jj\", \"m_jjj\", \"m_lv\", \"m_jlv\", \"m_bb\", \"m_wbb\", \"m_wwbb\"]\n",
    "higgs_df = pd.read_csv(\"/content/HIGGS.csv\", header= None, names = columns)"
   ]
  },
  {
   "cell_type": "code",
   "execution_count": 5,
   "metadata": {
    "colab": {
     "base_uri": "https://localhost:8080/",
     "height": 522
    },
    "id": "7DkgseP121Gd",
    "outputId": "da23a33a-2808-4036-e2fc-2f7e783d6d85"
   },
   "outputs": [
    {
     "data": {
      "text/html": [
       "\n",
       "  <div id=\"df-7963122f-abbc-42c8-869a-35a793c06484\">\n",
       "    <div class=\"colab-df-container\">\n",
       "      <div>\n",
       "<style scoped>\n",
       "    .dataframe tbody tr th:only-of-type {\n",
       "        vertical-align: middle;\n",
       "    }\n",
       "\n",
       "    .dataframe tbody tr th {\n",
       "        vertical-align: top;\n",
       "    }\n",
       "\n",
       "    .dataframe thead th {\n",
       "        text-align: right;\n",
       "    }\n",
       "</style>\n",
       "<table border=\"1\" class=\"dataframe\">\n",
       "  <thead>\n",
       "    <tr style=\"text-align: right;\">\n",
       "      <th></th>\n",
       "      <th>labels</th>\n",
       "      <th>lepton pT</th>\n",
       "      <th>lepton eta</th>\n",
       "      <th>lepton phi</th>\n",
       "      <th>missing energy magnitude</th>\n",
       "      <th>missing energy phi</th>\n",
       "      <th>jet 1 pt</th>\n",
       "      <th>jet 1 eta</th>\n",
       "      <th>jet 1 phi</th>\n",
       "      <th>jet 1 b-tag</th>\n",
       "      <th>...</th>\n",
       "      <th>jet 4 eta</th>\n",
       "      <th>jet 4 phi</th>\n",
       "      <th>jet 4 b-tag</th>\n",
       "      <th>m_jj</th>\n",
       "      <th>m_jjj</th>\n",
       "      <th>m_lv</th>\n",
       "      <th>m_jlv</th>\n",
       "      <th>m_bb</th>\n",
       "      <th>m_wbb</th>\n",
       "      <th>m_wwbb</th>\n",
       "    </tr>\n",
       "  </thead>\n",
       "  <tbody>\n",
       "    <tr>\n",
       "      <th>0</th>\n",
       "      <td>1.0</td>\n",
       "      <td>0.869293</td>\n",
       "      <td>-0.635082</td>\n",
       "      <td>0.225690</td>\n",
       "      <td>0.327470</td>\n",
       "      <td>-0.689993</td>\n",
       "      <td>0.754202</td>\n",
       "      <td>-0.248573</td>\n",
       "      <td>-1.092064</td>\n",
       "      <td>0.000000</td>\n",
       "      <td>...</td>\n",
       "      <td>-0.010455</td>\n",
       "      <td>-0.045767</td>\n",
       "      <td>3.101961</td>\n",
       "      <td>1.353760</td>\n",
       "      <td>0.979563</td>\n",
       "      <td>0.978076</td>\n",
       "      <td>0.920005</td>\n",
       "      <td>0.721657</td>\n",
       "      <td>0.988751</td>\n",
       "      <td>0.876678</td>\n",
       "    </tr>\n",
       "    <tr>\n",
       "      <th>1</th>\n",
       "      <td>1.0</td>\n",
       "      <td>0.907542</td>\n",
       "      <td>0.329147</td>\n",
       "      <td>0.359412</td>\n",
       "      <td>1.497970</td>\n",
       "      <td>-0.313010</td>\n",
       "      <td>1.095531</td>\n",
       "      <td>-0.557525</td>\n",
       "      <td>-1.588230</td>\n",
       "      <td>2.173076</td>\n",
       "      <td>...</td>\n",
       "      <td>-1.138930</td>\n",
       "      <td>-0.000819</td>\n",
       "      <td>0.000000</td>\n",
       "      <td>0.302220</td>\n",
       "      <td>0.833048</td>\n",
       "      <td>0.985700</td>\n",
       "      <td>0.978098</td>\n",
       "      <td>0.779732</td>\n",
       "      <td>0.992356</td>\n",
       "      <td>0.798343</td>\n",
       "    </tr>\n",
       "    <tr>\n",
       "      <th>2</th>\n",
       "      <td>1.0</td>\n",
       "      <td>0.798835</td>\n",
       "      <td>1.470639</td>\n",
       "      <td>-1.635975</td>\n",
       "      <td>0.453773</td>\n",
       "      <td>0.425629</td>\n",
       "      <td>1.104875</td>\n",
       "      <td>1.282322</td>\n",
       "      <td>1.381664</td>\n",
       "      <td>0.000000</td>\n",
       "      <td>...</td>\n",
       "      <td>1.128848</td>\n",
       "      <td>0.900461</td>\n",
       "      <td>0.000000</td>\n",
       "      <td>0.909753</td>\n",
       "      <td>1.108330</td>\n",
       "      <td>0.985692</td>\n",
       "      <td>0.951331</td>\n",
       "      <td>0.803252</td>\n",
       "      <td>0.865924</td>\n",
       "      <td>0.780118</td>\n",
       "    </tr>\n",
       "    <tr>\n",
       "      <th>3</th>\n",
       "      <td>0.0</td>\n",
       "      <td>1.344385</td>\n",
       "      <td>-0.876626</td>\n",
       "      <td>0.935913</td>\n",
       "      <td>1.992050</td>\n",
       "      <td>0.882454</td>\n",
       "      <td>1.786066</td>\n",
       "      <td>-1.646778</td>\n",
       "      <td>-0.942383</td>\n",
       "      <td>0.000000</td>\n",
       "      <td>...</td>\n",
       "      <td>-0.678379</td>\n",
       "      <td>-1.360356</td>\n",
       "      <td>0.000000</td>\n",
       "      <td>0.946652</td>\n",
       "      <td>1.028704</td>\n",
       "      <td>0.998656</td>\n",
       "      <td>0.728281</td>\n",
       "      <td>0.869200</td>\n",
       "      <td>1.026736</td>\n",
       "      <td>0.957904</td>\n",
       "    </tr>\n",
       "    <tr>\n",
       "      <th>4</th>\n",
       "      <td>1.0</td>\n",
       "      <td>1.105009</td>\n",
       "      <td>0.321356</td>\n",
       "      <td>1.522401</td>\n",
       "      <td>0.882808</td>\n",
       "      <td>-1.205349</td>\n",
       "      <td>0.681466</td>\n",
       "      <td>-1.070464</td>\n",
       "      <td>-0.921871</td>\n",
       "      <td>0.000000</td>\n",
       "      <td>...</td>\n",
       "      <td>-0.373566</td>\n",
       "      <td>0.113041</td>\n",
       "      <td>0.000000</td>\n",
       "      <td>0.755856</td>\n",
       "      <td>1.361057</td>\n",
       "      <td>0.986610</td>\n",
       "      <td>0.838085</td>\n",
       "      <td>1.133295</td>\n",
       "      <td>0.872245</td>\n",
       "      <td>0.808487</td>\n",
       "    </tr>\n",
       "    <tr>\n",
       "      <th>...</th>\n",
       "      <td>...</td>\n",
       "      <td>...</td>\n",
       "      <td>...</td>\n",
       "      <td>...</td>\n",
       "      <td>...</td>\n",
       "      <td>...</td>\n",
       "      <td>...</td>\n",
       "      <td>...</td>\n",
       "      <td>...</td>\n",
       "      <td>...</td>\n",
       "      <td>...</td>\n",
       "      <td>...</td>\n",
       "      <td>...</td>\n",
       "      <td>...</td>\n",
       "      <td>...</td>\n",
       "      <td>...</td>\n",
       "      <td>...</td>\n",
       "      <td>...</td>\n",
       "      <td>...</td>\n",
       "      <td>...</td>\n",
       "      <td>...</td>\n",
       "    </tr>\n",
       "    <tr>\n",
       "      <th>10999995</th>\n",
       "      <td>1.0</td>\n",
       "      <td>1.159912</td>\n",
       "      <td>1.013847</td>\n",
       "      <td>0.108615</td>\n",
       "      <td>1.495524</td>\n",
       "      <td>-0.537545</td>\n",
       "      <td>2.342396</td>\n",
       "      <td>-0.839740</td>\n",
       "      <td>1.320683</td>\n",
       "      <td>0.000000</td>\n",
       "      <td>...</td>\n",
       "      <td>-0.097068</td>\n",
       "      <td>1.190680</td>\n",
       "      <td>3.101961</td>\n",
       "      <td>0.822136</td>\n",
       "      <td>0.766772</td>\n",
       "      <td>1.002191</td>\n",
       "      <td>1.061233</td>\n",
       "      <td>0.837004</td>\n",
       "      <td>0.860472</td>\n",
       "      <td>0.772484</td>\n",
       "    </tr>\n",
       "    <tr>\n",
       "      <th>10999996</th>\n",
       "      <td>1.0</td>\n",
       "      <td>0.618388</td>\n",
       "      <td>-1.012982</td>\n",
       "      <td>1.110139</td>\n",
       "      <td>0.941023</td>\n",
       "      <td>-0.379199</td>\n",
       "      <td>1.004656</td>\n",
       "      <td>0.348535</td>\n",
       "      <td>-1.678593</td>\n",
       "      <td>2.173076</td>\n",
       "      <td>...</td>\n",
       "      <td>-0.216995</td>\n",
       "      <td>1.049177</td>\n",
       "      <td>3.101961</td>\n",
       "      <td>0.826829</td>\n",
       "      <td>0.989809</td>\n",
       "      <td>1.029104</td>\n",
       "      <td>1.199679</td>\n",
       "      <td>0.891481</td>\n",
       "      <td>0.938490</td>\n",
       "      <td>0.865269</td>\n",
       "    </tr>\n",
       "    <tr>\n",
       "      <th>10999997</th>\n",
       "      <td>1.0</td>\n",
       "      <td>0.700559</td>\n",
       "      <td>0.774251</td>\n",
       "      <td>1.520182</td>\n",
       "      <td>0.847112</td>\n",
       "      <td>0.211230</td>\n",
       "      <td>1.095531</td>\n",
       "      <td>0.052457</td>\n",
       "      <td>0.024553</td>\n",
       "      <td>2.173076</td>\n",
       "      <td>...</td>\n",
       "      <td>1.585235</td>\n",
       "      <td>1.713962</td>\n",
       "      <td>0.000000</td>\n",
       "      <td>0.337374</td>\n",
       "      <td>0.845208</td>\n",
       "      <td>0.987610</td>\n",
       "      <td>0.883422</td>\n",
       "      <td>1.888438</td>\n",
       "      <td>1.153766</td>\n",
       "      <td>0.931279</td>\n",
       "    </tr>\n",
       "    <tr>\n",
       "      <th>10999998</th>\n",
       "      <td>0.0</td>\n",
       "      <td>1.178030</td>\n",
       "      <td>0.117796</td>\n",
       "      <td>-1.276980</td>\n",
       "      <td>1.864457</td>\n",
       "      <td>-0.584370</td>\n",
       "      <td>0.998519</td>\n",
       "      <td>-1.264549</td>\n",
       "      <td>1.276333</td>\n",
       "      <td>0.000000</td>\n",
       "      <td>...</td>\n",
       "      <td>1.399515</td>\n",
       "      <td>-1.313189</td>\n",
       "      <td>0.000000</td>\n",
       "      <td>0.838842</td>\n",
       "      <td>0.882890</td>\n",
       "      <td>1.201380</td>\n",
       "      <td>0.939216</td>\n",
       "      <td>0.339705</td>\n",
       "      <td>0.759070</td>\n",
       "      <td>0.719119</td>\n",
       "    </tr>\n",
       "    <tr>\n",
       "      <th>10999999</th>\n",
       "      <td>0.0</td>\n",
       "      <td>0.464477</td>\n",
       "      <td>-0.337047</td>\n",
       "      <td>0.229019</td>\n",
       "      <td>0.954596</td>\n",
       "      <td>-0.868466</td>\n",
       "      <td>0.430004</td>\n",
       "      <td>-0.271348</td>\n",
       "      <td>-1.252278</td>\n",
       "      <td>2.173076</td>\n",
       "      <td>...</td>\n",
       "      <td>-1.652782</td>\n",
       "      <td>-0.586254</td>\n",
       "      <td>0.000000</td>\n",
       "      <td>0.752535</td>\n",
       "      <td>0.740727</td>\n",
       "      <td>0.986917</td>\n",
       "      <td>0.663952</td>\n",
       "      <td>0.576084</td>\n",
       "      <td>0.541427</td>\n",
       "      <td>0.517420</td>\n",
       "    </tr>\n",
       "  </tbody>\n",
       "</table>\n",
       "<p>11000000 rows × 29 columns</p>\n",
       "</div>\n",
       "      <button class=\"colab-df-convert\" onclick=\"convertToInteractive('df-7963122f-abbc-42c8-869a-35a793c06484')\"\n",
       "              title=\"Convert this dataframe to an interactive table.\"\n",
       "              style=\"display:none;\">\n",
       "        \n",
       "  <svg xmlns=\"http://www.w3.org/2000/svg\" height=\"24px\"viewBox=\"0 0 24 24\"\n",
       "       width=\"24px\">\n",
       "    <path d=\"M0 0h24v24H0V0z\" fill=\"none\"/>\n",
       "    <path d=\"M18.56 5.44l.94 2.06.94-2.06 2.06-.94-2.06-.94-.94-2.06-.94 2.06-2.06.94zm-11 1L8.5 8.5l.94-2.06 2.06-.94-2.06-.94L8.5 2.5l-.94 2.06-2.06.94zm10 10l.94 2.06.94-2.06 2.06-.94-2.06-.94-.94-2.06-.94 2.06-2.06.94z\"/><path d=\"M17.41 7.96l-1.37-1.37c-.4-.4-.92-.59-1.43-.59-.52 0-1.04.2-1.43.59L10.3 9.45l-7.72 7.72c-.78.78-.78 2.05 0 2.83L4 21.41c.39.39.9.59 1.41.59.51 0 1.02-.2 1.41-.59l7.78-7.78 2.81-2.81c.8-.78.8-2.07 0-2.86zM5.41 20L4 18.59l7.72-7.72 1.47 1.35L5.41 20z\"/>\n",
       "  </svg>\n",
       "      </button>\n",
       "      \n",
       "  <style>\n",
       "    .colab-df-container {\n",
       "      display:flex;\n",
       "      flex-wrap:wrap;\n",
       "      gap: 12px;\n",
       "    }\n",
       "\n",
       "    .colab-df-convert {\n",
       "      background-color: #E8F0FE;\n",
       "      border: none;\n",
       "      border-radius: 50%;\n",
       "      cursor: pointer;\n",
       "      display: none;\n",
       "      fill: #1967D2;\n",
       "      height: 32px;\n",
       "      padding: 0 0 0 0;\n",
       "      width: 32px;\n",
       "    }\n",
       "\n",
       "    .colab-df-convert:hover {\n",
       "      background-color: #E2EBFA;\n",
       "      box-shadow: 0px 1px 2px rgba(60, 64, 67, 0.3), 0px 1px 3px 1px rgba(60, 64, 67, 0.15);\n",
       "      fill: #174EA6;\n",
       "    }\n",
       "\n",
       "    [theme=dark] .colab-df-convert {\n",
       "      background-color: #3B4455;\n",
       "      fill: #D2E3FC;\n",
       "    }\n",
       "\n",
       "    [theme=dark] .colab-df-convert:hover {\n",
       "      background-color: #434B5C;\n",
       "      box-shadow: 0px 1px 3px 1px rgba(0, 0, 0, 0.15);\n",
       "      filter: drop-shadow(0px 1px 2px rgba(0, 0, 0, 0.3));\n",
       "      fill: #FFFFFF;\n",
       "    }\n",
       "  </style>\n",
       "\n",
       "      <script>\n",
       "        const buttonEl =\n",
       "          document.querySelector('#df-7963122f-abbc-42c8-869a-35a793c06484 button.colab-df-convert');\n",
       "        buttonEl.style.display =\n",
       "          google.colab.kernel.accessAllowed ? 'block' : 'none';\n",
       "\n",
       "        async function convertToInteractive(key) {\n",
       "          const element = document.querySelector('#df-7963122f-abbc-42c8-869a-35a793c06484');\n",
       "          const dataTable =\n",
       "            await google.colab.kernel.invokeFunction('convertToInteractive',\n",
       "                                                     [key], {});\n",
       "          if (!dataTable) return;\n",
       "\n",
       "          const docLinkHtml = 'Like what you see? Visit the ' +\n",
       "            '<a target=\"_blank\" href=https://colab.research.google.com/notebooks/data_table.ipynb>data table notebook</a>'\n",
       "            + ' to learn more about interactive tables.';\n",
       "          element.innerHTML = '';\n",
       "          dataTable['output_type'] = 'display_data';\n",
       "          await google.colab.output.renderOutput(dataTable, element);\n",
       "          const docLink = document.createElement('div');\n",
       "          docLink.innerHTML = docLinkHtml;\n",
       "          element.appendChild(docLink);\n",
       "        }\n",
       "      </script>\n",
       "    </div>\n",
       "  </div>\n",
       "  "
      ],
      "text/plain": [
       "          labels  lepton pT  lepton eta  lepton phi  missing energy magnitude  \\\n",
       "0            1.0   0.869293   -0.635082    0.225690                  0.327470   \n",
       "1            1.0   0.907542    0.329147    0.359412                  1.497970   \n",
       "2            1.0   0.798835    1.470639   -1.635975                  0.453773   \n",
       "3            0.0   1.344385   -0.876626    0.935913                  1.992050   \n",
       "4            1.0   1.105009    0.321356    1.522401                  0.882808   \n",
       "...          ...        ...         ...         ...                       ...   \n",
       "10999995     1.0   1.159912    1.013847    0.108615                  1.495524   \n",
       "10999996     1.0   0.618388   -1.012982    1.110139                  0.941023   \n",
       "10999997     1.0   0.700559    0.774251    1.520182                  0.847112   \n",
       "10999998     0.0   1.178030    0.117796   -1.276980                  1.864457   \n",
       "10999999     0.0   0.464477   -0.337047    0.229019                  0.954596   \n",
       "\n",
       "          missing energy phi  jet 1 pt  jet 1 eta  jet 1 phi  jet 1 b-tag  \\\n",
       "0                  -0.689993  0.754202  -0.248573  -1.092064     0.000000   \n",
       "1                  -0.313010  1.095531  -0.557525  -1.588230     2.173076   \n",
       "2                   0.425629  1.104875   1.282322   1.381664     0.000000   \n",
       "3                   0.882454  1.786066  -1.646778  -0.942383     0.000000   \n",
       "4                  -1.205349  0.681466  -1.070464  -0.921871     0.000000   \n",
       "...                      ...       ...        ...        ...          ...   \n",
       "10999995           -0.537545  2.342396  -0.839740   1.320683     0.000000   \n",
       "10999996           -0.379199  1.004656   0.348535  -1.678593     2.173076   \n",
       "10999997            0.211230  1.095531   0.052457   0.024553     2.173076   \n",
       "10999998           -0.584370  0.998519  -1.264549   1.276333     0.000000   \n",
       "10999999           -0.868466  0.430004  -0.271348  -1.252278     2.173076   \n",
       "\n",
       "          ...  jet 4 eta  jet 4 phi  jet 4 b-tag      m_jj     m_jjj  \\\n",
       "0         ...  -0.010455  -0.045767     3.101961  1.353760  0.979563   \n",
       "1         ...  -1.138930  -0.000819     0.000000  0.302220  0.833048   \n",
       "2         ...   1.128848   0.900461     0.000000  0.909753  1.108330   \n",
       "3         ...  -0.678379  -1.360356     0.000000  0.946652  1.028704   \n",
       "4         ...  -0.373566   0.113041     0.000000  0.755856  1.361057   \n",
       "...       ...        ...        ...          ...       ...       ...   \n",
       "10999995  ...  -0.097068   1.190680     3.101961  0.822136  0.766772   \n",
       "10999996  ...  -0.216995   1.049177     3.101961  0.826829  0.989809   \n",
       "10999997  ...   1.585235   1.713962     0.000000  0.337374  0.845208   \n",
       "10999998  ...   1.399515  -1.313189     0.000000  0.838842  0.882890   \n",
       "10999999  ...  -1.652782  -0.586254     0.000000  0.752535  0.740727   \n",
       "\n",
       "              m_lv     m_jlv      m_bb     m_wbb    m_wwbb  \n",
       "0         0.978076  0.920005  0.721657  0.988751  0.876678  \n",
       "1         0.985700  0.978098  0.779732  0.992356  0.798343  \n",
       "2         0.985692  0.951331  0.803252  0.865924  0.780118  \n",
       "3         0.998656  0.728281  0.869200  1.026736  0.957904  \n",
       "4         0.986610  0.838085  1.133295  0.872245  0.808487  \n",
       "...            ...       ...       ...       ...       ...  \n",
       "10999995  1.002191  1.061233  0.837004  0.860472  0.772484  \n",
       "10999996  1.029104  1.199679  0.891481  0.938490  0.865269  \n",
       "10999997  0.987610  0.883422  1.888438  1.153766  0.931279  \n",
       "10999998  1.201380  0.939216  0.339705  0.759070  0.719119  \n",
       "10999999  0.986917  0.663952  0.576084  0.541427  0.517420  \n",
       "\n",
       "[11000000 rows x 29 columns]"
      ]
     },
     "execution_count": 5,
     "metadata": {},
     "output_type": "execute_result"
    }
   ],
   "source": [
    "higgs_df"
   ]
  },
  {
   "cell_type": "markdown",
   "metadata": {
    "id": "g6Ni3dDiZ9dD"
   },
   "source": []
  },
  {
   "cell_type": "code",
   "execution_count": 6,
   "metadata": {
    "colab": {
     "base_uri": "https://localhost:8080/"
    },
    "id": "YZrweB1C6qkT",
    "outputId": "191ff772-ef3e-478f-a306-49dec8c35ace"
   },
   "outputs": [
    {
     "data": {
      "text/plain": [
       "0           1.0\n",
       "1           1.0\n",
       "2           1.0\n",
       "3           0.0\n",
       "4           1.0\n",
       "           ... \n",
       "10999995    1.0\n",
       "10999996    1.0\n",
       "10999997    1.0\n",
       "10999998    0.0\n",
       "10999999    0.0\n",
       "Name: labels, Length: 11000000, dtype: float64"
      ]
     },
     "execution_count": 6,
     "metadata": {},
     "output_type": "execute_result"
    }
   ],
   "source": [
    "y = higgs_df[\"labels\"]\n",
    "y"
   ]
  },
  {
   "cell_type": "code",
   "execution_count": 7,
   "metadata": {
    "colab": {
     "base_uri": "https://localhost:8080/",
     "height": 522
    },
    "id": "oot1jA0p6qg6",
    "outputId": "ef5f184b-caf7-45fb-9ebd-9931e8a20b32"
   },
   "outputs": [
    {
     "data": {
      "text/html": [
       "\n",
       "  <div id=\"df-17065598-751c-4e1f-9a32-bf6bc756b787\">\n",
       "    <div class=\"colab-df-container\">\n",
       "      <div>\n",
       "<style scoped>\n",
       "    .dataframe tbody tr th:only-of-type {\n",
       "        vertical-align: middle;\n",
       "    }\n",
       "\n",
       "    .dataframe tbody tr th {\n",
       "        vertical-align: top;\n",
       "    }\n",
       "\n",
       "    .dataframe thead th {\n",
       "        text-align: right;\n",
       "    }\n",
       "</style>\n",
       "<table border=\"1\" class=\"dataframe\">\n",
       "  <thead>\n",
       "    <tr style=\"text-align: right;\">\n",
       "      <th></th>\n",
       "      <th>lepton pT</th>\n",
       "      <th>lepton eta</th>\n",
       "      <th>lepton phi</th>\n",
       "      <th>missing energy magnitude</th>\n",
       "      <th>missing energy phi</th>\n",
       "      <th>jet 1 pt</th>\n",
       "      <th>jet 1 eta</th>\n",
       "      <th>jet 1 phi</th>\n",
       "      <th>jet 1 b-tag</th>\n",
       "      <th>jet 2 pt</th>\n",
       "      <th>...</th>\n",
       "      <th>jet 4 eta</th>\n",
       "      <th>jet 4 phi</th>\n",
       "      <th>jet 4 b-tag</th>\n",
       "      <th>m_jj</th>\n",
       "      <th>m_jjj</th>\n",
       "      <th>m_lv</th>\n",
       "      <th>m_jlv</th>\n",
       "      <th>m_bb</th>\n",
       "      <th>m_wbb</th>\n",
       "      <th>m_wwbb</th>\n",
       "    </tr>\n",
       "  </thead>\n",
       "  <tbody>\n",
       "    <tr>\n",
       "      <th>0</th>\n",
       "      <td>0.869293</td>\n",
       "      <td>-0.635082</td>\n",
       "      <td>0.225690</td>\n",
       "      <td>0.327470</td>\n",
       "      <td>-0.689993</td>\n",
       "      <td>0.754202</td>\n",
       "      <td>-0.248573</td>\n",
       "      <td>-1.092064</td>\n",
       "      <td>0.000000</td>\n",
       "      <td>1.374992</td>\n",
       "      <td>...</td>\n",
       "      <td>-0.010455</td>\n",
       "      <td>-0.045767</td>\n",
       "      <td>3.101961</td>\n",
       "      <td>1.353760</td>\n",
       "      <td>0.979563</td>\n",
       "      <td>0.978076</td>\n",
       "      <td>0.920005</td>\n",
       "      <td>0.721657</td>\n",
       "      <td>0.988751</td>\n",
       "      <td>0.876678</td>\n",
       "    </tr>\n",
       "    <tr>\n",
       "      <th>1</th>\n",
       "      <td>0.907542</td>\n",
       "      <td>0.329147</td>\n",
       "      <td>0.359412</td>\n",
       "      <td>1.497970</td>\n",
       "      <td>-0.313010</td>\n",
       "      <td>1.095531</td>\n",
       "      <td>-0.557525</td>\n",
       "      <td>-1.588230</td>\n",
       "      <td>2.173076</td>\n",
       "      <td>0.812581</td>\n",
       "      <td>...</td>\n",
       "      <td>-1.138930</td>\n",
       "      <td>-0.000819</td>\n",
       "      <td>0.000000</td>\n",
       "      <td>0.302220</td>\n",
       "      <td>0.833048</td>\n",
       "      <td>0.985700</td>\n",
       "      <td>0.978098</td>\n",
       "      <td>0.779732</td>\n",
       "      <td>0.992356</td>\n",
       "      <td>0.798343</td>\n",
       "    </tr>\n",
       "    <tr>\n",
       "      <th>2</th>\n",
       "      <td>0.798835</td>\n",
       "      <td>1.470639</td>\n",
       "      <td>-1.635975</td>\n",
       "      <td>0.453773</td>\n",
       "      <td>0.425629</td>\n",
       "      <td>1.104875</td>\n",
       "      <td>1.282322</td>\n",
       "      <td>1.381664</td>\n",
       "      <td>0.000000</td>\n",
       "      <td>0.851737</td>\n",
       "      <td>...</td>\n",
       "      <td>1.128848</td>\n",
       "      <td>0.900461</td>\n",
       "      <td>0.000000</td>\n",
       "      <td>0.909753</td>\n",
       "      <td>1.108330</td>\n",
       "      <td>0.985692</td>\n",
       "      <td>0.951331</td>\n",
       "      <td>0.803252</td>\n",
       "      <td>0.865924</td>\n",
       "      <td>0.780118</td>\n",
       "    </tr>\n",
       "    <tr>\n",
       "      <th>3</th>\n",
       "      <td>1.344385</td>\n",
       "      <td>-0.876626</td>\n",
       "      <td>0.935913</td>\n",
       "      <td>1.992050</td>\n",
       "      <td>0.882454</td>\n",
       "      <td>1.786066</td>\n",
       "      <td>-1.646778</td>\n",
       "      <td>-0.942383</td>\n",
       "      <td>0.000000</td>\n",
       "      <td>2.423265</td>\n",
       "      <td>...</td>\n",
       "      <td>-0.678379</td>\n",
       "      <td>-1.360356</td>\n",
       "      <td>0.000000</td>\n",
       "      <td>0.946652</td>\n",
       "      <td>1.028704</td>\n",
       "      <td>0.998656</td>\n",
       "      <td>0.728281</td>\n",
       "      <td>0.869200</td>\n",
       "      <td>1.026736</td>\n",
       "      <td>0.957904</td>\n",
       "    </tr>\n",
       "    <tr>\n",
       "      <th>4</th>\n",
       "      <td>1.105009</td>\n",
       "      <td>0.321356</td>\n",
       "      <td>1.522401</td>\n",
       "      <td>0.882808</td>\n",
       "      <td>-1.205349</td>\n",
       "      <td>0.681466</td>\n",
       "      <td>-1.070464</td>\n",
       "      <td>-0.921871</td>\n",
       "      <td>0.000000</td>\n",
       "      <td>0.800872</td>\n",
       "      <td>...</td>\n",
       "      <td>-0.373566</td>\n",
       "      <td>0.113041</td>\n",
       "      <td>0.000000</td>\n",
       "      <td>0.755856</td>\n",
       "      <td>1.361057</td>\n",
       "      <td>0.986610</td>\n",
       "      <td>0.838085</td>\n",
       "      <td>1.133295</td>\n",
       "      <td>0.872245</td>\n",
       "      <td>0.808487</td>\n",
       "    </tr>\n",
       "    <tr>\n",
       "      <th>...</th>\n",
       "      <td>...</td>\n",
       "      <td>...</td>\n",
       "      <td>...</td>\n",
       "      <td>...</td>\n",
       "      <td>...</td>\n",
       "      <td>...</td>\n",
       "      <td>...</td>\n",
       "      <td>...</td>\n",
       "      <td>...</td>\n",
       "      <td>...</td>\n",
       "      <td>...</td>\n",
       "      <td>...</td>\n",
       "      <td>...</td>\n",
       "      <td>...</td>\n",
       "      <td>...</td>\n",
       "      <td>...</td>\n",
       "      <td>...</td>\n",
       "      <td>...</td>\n",
       "      <td>...</td>\n",
       "      <td>...</td>\n",
       "      <td>...</td>\n",
       "    </tr>\n",
       "    <tr>\n",
       "      <th>10999995</th>\n",
       "      <td>1.159912</td>\n",
       "      <td>1.013847</td>\n",
       "      <td>0.108615</td>\n",
       "      <td>1.495524</td>\n",
       "      <td>-0.537545</td>\n",
       "      <td>2.342396</td>\n",
       "      <td>-0.839740</td>\n",
       "      <td>1.320683</td>\n",
       "      <td>0.000000</td>\n",
       "      <td>1.858587</td>\n",
       "      <td>...</td>\n",
       "      <td>-0.097068</td>\n",
       "      <td>1.190680</td>\n",
       "      <td>3.101961</td>\n",
       "      <td>0.822136</td>\n",
       "      <td>0.766772</td>\n",
       "      <td>1.002191</td>\n",
       "      <td>1.061233</td>\n",
       "      <td>0.837004</td>\n",
       "      <td>0.860472</td>\n",
       "      <td>0.772484</td>\n",
       "    </tr>\n",
       "    <tr>\n",
       "      <th>10999996</th>\n",
       "      <td>0.618388</td>\n",
       "      <td>-1.012982</td>\n",
       "      <td>1.110139</td>\n",
       "      <td>0.941023</td>\n",
       "      <td>-0.379199</td>\n",
       "      <td>1.004656</td>\n",
       "      <td>0.348535</td>\n",
       "      <td>-1.678593</td>\n",
       "      <td>2.173076</td>\n",
       "      <td>1.002570</td>\n",
       "      <td>...</td>\n",
       "      <td>-0.216995</td>\n",
       "      <td>1.049177</td>\n",
       "      <td>3.101961</td>\n",
       "      <td>0.826829</td>\n",
       "      <td>0.989809</td>\n",
       "      <td>1.029104</td>\n",
       "      <td>1.199679</td>\n",
       "      <td>0.891481</td>\n",
       "      <td>0.938490</td>\n",
       "      <td>0.865269</td>\n",
       "    </tr>\n",
       "    <tr>\n",
       "      <th>10999997</th>\n",
       "      <td>0.700559</td>\n",
       "      <td>0.774251</td>\n",
       "      <td>1.520182</td>\n",
       "      <td>0.847112</td>\n",
       "      <td>0.211230</td>\n",
       "      <td>1.095531</td>\n",
       "      <td>0.052457</td>\n",
       "      <td>0.024553</td>\n",
       "      <td>2.173076</td>\n",
       "      <td>1.345027</td>\n",
       "      <td>...</td>\n",
       "      <td>1.585235</td>\n",
       "      <td>1.713962</td>\n",
       "      <td>0.000000</td>\n",
       "      <td>0.337374</td>\n",
       "      <td>0.845208</td>\n",
       "      <td>0.987610</td>\n",
       "      <td>0.883422</td>\n",
       "      <td>1.888438</td>\n",
       "      <td>1.153766</td>\n",
       "      <td>0.931279</td>\n",
       "    </tr>\n",
       "    <tr>\n",
       "      <th>10999998</th>\n",
       "      <td>1.178030</td>\n",
       "      <td>0.117796</td>\n",
       "      <td>-1.276980</td>\n",
       "      <td>1.864457</td>\n",
       "      <td>-0.584370</td>\n",
       "      <td>0.998519</td>\n",
       "      <td>-1.264549</td>\n",
       "      <td>1.276333</td>\n",
       "      <td>0.000000</td>\n",
       "      <td>0.733136</td>\n",
       "      <td>...</td>\n",
       "      <td>1.399515</td>\n",
       "      <td>-1.313189</td>\n",
       "      <td>0.000000</td>\n",
       "      <td>0.838842</td>\n",
       "      <td>0.882890</td>\n",
       "      <td>1.201380</td>\n",
       "      <td>0.939216</td>\n",
       "      <td>0.339705</td>\n",
       "      <td>0.759070</td>\n",
       "      <td>0.719119</td>\n",
       "    </tr>\n",
       "    <tr>\n",
       "      <th>10999999</th>\n",
       "      <td>0.464477</td>\n",
       "      <td>-0.337047</td>\n",
       "      <td>0.229019</td>\n",
       "      <td>0.954596</td>\n",
       "      <td>-0.868466</td>\n",
       "      <td>0.430004</td>\n",
       "      <td>-0.271348</td>\n",
       "      <td>-1.252278</td>\n",
       "      <td>2.173076</td>\n",
       "      <td>0.449350</td>\n",
       "      <td>...</td>\n",
       "      <td>-1.652782</td>\n",
       "      <td>-0.586254</td>\n",
       "      <td>0.000000</td>\n",
       "      <td>0.752535</td>\n",
       "      <td>0.740727</td>\n",
       "      <td>0.986917</td>\n",
       "      <td>0.663952</td>\n",
       "      <td>0.576084</td>\n",
       "      <td>0.541427</td>\n",
       "      <td>0.517420</td>\n",
       "    </tr>\n",
       "  </tbody>\n",
       "</table>\n",
       "<p>11000000 rows × 28 columns</p>\n",
       "</div>\n",
       "      <button class=\"colab-df-convert\" onclick=\"convertToInteractive('df-17065598-751c-4e1f-9a32-bf6bc756b787')\"\n",
       "              title=\"Convert this dataframe to an interactive table.\"\n",
       "              style=\"display:none;\">\n",
       "        \n",
       "  <svg xmlns=\"http://www.w3.org/2000/svg\" height=\"24px\"viewBox=\"0 0 24 24\"\n",
       "       width=\"24px\">\n",
       "    <path d=\"M0 0h24v24H0V0z\" fill=\"none\"/>\n",
       "    <path d=\"M18.56 5.44l.94 2.06.94-2.06 2.06-.94-2.06-.94-.94-2.06-.94 2.06-2.06.94zm-11 1L8.5 8.5l.94-2.06 2.06-.94-2.06-.94L8.5 2.5l-.94 2.06-2.06.94zm10 10l.94 2.06.94-2.06 2.06-.94-2.06-.94-.94-2.06-.94 2.06-2.06.94z\"/><path d=\"M17.41 7.96l-1.37-1.37c-.4-.4-.92-.59-1.43-.59-.52 0-1.04.2-1.43.59L10.3 9.45l-7.72 7.72c-.78.78-.78 2.05 0 2.83L4 21.41c.39.39.9.59 1.41.59.51 0 1.02-.2 1.41-.59l7.78-7.78 2.81-2.81c.8-.78.8-2.07 0-2.86zM5.41 20L4 18.59l7.72-7.72 1.47 1.35L5.41 20z\"/>\n",
       "  </svg>\n",
       "      </button>\n",
       "      \n",
       "  <style>\n",
       "    .colab-df-container {\n",
       "      display:flex;\n",
       "      flex-wrap:wrap;\n",
       "      gap: 12px;\n",
       "    }\n",
       "\n",
       "    .colab-df-convert {\n",
       "      background-color: #E8F0FE;\n",
       "      border: none;\n",
       "      border-radius: 50%;\n",
       "      cursor: pointer;\n",
       "      display: none;\n",
       "      fill: #1967D2;\n",
       "      height: 32px;\n",
       "      padding: 0 0 0 0;\n",
       "      width: 32px;\n",
       "    }\n",
       "\n",
       "    .colab-df-convert:hover {\n",
       "      background-color: #E2EBFA;\n",
       "      box-shadow: 0px 1px 2px rgba(60, 64, 67, 0.3), 0px 1px 3px 1px rgba(60, 64, 67, 0.15);\n",
       "      fill: #174EA6;\n",
       "    }\n",
       "\n",
       "    [theme=dark] .colab-df-convert {\n",
       "      background-color: #3B4455;\n",
       "      fill: #D2E3FC;\n",
       "    }\n",
       "\n",
       "    [theme=dark] .colab-df-convert:hover {\n",
       "      background-color: #434B5C;\n",
       "      box-shadow: 0px 1px 3px 1px rgba(0, 0, 0, 0.15);\n",
       "      filter: drop-shadow(0px 1px 2px rgba(0, 0, 0, 0.3));\n",
       "      fill: #FFFFFF;\n",
       "    }\n",
       "  </style>\n",
       "\n",
       "      <script>\n",
       "        const buttonEl =\n",
       "          document.querySelector('#df-17065598-751c-4e1f-9a32-bf6bc756b787 button.colab-df-convert');\n",
       "        buttonEl.style.display =\n",
       "          google.colab.kernel.accessAllowed ? 'block' : 'none';\n",
       "\n",
       "        async function convertToInteractive(key) {\n",
       "          const element = document.querySelector('#df-17065598-751c-4e1f-9a32-bf6bc756b787');\n",
       "          const dataTable =\n",
       "            await google.colab.kernel.invokeFunction('convertToInteractive',\n",
       "                                                     [key], {});\n",
       "          if (!dataTable) return;\n",
       "\n",
       "          const docLinkHtml = 'Like what you see? Visit the ' +\n",
       "            '<a target=\"_blank\" href=https://colab.research.google.com/notebooks/data_table.ipynb>data table notebook</a>'\n",
       "            + ' to learn more about interactive tables.';\n",
       "          element.innerHTML = '';\n",
       "          dataTable['output_type'] = 'display_data';\n",
       "          await google.colab.output.renderOutput(dataTable, element);\n",
       "          const docLink = document.createElement('div');\n",
       "          docLink.innerHTML = docLinkHtml;\n",
       "          element.appendChild(docLink);\n",
       "        }\n",
       "      </script>\n",
       "    </div>\n",
       "  </div>\n",
       "  "
      ],
      "text/plain": [
       "          lepton pT  lepton eta  lepton phi  missing energy magnitude  \\\n",
       "0          0.869293   -0.635082    0.225690                  0.327470   \n",
       "1          0.907542    0.329147    0.359412                  1.497970   \n",
       "2          0.798835    1.470639   -1.635975                  0.453773   \n",
       "3          1.344385   -0.876626    0.935913                  1.992050   \n",
       "4          1.105009    0.321356    1.522401                  0.882808   \n",
       "...             ...         ...         ...                       ...   \n",
       "10999995   1.159912    1.013847    0.108615                  1.495524   \n",
       "10999996   0.618388   -1.012982    1.110139                  0.941023   \n",
       "10999997   0.700559    0.774251    1.520182                  0.847112   \n",
       "10999998   1.178030    0.117796   -1.276980                  1.864457   \n",
       "10999999   0.464477   -0.337047    0.229019                  0.954596   \n",
       "\n",
       "          missing energy phi  jet 1 pt  jet 1 eta  jet 1 phi  jet 1 b-tag  \\\n",
       "0                  -0.689993  0.754202  -0.248573  -1.092064     0.000000   \n",
       "1                  -0.313010  1.095531  -0.557525  -1.588230     2.173076   \n",
       "2                   0.425629  1.104875   1.282322   1.381664     0.000000   \n",
       "3                   0.882454  1.786066  -1.646778  -0.942383     0.000000   \n",
       "4                  -1.205349  0.681466  -1.070464  -0.921871     0.000000   \n",
       "...                      ...       ...        ...        ...          ...   \n",
       "10999995           -0.537545  2.342396  -0.839740   1.320683     0.000000   \n",
       "10999996           -0.379199  1.004656   0.348535  -1.678593     2.173076   \n",
       "10999997            0.211230  1.095531   0.052457   0.024553     2.173076   \n",
       "10999998           -0.584370  0.998519  -1.264549   1.276333     0.000000   \n",
       "10999999           -0.868466  0.430004  -0.271348  -1.252278     2.173076   \n",
       "\n",
       "          jet 2 pt  ...  jet 4 eta  jet 4 phi  jet 4 b-tag      m_jj  \\\n",
       "0         1.374992  ...  -0.010455  -0.045767     3.101961  1.353760   \n",
       "1         0.812581  ...  -1.138930  -0.000819     0.000000  0.302220   \n",
       "2         0.851737  ...   1.128848   0.900461     0.000000  0.909753   \n",
       "3         2.423265  ...  -0.678379  -1.360356     0.000000  0.946652   \n",
       "4         0.800872  ...  -0.373566   0.113041     0.000000  0.755856   \n",
       "...            ...  ...        ...        ...          ...       ...   \n",
       "10999995  1.858587  ...  -0.097068   1.190680     3.101961  0.822136   \n",
       "10999996  1.002570  ...  -0.216995   1.049177     3.101961  0.826829   \n",
       "10999997  1.345027  ...   1.585235   1.713962     0.000000  0.337374   \n",
       "10999998  0.733136  ...   1.399515  -1.313189     0.000000  0.838842   \n",
       "10999999  0.449350  ...  -1.652782  -0.586254     0.000000  0.752535   \n",
       "\n",
       "             m_jjj      m_lv     m_jlv      m_bb     m_wbb    m_wwbb  \n",
       "0         0.979563  0.978076  0.920005  0.721657  0.988751  0.876678  \n",
       "1         0.833048  0.985700  0.978098  0.779732  0.992356  0.798343  \n",
       "2         1.108330  0.985692  0.951331  0.803252  0.865924  0.780118  \n",
       "3         1.028704  0.998656  0.728281  0.869200  1.026736  0.957904  \n",
       "4         1.361057  0.986610  0.838085  1.133295  0.872245  0.808487  \n",
       "...            ...       ...       ...       ...       ...       ...  \n",
       "10999995  0.766772  1.002191  1.061233  0.837004  0.860472  0.772484  \n",
       "10999996  0.989809  1.029104  1.199679  0.891481  0.938490  0.865269  \n",
       "10999997  0.845208  0.987610  0.883422  1.888438  1.153766  0.931279  \n",
       "10999998  0.882890  1.201380  0.939216  0.339705  0.759070  0.719119  \n",
       "10999999  0.740727  0.986917  0.663952  0.576084  0.541427  0.517420  \n",
       "\n",
       "[11000000 rows x 28 columns]"
      ]
     },
     "execution_count": 7,
     "metadata": {},
     "output_type": "execute_result"
    }
   ],
   "source": [
    "X = higgs_df.drop(columns = 'labels')\n",
    "X"
   ]
  },
  {
   "cell_type": "markdown",
   "metadata": {
    "id": "RJ_re_F0ag5q"
   },
   "source": [
    "### MODEL 1: Dataset with 100,000 labelled examples\n",
    "Instead of taking our entire dataset, which is very huge we are going to first try the 100,000 examples for better understanding the future prospects of our model. Insted of dividing the dataset serial-wise we are going to use `sample` method from pandas to randomnly sample 100k examples from our dataset. We are going to use the seed values as `42` for reproducing the results later."
   ]
  },
  {
   "cell_type": "code",
   "execution_count": 8,
   "metadata": {
    "colab": {
     "base_uri": "https://localhost:8080/",
     "height": 522
    },
    "id": "mONEPNIQ3A11",
    "outputId": "7d16ead5-37f1-4239-c318-cbb365399a4e"
   },
   "outputs": [
    {
     "data": {
      "text/html": [
       "\n",
       "  <div id=\"df-4b722ede-17d5-44ab-a7c7-082253ee60bb\">\n",
       "    <div class=\"colab-df-container\">\n",
       "      <div>\n",
       "<style scoped>\n",
       "    .dataframe tbody tr th:only-of-type {\n",
       "        vertical-align: middle;\n",
       "    }\n",
       "\n",
       "    .dataframe tbody tr th {\n",
       "        vertical-align: top;\n",
       "    }\n",
       "\n",
       "    .dataframe thead th {\n",
       "        text-align: right;\n",
       "    }\n",
       "</style>\n",
       "<table border=\"1\" class=\"dataframe\">\n",
       "  <thead>\n",
       "    <tr style=\"text-align: right;\">\n",
       "      <th></th>\n",
       "      <th>labels</th>\n",
       "      <th>lepton pT</th>\n",
       "      <th>lepton eta</th>\n",
       "      <th>lepton phi</th>\n",
       "      <th>missing energy magnitude</th>\n",
       "      <th>missing energy phi</th>\n",
       "      <th>jet 1 pt</th>\n",
       "      <th>jet 1 eta</th>\n",
       "      <th>jet 1 phi</th>\n",
       "      <th>jet 1 b-tag</th>\n",
       "      <th>...</th>\n",
       "      <th>jet 4 eta</th>\n",
       "      <th>jet 4 phi</th>\n",
       "      <th>jet 4 b-tag</th>\n",
       "      <th>m_jj</th>\n",
       "      <th>m_jjj</th>\n",
       "      <th>m_lv</th>\n",
       "      <th>m_jlv</th>\n",
       "      <th>m_bb</th>\n",
       "      <th>m_wbb</th>\n",
       "      <th>m_wwbb</th>\n",
       "    </tr>\n",
       "  </thead>\n",
       "  <tbody>\n",
       "    <tr>\n",
       "      <th>3967303</th>\n",
       "      <td>0.0</td>\n",
       "      <td>1.138683</td>\n",
       "      <td>-0.726635</td>\n",
       "      <td>-0.005790</td>\n",
       "      <td>0.204118</td>\n",
       "      <td>0.153842</td>\n",
       "      <td>1.585904</td>\n",
       "      <td>-0.045576</td>\n",
       "      <td>-1.448527</td>\n",
       "      <td>1.086538</td>\n",
       "      <td>...</td>\n",
       "      <td>-2.439800</td>\n",
       "      <td>0.073642</td>\n",
       "      <td>0.000000</td>\n",
       "      <td>1.790497</td>\n",
       "      <td>1.730592</td>\n",
       "      <td>0.980587</td>\n",
       "      <td>0.743065</td>\n",
       "      <td>2.378752</td>\n",
       "      <td>1.534863</td>\n",
       "      <td>1.227558</td>\n",
       "    </tr>\n",
       "    <tr>\n",
       "      <th>5946179</th>\n",
       "      <td>1.0</td>\n",
       "      <td>0.404633</td>\n",
       "      <td>1.014821</td>\n",
       "      <td>-1.050041</td>\n",
       "      <td>1.136441</td>\n",
       "      <td>-1.403536</td>\n",
       "      <td>3.218436</td>\n",
       "      <td>-1.944837</td>\n",
       "      <td>0.801788</td>\n",
       "      <td>0.000000</td>\n",
       "      <td>...</td>\n",
       "      <td>-1.174742</td>\n",
       "      <td>-0.912542</td>\n",
       "      <td>0.000000</td>\n",
       "      <td>1.072789</td>\n",
       "      <td>0.649697</td>\n",
       "      <td>0.981147</td>\n",
       "      <td>2.004577</td>\n",
       "      <td>0.521853</td>\n",
       "      <td>1.246037</td>\n",
       "      <td>1.461494</td>\n",
       "    </tr>\n",
       "    <tr>\n",
       "      <th>6910558</th>\n",
       "      <td>0.0</td>\n",
       "      <td>1.137585</td>\n",
       "      <td>0.325251</td>\n",
       "      <td>1.453598</td>\n",
       "      <td>0.804114</td>\n",
       "      <td>0.893516</td>\n",
       "      <td>0.418095</td>\n",
       "      <td>-1.164536</td>\n",
       "      <td>-0.585919</td>\n",
       "      <td>0.000000</td>\n",
       "      <td>...</td>\n",
       "      <td>0.280201</td>\n",
       "      <td>-0.982461</td>\n",
       "      <td>3.101961</td>\n",
       "      <td>0.816500</td>\n",
       "      <td>0.933867</td>\n",
       "      <td>0.988956</td>\n",
       "      <td>0.852772</td>\n",
       "      <td>0.415455</td>\n",
       "      <td>0.737194</td>\n",
       "      <td>0.691437</td>\n",
       "    </tr>\n",
       "    <tr>\n",
       "      <th>3414332</th>\n",
       "      <td>0.0</td>\n",
       "      <td>1.380438</td>\n",
       "      <td>-0.595149</td>\n",
       "      <td>-0.727112</td>\n",
       "      <td>0.465392</td>\n",
       "      <td>-0.057453</td>\n",
       "      <td>0.399224</td>\n",
       "      <td>-0.076273</td>\n",
       "      <td>1.080084</td>\n",
       "      <td>2.173076</td>\n",
       "      <td>...</td>\n",
       "      <td>1.261267</td>\n",
       "      <td>1.129085</td>\n",
       "      <td>0.000000</td>\n",
       "      <td>0.563342</td>\n",
       "      <td>0.857068</td>\n",
       "      <td>0.992465</td>\n",
       "      <td>0.875139</td>\n",
       "      <td>0.512037</td>\n",
       "      <td>0.686362</td>\n",
       "      <td>0.887047</td>\n",
       "    </tr>\n",
       "    <tr>\n",
       "      <th>5840458</th>\n",
       "      <td>1.0</td>\n",
       "      <td>0.962628</td>\n",
       "      <td>1.191110</td>\n",
       "      <td>-1.161568</td>\n",
       "      <td>1.541759</td>\n",
       "      <td>0.569159</td>\n",
       "      <td>1.337374</td>\n",
       "      <td>0.810973</td>\n",
       "      <td>0.458075</td>\n",
       "      <td>1.086538</td>\n",
       "      <td>...</td>\n",
       "      <td>0.413452</td>\n",
       "      <td>1.309431</td>\n",
       "      <td>3.101961</td>\n",
       "      <td>1.596246</td>\n",
       "      <td>1.146864</td>\n",
       "      <td>1.687726</td>\n",
       "      <td>1.178736</td>\n",
       "      <td>0.925320</td>\n",
       "      <td>1.094308</td>\n",
       "      <td>0.991339</td>\n",
       "    </tr>\n",
       "    <tr>\n",
       "      <th>...</th>\n",
       "      <td>...</td>\n",
       "      <td>...</td>\n",
       "      <td>...</td>\n",
       "      <td>...</td>\n",
       "      <td>...</td>\n",
       "      <td>...</td>\n",
       "      <td>...</td>\n",
       "      <td>...</td>\n",
       "      <td>...</td>\n",
       "      <td>...</td>\n",
       "      <td>...</td>\n",
       "      <td>...</td>\n",
       "      <td>...</td>\n",
       "      <td>...</td>\n",
       "      <td>...</td>\n",
       "      <td>...</td>\n",
       "      <td>...</td>\n",
       "      <td>...</td>\n",
       "      <td>...</td>\n",
       "      <td>...</td>\n",
       "      <td>...</td>\n",
       "    </tr>\n",
       "    <tr>\n",
       "      <th>6940991</th>\n",
       "      <td>1.0</td>\n",
       "      <td>1.658062</td>\n",
       "      <td>-1.514575</td>\n",
       "      <td>-1.074455</td>\n",
       "      <td>1.025077</td>\n",
       "      <td>-0.764209</td>\n",
       "      <td>0.513367</td>\n",
       "      <td>-0.426815</td>\n",
       "      <td>1.167121</td>\n",
       "      <td>2.173076</td>\n",
       "      <td>...</td>\n",
       "      <td>-1.269683</td>\n",
       "      <td>1.141848</td>\n",
       "      <td>0.000000</td>\n",
       "      <td>0.299132</td>\n",
       "      <td>0.709217</td>\n",
       "      <td>0.982156</td>\n",
       "      <td>1.063902</td>\n",
       "      <td>0.713939</td>\n",
       "      <td>0.774338</td>\n",
       "      <td>0.719043</td>\n",
       "    </tr>\n",
       "    <tr>\n",
       "      <th>6173277</th>\n",
       "      <td>1.0</td>\n",
       "      <td>1.630794</td>\n",
       "      <td>-0.020507</td>\n",
       "      <td>-1.192086</td>\n",
       "      <td>0.439244</td>\n",
       "      <td>-1.028369</td>\n",
       "      <td>0.626410</td>\n",
       "      <td>0.452510</td>\n",
       "      <td>-0.017682</td>\n",
       "      <td>2.173076</td>\n",
       "      <td>...</td>\n",
       "      <td>0.446765</td>\n",
       "      <td>1.228414</td>\n",
       "      <td>0.000000</td>\n",
       "      <td>0.632595</td>\n",
       "      <td>0.753355</td>\n",
       "      <td>0.995382</td>\n",
       "      <td>0.976956</td>\n",
       "      <td>0.799586</td>\n",
       "      <td>0.803552</td>\n",
       "      <td>0.732366</td>\n",
       "    </tr>\n",
       "    <tr>\n",
       "      <th>10306408</th>\n",
       "      <td>1.0</td>\n",
       "      <td>0.975988</td>\n",
       "      <td>-0.768516</td>\n",
       "      <td>0.726175</td>\n",
       "      <td>1.106153</td>\n",
       "      <td>-1.148883</td>\n",
       "      <td>1.221399</td>\n",
       "      <td>0.744627</td>\n",
       "      <td>-1.521705</td>\n",
       "      <td>0.000000</td>\n",
       "      <td>...</td>\n",
       "      <td>-1.624466</td>\n",
       "      <td>0.309479</td>\n",
       "      <td>0.000000</td>\n",
       "      <td>0.843619</td>\n",
       "      <td>0.920015</td>\n",
       "      <td>1.429457</td>\n",
       "      <td>1.390645</td>\n",
       "      <td>1.525701</td>\n",
       "      <td>1.106262</td>\n",
       "      <td>0.933373</td>\n",
       "    </tr>\n",
       "    <tr>\n",
       "      <th>1976752</th>\n",
       "      <td>0.0</td>\n",
       "      <td>1.596022</td>\n",
       "      <td>-0.063362</td>\n",
       "      <td>1.569564</td>\n",
       "      <td>0.424958</td>\n",
       "      <td>-1.012751</td>\n",
       "      <td>0.877414</td>\n",
       "      <td>0.106919</td>\n",
       "      <td>-0.186766</td>\n",
       "      <td>0.000000</td>\n",
       "      <td>...</td>\n",
       "      <td>0.924806</td>\n",
       "      <td>1.053062</td>\n",
       "      <td>0.000000</td>\n",
       "      <td>1.566598</td>\n",
       "      <td>1.086671</td>\n",
       "      <td>0.990974</td>\n",
       "      <td>1.040644</td>\n",
       "      <td>0.995528</td>\n",
       "      <td>0.882152</td>\n",
       "      <td>0.862665</td>\n",
       "    </tr>\n",
       "    <tr>\n",
       "      <th>6832497</th>\n",
       "      <td>1.0</td>\n",
       "      <td>0.538962</td>\n",
       "      <td>0.348627</td>\n",
       "      <td>-1.027292</td>\n",
       "      <td>1.415204</td>\n",
       "      <td>-1.403636</td>\n",
       "      <td>0.765562</td>\n",
       "      <td>0.951586</td>\n",
       "      <td>-0.131883</td>\n",
       "      <td>1.086538</td>\n",
       "      <td>...</td>\n",
       "      <td>-0.836615</td>\n",
       "      <td>1.085801</td>\n",
       "      <td>0.000000</td>\n",
       "      <td>0.681391</td>\n",
       "      <td>1.156464</td>\n",
       "      <td>0.996165</td>\n",
       "      <td>1.263725</td>\n",
       "      <td>0.957153</td>\n",
       "      <td>0.981716</td>\n",
       "      <td>1.042192</td>\n",
       "    </tr>\n",
       "  </tbody>\n",
       "</table>\n",
       "<p>100000 rows × 29 columns</p>\n",
       "</div>\n",
       "      <button class=\"colab-df-convert\" onclick=\"convertToInteractive('df-4b722ede-17d5-44ab-a7c7-082253ee60bb')\"\n",
       "              title=\"Convert this dataframe to an interactive table.\"\n",
       "              style=\"display:none;\">\n",
       "        \n",
       "  <svg xmlns=\"http://www.w3.org/2000/svg\" height=\"24px\"viewBox=\"0 0 24 24\"\n",
       "       width=\"24px\">\n",
       "    <path d=\"M0 0h24v24H0V0z\" fill=\"none\"/>\n",
       "    <path d=\"M18.56 5.44l.94 2.06.94-2.06 2.06-.94-2.06-.94-.94-2.06-.94 2.06-2.06.94zm-11 1L8.5 8.5l.94-2.06 2.06-.94-2.06-.94L8.5 2.5l-.94 2.06-2.06.94zm10 10l.94 2.06.94-2.06 2.06-.94-2.06-.94-.94-2.06-.94 2.06-2.06.94z\"/><path d=\"M17.41 7.96l-1.37-1.37c-.4-.4-.92-.59-1.43-.59-.52 0-1.04.2-1.43.59L10.3 9.45l-7.72 7.72c-.78.78-.78 2.05 0 2.83L4 21.41c.39.39.9.59 1.41.59.51 0 1.02-.2 1.41-.59l7.78-7.78 2.81-2.81c.8-.78.8-2.07 0-2.86zM5.41 20L4 18.59l7.72-7.72 1.47 1.35L5.41 20z\"/>\n",
       "  </svg>\n",
       "      </button>\n",
       "      \n",
       "  <style>\n",
       "    .colab-df-container {\n",
       "      display:flex;\n",
       "      flex-wrap:wrap;\n",
       "      gap: 12px;\n",
       "    }\n",
       "\n",
       "    .colab-df-convert {\n",
       "      background-color: #E8F0FE;\n",
       "      border: none;\n",
       "      border-radius: 50%;\n",
       "      cursor: pointer;\n",
       "      display: none;\n",
       "      fill: #1967D2;\n",
       "      height: 32px;\n",
       "      padding: 0 0 0 0;\n",
       "      width: 32px;\n",
       "    }\n",
       "\n",
       "    .colab-df-convert:hover {\n",
       "      background-color: #E2EBFA;\n",
       "      box-shadow: 0px 1px 2px rgba(60, 64, 67, 0.3), 0px 1px 3px 1px rgba(60, 64, 67, 0.15);\n",
       "      fill: #174EA6;\n",
       "    }\n",
       "\n",
       "    [theme=dark] .colab-df-convert {\n",
       "      background-color: #3B4455;\n",
       "      fill: #D2E3FC;\n",
       "    }\n",
       "\n",
       "    [theme=dark] .colab-df-convert:hover {\n",
       "      background-color: #434B5C;\n",
       "      box-shadow: 0px 1px 3px 1px rgba(0, 0, 0, 0.15);\n",
       "      filter: drop-shadow(0px 1px 2px rgba(0, 0, 0, 0.3));\n",
       "      fill: #FFFFFF;\n",
       "    }\n",
       "  </style>\n",
       "\n",
       "      <script>\n",
       "        const buttonEl =\n",
       "          document.querySelector('#df-4b722ede-17d5-44ab-a7c7-082253ee60bb button.colab-df-convert');\n",
       "        buttonEl.style.display =\n",
       "          google.colab.kernel.accessAllowed ? 'block' : 'none';\n",
       "\n",
       "        async function convertToInteractive(key) {\n",
       "          const element = document.querySelector('#df-4b722ede-17d5-44ab-a7c7-082253ee60bb');\n",
       "          const dataTable =\n",
       "            await google.colab.kernel.invokeFunction('convertToInteractive',\n",
       "                                                     [key], {});\n",
       "          if (!dataTable) return;\n",
       "\n",
       "          const docLinkHtml = 'Like what you see? Visit the ' +\n",
       "            '<a target=\"_blank\" href=https://colab.research.google.com/notebooks/data_table.ipynb>data table notebook</a>'\n",
       "            + ' to learn more about interactive tables.';\n",
       "          element.innerHTML = '';\n",
       "          dataTable['output_type'] = 'display_data';\n",
       "          await google.colab.output.renderOutput(dataTable, element);\n",
       "          const docLink = document.createElement('div');\n",
       "          docLink.innerHTML = docLinkHtml;\n",
       "          element.appendChild(docLink);\n",
       "        }\n",
       "      </script>\n",
       "    </div>\n",
       "  </div>\n",
       "  "
      ],
      "text/plain": [
       "          labels  lepton pT  lepton eta  lepton phi  missing energy magnitude  \\\n",
       "3967303      0.0   1.138683   -0.726635   -0.005790                  0.204118   \n",
       "5946179      1.0   0.404633    1.014821   -1.050041                  1.136441   \n",
       "6910558      0.0   1.137585    0.325251    1.453598                  0.804114   \n",
       "3414332      0.0   1.380438   -0.595149   -0.727112                  0.465392   \n",
       "5840458      1.0   0.962628    1.191110   -1.161568                  1.541759   \n",
       "...          ...        ...         ...         ...                       ...   \n",
       "6940991      1.0   1.658062   -1.514575   -1.074455                  1.025077   \n",
       "6173277      1.0   1.630794   -0.020507   -1.192086                  0.439244   \n",
       "10306408     1.0   0.975988   -0.768516    0.726175                  1.106153   \n",
       "1976752      0.0   1.596022   -0.063362    1.569564                  0.424958   \n",
       "6832497      1.0   0.538962    0.348627   -1.027292                  1.415204   \n",
       "\n",
       "          missing energy phi  jet 1 pt  jet 1 eta  jet 1 phi  jet 1 b-tag  \\\n",
       "3967303             0.153842  1.585904  -0.045576  -1.448527     1.086538   \n",
       "5946179            -1.403536  3.218436  -1.944837   0.801788     0.000000   \n",
       "6910558             0.893516  0.418095  -1.164536  -0.585919     0.000000   \n",
       "3414332            -0.057453  0.399224  -0.076273   1.080084     2.173076   \n",
       "5840458             0.569159  1.337374   0.810973   0.458075     1.086538   \n",
       "...                      ...       ...        ...        ...          ...   \n",
       "6940991            -0.764209  0.513367  -0.426815   1.167121     2.173076   \n",
       "6173277            -1.028369  0.626410   0.452510  -0.017682     2.173076   \n",
       "10306408           -1.148883  1.221399   0.744627  -1.521705     0.000000   \n",
       "1976752            -1.012751  0.877414   0.106919  -0.186766     0.000000   \n",
       "6832497            -1.403636  0.765562   0.951586  -0.131883     1.086538   \n",
       "\n",
       "          ...  jet 4 eta  jet 4 phi  jet 4 b-tag      m_jj     m_jjj  \\\n",
       "3967303   ...  -2.439800   0.073642     0.000000  1.790497  1.730592   \n",
       "5946179   ...  -1.174742  -0.912542     0.000000  1.072789  0.649697   \n",
       "6910558   ...   0.280201  -0.982461     3.101961  0.816500  0.933867   \n",
       "3414332   ...   1.261267   1.129085     0.000000  0.563342  0.857068   \n",
       "5840458   ...   0.413452   1.309431     3.101961  1.596246  1.146864   \n",
       "...       ...        ...        ...          ...       ...       ...   \n",
       "6940991   ...  -1.269683   1.141848     0.000000  0.299132  0.709217   \n",
       "6173277   ...   0.446765   1.228414     0.000000  0.632595  0.753355   \n",
       "10306408  ...  -1.624466   0.309479     0.000000  0.843619  0.920015   \n",
       "1976752   ...   0.924806   1.053062     0.000000  1.566598  1.086671   \n",
       "6832497   ...  -0.836615   1.085801     0.000000  0.681391  1.156464   \n",
       "\n",
       "              m_lv     m_jlv      m_bb     m_wbb    m_wwbb  \n",
       "3967303   0.980587  0.743065  2.378752  1.534863  1.227558  \n",
       "5946179   0.981147  2.004577  0.521853  1.246037  1.461494  \n",
       "6910558   0.988956  0.852772  0.415455  0.737194  0.691437  \n",
       "3414332   0.992465  0.875139  0.512037  0.686362  0.887047  \n",
       "5840458   1.687726  1.178736  0.925320  1.094308  0.991339  \n",
       "...            ...       ...       ...       ...       ...  \n",
       "6940991   0.982156  1.063902  0.713939  0.774338  0.719043  \n",
       "6173277   0.995382  0.976956  0.799586  0.803552  0.732366  \n",
       "10306408  1.429457  1.390645  1.525701  1.106262  0.933373  \n",
       "1976752   0.990974  1.040644  0.995528  0.882152  0.862665  \n",
       "6832497   0.996165  1.263725  0.957153  0.981716  1.042192  \n",
       "\n",
       "[100000 rows x 29 columns]"
      ]
     },
     "execution_count": 8,
     "metadata": {},
     "output_type": "execute_result"
    }
   ],
   "source": [
    "higgs_df_subset =higgs_df.sample(n = 100000, random_state = 42)\n",
    "higgs_df_subset"
   ]
  },
  {
   "cell_type": "code",
   "execution_count": 12,
   "metadata": {
    "id": "GKhqCjxQ47dV"
   },
   "outputs": [],
   "source": [
    "higgs_df_subset.to_csv('higgs_dataset_subset.csv', index=False)"
   ]
  },
  {
   "cell_type": "markdown",
   "metadata": {
    "id": "kvBvABRLbqCM"
   },
   "source": [
    "* We save the randomnly sampled data of 100k examples into a csv file for future use."
   ]
  },
  {
   "cell_type": "code",
   "execution_count": 9,
   "metadata": {
    "colab": {
     "base_uri": "https://localhost:8080/",
     "height": 522
    },
    "id": "dG73OyvV4jmg",
    "outputId": "4ff36bac-4383-451b-d899-ffabde95edff"
   },
   "outputs": [
    {
     "data": {
      "text/html": [
       "\n",
       "  <div id=\"df-cccc638b-6f2c-4165-8aef-6d116592c6af\">\n",
       "    <div class=\"colab-df-container\">\n",
       "      <div>\n",
       "<style scoped>\n",
       "    .dataframe tbody tr th:only-of-type {\n",
       "        vertical-align: middle;\n",
       "    }\n",
       "\n",
       "    .dataframe tbody tr th {\n",
       "        vertical-align: top;\n",
       "    }\n",
       "\n",
       "    .dataframe thead th {\n",
       "        text-align: right;\n",
       "    }\n",
       "</style>\n",
       "<table border=\"1\" class=\"dataframe\">\n",
       "  <thead>\n",
       "    <tr style=\"text-align: right;\">\n",
       "      <th></th>\n",
       "      <th>lepton pT</th>\n",
       "      <th>lepton eta</th>\n",
       "      <th>lepton phi</th>\n",
       "      <th>missing energy magnitude</th>\n",
       "      <th>missing energy phi</th>\n",
       "      <th>jet 1 pt</th>\n",
       "      <th>jet 1 eta</th>\n",
       "      <th>jet 1 phi</th>\n",
       "      <th>jet 1 b-tag</th>\n",
       "      <th>jet 2 pt</th>\n",
       "      <th>...</th>\n",
       "      <th>jet 4 eta</th>\n",
       "      <th>jet 4 phi</th>\n",
       "      <th>jet 4 b-tag</th>\n",
       "      <th>m_jj</th>\n",
       "      <th>m_jjj</th>\n",
       "      <th>m_lv</th>\n",
       "      <th>m_jlv</th>\n",
       "      <th>m_bb</th>\n",
       "      <th>m_wbb</th>\n",
       "      <th>m_wwbb</th>\n",
       "    </tr>\n",
       "  </thead>\n",
       "  <tbody>\n",
       "    <tr>\n",
       "      <th>3967303</th>\n",
       "      <td>1.138683</td>\n",
       "      <td>-0.726635</td>\n",
       "      <td>-0.005790</td>\n",
       "      <td>0.204118</td>\n",
       "      <td>0.153842</td>\n",
       "      <td>1.585904</td>\n",
       "      <td>-0.045576</td>\n",
       "      <td>-1.448527</td>\n",
       "      <td>1.086538</td>\n",
       "      <td>1.598471</td>\n",
       "      <td>...</td>\n",
       "      <td>-2.439800</td>\n",
       "      <td>0.073642</td>\n",
       "      <td>0.000000</td>\n",
       "      <td>1.790497</td>\n",
       "      <td>1.730592</td>\n",
       "      <td>0.980587</td>\n",
       "      <td>0.743065</td>\n",
       "      <td>2.378752</td>\n",
       "      <td>1.534863</td>\n",
       "      <td>1.227558</td>\n",
       "    </tr>\n",
       "    <tr>\n",
       "      <th>5946179</th>\n",
       "      <td>0.404633</td>\n",
       "      <td>1.014821</td>\n",
       "      <td>-1.050041</td>\n",
       "      <td>1.136441</td>\n",
       "      <td>-1.403536</td>\n",
       "      <td>3.218436</td>\n",
       "      <td>-1.944837</td>\n",
       "      <td>0.801788</td>\n",
       "      <td>0.000000</td>\n",
       "      <td>2.238942</td>\n",
       "      <td>...</td>\n",
       "      <td>-1.174742</td>\n",
       "      <td>-0.912542</td>\n",
       "      <td>0.000000</td>\n",
       "      <td>1.072789</td>\n",
       "      <td>0.649697</td>\n",
       "      <td>0.981147</td>\n",
       "      <td>2.004577</td>\n",
       "      <td>0.521853</td>\n",
       "      <td>1.246037</td>\n",
       "      <td>1.461494</td>\n",
       "    </tr>\n",
       "    <tr>\n",
       "      <th>6910558</th>\n",
       "      <td>1.137585</td>\n",
       "      <td>0.325251</td>\n",
       "      <td>1.453598</td>\n",
       "      <td>0.804114</td>\n",
       "      <td>0.893516</td>\n",
       "      <td>0.418095</td>\n",
       "      <td>-1.164536</td>\n",
       "      <td>-0.585919</td>\n",
       "      <td>0.000000</td>\n",
       "      <td>0.653565</td>\n",
       "      <td>...</td>\n",
       "      <td>0.280201</td>\n",
       "      <td>-0.982461</td>\n",
       "      <td>3.101961</td>\n",
       "      <td>0.816500</td>\n",
       "      <td>0.933867</td>\n",
       "      <td>0.988956</td>\n",
       "      <td>0.852772</td>\n",
       "      <td>0.415455</td>\n",
       "      <td>0.737194</td>\n",
       "      <td>0.691437</td>\n",
       "    </tr>\n",
       "    <tr>\n",
       "      <th>3414332</th>\n",
       "      <td>1.380438</td>\n",
       "      <td>-0.595149</td>\n",
       "      <td>-0.727112</td>\n",
       "      <td>0.465392</td>\n",
       "      <td>-0.057453</td>\n",
       "      <td>0.399224</td>\n",
       "      <td>-0.076273</td>\n",
       "      <td>1.080084</td>\n",
       "      <td>2.173076</td>\n",
       "      <td>0.644878</td>\n",
       "      <td>...</td>\n",
       "      <td>1.261267</td>\n",
       "      <td>1.129085</td>\n",
       "      <td>0.000000</td>\n",
       "      <td>0.563342</td>\n",
       "      <td>0.857068</td>\n",
       "      <td>0.992465</td>\n",
       "      <td>0.875139</td>\n",
       "      <td>0.512037</td>\n",
       "      <td>0.686362</td>\n",
       "      <td>0.887047</td>\n",
       "    </tr>\n",
       "    <tr>\n",
       "      <th>5840458</th>\n",
       "      <td>0.962628</td>\n",
       "      <td>1.191110</td>\n",
       "      <td>-1.161568</td>\n",
       "      <td>1.541759</td>\n",
       "      <td>0.569159</td>\n",
       "      <td>1.337374</td>\n",
       "      <td>0.810973</td>\n",
       "      <td>0.458075</td>\n",
       "      <td>1.086538</td>\n",
       "      <td>0.549946</td>\n",
       "      <td>...</td>\n",
       "      <td>0.413452</td>\n",
       "      <td>1.309431</td>\n",
       "      <td>3.101961</td>\n",
       "      <td>1.596246</td>\n",
       "      <td>1.146864</td>\n",
       "      <td>1.687726</td>\n",
       "      <td>1.178736</td>\n",
       "      <td>0.925320</td>\n",
       "      <td>1.094308</td>\n",
       "      <td>0.991339</td>\n",
       "    </tr>\n",
       "    <tr>\n",
       "      <th>...</th>\n",
       "      <td>...</td>\n",
       "      <td>...</td>\n",
       "      <td>...</td>\n",
       "      <td>...</td>\n",
       "      <td>...</td>\n",
       "      <td>...</td>\n",
       "      <td>...</td>\n",
       "      <td>...</td>\n",
       "      <td>...</td>\n",
       "      <td>...</td>\n",
       "      <td>...</td>\n",
       "      <td>...</td>\n",
       "      <td>...</td>\n",
       "      <td>...</td>\n",
       "      <td>...</td>\n",
       "      <td>...</td>\n",
       "      <td>...</td>\n",
       "      <td>...</td>\n",
       "      <td>...</td>\n",
       "      <td>...</td>\n",
       "      <td>...</td>\n",
       "    </tr>\n",
       "    <tr>\n",
       "      <th>6940991</th>\n",
       "      <td>1.658062</td>\n",
       "      <td>-1.514575</td>\n",
       "      <td>-1.074455</td>\n",
       "      <td>1.025077</td>\n",
       "      <td>-0.764209</td>\n",
       "      <td>0.513367</td>\n",
       "      <td>-0.426815</td>\n",
       "      <td>1.167121</td>\n",
       "      <td>2.173076</td>\n",
       "      <td>0.465213</td>\n",
       "      <td>...</td>\n",
       "      <td>-1.269683</td>\n",
       "      <td>1.141848</td>\n",
       "      <td>0.000000</td>\n",
       "      <td>0.299132</td>\n",
       "      <td>0.709217</td>\n",
       "      <td>0.982156</td>\n",
       "      <td>1.063902</td>\n",
       "      <td>0.713939</td>\n",
       "      <td>0.774338</td>\n",
       "      <td>0.719043</td>\n",
       "    </tr>\n",
       "    <tr>\n",
       "      <th>6173277</th>\n",
       "      <td>1.630794</td>\n",
       "      <td>-0.020507</td>\n",
       "      <td>-1.192086</td>\n",
       "      <td>0.439244</td>\n",
       "      <td>-1.028369</td>\n",
       "      <td>0.626410</td>\n",
       "      <td>0.452510</td>\n",
       "      <td>-0.017682</td>\n",
       "      <td>2.173076</td>\n",
       "      <td>0.661245</td>\n",
       "      <td>...</td>\n",
       "      <td>0.446765</td>\n",
       "      <td>1.228414</td>\n",
       "      <td>0.000000</td>\n",
       "      <td>0.632595</td>\n",
       "      <td>0.753355</td>\n",
       "      <td>0.995382</td>\n",
       "      <td>0.976956</td>\n",
       "      <td>0.799586</td>\n",
       "      <td>0.803552</td>\n",
       "      <td>0.732366</td>\n",
       "    </tr>\n",
       "    <tr>\n",
       "      <th>10306408</th>\n",
       "      <td>0.975988</td>\n",
       "      <td>-0.768516</td>\n",
       "      <td>0.726175</td>\n",
       "      <td>1.106153</td>\n",
       "      <td>-1.148883</td>\n",
       "      <td>1.221399</td>\n",
       "      <td>0.744627</td>\n",
       "      <td>-1.521705</td>\n",
       "      <td>0.000000</td>\n",
       "      <td>1.321105</td>\n",
       "      <td>...</td>\n",
       "      <td>-1.624466</td>\n",
       "      <td>0.309479</td>\n",
       "      <td>0.000000</td>\n",
       "      <td>0.843619</td>\n",
       "      <td>0.920015</td>\n",
       "      <td>1.429457</td>\n",
       "      <td>1.390645</td>\n",
       "      <td>1.525701</td>\n",
       "      <td>1.106262</td>\n",
       "      <td>0.933373</td>\n",
       "    </tr>\n",
       "    <tr>\n",
       "      <th>1976752</th>\n",
       "      <td>1.596022</td>\n",
       "      <td>-0.063362</td>\n",
       "      <td>1.569564</td>\n",
       "      <td>0.424958</td>\n",
       "      <td>-1.012751</td>\n",
       "      <td>0.877414</td>\n",
       "      <td>0.106919</td>\n",
       "      <td>-0.186766</td>\n",
       "      <td>0.000000</td>\n",
       "      <td>1.009872</td>\n",
       "      <td>...</td>\n",
       "      <td>0.924806</td>\n",
       "      <td>1.053062</td>\n",
       "      <td>0.000000</td>\n",
       "      <td>1.566598</td>\n",
       "      <td>1.086671</td>\n",
       "      <td>0.990974</td>\n",
       "      <td>1.040644</td>\n",
       "      <td>0.995528</td>\n",
       "      <td>0.882152</td>\n",
       "      <td>0.862665</td>\n",
       "    </tr>\n",
       "    <tr>\n",
       "      <th>6832497</th>\n",
       "      <td>0.538962</td>\n",
       "      <td>0.348627</td>\n",
       "      <td>-1.027292</td>\n",
       "      <td>1.415204</td>\n",
       "      <td>-1.403636</td>\n",
       "      <td>0.765562</td>\n",
       "      <td>0.951586</td>\n",
       "      <td>-0.131883</td>\n",
       "      <td>1.086538</td>\n",
       "      <td>1.300835</td>\n",
       "      <td>...</td>\n",
       "      <td>-0.836615</td>\n",
       "      <td>1.085801</td>\n",
       "      <td>0.000000</td>\n",
       "      <td>0.681391</td>\n",
       "      <td>1.156464</td>\n",
       "      <td>0.996165</td>\n",
       "      <td>1.263725</td>\n",
       "      <td>0.957153</td>\n",
       "      <td>0.981716</td>\n",
       "      <td>1.042192</td>\n",
       "    </tr>\n",
       "  </tbody>\n",
       "</table>\n",
       "<p>100000 rows × 28 columns</p>\n",
       "</div>\n",
       "      <button class=\"colab-df-convert\" onclick=\"convertToInteractive('df-cccc638b-6f2c-4165-8aef-6d116592c6af')\"\n",
       "              title=\"Convert this dataframe to an interactive table.\"\n",
       "              style=\"display:none;\">\n",
       "        \n",
       "  <svg xmlns=\"http://www.w3.org/2000/svg\" height=\"24px\"viewBox=\"0 0 24 24\"\n",
       "       width=\"24px\">\n",
       "    <path d=\"M0 0h24v24H0V0z\" fill=\"none\"/>\n",
       "    <path d=\"M18.56 5.44l.94 2.06.94-2.06 2.06-.94-2.06-.94-.94-2.06-.94 2.06-2.06.94zm-11 1L8.5 8.5l.94-2.06 2.06-.94-2.06-.94L8.5 2.5l-.94 2.06-2.06.94zm10 10l.94 2.06.94-2.06 2.06-.94-2.06-.94-.94-2.06-.94 2.06-2.06.94z\"/><path d=\"M17.41 7.96l-1.37-1.37c-.4-.4-.92-.59-1.43-.59-.52 0-1.04.2-1.43.59L10.3 9.45l-7.72 7.72c-.78.78-.78 2.05 0 2.83L4 21.41c.39.39.9.59 1.41.59.51 0 1.02-.2 1.41-.59l7.78-7.78 2.81-2.81c.8-.78.8-2.07 0-2.86zM5.41 20L4 18.59l7.72-7.72 1.47 1.35L5.41 20z\"/>\n",
       "  </svg>\n",
       "      </button>\n",
       "      \n",
       "  <style>\n",
       "    .colab-df-container {\n",
       "      display:flex;\n",
       "      flex-wrap:wrap;\n",
       "      gap: 12px;\n",
       "    }\n",
       "\n",
       "    .colab-df-convert {\n",
       "      background-color: #E8F0FE;\n",
       "      border: none;\n",
       "      border-radius: 50%;\n",
       "      cursor: pointer;\n",
       "      display: none;\n",
       "      fill: #1967D2;\n",
       "      height: 32px;\n",
       "      padding: 0 0 0 0;\n",
       "      width: 32px;\n",
       "    }\n",
       "\n",
       "    .colab-df-convert:hover {\n",
       "      background-color: #E2EBFA;\n",
       "      box-shadow: 0px 1px 2px rgba(60, 64, 67, 0.3), 0px 1px 3px 1px rgba(60, 64, 67, 0.15);\n",
       "      fill: #174EA6;\n",
       "    }\n",
       "\n",
       "    [theme=dark] .colab-df-convert {\n",
       "      background-color: #3B4455;\n",
       "      fill: #D2E3FC;\n",
       "    }\n",
       "\n",
       "    [theme=dark] .colab-df-convert:hover {\n",
       "      background-color: #434B5C;\n",
       "      box-shadow: 0px 1px 3px 1px rgba(0, 0, 0, 0.15);\n",
       "      filter: drop-shadow(0px 1px 2px rgba(0, 0, 0, 0.3));\n",
       "      fill: #FFFFFF;\n",
       "    }\n",
       "  </style>\n",
       "\n",
       "      <script>\n",
       "        const buttonEl =\n",
       "          document.querySelector('#df-cccc638b-6f2c-4165-8aef-6d116592c6af button.colab-df-convert');\n",
       "        buttonEl.style.display =\n",
       "          google.colab.kernel.accessAllowed ? 'block' : 'none';\n",
       "\n",
       "        async function convertToInteractive(key) {\n",
       "          const element = document.querySelector('#df-cccc638b-6f2c-4165-8aef-6d116592c6af');\n",
       "          const dataTable =\n",
       "            await google.colab.kernel.invokeFunction('convertToInteractive',\n",
       "                                                     [key], {});\n",
       "          if (!dataTable) return;\n",
       "\n",
       "          const docLinkHtml = 'Like what you see? Visit the ' +\n",
       "            '<a target=\"_blank\" href=https://colab.research.google.com/notebooks/data_table.ipynb>data table notebook</a>'\n",
       "            + ' to learn more about interactive tables.';\n",
       "          element.innerHTML = '';\n",
       "          dataTable['output_type'] = 'display_data';\n",
       "          await google.colab.output.renderOutput(dataTable, element);\n",
       "          const docLink = document.createElement('div');\n",
       "          docLink.innerHTML = docLinkHtml;\n",
       "          element.appendChild(docLink);\n",
       "        }\n",
       "      </script>\n",
       "    </div>\n",
       "  </div>\n",
       "  "
      ],
      "text/plain": [
       "          lepton pT  lepton eta  lepton phi  missing energy magnitude  \\\n",
       "3967303    1.138683   -0.726635   -0.005790                  0.204118   \n",
       "5946179    0.404633    1.014821   -1.050041                  1.136441   \n",
       "6910558    1.137585    0.325251    1.453598                  0.804114   \n",
       "3414332    1.380438   -0.595149   -0.727112                  0.465392   \n",
       "5840458    0.962628    1.191110   -1.161568                  1.541759   \n",
       "...             ...         ...         ...                       ...   \n",
       "6940991    1.658062   -1.514575   -1.074455                  1.025077   \n",
       "6173277    1.630794   -0.020507   -1.192086                  0.439244   \n",
       "10306408   0.975988   -0.768516    0.726175                  1.106153   \n",
       "1976752    1.596022   -0.063362    1.569564                  0.424958   \n",
       "6832497    0.538962    0.348627   -1.027292                  1.415204   \n",
       "\n",
       "          missing energy phi  jet 1 pt  jet 1 eta  jet 1 phi  jet 1 b-tag  \\\n",
       "3967303             0.153842  1.585904  -0.045576  -1.448527     1.086538   \n",
       "5946179            -1.403536  3.218436  -1.944837   0.801788     0.000000   \n",
       "6910558             0.893516  0.418095  -1.164536  -0.585919     0.000000   \n",
       "3414332            -0.057453  0.399224  -0.076273   1.080084     2.173076   \n",
       "5840458             0.569159  1.337374   0.810973   0.458075     1.086538   \n",
       "...                      ...       ...        ...        ...          ...   \n",
       "6940991            -0.764209  0.513367  -0.426815   1.167121     2.173076   \n",
       "6173277            -1.028369  0.626410   0.452510  -0.017682     2.173076   \n",
       "10306408           -1.148883  1.221399   0.744627  -1.521705     0.000000   \n",
       "1976752            -1.012751  0.877414   0.106919  -0.186766     0.000000   \n",
       "6832497            -1.403636  0.765562   0.951586  -0.131883     1.086538   \n",
       "\n",
       "          jet 2 pt  ...  jet 4 eta  jet 4 phi  jet 4 b-tag      m_jj  \\\n",
       "3967303   1.598471  ...  -2.439800   0.073642     0.000000  1.790497   \n",
       "5946179   2.238942  ...  -1.174742  -0.912542     0.000000  1.072789   \n",
       "6910558   0.653565  ...   0.280201  -0.982461     3.101961  0.816500   \n",
       "3414332   0.644878  ...   1.261267   1.129085     0.000000  0.563342   \n",
       "5840458   0.549946  ...   0.413452   1.309431     3.101961  1.596246   \n",
       "...            ...  ...        ...        ...          ...       ...   \n",
       "6940991   0.465213  ...  -1.269683   1.141848     0.000000  0.299132   \n",
       "6173277   0.661245  ...   0.446765   1.228414     0.000000  0.632595   \n",
       "10306408  1.321105  ...  -1.624466   0.309479     0.000000  0.843619   \n",
       "1976752   1.009872  ...   0.924806   1.053062     0.000000  1.566598   \n",
       "6832497   1.300835  ...  -0.836615   1.085801     0.000000  0.681391   \n",
       "\n",
       "             m_jjj      m_lv     m_jlv      m_bb     m_wbb    m_wwbb  \n",
       "3967303   1.730592  0.980587  0.743065  2.378752  1.534863  1.227558  \n",
       "5946179   0.649697  0.981147  2.004577  0.521853  1.246037  1.461494  \n",
       "6910558   0.933867  0.988956  0.852772  0.415455  0.737194  0.691437  \n",
       "3414332   0.857068  0.992465  0.875139  0.512037  0.686362  0.887047  \n",
       "5840458   1.146864  1.687726  1.178736  0.925320  1.094308  0.991339  \n",
       "...            ...       ...       ...       ...       ...       ...  \n",
       "6940991   0.709217  0.982156  1.063902  0.713939  0.774338  0.719043  \n",
       "6173277   0.753355  0.995382  0.976956  0.799586  0.803552  0.732366  \n",
       "10306408  0.920015  1.429457  1.390645  1.525701  1.106262  0.933373  \n",
       "1976752   1.086671  0.990974  1.040644  0.995528  0.882152  0.862665  \n",
       "6832497   1.156464  0.996165  1.263725  0.957153  0.981716  1.042192  \n",
       "\n",
       "[100000 rows x 28 columns]"
      ]
     },
     "execution_count": 9,
     "metadata": {},
     "output_type": "execute_result"
    }
   ],
   "source": [
    "X= higgs_df_subset.drop(columns = \"labels\")\n",
    "X"
   ]
  },
  {
   "cell_type": "code",
   "execution_count": 10,
   "metadata": {
    "colab": {
     "base_uri": "https://localhost:8080/"
    },
    "id": "K1EurVV24sq9",
    "outputId": "ed2e24a1-2164-4aa5-fc8c-99f57efc41d0"
   },
   "outputs": [
    {
     "data": {
      "text/plain": [
       "3967303     0.0\n",
       "5946179     1.0\n",
       "6910558     0.0\n",
       "3414332     0.0\n",
       "5840458     1.0\n",
       "           ... \n",
       "6940991     1.0\n",
       "6173277     1.0\n",
       "10306408    1.0\n",
       "1976752     0.0\n",
       "6832497     1.0\n",
       "Name: labels, Length: 100000, dtype: float64"
      ]
     },
     "execution_count": 10,
     "metadata": {},
     "output_type": "execute_result"
    }
   ],
   "source": [
    "y = higgs_df_subset[\"labels\"]\n",
    "y"
   ]
  },
  {
   "cell_type": "code",
   "execution_count": 11,
   "metadata": {
    "colab": {
     "base_uri": "https://localhost:8080/"
    },
    "id": "N-dAaq-v5i8x",
    "outputId": "fd861fb6-b6ec-4563-970a-992ada4df1e2"
   },
   "outputs": [
    {
     "data": {
      "text/plain": [
       "(100000, 28)"
      ]
     },
     "execution_count": 11,
     "metadata": {},
     "output_type": "execute_result"
    }
   ],
   "source": [
    "X.shape"
   ]
  },
  {
   "cell_type": "markdown",
   "metadata": {
    "id": "rMGodO1-bnfe"
   },
   "source": [
    "* Here, we are going to divide the labelled dataset for supervised learning. We are extracting labels in to another variable 'y'.\n",
    "* And we are dropping the labels and taking the other columns of the dataset into variable 'X', that will serve as input data or feature set to use it as input values in our model."
   ]
  },
  {
   "cell_type": "markdown",
   "metadata": {
    "id": "Mcv5IycMcYhO"
   },
   "source": [
    "#### Splitting the data into Train and Test sets \n",
    "\n",
    "we use sklearn's `train_test_split` method to split the dataset into training set (which we will be using for training of our Neural network) and Test set(on which we can measure the accuracy and other metrics of our model). Test set is also called validation set in this context, it is used to measure how well our Neural network is generalizing for new data that it has not seen before. We are splitting 10 percent of the entire dataset into test set and other for training (since we Neural Networks need a lot of data to train better)"
   ]
  },
  {
   "cell_type": "code",
   "execution_count": 23,
   "metadata": {
    "id": "w5oV3hfn5_hn"
   },
   "outputs": [],
   "source": [
    "import sklearn\n",
    "from sklearn.model_selection import train_test_split\n",
    "X_train,X_test, y_train, y_test = sklearn.model_selection.train_test_split(X,y, test_size=0.1, random_state=42, shuffle=True)\n"
   ]
  },
  {
   "cell_type": "code",
   "execution_count": 25,
   "metadata": {
    "colab": {
     "base_uri": "https://localhost:8080/"
    },
    "id": "kuZ4t6gW6wdz",
    "outputId": "8a91700e-eb14-4fe0-e56f-abebc2e0bce4"
   },
   "outputs": [
    {
     "data": {
      "text/plain": [
       "((90000, 28), (10000, 28), (90000,), (10000,))"
      ]
     },
     "execution_count": 25,
     "metadata": {},
     "output_type": "execute_result"
    }
   ],
   "source": [
    "X_train.shape, X_test.shape, y_train.shape, y_test.shape"
   ]
  },
  {
   "cell_type": "markdown",
   "metadata": {
    "id": "FgYK8TZMeuYB"
   },
   "source": [
    "* We are importing some helper function to help us evaluate and visualize our model's results."
   ]
  },
  {
   "cell_type": "code",
   "execution_count": 26,
   "metadata": {
    "colab": {
     "base_uri": "https://localhost:8080/"
    },
    "id": "cVm9LCRn47TH",
    "outputId": "b8ebf4d3-8ccb-4813-c66a-860c2ee1b3ce"
   },
   "outputs": [
    {
     "name": "stdout",
     "output_type": "stream",
     "text": [
      "--2022-03-21 13:51:24--  https://raw.githubusercontent.com/mrdbourke/tensorflow-deep-learning/main/extras/helper_functions.py\n",
      "Resolving raw.githubusercontent.com (raw.githubusercontent.com)... 185.199.108.133, 185.199.109.133, 185.199.110.133, ...\n",
      "Connecting to raw.githubusercontent.com (raw.githubusercontent.com)|185.199.108.133|:443... connected.\n",
      "HTTP request sent, awaiting response... 200 OK\n",
      "Length: 10246 (10K) [text/plain]\n",
      "Saving to: ‘helper_functions.py’\n",
      "\n",
      "\r",
      "helper_functions.py   0%[                    ]       0  --.-KB/s               \r",
      "helper_functions.py 100%[===================>]  10.01K  --.-KB/s    in 0s      \n",
      "\n",
      "2022-03-21 13:51:24 (72.4 MB/s) - ‘helper_functions.py’ saved [10246/10246]\n",
      "\n"
     ]
    }
   ],
   "source": [
    "!wget https://raw.githubusercontent.com/mrdbourke/tensorflow-deep-learning/main/extras/helper_functions.py"
   ]
  },
  {
   "cell_type": "code",
   "execution_count": null,
   "metadata": {
    "id": "9xZY24eyetYf"
   },
   "outputs": [],
   "source": [
    "from helper_functions import confusion_matrix, plot_loss_curves, create_tensorboard_callback"
   ]
  },
  {
   "cell_type": "markdown",
   "metadata": {
    "id": "OgJYMhUodbpx"
   },
   "source": [
    "#### Building a baseline model\n",
    "We are going to build a baseline model with only two hidden layers and train it for 5 epochs. After viewing the results from our baseline model we can improve upon the model and tune our hyperparameters to make better predictions.\n"
   ]
  },
  {
   "cell_type": "code",
   "execution_count": 31,
   "metadata": {
    "colab": {
     "base_uri": "https://localhost:8080/"
    },
    "id": "FSPd8kp347Z4",
    "outputId": "5cc9ad50-cbcf-4c27-9dc6-c3bf2dd89805"
   },
   "outputs": [
    {
     "name": "stdout",
     "output_type": "stream",
     "text": [
      "Saving TensorBoard log files to: higgs_noise_detection_model/HIGGS_MODEL_NOISE_DETECTION_100K/20220321-135947\n",
      "Epoch 1/5\n",
      "2813/2813 [==============================] - 13s 5ms/step - loss: 0.6426 - accuracy: 0.6257 - val_loss: 0.6196 - val_accuracy: 0.6578\n",
      "Epoch 2/5\n",
      "2813/2813 [==============================] - 12s 4ms/step - loss: 0.6116 - accuracy: 0.6616 - val_loss: 0.6007 - val_accuracy: 0.6786\n",
      "Epoch 3/5\n",
      "2813/2813 [==============================] - 12s 4ms/step - loss: 0.5992 - accuracy: 0.6753 - val_loss: 0.6017 - val_accuracy: 0.6716\n",
      "Epoch 4/5\n",
      "2813/2813 [==============================] - 12s 4ms/step - loss: 0.5917 - accuracy: 0.6825 - val_loss: 0.5948 - val_accuracy: 0.6818\n",
      "Epoch 5/5\n",
      "2813/2813 [==============================] - 12s 4ms/step - loss: 0.5866 - accuracy: 0.6869 - val_loss: 0.5985 - val_accuracy: 0.6807\n"
     ]
    }
   ],
   "source": [
    "# Build the baseline model\n",
    "import tensorflow as tf\n",
    "tf.random.set_seed(42)\n",
    "\n",
    "higgs_model_1 = tf.keras.Sequential([\n",
    "  tf.keras.layers.Dense(100, activation = 'relu'),\n",
    "  tf.keras.layers.Dense(10, activation = 'relu'),\n",
    "  tf.keras.layers.Dense(1, activation = 'sigmoid')\n",
    "])\n",
    "\n",
    "higgs_model_1.compile(loss = tf.keras.losses.BinaryCrossentropy(),\n",
    "                      optimizer = tf.keras.optimizers.Adam(),\n",
    "                      metrics = ['accuracy'])\n",
    "\n",
    "history_1 = higgs_model_1.fit(X_train, y_train, epochs = 5, validation_data = (X_test,y_test), callbacks =[create_tensorboard_callback(dir_name = \"higgs_noise_detection_model\", experiment_name='HIGGS_MODEL_NOISE_DETECTION_100K')])"
   ]
  },
  {
   "cell_type": "code",
   "execution_count": 33,
   "metadata": {
    "colab": {
     "base_uri": "https://localhost:8080/",
     "height": 573
    },
    "id": "52eJ66YS47Q0",
    "outputId": "3b3d03d3-58db-46ae-c533-bddecbea2a76"
   },
   "outputs": [
    {
     "data": {
      "image/png": "[encoded data removed]",
      "text/plain": [
       "<Figure size 432x288 with 1 Axes>"
      ]
     },
     "metadata": {
      "needs_background": "light"
     },
     "output_type": "display_data"
    },
    {
     "data": {
      "image/png": "[encoded data removed]",
      "text/plain": [
       "<Figure size 432x288 with 1 Axes>"
      ]
     },
     "metadata": {
      "needs_background": "light"
     },
     "output_type": "display_data"
    }
   ],
   "source": [
    "plot_loss_curves(history_1)"
   ]
  },
  {
   "cell_type": "markdown",
   "metadata": {
    "id": "qbQKzapmeBr_"
   },
   "source": [
    "**The Training accuracy for our baseline model is 68.69%**.  \n",
    "**The Validation accuracy of our baseline model is 68.07%**\n",
    "\n",
    "Even though the metrics turned out not very good. Our model is good at generalizing the features it is leanring from training data so that it can perform well in our Validation data(the data which model has not seen before). **Our model is not overfitting**"
   ]
  },
  {
   "cell_type": "markdown",
   "metadata": {
    "id": "tTGnSH0jfC4g"
   },
   "source": [
    "#### Saving the Model\n"
   ]
  },
  {
   "cell_type": "code",
   "execution_count": 46,
   "metadata": {
    "colab": {
     "base_uri": "https://localhost:8080/"
    },
    "id": "xeiQPS2L85kZ",
    "outputId": "5d49b294-1860-47fa-d6a1-6221765f1ebf"
   },
   "outputs": [
    {
     "name": "stdout",
     "output_type": "stream",
     "text": [
      "INFO:tensorflow:Assets written to: /content/drive/MyDrive/higgs_model_100K/assets\n"
     ]
    }
   ],
   "source": [
    "tf.keras.models.save_model(higgs_model_1,filepath = \"/content/drive/MyDrive/higgs_model_100K\" )"
   ]
  },
  {
   "cell_type": "markdown",
   "metadata": {
    "id": "f97Fo3KtfRmH"
   },
   "source": [
    "### MODEL 2: Dataset with 500,000 labelled examples\n",
    "Instead of taking our entire dataset, which is very huge we are going to first try the 500,000 examples. We are going to use `sample` method from pandas to randomnly sample 500k examples from our dataset. We are going to use the seed values as `42` for reproducing the results later."
   ]
  },
  {
   "cell_type": "code",
   "execution_count": 13,
   "metadata": {
    "colab": {
     "base_uri": "https://localhost:8080/",
     "height": 522
    },
    "id": "fv05I9K0s_ku",
    "outputId": "58f467f7-b95d-43cc-a99e-f692065d1cc3"
   },
   "outputs": [
    {
     "data": {
      "text/html": [
       "\n",
       "  <div id=\"df-01678ab6-cace-4b2a-a9a0-ef02f430d2a9\">\n",
       "    <div class=\"colab-df-container\">\n",
       "      <div>\n",
       "<style scoped>\n",
       "    .dataframe tbody tr th:only-of-type {\n",
       "        vertical-align: middle;\n",
       "    }\n",
       "\n",
       "    .dataframe tbody tr th {\n",
       "        vertical-align: top;\n",
       "    }\n",
       "\n",
       "    .dataframe thead th {\n",
       "        text-align: right;\n",
       "    }\n",
       "</style>\n",
       "<table border=\"1\" class=\"dataframe\">\n",
       "  <thead>\n",
       "    <tr style=\"text-align: right;\">\n",
       "      <th></th>\n",
       "      <th>labels</th>\n",
       "      <th>lepton pT</th>\n",
       "      <th>lepton eta</th>\n",
       "      <th>lepton phi</th>\n",
       "      <th>missing energy magnitude</th>\n",
       "      <th>missing energy phi</th>\n",
       "      <th>jet 1 pt</th>\n",
       "      <th>jet 1 eta</th>\n",
       "      <th>jet 1 phi</th>\n",
       "      <th>jet 1 b-tag</th>\n",
       "      <th>...</th>\n",
       "      <th>jet 4 eta</th>\n",
       "      <th>jet 4 phi</th>\n",
       "      <th>jet 4 b-tag</th>\n",
       "      <th>m_jj</th>\n",
       "      <th>m_jjj</th>\n",
       "      <th>m_lv</th>\n",
       "      <th>m_jlv</th>\n",
       "      <th>m_bb</th>\n",
       "      <th>m_wbb</th>\n",
       "      <th>m_wwbb</th>\n",
       "    </tr>\n",
       "  </thead>\n",
       "  <tbody>\n",
       "    <tr>\n",
       "      <th>3967303</th>\n",
       "      <td>0.0</td>\n",
       "      <td>1.138683</td>\n",
       "      <td>-0.726635</td>\n",
       "      <td>-0.005790</td>\n",
       "      <td>0.204118</td>\n",
       "      <td>0.153842</td>\n",
       "      <td>1.585904</td>\n",
       "      <td>-0.045576</td>\n",
       "      <td>-1.448527</td>\n",
       "      <td>1.086538</td>\n",
       "      <td>...</td>\n",
       "      <td>-2.439800</td>\n",
       "      <td>0.073642</td>\n",
       "      <td>0.000000</td>\n",
       "      <td>1.790497</td>\n",
       "      <td>1.730592</td>\n",
       "      <td>0.980587</td>\n",
       "      <td>0.743065</td>\n",
       "      <td>2.378752</td>\n",
       "      <td>1.534863</td>\n",
       "      <td>1.227558</td>\n",
       "    </tr>\n",
       "    <tr>\n",
       "      <th>5946179</th>\n",
       "      <td>1.0</td>\n",
       "      <td>0.404633</td>\n",
       "      <td>1.014821</td>\n",
       "      <td>-1.050041</td>\n",
       "      <td>1.136441</td>\n",
       "      <td>-1.403536</td>\n",
       "      <td>3.218436</td>\n",
       "      <td>-1.944837</td>\n",
       "      <td>0.801788</td>\n",
       "      <td>0.000000</td>\n",
       "      <td>...</td>\n",
       "      <td>-1.174742</td>\n",
       "      <td>-0.912542</td>\n",
       "      <td>0.000000</td>\n",
       "      <td>1.072789</td>\n",
       "      <td>0.649697</td>\n",
       "      <td>0.981147</td>\n",
       "      <td>2.004577</td>\n",
       "      <td>0.521853</td>\n",
       "      <td>1.246037</td>\n",
       "      <td>1.461494</td>\n",
       "    </tr>\n",
       "    <tr>\n",
       "      <th>6910558</th>\n",
       "      <td>0.0</td>\n",
       "      <td>1.137585</td>\n",
       "      <td>0.325251</td>\n",
       "      <td>1.453598</td>\n",
       "      <td>0.804114</td>\n",
       "      <td>0.893516</td>\n",
       "      <td>0.418095</td>\n",
       "      <td>-1.164536</td>\n",
       "      <td>-0.585919</td>\n",
       "      <td>0.000000</td>\n",
       "      <td>...</td>\n",
       "      <td>0.280201</td>\n",
       "      <td>-0.982461</td>\n",
       "      <td>3.101961</td>\n",
       "      <td>0.816500</td>\n",
       "      <td>0.933867</td>\n",
       "      <td>0.988956</td>\n",
       "      <td>0.852772</td>\n",
       "      <td>0.415455</td>\n",
       "      <td>0.737194</td>\n",
       "      <td>0.691437</td>\n",
       "    </tr>\n",
       "    <tr>\n",
       "      <th>3414332</th>\n",
       "      <td>0.0</td>\n",
       "      <td>1.380438</td>\n",
       "      <td>-0.595149</td>\n",
       "      <td>-0.727112</td>\n",
       "      <td>0.465392</td>\n",
       "      <td>-0.057453</td>\n",
       "      <td>0.399224</td>\n",
       "      <td>-0.076273</td>\n",
       "      <td>1.080084</td>\n",
       "      <td>2.173076</td>\n",
       "      <td>...</td>\n",
       "      <td>1.261267</td>\n",
       "      <td>1.129085</td>\n",
       "      <td>0.000000</td>\n",
       "      <td>0.563342</td>\n",
       "      <td>0.857068</td>\n",
       "      <td>0.992465</td>\n",
       "      <td>0.875139</td>\n",
       "      <td>0.512037</td>\n",
       "      <td>0.686362</td>\n",
       "      <td>0.887047</td>\n",
       "    </tr>\n",
       "    <tr>\n",
       "      <th>5840458</th>\n",
       "      <td>1.0</td>\n",
       "      <td>0.962628</td>\n",
       "      <td>1.191110</td>\n",
       "      <td>-1.161568</td>\n",
       "      <td>1.541759</td>\n",
       "      <td>0.569159</td>\n",
       "      <td>1.337374</td>\n",
       "      <td>0.810973</td>\n",
       "      <td>0.458075</td>\n",
       "      <td>1.086538</td>\n",
       "      <td>...</td>\n",
       "      <td>0.413452</td>\n",
       "      <td>1.309431</td>\n",
       "      <td>3.101961</td>\n",
       "      <td>1.596246</td>\n",
       "      <td>1.146864</td>\n",
       "      <td>1.687726</td>\n",
       "      <td>1.178736</td>\n",
       "      <td>0.925320</td>\n",
       "      <td>1.094308</td>\n",
       "      <td>0.991339</td>\n",
       "    </tr>\n",
       "    <tr>\n",
       "      <th>...</th>\n",
       "      <td>...</td>\n",
       "      <td>...</td>\n",
       "      <td>...</td>\n",
       "      <td>...</td>\n",
       "      <td>...</td>\n",
       "      <td>...</td>\n",
       "      <td>...</td>\n",
       "      <td>...</td>\n",
       "      <td>...</td>\n",
       "      <td>...</td>\n",
       "      <td>...</td>\n",
       "      <td>...</td>\n",
       "      <td>...</td>\n",
       "      <td>...</td>\n",
       "      <td>...</td>\n",
       "      <td>...</td>\n",
       "      <td>...</td>\n",
       "      <td>...</td>\n",
       "      <td>...</td>\n",
       "      <td>...</td>\n",
       "      <td>...</td>\n",
       "    </tr>\n",
       "    <tr>\n",
       "      <th>8516987</th>\n",
       "      <td>0.0</td>\n",
       "      <td>1.198344</td>\n",
       "      <td>0.816132</td>\n",
       "      <td>-1.315820</td>\n",
       "      <td>1.703112</td>\n",
       "      <td>1.590997</td>\n",
       "      <td>1.516191</td>\n",
       "      <td>-0.098058</td>\n",
       "      <td>0.060033</td>\n",
       "      <td>0.000000</td>\n",
       "      <td>...</td>\n",
       "      <td>-1.689426</td>\n",
       "      <td>-1.133952</td>\n",
       "      <td>0.000000</td>\n",
       "      <td>2.399341</td>\n",
       "      <td>1.443294</td>\n",
       "      <td>0.987323</td>\n",
       "      <td>0.837583</td>\n",
       "      <td>1.202728</td>\n",
       "      <td>1.357914</td>\n",
       "      <td>1.363805</td>\n",
       "    </tr>\n",
       "    <tr>\n",
       "      <th>5674844</th>\n",
       "      <td>0.0</td>\n",
       "      <td>2.187508</td>\n",
       "      <td>0.664192</td>\n",
       "      <td>0.996393</td>\n",
       "      <td>0.352704</td>\n",
       "      <td>-1.562939</td>\n",
       "      <td>0.953631</td>\n",
       "      <td>1.452642</td>\n",
       "      <td>-0.993939</td>\n",
       "      <td>1.086538</td>\n",
       "      <td>...</td>\n",
       "      <td>0.347659</td>\n",
       "      <td>-0.799340</td>\n",
       "      <td>0.000000</td>\n",
       "      <td>0.778314</td>\n",
       "      <td>0.849276</td>\n",
       "      <td>0.984151</td>\n",
       "      <td>0.952412</td>\n",
       "      <td>1.432241</td>\n",
       "      <td>1.072137</td>\n",
       "      <td>0.849107</td>\n",
       "    </tr>\n",
       "    <tr>\n",
       "      <th>8551407</th>\n",
       "      <td>1.0</td>\n",
       "      <td>0.461000</td>\n",
       "      <td>-0.296141</td>\n",
       "      <td>-1.404043</td>\n",
       "      <td>1.213896</td>\n",
       "      <td>0.447301</td>\n",
       "      <td>0.937691</td>\n",
       "      <td>0.091076</td>\n",
       "      <td>-0.865879</td>\n",
       "      <td>0.000000</td>\n",
       "      <td>...</td>\n",
       "      <td>0.296024</td>\n",
       "      <td>-0.269396</td>\n",
       "      <td>0.000000</td>\n",
       "      <td>0.792155</td>\n",
       "      <td>1.126328</td>\n",
       "      <td>1.031360</td>\n",
       "      <td>0.828597</td>\n",
       "      <td>0.912031</td>\n",
       "      <td>0.971815</td>\n",
       "      <td>0.864788</td>\n",
       "    </tr>\n",
       "    <tr>\n",
       "      <th>7118648</th>\n",
       "      <td>1.0</td>\n",
       "      <td>0.780717</td>\n",
       "      <td>0.816132</td>\n",
       "      <td>1.445830</td>\n",
       "      <td>1.954633</td>\n",
       "      <td>-1.285709</td>\n",
       "      <td>1.386109</td>\n",
       "      <td>0.427754</td>\n",
       "      <td>0.048392</td>\n",
       "      <td>2.173076</td>\n",
       "      <td>...</td>\n",
       "      <td>0.094481</td>\n",
       "      <td>1.542494</td>\n",
       "      <td>3.101961</td>\n",
       "      <td>0.915686</td>\n",
       "      <td>1.227426</td>\n",
       "      <td>1.077625</td>\n",
       "      <td>0.561643</td>\n",
       "      <td>0.828827</td>\n",
       "      <td>0.988427</td>\n",
       "      <td>0.864264</td>\n",
       "    </tr>\n",
       "    <tr>\n",
       "      <th>4302117</th>\n",
       "      <td>1.0</td>\n",
       "      <td>0.771932</td>\n",
       "      <td>-0.135436</td>\n",
       "      <td>-0.175577</td>\n",
       "      <td>0.687997</td>\n",
       "      <td>-1.248873</td>\n",
       "      <td>0.863581</td>\n",
       "      <td>0.512914</td>\n",
       "      <td>0.833387</td>\n",
       "      <td>0.000000</td>\n",
       "      <td>...</td>\n",
       "      <td>-1.004013</td>\n",
       "      <td>-1.299316</td>\n",
       "      <td>1.550981</td>\n",
       "      <td>0.433401</td>\n",
       "      <td>1.022649</td>\n",
       "      <td>0.986578</td>\n",
       "      <td>0.587924</td>\n",
       "      <td>0.802011</td>\n",
       "      <td>0.674747</td>\n",
       "      <td>0.612366</td>\n",
       "    </tr>\n",
       "  </tbody>\n",
       "</table>\n",
       "<p>500000 rows × 29 columns</p>\n",
       "</div>\n",
       "      <button class=\"colab-df-convert\" onclick=\"convertToInteractive('df-01678ab6-cace-4b2a-a9a0-ef02f430d2a9')\"\n",
       "              title=\"Convert this dataframe to an interactive table.\"\n",
       "              style=\"display:none;\">\n",
       "        \n",
       "  <svg xmlns=\"http://www.w3.org/2000/svg\" height=\"24px\"viewBox=\"0 0 24 24\"\n",
       "       width=\"24px\">\n",
       "    <path d=\"M0 0h24v24H0V0z\" fill=\"none\"/>\n",
       "    <path d=\"M18.56 5.44l.94 2.06.94-2.06 2.06-.94-2.06-.94-.94-2.06-.94 2.06-2.06.94zm-11 1L8.5 8.5l.94-2.06 2.06-.94-2.06-.94L8.5 2.5l-.94 2.06-2.06.94zm10 10l.94 2.06.94-2.06 2.06-.94-2.06-.94-.94-2.06-.94 2.06-2.06.94z\"/><path d=\"M17.41 7.96l-1.37-1.37c-.4-.4-.92-.59-1.43-.59-.52 0-1.04.2-1.43.59L10.3 9.45l-7.72 7.72c-.78.78-.78 2.05 0 2.83L4 21.41c.39.39.9.59 1.41.59.51 0 1.02-.2 1.41-.59l7.78-7.78 2.81-2.81c.8-.78.8-2.07 0-2.86zM5.41 20L4 18.59l7.72-7.72 1.47 1.35L5.41 20z\"/>\n",
       "  </svg>\n",
       "      </button>\n",
       "      \n",
       "  <style>\n",
       "    .colab-df-container {\n",
       "      display:flex;\n",
       "      flex-wrap:wrap;\n",
       "      gap: 12px;\n",
       "    }\n",
       "\n",
       "    .colab-df-convert {\n",
       "      background-color: #E8F0FE;\n",
       "      border: none;\n",
       "      border-radius: 50%;\n",
       "      cursor: pointer;\n",
       "      display: none;\n",
       "      fill: #1967D2;\n",
       "      height: 32px;\n",
       "      padding: 0 0 0 0;\n",
       "      width: 32px;\n",
       "    }\n",
       "\n",
       "    .colab-df-convert:hover {\n",
       "      background-color: #E2EBFA;\n",
       "      box-shadow: 0px 1px 2px rgba(60, 64, 67, 0.3), 0px 1px 3px 1px rgba(60, 64, 67, 0.15);\n",
       "      fill: #174EA6;\n",
       "    }\n",
       "\n",
       "    [theme=dark] .colab-df-convert {\n",
       "      background-color: #3B4455;\n",
       "      fill: #D2E3FC;\n",
       "    }\n",
       "\n",
       "    [theme=dark] .colab-df-convert:hover {\n",
       "      background-color: #434B5C;\n",
       "      box-shadow: 0px 1px 3px 1px rgba(0, 0, 0, 0.15);\n",
       "      filter: drop-shadow(0px 1px 2px rgba(0, 0, 0, 0.3));\n",
       "      fill: #FFFFFF;\n",
       "    }\n",
       "  </style>\n",
       "\n",
       "      <script>\n",
       "        const buttonEl =\n",
       "          document.querySelector('#df-01678ab6-cace-4b2a-a9a0-ef02f430d2a9 button.colab-df-convert');\n",
       "        buttonEl.style.display =\n",
       "          google.colab.kernel.accessAllowed ? 'block' : 'none';\n",
       "\n",
       "        async function convertToInteractive(key) {\n",
       "          const element = document.querySelector('#df-01678ab6-cace-4b2a-a9a0-ef02f430d2a9');\n",
       "          const dataTable =\n",
       "            await google.colab.kernel.invokeFunction('convertToInteractive',\n",
       "                                                     [key], {});\n",
       "          if (!dataTable) return;\n",
       "\n",
       "          const docLinkHtml = 'Like what you see? Visit the ' +\n",
       "            '<a target=\"_blank\" href=https://colab.research.google.com/notebooks/data_table.ipynb>data table notebook</a>'\n",
       "            + ' to learn more about interactive tables.';\n",
       "          element.innerHTML = '';\n",
       "          dataTable['output_type'] = 'display_data';\n",
       "          await google.colab.output.renderOutput(dataTable, element);\n",
       "          const docLink = document.createElement('div');\n",
       "          docLink.innerHTML = docLinkHtml;\n",
       "          element.appendChild(docLink);\n",
       "        }\n",
       "      </script>\n",
       "    </div>\n",
       "  </div>\n",
       "  "
      ],
      "text/plain": [
       "         labels  lepton pT  lepton eta  lepton phi  missing energy magnitude  \\\n",
       "3967303     0.0   1.138683   -0.726635   -0.005790                  0.204118   \n",
       "5946179     1.0   0.404633    1.014821   -1.050041                  1.136441   \n",
       "6910558     0.0   1.137585    0.325251    1.453598                  0.804114   \n",
       "3414332     0.0   1.380438   -0.595149   -0.727112                  0.465392   \n",
       "5840458     1.0   0.962628    1.191110   -1.161568                  1.541759   \n",
       "...         ...        ...         ...         ...                       ...   \n",
       "8516987     0.0   1.198344    0.816132   -1.315820                  1.703112   \n",
       "5674844     0.0   2.187508    0.664192    0.996393                  0.352704   \n",
       "8551407     1.0   0.461000   -0.296141   -1.404043                  1.213896   \n",
       "7118648     1.0   0.780717    0.816132    1.445830                  1.954633   \n",
       "4302117     1.0   0.771932   -0.135436   -0.175577                  0.687997   \n",
       "\n",
       "         missing energy phi  jet 1 pt  jet 1 eta  jet 1 phi  jet 1 b-tag  ...  \\\n",
       "3967303            0.153842  1.585904  -0.045576  -1.448527     1.086538  ...   \n",
       "5946179           -1.403536  3.218436  -1.944837   0.801788     0.000000  ...   \n",
       "6910558            0.893516  0.418095  -1.164536  -0.585919     0.000000  ...   \n",
       "3414332           -0.057453  0.399224  -0.076273   1.080084     2.173076  ...   \n",
       "5840458            0.569159  1.337374   0.810973   0.458075     1.086538  ...   \n",
       "...                     ...       ...        ...        ...          ...  ...   \n",
       "8516987            1.590997  1.516191  -0.098058   0.060033     0.000000  ...   \n",
       "5674844           -1.562939  0.953631   1.452642  -0.993939     1.086538  ...   \n",
       "8551407            0.447301  0.937691   0.091076  -0.865879     0.000000  ...   \n",
       "7118648           -1.285709  1.386109   0.427754   0.048392     2.173076  ...   \n",
       "4302117           -1.248873  0.863581   0.512914   0.833387     0.000000  ...   \n",
       "\n",
       "         jet 4 eta  jet 4 phi  jet 4 b-tag      m_jj     m_jjj      m_lv  \\\n",
       "3967303  -2.439800   0.073642     0.000000  1.790497  1.730592  0.980587   \n",
       "5946179  -1.174742  -0.912542     0.000000  1.072789  0.649697  0.981147   \n",
       "6910558   0.280201  -0.982461     3.101961  0.816500  0.933867  0.988956   \n",
       "3414332   1.261267   1.129085     0.000000  0.563342  0.857068  0.992465   \n",
       "5840458   0.413452   1.309431     3.101961  1.596246  1.146864  1.687726   \n",
       "...            ...        ...          ...       ...       ...       ...   \n",
       "8516987  -1.689426  -1.133952     0.000000  2.399341  1.443294  0.987323   \n",
       "5674844   0.347659  -0.799340     0.000000  0.778314  0.849276  0.984151   \n",
       "8551407   0.296024  -0.269396     0.000000  0.792155  1.126328  1.031360   \n",
       "7118648   0.094481   1.542494     3.101961  0.915686  1.227426  1.077625   \n",
       "4302117  -1.004013  -1.299316     1.550981  0.433401  1.022649  0.986578   \n",
       "\n",
       "            m_jlv      m_bb     m_wbb    m_wwbb  \n",
       "3967303  0.743065  2.378752  1.534863  1.227558  \n",
       "5946179  2.004577  0.521853  1.246037  1.461494  \n",
       "6910558  0.852772  0.415455  0.737194  0.691437  \n",
       "3414332  0.875139  0.512037  0.686362  0.887047  \n",
       "5840458  1.178736  0.925320  1.094308  0.991339  \n",
       "...           ...       ...       ...       ...  \n",
       "8516987  0.837583  1.202728  1.357914  1.363805  \n",
       "5674844  0.952412  1.432241  1.072137  0.849107  \n",
       "8551407  0.828597  0.912031  0.971815  0.864788  \n",
       "7118648  0.561643  0.828827  0.988427  0.864264  \n",
       "4302117  0.587924  0.802011  0.674747  0.612366  \n",
       "\n",
       "[500000 rows x 29 columns]"
      ]
     },
     "execution_count": 13,
     "metadata": {},
     "output_type": "execute_result"
    }
   ],
   "source": [
    "higgs_df_subset_500k =higgs_df.sample(n = 500000, random_state = 42)\n",
    "higgs_df_subset_500k"
   ]
  },
  {
   "cell_type": "code",
   "execution_count": 15,
   "metadata": {
    "id": "rcYSAjvstZwb"
   },
   "outputs": [],
   "source": [
    "higgs_df_subset_500k.to_csv('higgs_dataset_subset_500k.csv', index=False)"
   ]
  },
  {
   "cell_type": "code",
   "execution_count": 17,
   "metadata": {
    "id": "VM5cnk0QuZU9"
   },
   "outputs": [],
   "source": [
    "X_1= higgs_df_subset_500k.drop(columns = \"labels\")"
   ]
  },
  {
   "cell_type": "code",
   "execution_count": 19,
   "metadata": {
    "id": "lyAgvWZKuZPV"
   },
   "outputs": [],
   "source": [
    "y_1 =higgs_df_subset_500k[\"labels\"]"
   ]
  },
  {
   "cell_type": "code",
   "execution_count": 21,
   "metadata": {
    "id": "8IDr2mlhuZBD"
   },
   "outputs": [],
   "source": [
    "import sklearn\n",
    "from sklearn.model_selection import train_test_split\n",
    "X_train_1,X_test_1, y_train_1, y_test_1 = sklearn.model_selection.train_test_split(X_1,y_1, test_size=0.1, random_state=42, shuffle=True)"
   ]
  },
  {
   "cell_type": "code",
   "execution_count": 24,
   "metadata": {
    "colab": {
     "base_uri": "https://localhost:8080/"
    },
    "id": "dDEvCEV4u-8a",
    "outputId": "a1303c89-81f2-42a9-f6e5-fa6abae227be"
   },
   "outputs": [
    {
     "data": {
      "text/plain": [
       "((450000, 28), (50000, 28), (450000,), (50000,))"
      ]
     },
     "execution_count": 24,
     "metadata": {},
     "output_type": "execute_result"
    }
   ],
   "source": [
    "X_train_1.shape, X_test_1.shape, y_train_1.shape, y_test_1.shape"
   ]
  },
  {
   "cell_type": "code",
   "execution_count": 36,
   "metadata": {
    "colab": {
     "base_uri": "https://localhost:8080/"
    },
    "id": "2XJJ8lLBvQjC",
    "outputId": "10c7b288-7a63-43b9-a3a3-aa2358ef23a4"
   },
   "outputs": [
    {
     "name": "stdout",
     "output_type": "stream",
     "text": [
      "Saving TensorBoard log files to: higgs_noise_detection_model/HIGGS_MODEL_NOISE_DETECTION_WITH_500K/20220321-140419\n",
      "Epoch 1/5\n",
      "14063/14063 [==============================] - 60s 4ms/step - loss: 0.6103 - accuracy: 0.6623 - val_loss: 0.5893 - val_accuracy: 0.6793\n",
      "Epoch 2/5\n",
      "14063/14063 [==============================] - 58s 4ms/step - loss: 0.5810 - accuracy: 0.6915 - val_loss: 0.5740 - val_accuracy: 0.6994\n",
      "Epoch 3/5\n",
      "14063/14063 [==============================] - 59s 4ms/step - loss: 0.5690 - accuracy: 0.7014 - val_loss: 0.5649 - val_accuracy: 0.7041\n",
      "Epoch 4/5\n",
      "14063/14063 [==============================] - 59s 4ms/step - loss: 0.5617 - accuracy: 0.7082 - val_loss: 0.5565 - val_accuracy: 0.7130\n",
      "Epoch 5/5\n",
      "14063/14063 [==============================] - 59s 4ms/step - loss: 0.5563 - accuracy: 0.7120 - val_loss: 0.5574 - val_accuracy: 0.7123\n"
     ]
    }
   ],
   "source": [
    "# Build the baseline model with medium data set\n",
    "import tensorflow as tf\n",
    "tf.random.set_seed(42)\n",
    "\n",
    "higgs_model_1_500k = tf.keras.Sequential([\n",
    "  tf.keras.layers.Dense(100, activation = 'relu'),\n",
    "  tf.keras.layers.Dense(10, activation = 'relu'),\n",
    "  tf.keras.layers.Dense(1, activation = 'sigmoid')\n",
    "])\n",
    "\n",
    "higgs_model_1_500k.compile(loss = tf.keras.losses.BinaryCrossentropy(),\n",
    "                      optimizer = tf.keras.optimizers.Adam(),\n",
    "                      metrics = ['accuracy'])\n",
    "\n",
    "history_1_500k = higgs_model_1_500k.fit(X_train_1, y_train_1, epochs = 5, validation_data = (X_test_1,y_test_1), callbacks =[create_tensorboard_callback(dir_name = \"higgs_noise_detection_model\", experiment_name='HIGGS_MODEL_NOISE_DETECTION_WITH_500K')])"
   ]
  },
  {
   "cell_type": "code",
   "execution_count": 37,
   "metadata": {
    "colab": {
     "base_uri": "https://localhost:8080/"
    },
    "id": "TGlJ9VNkvnbw",
    "outputId": "d087acd6-053e-41b2-e613-30b210e75c55"
   },
   "outputs": [
    {
     "name": "stdout",
     "output_type": "stream",
     "text": [
      "1563/1563 [==============================] - 4s 3ms/step - loss: 0.5574 - accuracy: 0.7123\n"
     ]
    },
    {
     "data": {
      "text/plain": [
       "[0.557417094707489, 0.7122799754142761]"
      ]
     },
     "execution_count": 37,
     "metadata": {},
     "output_type": "execute_result"
    }
   ],
   "source": [
    "higgs_model_1_500k.evaluate(X_test_1, y_test_1)"
   ]
  },
  {
   "cell_type": "code",
   "execution_count": 38,
   "metadata": {
    "colab": {
     "base_uri": "https://localhost:8080/",
     "height": 573
    },
    "id": "PJVD7jI1wawP",
    "outputId": "8bf7e962-ca65-4f3c-c641-4d8837f7e3d2"
   },
   "outputs": [
    {
     "data": {
      "image/png": "[encoded data removed]",
      "text/plain": [
       "<Figure size 432x288 with 1 Axes>"
      ]
     },
     "metadata": {
      "needs_background": "light"
     },
     "output_type": "display_data"
    },
    {
     "data": {
      "image/png": "[encoded data removed]",
      "text/plain": [
       "<Figure size 432x288 with 1 Axes>"
      ]
     },
     "metadata": {
      "needs_background": "light"
     },
     "output_type": "display_data"
    }
   ],
   "source": [
    "plot_loss_curves(history_1_500k)"
   ]
  },
  {
   "cell_type": "code",
   "execution_count": 47,
   "metadata": {
    "colab": {
     "base_uri": "https://localhost:8080/"
    },
    "id": "AczTp2EmwrZQ",
    "outputId": "7489efce-7e0f-4613-8dc9-cdcf8c57d8dc"
   },
   "outputs": [
    {
     "name": "stdout",
     "output_type": "stream",
     "text": [
      "INFO:tensorflow:Assets written to: /content/drive/MyDrive/higgs_model_500K/assets\n"
     ]
    }
   ],
   "source": [
    "tf.keras.models.save_model(higgs_model_1_500k,filepath = \"/content/drive/MyDrive/higgs_model_500K\" )"
   ]
  },
  {
   "cell_type": "markdown",
   "metadata": {
    "id": "cHw95Tw5gDqn"
   },
   "source": [
    "### MODEL 3: Dataset with 1 Million labelled examples\n",
    "Instead of taking our entire dataset, which is very huge we are going to first try the 1,000,000 examples for better understanding the future prospects of our model. Insted of dividing the dataset serial-wise we are going to use `sample` method from pandas to randomnly sample 1 million examples from our dataset. We are going to use the seed values as `42` for reproducing the results later."
   ]
  },
  {
   "cell_type": "code",
   "execution_count": 14,
   "metadata": {
    "colab": {
     "base_uri": "https://localhost:8080/",
     "height": 522
    },
    "id": "FwEAZPiEtSUP",
    "outputId": "df43003e-e8f9-4a1e-d2ff-706f419d7b37"
   },
   "outputs": [
    {
     "data": {
      "text/html": [
       "\n",
       "  <div id=\"df-8c9a5ec3-042f-41fa-89ed-d95d07ff8dd9\">\n",
       "    <div class=\"colab-df-container\">\n",
       "      <div>\n",
       "<style scoped>\n",
       "    .dataframe tbody tr th:only-of-type {\n",
       "        vertical-align: middle;\n",
       "    }\n",
       "\n",
       "    .dataframe tbody tr th {\n",
       "        vertical-align: top;\n",
       "    }\n",
       "\n",
       "    .dataframe thead th {\n",
       "        text-align: right;\n",
       "    }\n",
       "</style>\n",
       "<table border=\"1\" class=\"dataframe\">\n",
       "  <thead>\n",
       "    <tr style=\"text-align: right;\">\n",
       "      <th></th>\n",
       "      <th>labels</th>\n",
       "      <th>lepton pT</th>\n",
       "      <th>lepton eta</th>\n",
       "      <th>lepton phi</th>\n",
       "      <th>missing energy magnitude</th>\n",
       "      <th>missing energy phi</th>\n",
       "      <th>jet 1 pt</th>\n",
       "      <th>jet 1 eta</th>\n",
       "      <th>jet 1 phi</th>\n",
       "      <th>jet 1 b-tag</th>\n",
       "      <th>...</th>\n",
       "      <th>jet 4 eta</th>\n",
       "      <th>jet 4 phi</th>\n",
       "      <th>jet 4 b-tag</th>\n",
       "      <th>m_jj</th>\n",
       "      <th>m_jjj</th>\n",
       "      <th>m_lv</th>\n",
       "      <th>m_jlv</th>\n",
       "      <th>m_bb</th>\n",
       "      <th>m_wbb</th>\n",
       "      <th>m_wwbb</th>\n",
       "    </tr>\n",
       "  </thead>\n",
       "  <tbody>\n",
       "    <tr>\n",
       "      <th>3967303</th>\n",
       "      <td>0.0</td>\n",
       "      <td>1.138683</td>\n",
       "      <td>-0.726635</td>\n",
       "      <td>-0.005790</td>\n",
       "      <td>0.204118</td>\n",
       "      <td>0.153842</td>\n",
       "      <td>1.585904</td>\n",
       "      <td>-0.045576</td>\n",
       "      <td>-1.448527</td>\n",
       "      <td>1.086538</td>\n",
       "      <td>...</td>\n",
       "      <td>-2.439800</td>\n",
       "      <td>0.073642</td>\n",
       "      <td>0.000000</td>\n",
       "      <td>1.790497</td>\n",
       "      <td>1.730592</td>\n",
       "      <td>0.980587</td>\n",
       "      <td>0.743065</td>\n",
       "      <td>2.378752</td>\n",
       "      <td>1.534863</td>\n",
       "      <td>1.227558</td>\n",
       "    </tr>\n",
       "    <tr>\n",
       "      <th>5946179</th>\n",
       "      <td>1.0</td>\n",
       "      <td>0.404633</td>\n",
       "      <td>1.014821</td>\n",
       "      <td>-1.050041</td>\n",
       "      <td>1.136441</td>\n",
       "      <td>-1.403536</td>\n",
       "      <td>3.218436</td>\n",
       "      <td>-1.944837</td>\n",
       "      <td>0.801788</td>\n",
       "      <td>0.000000</td>\n",
       "      <td>...</td>\n",
       "      <td>-1.174742</td>\n",
       "      <td>-0.912542</td>\n",
       "      <td>0.000000</td>\n",
       "      <td>1.072789</td>\n",
       "      <td>0.649697</td>\n",
       "      <td>0.981147</td>\n",
       "      <td>2.004577</td>\n",
       "      <td>0.521853</td>\n",
       "      <td>1.246037</td>\n",
       "      <td>1.461494</td>\n",
       "    </tr>\n",
       "    <tr>\n",
       "      <th>6910558</th>\n",
       "      <td>0.0</td>\n",
       "      <td>1.137585</td>\n",
       "      <td>0.325251</td>\n",
       "      <td>1.453598</td>\n",
       "      <td>0.804114</td>\n",
       "      <td>0.893516</td>\n",
       "      <td>0.418095</td>\n",
       "      <td>-1.164536</td>\n",
       "      <td>-0.585919</td>\n",
       "      <td>0.000000</td>\n",
       "      <td>...</td>\n",
       "      <td>0.280201</td>\n",
       "      <td>-0.982461</td>\n",
       "      <td>3.101961</td>\n",
       "      <td>0.816500</td>\n",
       "      <td>0.933867</td>\n",
       "      <td>0.988956</td>\n",
       "      <td>0.852772</td>\n",
       "      <td>0.415455</td>\n",
       "      <td>0.737194</td>\n",
       "      <td>0.691437</td>\n",
       "    </tr>\n",
       "    <tr>\n",
       "      <th>3414332</th>\n",
       "      <td>0.0</td>\n",
       "      <td>1.380438</td>\n",
       "      <td>-0.595149</td>\n",
       "      <td>-0.727112</td>\n",
       "      <td>0.465392</td>\n",
       "      <td>-0.057453</td>\n",
       "      <td>0.399224</td>\n",
       "      <td>-0.076273</td>\n",
       "      <td>1.080084</td>\n",
       "      <td>2.173076</td>\n",
       "      <td>...</td>\n",
       "      <td>1.261267</td>\n",
       "      <td>1.129085</td>\n",
       "      <td>0.000000</td>\n",
       "      <td>0.563342</td>\n",
       "      <td>0.857068</td>\n",
       "      <td>0.992465</td>\n",
       "      <td>0.875139</td>\n",
       "      <td>0.512037</td>\n",
       "      <td>0.686362</td>\n",
       "      <td>0.887047</td>\n",
       "    </tr>\n",
       "    <tr>\n",
       "      <th>5840458</th>\n",
       "      <td>1.0</td>\n",
       "      <td>0.962628</td>\n",
       "      <td>1.191110</td>\n",
       "      <td>-1.161568</td>\n",
       "      <td>1.541759</td>\n",
       "      <td>0.569159</td>\n",
       "      <td>1.337374</td>\n",
       "      <td>0.810973</td>\n",
       "      <td>0.458075</td>\n",
       "      <td>1.086538</td>\n",
       "      <td>...</td>\n",
       "      <td>0.413452</td>\n",
       "      <td>1.309431</td>\n",
       "      <td>3.101961</td>\n",
       "      <td>1.596246</td>\n",
       "      <td>1.146864</td>\n",
       "      <td>1.687726</td>\n",
       "      <td>1.178736</td>\n",
       "      <td>0.925320</td>\n",
       "      <td>1.094308</td>\n",
       "      <td>0.991339</td>\n",
       "    </tr>\n",
       "    <tr>\n",
       "      <th>...</th>\n",
       "      <td>...</td>\n",
       "      <td>...</td>\n",
       "      <td>...</td>\n",
       "      <td>...</td>\n",
       "      <td>...</td>\n",
       "      <td>...</td>\n",
       "      <td>...</td>\n",
       "      <td>...</td>\n",
       "      <td>...</td>\n",
       "      <td>...</td>\n",
       "      <td>...</td>\n",
       "      <td>...</td>\n",
       "      <td>...</td>\n",
       "      <td>...</td>\n",
       "      <td>...</td>\n",
       "      <td>...</td>\n",
       "      <td>...</td>\n",
       "      <td>...</td>\n",
       "      <td>...</td>\n",
       "      <td>...</td>\n",
       "      <td>...</td>\n",
       "    </tr>\n",
       "    <tr>\n",
       "      <th>6244894</th>\n",
       "      <td>1.0</td>\n",
       "      <td>0.721422</td>\n",
       "      <td>1.623552</td>\n",
       "      <td>1.477457</td>\n",
       "      <td>0.686271</td>\n",
       "      <td>-0.281346</td>\n",
       "      <td>1.012260</td>\n",
       "      <td>1.695248</td>\n",
       "      <td>-0.722296</td>\n",
       "      <td>0.000000</td>\n",
       "      <td>...</td>\n",
       "      <td>0.872338</td>\n",
       "      <td>-0.759387</td>\n",
       "      <td>0.000000</td>\n",
       "      <td>0.503514</td>\n",
       "      <td>1.064794</td>\n",
       "      <td>0.986955</td>\n",
       "      <td>1.028497</td>\n",
       "      <td>1.186128</td>\n",
       "      <td>1.021383</td>\n",
       "      <td>0.876147</td>\n",
       "    </tr>\n",
       "    <tr>\n",
       "      <th>2331608</th>\n",
       "      <td>0.0</td>\n",
       "      <td>0.331612</td>\n",
       "      <td>-0.221145</td>\n",
       "      <td>-0.049624</td>\n",
       "      <td>1.204492</td>\n",
       "      <td>-0.422887</td>\n",
       "      <td>0.779944</td>\n",
       "      <td>-0.436717</td>\n",
       "      <td>0.490783</td>\n",
       "      <td>2.173076</td>\n",
       "      <td>...</td>\n",
       "      <td>-1.564503</td>\n",
       "      <td>-0.700011</td>\n",
       "      <td>0.000000</td>\n",
       "      <td>0.783572</td>\n",
       "      <td>1.037146</td>\n",
       "      <td>0.988166</td>\n",
       "      <td>1.016495</td>\n",
       "      <td>1.074260</td>\n",
       "      <td>0.905516</td>\n",
       "      <td>0.832388</td>\n",
       "    </tr>\n",
       "    <tr>\n",
       "      <th>2032527</th>\n",
       "      <td>1.0</td>\n",
       "      <td>0.400790</td>\n",
       "      <td>0.846325</td>\n",
       "      <td>0.566930</td>\n",
       "      <td>1.019508</td>\n",
       "      <td>-0.907278</td>\n",
       "      <td>0.905446</td>\n",
       "      <td>-0.064390</td>\n",
       "      <td>1.379447</td>\n",
       "      <td>0.000000</td>\n",
       "      <td>...</td>\n",
       "      <td>0.252718</td>\n",
       "      <td>-0.656728</td>\n",
       "      <td>3.101961</td>\n",
       "      <td>0.675152</td>\n",
       "      <td>0.846188</td>\n",
       "      <td>0.982969</td>\n",
       "      <td>0.755627</td>\n",
       "      <td>0.690340</td>\n",
       "      <td>0.628058</td>\n",
       "      <td>0.613142</td>\n",
       "    </tr>\n",
       "    <tr>\n",
       "      <th>10069137</th>\n",
       "      <td>1.0</td>\n",
       "      <td>1.094943</td>\n",
       "      <td>0.214219</td>\n",
       "      <td>-0.193333</td>\n",
       "      <td>1.558868</td>\n",
       "      <td>-0.447798</td>\n",
       "      <td>2.356229</td>\n",
       "      <td>-0.188169</td>\n",
       "      <td>1.575696</td>\n",
       "      <td>0.000000</td>\n",
       "      <td>...</td>\n",
       "      <td>0.600005</td>\n",
       "      <td>-0.633976</td>\n",
       "      <td>0.000000</td>\n",
       "      <td>1.553325</td>\n",
       "      <td>1.625376</td>\n",
       "      <td>1.000506</td>\n",
       "      <td>0.909016</td>\n",
       "      <td>0.317308</td>\n",
       "      <td>1.170940</td>\n",
       "      <td>1.174410</td>\n",
       "    </tr>\n",
       "    <tr>\n",
       "      <th>9533127</th>\n",
       "      <td>1.0</td>\n",
       "      <td>0.814939</td>\n",
       "      <td>0.368106</td>\n",
       "      <td>-1.724198</td>\n",
       "      <td>0.787842</td>\n",
       "      <td>0.240327</td>\n",
       "      <td>1.134739</td>\n",
       "      <td>0.088105</td>\n",
       "      <td>1.269126</td>\n",
       "      <td>2.173076</td>\n",
       "      <td>...</td>\n",
       "      <td>-1.293002</td>\n",
       "      <td>0.221803</td>\n",
       "      <td>3.101961</td>\n",
       "      <td>0.774443</td>\n",
       "      <td>0.656949</td>\n",
       "      <td>1.087967</td>\n",
       "      <td>0.849058</td>\n",
       "      <td>0.885539</td>\n",
       "      <td>0.934052</td>\n",
       "      <td>0.817784</td>\n",
       "    </tr>\n",
       "  </tbody>\n",
       "</table>\n",
       "<p>1000000 rows × 29 columns</p>\n",
       "</div>\n",
       "      <button class=\"colab-df-convert\" onclick=\"convertToInteractive('df-8c9a5ec3-042f-41fa-89ed-d95d07ff8dd9')\"\n",
       "              title=\"Convert this dataframe to an interactive table.\"\n",
       "              style=\"display:none;\">\n",
       "        \n",
       "  <svg xmlns=\"http://www.w3.org/2000/svg\" height=\"24px\"viewBox=\"0 0 24 24\"\n",
       "       width=\"24px\">\n",
       "    <path d=\"M0 0h24v24H0V0z\" fill=\"none\"/>\n",
       "    <path d=\"M18.56 5.44l.94 2.06.94-2.06 2.06-.94-2.06-.94-.94-2.06-.94 2.06-2.06.94zm-11 1L8.5 8.5l.94-2.06 2.06-.94-2.06-.94L8.5 2.5l-.94 2.06-2.06.94zm10 10l.94 2.06.94-2.06 2.06-.94-2.06-.94-.94-2.06-.94 2.06-2.06.94z\"/><path d=\"M17.41 7.96l-1.37-1.37c-.4-.4-.92-.59-1.43-.59-.52 0-1.04.2-1.43.59L10.3 9.45l-7.72 7.72c-.78.78-.78 2.05 0 2.83L4 21.41c.39.39.9.59 1.41.59.51 0 1.02-.2 1.41-.59l7.78-7.78 2.81-2.81c.8-.78.8-2.07 0-2.86zM5.41 20L4 18.59l7.72-7.72 1.47 1.35L5.41 20z\"/>\n",
       "  </svg>\n",
       "      </button>\n",
       "      \n",
       "  <style>\n",
       "    .colab-df-container {\n",
       "      display:flex;\n",
       "      flex-wrap:wrap;\n",
       "      gap: 12px;\n",
       "    }\n",
       "\n",
       "    .colab-df-convert {\n",
       "      background-color: #E8F0FE;\n",
       "      border: none;\n",
       "      border-radius: 50%;\n",
       "      cursor: pointer;\n",
       "      display: none;\n",
       "      fill: #1967D2;\n",
       "      height: 32px;\n",
       "      padding: 0 0 0 0;\n",
       "      width: 32px;\n",
       "    }\n",
       "\n",
       "    .colab-df-convert:hover {\n",
       "      background-color: #E2EBFA;\n",
       "      box-shadow: 0px 1px 2px rgba(60, 64, 67, 0.3), 0px 1px 3px 1px rgba(60, 64, 67, 0.15);\n",
       "      fill: #174EA6;\n",
       "    }\n",
       "\n",
       "    [theme=dark] .colab-df-convert {\n",
       "      background-color: #3B4455;\n",
       "      fill: #D2E3FC;\n",
       "    }\n",
       "\n",
       "    [theme=dark] .colab-df-convert:hover {\n",
       "      background-color: #434B5C;\n",
       "      box-shadow: 0px 1px 3px 1px rgba(0, 0, 0, 0.15);\n",
       "      filter: drop-shadow(0px 1px 2px rgba(0, 0, 0, 0.3));\n",
       "      fill: #FFFFFF;\n",
       "    }\n",
       "  </style>\n",
       "\n",
       "      <script>\n",
       "        const buttonEl =\n",
       "          document.querySelector('#df-8c9a5ec3-042f-41fa-89ed-d95d07ff8dd9 button.colab-df-convert');\n",
       "        buttonEl.style.display =\n",
       "          google.colab.kernel.accessAllowed ? 'block' : 'none';\n",
       "\n",
       "        async function convertToInteractive(key) {\n",
       "          const element = document.querySelector('#df-8c9a5ec3-042f-41fa-89ed-d95d07ff8dd9');\n",
       "          const dataTable =\n",
       "            await google.colab.kernel.invokeFunction('convertToInteractive',\n",
       "                                                     [key], {});\n",
       "          if (!dataTable) return;\n",
       "\n",
       "          const docLinkHtml = 'Like what you see? Visit the ' +\n",
       "            '<a target=\"_blank\" href=https://colab.research.google.com/notebooks/data_table.ipynb>data table notebook</a>'\n",
       "            + ' to learn more about interactive tables.';\n",
       "          element.innerHTML = '';\n",
       "          dataTable['output_type'] = 'display_data';\n",
       "          await google.colab.output.renderOutput(dataTable, element);\n",
       "          const docLink = document.createElement('div');\n",
       "          docLink.innerHTML = docLinkHtml;\n",
       "          element.appendChild(docLink);\n",
       "        }\n",
       "      </script>\n",
       "    </div>\n",
       "  </div>\n",
       "  "
      ],
      "text/plain": [
       "          labels  lepton pT  lepton eta  lepton phi  missing energy magnitude  \\\n",
       "3967303      0.0   1.138683   -0.726635   -0.005790                  0.204118   \n",
       "5946179      1.0   0.404633    1.014821   -1.050041                  1.136441   \n",
       "6910558      0.0   1.137585    0.325251    1.453598                  0.804114   \n",
       "3414332      0.0   1.380438   -0.595149   -0.727112                  0.465392   \n",
       "5840458      1.0   0.962628    1.191110   -1.161568                  1.541759   \n",
       "...          ...        ...         ...         ...                       ...   \n",
       "6244894      1.0   0.721422    1.623552    1.477457                  0.686271   \n",
       "2331608      0.0   0.331612   -0.221145   -0.049624                  1.204492   \n",
       "2032527      1.0   0.400790    0.846325    0.566930                  1.019508   \n",
       "10069137     1.0   1.094943    0.214219   -0.193333                  1.558868   \n",
       "9533127      1.0   0.814939    0.368106   -1.724198                  0.787842   \n",
       "\n",
       "          missing energy phi  jet 1 pt  jet 1 eta  jet 1 phi  jet 1 b-tag  \\\n",
       "3967303             0.153842  1.585904  -0.045576  -1.448527     1.086538   \n",
       "5946179            -1.403536  3.218436  -1.944837   0.801788     0.000000   \n",
       "6910558             0.893516  0.418095  -1.164536  -0.585919     0.000000   \n",
       "3414332            -0.057453  0.399224  -0.076273   1.080084     2.173076   \n",
       "5840458             0.569159  1.337374   0.810973   0.458075     1.086538   \n",
       "...                      ...       ...        ...        ...          ...   \n",
       "6244894            -0.281346  1.012260   1.695248  -0.722296     0.000000   \n",
       "2331608            -0.422887  0.779944  -0.436717   0.490783     2.173076   \n",
       "2032527            -0.907278  0.905446  -0.064390   1.379447     0.000000   \n",
       "10069137           -0.447798  2.356229  -0.188169   1.575696     0.000000   \n",
       "9533127             0.240327  1.134739   0.088105   1.269126     2.173076   \n",
       "\n",
       "          ...  jet 4 eta  jet 4 phi  jet 4 b-tag      m_jj     m_jjj  \\\n",
       "3967303   ...  -2.439800   0.073642     0.000000  1.790497  1.730592   \n",
       "5946179   ...  -1.174742  -0.912542     0.000000  1.072789  0.649697   \n",
       "6910558   ...   0.280201  -0.982461     3.101961  0.816500  0.933867   \n",
       "3414332   ...   1.261267   1.129085     0.000000  0.563342  0.857068   \n",
       "5840458   ...   0.413452   1.309431     3.101961  1.596246  1.146864   \n",
       "...       ...        ...        ...          ...       ...       ...   \n",
       "6244894   ...   0.872338  -0.759387     0.000000  0.503514  1.064794   \n",
       "2331608   ...  -1.564503  -0.700011     0.000000  0.783572  1.037146   \n",
       "2032527   ...   0.252718  -0.656728     3.101961  0.675152  0.846188   \n",
       "10069137  ...   0.600005  -0.633976     0.000000  1.553325  1.625376   \n",
       "9533127   ...  -1.293002   0.221803     3.101961  0.774443  0.656949   \n",
       "\n",
       "              m_lv     m_jlv      m_bb     m_wbb    m_wwbb  \n",
       "3967303   0.980587  0.743065  2.378752  1.534863  1.227558  \n",
       "5946179   0.981147  2.004577  0.521853  1.246037  1.461494  \n",
       "6910558   0.988956  0.852772  0.415455  0.737194  0.691437  \n",
       "3414332   0.992465  0.875139  0.512037  0.686362  0.887047  \n",
       "5840458   1.687726  1.178736  0.925320  1.094308  0.991339  \n",
       "...            ...       ...       ...       ...       ...  \n",
       "6244894   0.986955  1.028497  1.186128  1.021383  0.876147  \n",
       "2331608   0.988166  1.016495  1.074260  0.905516  0.832388  \n",
       "2032527   0.982969  0.755627  0.690340  0.628058  0.613142  \n",
       "10069137  1.000506  0.909016  0.317308  1.170940  1.174410  \n",
       "9533127   1.087967  0.849058  0.885539  0.934052  0.817784  \n",
       "\n",
       "[1000000 rows x 29 columns]"
      ]
     },
     "execution_count": 14,
     "metadata": {},
     "output_type": "execute_result"
    }
   ],
   "source": [
    "higgs_df_subset_1M =higgs_df.sample(n = 1000000, random_state = 42)\n",
    "higgs_df_subset_1M"
   ]
  },
  {
   "cell_type": "code",
   "execution_count": 16,
   "metadata": {
    "id": "0CY-2efgtZs7"
   },
   "outputs": [],
   "source": [
    "higgs_df_subset_1M.to_csv('higgs_dataset_subset_1M.csv', index=False)"
   ]
  },
  {
   "cell_type": "code",
   "execution_count": 18,
   "metadata": {
    "id": "77HxlM_BuZRj"
   },
   "outputs": [],
   "source": [
    "X_2  = higgs_df_subset_1M.drop(columns = \"labels\")"
   ]
  },
  {
   "cell_type": "code",
   "execution_count": 20,
   "metadata": {
    "id": "uhEF6jjYuZNA"
   },
   "outputs": [],
   "source": [
    "y_2 = higgs_df_subset_1M[\"labels\"]"
   ]
  },
  {
   "cell_type": "code",
   "execution_count": 22,
   "metadata": {
    "id": "1z4FPt95uzxU"
   },
   "outputs": [],
   "source": [
    "import sklearn\n",
    "from sklearn.model_selection import train_test_split\n",
    "X_train_2,X_test_2, y_train_2, y_test_2 = sklearn.model_selection.train_test_split(X_2,y_2, test_size=0.1, random_state=42, shuffle=True)"
   ]
  },
  {
   "cell_type": "code",
   "execution_count": 25,
   "metadata": {
    "colab": {
     "base_uri": "https://localhost:8080/"
    },
    "id": "RUZI9trxu-5U",
    "outputId": "4998ea1c-2407-49c0-f10e-570430f1bcae"
   },
   "outputs": [
    {
     "data": {
      "text/plain": [
       "((900000, 28), (100000, 28), (900000,), (100000,))"
      ]
     },
     "execution_count": 25,
     "metadata": {},
     "output_type": "execute_result"
    }
   ],
   "source": [
    "X_train_2.shape, X_test_2.shape, y_train_2.shape, y_test_2.shape"
   ]
  },
  {
   "cell_type": "code",
   "execution_count": 32,
   "metadata": {
    "colab": {
     "base_uri": "https://localhost:8080/"
    },
    "id": "4tNqpftD47Xr",
    "outputId": "c0766040-1764-440d-d13d-01139c71c5a3"
   },
   "outputs": [
    {
     "name": "stdout",
     "output_type": "stream",
     "text": [
      "313/313 [==============================] - 1s 3ms/step - loss: 0.5985 - accuracy: 0.6807\n"
     ]
    },
    {
     "data": {
      "text/plain": [
       "[0.5984857678413391, 0.6807000041007996]"
      ]
     },
     "execution_count": 32,
     "metadata": {},
     "output_type": "execute_result"
    }
   ],
   "source": [
    "higgs_model_1.evaluate(X_test, y_test)"
   ]
  },
  {
   "cell_type": "code",
   "execution_count": 39,
   "metadata": {
    "colab": {
     "base_uri": "https://localhost:8080/"
    },
    "id": "e4MuqBxIvbKc",
    "outputId": "743bafa0-8737-4efd-d657-647679fc5536"
   },
   "outputs": [
    {
     "name": "stdout",
     "output_type": "stream",
     "text": [
      "Saving TensorBoard log files to: higgs_noise_detection_model/HIGGS_MODEL_NOISE_DETECTION_WITH_1M/20220321-140919\n",
      "Epoch 1/5\n",
      "28125/28125 [==============================] - 97s 3ms/step - loss: 0.5975 - accuracy: 0.6738 - val_loss: 0.5742 - val_accuracy: 0.6960\n",
      "Epoch 2/5\n",
      "28125/28125 [==============================] - 97s 3ms/step - loss: 0.5681 - accuracy: 0.7025 - val_loss: 0.5576 - val_accuracy: 0.7099\n",
      "Epoch 3/5\n",
      "28125/28125 [==============================] - 101s 4ms/step - loss: 0.5557 - accuracy: 0.7126 - val_loss: 0.5477 - val_accuracy: 0.7192\n",
      "Epoch 4/5\n",
      "28125/28125 [==============================] - 94s 3ms/step - loss: 0.5476 - accuracy: 0.7187 - val_loss: 0.5499 - val_accuracy: 0.7190\n",
      "Epoch 5/5\n",
      "28125/28125 [==============================] - 94s 3ms/step - loss: 0.5419 - accuracy: 0.7226 - val_loss: 0.5359 - val_accuracy: 0.7255\n"
     ]
    }
   ],
   "source": [
    "# Build the baseline model with 1million dataset\n",
    "import tensorflow as tf\n",
    "tf.random.set_seed(42)\n",
    "\n",
    "higgs_model_1_1M = tf.keras.Sequential([\n",
    "  tf.keras.layers.Dense(100, activation = 'relu'),\n",
    "  tf.keras.layers.Dense(10, activation = 'relu'),\n",
    "  tf.keras.layers.Dense(1, activation = 'sigmoid')\n",
    "])\n",
    "\n",
    "higgs_model_1_1M.compile(loss = tf.keras.losses.BinaryCrossentropy(),\n",
    "                      optimizer = tf.keras.optimizers.Adam(),\n",
    "                      metrics = ['accuracy'])\n",
    "\n",
    "history_1_1M = higgs_model_1_1M.fit(X_train_2, y_train_2, epochs = 5,validation_data = (X_test_2,y_test_2), callbacks =[create_tensorboard_callback(dir_name = \"higgs_noise_detection_model\", experiment_name='HIGGS_MODEL_NOISE_DETECTION_WITH_1M')])"
   ]
  },
  {
   "cell_type": "code",
   "execution_count": 40,
   "metadata": {
    "colab": {
     "base_uri": "https://localhost:8080/"
    },
    "id": "cwJDNuA-wdIX",
    "outputId": "4fbab660-bc67-4386-d61f-42e29bd23c49"
   },
   "outputs": [
    {
     "name": "stdout",
     "output_type": "stream",
     "text": [
      "3125/3125 [==============================] - 8s 3ms/step - loss: 0.5359 - accuracy: 0.7255\n"
     ]
    },
    {
     "data": {
      "text/plain": [
       "[0.5359262228012085, 0.7254999876022339]"
      ]
     },
     "execution_count": 40,
     "metadata": {},
     "output_type": "execute_result"
    }
   ],
   "source": [
    "higgs_model_1_1M.evaluate(X_test_2, y_test_2)"
   ]
  },
  {
   "cell_type": "code",
   "execution_count": 41,
   "metadata": {
    "colab": {
     "base_uri": "https://localhost:8080/",
     "height": 573
    },
    "id": "RszZQpt1wdE7",
    "outputId": "910995e3-3efe-4aa4-cd53-a5fdea299c7f"
   },
   "outputs": [
    {
     "data": {
      "image/png": "[encoded data removed]",
      "text/plain": [
       "<Figure size 432x288 with 1 Axes>"
      ]
     },
     "metadata": {
      "needs_background": "light"
     },
     "output_type": "display_data"
    },
    {
     "data": {
      "image/png": "[encoded data removed]",
      "text/plain": [
       "<Figure size 432x288 with 1 Axes>"
      ]
     },
     "metadata": {
      "needs_background": "light"
     },
     "output_type": "display_data"
    }
   ],
   "source": [
    "plot_loss_curves(history_1_1M)"
   ]
  },
  {
   "cell_type": "code",
   "execution_count": 48,
   "metadata": {
    "colab": {
     "base_uri": "https://localhost:8080/"
    },
    "id": "lrwRsSgCwrV_",
    "outputId": "d0dc6783-0c45-40cb-8d6c-f72bc9899e33"
   },
   "outputs": [
    {
     "name": "stdout",
     "output_type": "stream",
     "text": [
      "INFO:tensorflow:Assets written to: /content/drive/MyDrive/higgs_model_1M/assets\n"
     ]
    }
   ],
   "source": [
    "tf.keras.models.save_model(higgs_model_1_1M,filepath = \"/content/drive/MyDrive/higgs_model_1M\" )"
   ]
  },
  {
   "cell_type": "code",
   "execution_count": 49,
   "metadata": {
    "id": "XKu7qhS8wzVu"
   },
   "outputs": [],
   "source": [
    "from sklearn.metrics import confusion_matrix"
   ]
  },
  {
   "cell_type": "code",
   "execution_count": 72,
   "metadata": {
    "colab": {
     "base_uri": "https://localhost:8080/"
    },
    "id": "5ZVwp9M84bxX",
    "outputId": "f4178e5d-d4af-428a-9dab-f399ccd03e3b"
   },
   "outputs": [
    {
     "data": {
      "text/plain": [
       "TensorShape([100000])"
      ]
     },
     "execution_count": 72,
     "metadata": {},
     "output_type": "execute_result"
    }
   ],
   "source": [
    "import numpy as np\n",
    "y_pred = higgs_model_1_1M.predict(X_test_2)\n",
    "\n",
    "y_pred_rev = y_pred > 0.7\n",
    "y_pred_revised = np.array(y_pred_rev)\n",
    "y_pred_revised = tf.squeeze(y_pred_revised)\n",
    "y_pred_revised.shape\n"
   ]
  },
  {
   "cell_type": "code",
   "execution_count": 73,
   "metadata": {
    "colab": {
     "base_uri": "https://localhost:8080/"
    },
    "id": "rROt6nMD8EPd",
    "outputId": "7aafe5d3-e013-4b1b-d800-27e2e4170098"
   },
   "outputs": [
    {
     "data": {
      "text/plain": [
       "(100000,)"
      ]
     },
     "execution_count": 73,
     "metadata": {},
     "output_type": "execute_result"
    }
   ],
   "source": [
    "y_test_2.shape"
   ]
  },
  {
   "cell_type": "code",
   "execution_count": 74,
   "metadata": {
    "id": "boGRkXR84ylh"
   },
   "outputs": [],
   "source": [
    "from helper_functions import make_confusion_matrix"
   ]
  },
  {
   "cell_type": "code",
   "execution_count": 75,
   "metadata": {
    "colab": {
     "base_uri": "https://localhost:8080/",
     "height": 574
    },
    "id": "Ko2FrrPkwzSm",
    "outputId": "6e48f18c-9478-4c33-cd44-d925beecd207"
   },
   "outputs": [
    {
     "data": {
      "image/png": "[encoded data removed]",
      "text/plain": [
       "<Figure size 720x720 with 2 Axes>"
      ]
     },
     "metadata": {
      "needs_background": "light"
     },
     "output_type": "display_data"
    }
   ],
   "source": [
    "make_confusion_matrix(y_true= y_test_2, y_pred=y_pred_rev, classes=None, figsize=(10, 10), text_size=15, norm=False, savefig=False)"
   ]
  },
  {
   "cell_type": "code",
   "execution_count": 76,
   "metadata": {
    "colab": {
     "base_uri": "https://localhost:8080/"
    },
    "id": "cAVpGaXuwzQg",
    "outputId": "02af248a-589b-45b0-e158-886211de04f1"
   },
   "outputs": [
    {
     "data": {
      "text/plain": [
       "TensorShape([100000])"
      ]
     },
     "execution_count": 76,
     "metadata": {},
     "output_type": "execute_result"
    }
   ],
   "source": [
    "y_pred = higgs_model_1_1M.predict(X_test_2)\n",
    "\n",
    "y_pred_rev = y_pred > 0.85\n",
    "y_pred_revised = np.array(y_pred_rev)\n",
    "y_pred_revised = tf.squeeze(y_pred_revised)\n",
    "y_pred_revised.shape"
   ]
  },
  {
   "cell_type": "code",
   "execution_count": 77,
   "metadata": {
    "colab": {
     "base_uri": "https://localhost:8080/",
     "height": 574
    },
    "id": "djOxkUFgwzOV",
    "outputId": "a4d08288-8f88-4ec5-affb-0c2f324e8a19"
   },
   "outputs": [
    {
     "data": {
      "image/png": "[encoded data removed]",
      "text/plain": [
       "<Figure size 720x720 with 2 Axes>"
      ]
     },
     "metadata": {
      "needs_background": "light"
     },
     "output_type": "display_data"
    }
   ],
   "source": [
    "make_confusion_matrix(y_true= y_test_2, y_pred=y_pred_revised, classes=None, figsize=(10, 10), text_size=15, norm=False, savefig=True)"
   ]
  },
  {
   "cell_type": "code",
   "execution_count": 79,
   "metadata": {
    "colab": {
     "base_uri": "https://localhost:8080/"
    },
    "id": "rbsxAkEj-L7A",
    "outputId": "f702e155-8f28-4ac8-becf-8fc8e0450081"
   },
   "outputs": [
    {
     "data": {
      "text/plain": [
       "TensorShape([100000])"
      ]
     },
     "execution_count": 79,
     "metadata": {},
     "output_type": "execute_result"
    }
   ],
   "source": [
    "y_pred = higgs_model_1_1M.predict(X_test_2)\n",
    "\n",
    "y_pred_rev = y_pred > 0.9\n",
    "y_pred_revised = np.array(y_pred_rev)\n",
    "y_pred_revised = tf.squeeze(y_pred_revised)\n",
    "y_pred_revised.shape"
   ]
  },
  {
   "cell_type": "code",
   "execution_count": 80,
   "metadata": {
    "colab": {
     "base_uri": "https://localhost:8080/",
     "height": 574
    },
    "id": "a5usEJsY-L3c",
    "outputId": "7e17a634-4776-40e0-e8ce-0e55282ab288"
   },
   "outputs": [
    {
     "data": {
      "image/png": "[encoded data removed]",
      "text/plain": [
       "<Figure size 720x720 with 2 Axes>"
      ]
     },
     "metadata": {
      "needs_background": "light"
     },
     "output_type": "display_data"
    }
   ],
   "source": [
    "make_confusion_matrix(y_true= y_test_2, y_pred=y_pred_revised, classes=None, figsize=(10, 10), text_size=15, norm=False, savefig=True)"
   ]
  },
  {
   "cell_type": "code",
   "execution_count": 45,
   "metadata": {
    "colab": {
     "base_uri": "https://localhost:8080/"
    },
    "id": "C6xGcfgyBaMN",
    "outputId": "bfcf02fc-f07c-4ac6-be90-d0a58eb62e16"
   },
   "outputs": [
    {
     "name": "stdout",
     "output_type": "stream",
     "text": [
      "\n",
      "***** TensorBoard Uploader *****\n",
      "\n",
      "This will upload your TensorBoard logs to https://tensorboard.dev/ from\n",
      "the following directory:\n",
      "\n",
      "./higgs_noise_detection_model\n",
      "\n",
      "This TensorBoard will be visible to everyone. Do not upload sensitive\n",
      "data.\n",
      "\n",
      "Your use of this service is subject to Google's Terms of Service\n",
      "<https://policies.google.com/terms> and Privacy Policy\n",
      "<https://policies.google.com/privacy>, and TensorBoard.dev's Terms of Service\n",
      "<https://tensorboard.dev/policy/terms/>.\n",
      "\n",
      "This notice will not be shown again while you are logged into the uploader.\n",
      "To log out, run `tensorboard dev auth revoke`.\n",
      "\n",
      "Continue? (yes/NO) YES\n",
      "\n",
      "Please visit this URL to authorize this application: https://accounts.google.com/o/oauth2/auth?response_type=code&client_id=373649185512-8v619h5kft38l4456nm2dj4ubeqsrvh6.apps.googleusercontent.com&redirect_uri=urn%3Aietf%3Awg%3Aoauth%3A2.0%3Aoob&scope=openid+https%3A%2F%2Fwww.googleapis.com%2Fauth%2Fuserinfo.email&state=UgvVITZ1H6juMnkCviqqbZmyz25Apz&prompt=consent&access_type=offline\n",
      "Enter the authorization code: 4/1AX4XfWjgf8D7vWxv4cFdJxA4LaD9cTclXk6nCecLKasVZOfN_jszCthQiic\n",
      "\n",
      "\n",
      "New experiment created. View your TensorBoard at: https://tensorboard.dev/experiment/OduPZdPhR4q9wZwnrr2xqg/\n",
      "\n",
      "\u001b[1m[2022-03-21T14:18:30]\u001b[0m Started scanning logdir.\n",
      "\u001b[1m[2022-03-21T14:18:34]\u001b[0m Total uploaded: 96 scalars, 0 tensors, 4 binary objects (162.1 kB)\n",
      "\u001b[1m[2022-03-21T14:18:34]\u001b[0m Done scanning logdir.\n",
      "\n",
      "\n",
      "Done. View your TensorBoard at https://tensorboard.dev/experiment/OduPZdPhR4q9wZwnrr2xqg/\n"
     ]
    }
   ],
   "source": [
    "#collapse-output\n",
    "!tensorboard dev upload --logdir ./higgs_noise_detection_model \\\n",
    "  --name \"Higgs Dataset Background Noise detection model\" \\\n",
    "  --description \" A background noise detection model for higgs data set containing signals from LHC runs\" \\\n",
    "  --one_shot # Exits the uploader once its finished uploading\n"
   ]
  },
  {
   "cell_type": "markdown",
   "metadata": {
    "id": "uarhBM7bgxct"
   },
   "source": [
    "### MODEL 4: Dataset with 1 Million Examples using Normalized Data"
   ]
  },
  {
   "cell_type": "code",
   "execution_count": 1,
   "metadata": {
    "id": "YRpZfBwmUpcj"
   },
   "outputs": [],
   "source": [
    "import pandas as pd\n",
    "import numpy as np"
   ]
  },
  {
   "cell_type": "code",
   "execution_count": 2,
   "metadata": {
    "id": "gu4RBWeJUpZn"
   },
   "outputs": [],
   "source": [
    "higgs_df_subset_1M = pd.read_csv(\"/content/drive/MyDrive/Higgs_Dataset_Subset/higgs_dataset_subset_1M.csv\")"
   ]
  },
  {
   "cell_type": "code",
   "execution_count": 3,
   "metadata": {
    "colab": {
     "base_uri": "https://localhost:8080/",
     "height": 522
    },
    "id": "zMiclLQmUpW_",
    "outputId": "3a5413a7-89c6-491f-d8fe-62f17eedb9d6"
   },
   "outputs": [
    {
     "data": {
      "text/html": [
       "\n",
       "  <div id=\"df-90a6d148-719a-43b0-90ae-08ce1438f77e\">\n",
       "    <div class=\"colab-df-container\">\n",
       "      <div>\n",
       "<style scoped>\n",
       "    .dataframe tbody tr th:only-of-type {\n",
       "        vertical-align: middle;\n",
       "    }\n",
       "\n",
       "    .dataframe tbody tr th {\n",
       "        vertical-align: top;\n",
       "    }\n",
       "\n",
       "    .dataframe thead th {\n",
       "        text-align: right;\n",
       "    }\n",
       "</style>\n",
       "<table border=\"1\" class=\"dataframe\">\n",
       "  <thead>\n",
       "    <tr style=\"text-align: right;\">\n",
       "      <th></th>\n",
       "      <th>labels</th>\n",
       "      <th>lepton pT</th>\n",
       "      <th>lepton eta</th>\n",
       "      <th>lepton phi</th>\n",
       "      <th>missing energy magnitude</th>\n",
       "      <th>missing energy phi</th>\n",
       "      <th>jet 1 pt</th>\n",
       "      <th>jet 1 eta</th>\n",
       "      <th>jet 1 phi</th>\n",
       "      <th>jet 1 b-tag</th>\n",
       "      <th>...</th>\n",
       "      <th>jet 4 eta</th>\n",
       "      <th>jet 4 phi</th>\n",
       "      <th>jet 4 b-tag</th>\n",
       "      <th>m_jj</th>\n",
       "      <th>m_jjj</th>\n",
       "      <th>m_lv</th>\n",
       "      <th>m_jlv</th>\n",
       "      <th>m_bb</th>\n",
       "      <th>m_wbb</th>\n",
       "      <th>m_wwbb</th>\n",
       "    </tr>\n",
       "  </thead>\n",
       "  <tbody>\n",
       "    <tr>\n",
       "      <th>0</th>\n",
       "      <td>0.0</td>\n",
       "      <td>1.138683</td>\n",
       "      <td>-0.726635</td>\n",
       "      <td>-0.005790</td>\n",
       "      <td>0.204118</td>\n",
       "      <td>0.153842</td>\n",
       "      <td>1.585904</td>\n",
       "      <td>-0.045576</td>\n",
       "      <td>-1.448527</td>\n",
       "      <td>1.086538</td>\n",
       "      <td>...</td>\n",
       "      <td>-2.439800</td>\n",
       "      <td>0.073642</td>\n",
       "      <td>0.000000</td>\n",
       "      <td>1.790497</td>\n",
       "      <td>1.730592</td>\n",
       "      <td>0.980587</td>\n",
       "      <td>0.743065</td>\n",
       "      <td>2.378752</td>\n",
       "      <td>1.534863</td>\n",
       "      <td>1.227558</td>\n",
       "    </tr>\n",
       "    <tr>\n",
       "      <th>1</th>\n",
       "      <td>1.0</td>\n",
       "      <td>0.404633</td>\n",
       "      <td>1.014821</td>\n",
       "      <td>-1.050041</td>\n",
       "      <td>1.136441</td>\n",
       "      <td>-1.403536</td>\n",
       "      <td>3.218436</td>\n",
       "      <td>-1.944837</td>\n",
       "      <td>0.801788</td>\n",
       "      <td>0.000000</td>\n",
       "      <td>...</td>\n",
       "      <td>-1.174742</td>\n",
       "      <td>-0.912542</td>\n",
       "      <td>0.000000</td>\n",
       "      <td>1.072789</td>\n",
       "      <td>0.649697</td>\n",
       "      <td>0.981147</td>\n",
       "      <td>2.004577</td>\n",
       "      <td>0.521853</td>\n",
       "      <td>1.246037</td>\n",
       "      <td>1.461494</td>\n",
       "    </tr>\n",
       "    <tr>\n",
       "      <th>2</th>\n",
       "      <td>0.0</td>\n",
       "      <td>1.137585</td>\n",
       "      <td>0.325251</td>\n",
       "      <td>1.453598</td>\n",
       "      <td>0.804114</td>\n",
       "      <td>0.893516</td>\n",
       "      <td>0.418095</td>\n",
       "      <td>-1.164536</td>\n",
       "      <td>-0.585919</td>\n",
       "      <td>0.000000</td>\n",
       "      <td>...</td>\n",
       "      <td>0.280201</td>\n",
       "      <td>-0.982461</td>\n",
       "      <td>3.101961</td>\n",
       "      <td>0.816500</td>\n",
       "      <td>0.933867</td>\n",
       "      <td>0.988956</td>\n",
       "      <td>0.852772</td>\n",
       "      <td>0.415455</td>\n",
       "      <td>0.737194</td>\n",
       "      <td>0.691437</td>\n",
       "    </tr>\n",
       "    <tr>\n",
       "      <th>3</th>\n",
       "      <td>0.0</td>\n",
       "      <td>1.380438</td>\n",
       "      <td>-0.595149</td>\n",
       "      <td>-0.727112</td>\n",
       "      <td>0.465392</td>\n",
       "      <td>-0.057453</td>\n",
       "      <td>0.399224</td>\n",
       "      <td>-0.076273</td>\n",
       "      <td>1.080084</td>\n",
       "      <td>2.173076</td>\n",
       "      <td>...</td>\n",
       "      <td>1.261267</td>\n",
       "      <td>1.129085</td>\n",
       "      <td>0.000000</td>\n",
       "      <td>0.563342</td>\n",
       "      <td>0.857068</td>\n",
       "      <td>0.992465</td>\n",
       "      <td>0.875139</td>\n",
       "      <td>0.512037</td>\n",
       "      <td>0.686362</td>\n",
       "      <td>0.887047</td>\n",
       "    </tr>\n",
       "    <tr>\n",
       "      <th>4</th>\n",
       "      <td>1.0</td>\n",
       "      <td>0.962628</td>\n",
       "      <td>1.191110</td>\n",
       "      <td>-1.161568</td>\n",
       "      <td>1.541759</td>\n",
       "      <td>0.569159</td>\n",
       "      <td>1.337374</td>\n",
       "      <td>0.810973</td>\n",
       "      <td>0.458075</td>\n",
       "      <td>1.086538</td>\n",
       "      <td>...</td>\n",
       "      <td>0.413452</td>\n",
       "      <td>1.309431</td>\n",
       "      <td>3.101961</td>\n",
       "      <td>1.596246</td>\n",
       "      <td>1.146864</td>\n",
       "      <td>1.687726</td>\n",
       "      <td>1.178736</td>\n",
       "      <td>0.925320</td>\n",
       "      <td>1.094308</td>\n",
       "      <td>0.991339</td>\n",
       "    </tr>\n",
       "    <tr>\n",
       "      <th>...</th>\n",
       "      <td>...</td>\n",
       "      <td>...</td>\n",
       "      <td>...</td>\n",
       "      <td>...</td>\n",
       "      <td>...</td>\n",
       "      <td>...</td>\n",
       "      <td>...</td>\n",
       "      <td>...</td>\n",
       "      <td>...</td>\n",
       "      <td>...</td>\n",
       "      <td>...</td>\n",
       "      <td>...</td>\n",
       "      <td>...</td>\n",
       "      <td>...</td>\n",
       "      <td>...</td>\n",
       "      <td>...</td>\n",
       "      <td>...</td>\n",
       "      <td>...</td>\n",
       "      <td>...</td>\n",
       "      <td>...</td>\n",
       "      <td>...</td>\n",
       "    </tr>\n",
       "    <tr>\n",
       "      <th>999995</th>\n",
       "      <td>1.0</td>\n",
       "      <td>0.721422</td>\n",
       "      <td>1.623552</td>\n",
       "      <td>1.477457</td>\n",
       "      <td>0.686271</td>\n",
       "      <td>-0.281346</td>\n",
       "      <td>1.012260</td>\n",
       "      <td>1.695248</td>\n",
       "      <td>-0.722296</td>\n",
       "      <td>0.000000</td>\n",
       "      <td>...</td>\n",
       "      <td>0.872338</td>\n",
       "      <td>-0.759387</td>\n",
       "      <td>0.000000</td>\n",
       "      <td>0.503514</td>\n",
       "      <td>1.064794</td>\n",
       "      <td>0.986955</td>\n",
       "      <td>1.028497</td>\n",
       "      <td>1.186128</td>\n",
       "      <td>1.021383</td>\n",
       "      <td>0.876147</td>\n",
       "    </tr>\n",
       "    <tr>\n",
       "      <th>999996</th>\n",
       "      <td>0.0</td>\n",
       "      <td>0.331612</td>\n",
       "      <td>-0.221145</td>\n",
       "      <td>-0.049624</td>\n",
       "      <td>1.204492</td>\n",
       "      <td>-0.422887</td>\n",
       "      <td>0.779944</td>\n",
       "      <td>-0.436717</td>\n",
       "      <td>0.490783</td>\n",
       "      <td>2.173076</td>\n",
       "      <td>...</td>\n",
       "      <td>-1.564503</td>\n",
       "      <td>-0.700011</td>\n",
       "      <td>0.000000</td>\n",
       "      <td>0.783572</td>\n",
       "      <td>1.037146</td>\n",
       "      <td>0.988166</td>\n",
       "      <td>1.016495</td>\n",
       "      <td>1.074260</td>\n",
       "      <td>0.905516</td>\n",
       "      <td>0.832388</td>\n",
       "    </tr>\n",
       "    <tr>\n",
       "      <th>999997</th>\n",
       "      <td>1.0</td>\n",
       "      <td>0.400790</td>\n",
       "      <td>0.846325</td>\n",
       "      <td>0.566930</td>\n",
       "      <td>1.019508</td>\n",
       "      <td>-0.907278</td>\n",
       "      <td>0.905446</td>\n",
       "      <td>-0.064390</td>\n",
       "      <td>1.379447</td>\n",
       "      <td>0.000000</td>\n",
       "      <td>...</td>\n",
       "      <td>0.252718</td>\n",
       "      <td>-0.656728</td>\n",
       "      <td>3.101961</td>\n",
       "      <td>0.675152</td>\n",
       "      <td>0.846188</td>\n",
       "      <td>0.982969</td>\n",
       "      <td>0.755627</td>\n",
       "      <td>0.690340</td>\n",
       "      <td>0.628058</td>\n",
       "      <td>0.613142</td>\n",
       "    </tr>\n",
       "    <tr>\n",
       "      <th>999998</th>\n",
       "      <td>1.0</td>\n",
       "      <td>1.094943</td>\n",
       "      <td>0.214219</td>\n",
       "      <td>-0.193333</td>\n",
       "      <td>1.558868</td>\n",
       "      <td>-0.447798</td>\n",
       "      <td>2.356229</td>\n",
       "      <td>-0.188169</td>\n",
       "      <td>1.575696</td>\n",
       "      <td>0.000000</td>\n",
       "      <td>...</td>\n",
       "      <td>0.600005</td>\n",
       "      <td>-0.633976</td>\n",
       "      <td>0.000000</td>\n",
       "      <td>1.553325</td>\n",
       "      <td>1.625376</td>\n",
       "      <td>1.000506</td>\n",
       "      <td>0.909016</td>\n",
       "      <td>0.317308</td>\n",
       "      <td>1.170940</td>\n",
       "      <td>1.174410</td>\n",
       "    </tr>\n",
       "    <tr>\n",
       "      <th>999999</th>\n",
       "      <td>1.0</td>\n",
       "      <td>0.814939</td>\n",
       "      <td>0.368106</td>\n",
       "      <td>-1.724198</td>\n",
       "      <td>0.787842</td>\n",
       "      <td>0.240327</td>\n",
       "      <td>1.134739</td>\n",
       "      <td>0.088105</td>\n",
       "      <td>1.269126</td>\n",
       "      <td>2.173076</td>\n",
       "      <td>...</td>\n",
       "      <td>-1.293002</td>\n",
       "      <td>0.221803</td>\n",
       "      <td>3.101961</td>\n",
       "      <td>0.774443</td>\n",
       "      <td>0.656949</td>\n",
       "      <td>1.087967</td>\n",
       "      <td>0.849058</td>\n",
       "      <td>0.885539</td>\n",
       "      <td>0.934052</td>\n",
       "      <td>0.817784</td>\n",
       "    </tr>\n",
       "  </tbody>\n",
       "</table>\n",
       "<p>1000000 rows × 29 columns</p>\n",
       "</div>\n",
       "      <button class=\"colab-df-convert\" onclick=\"convertToInteractive('df-90a6d148-719a-43b0-90ae-08ce1438f77e')\"\n",
       "              title=\"Convert this dataframe to an interactive table.\"\n",
       "              style=\"display:none;\">\n",
       "        \n",
       "  <svg xmlns=\"http://www.w3.org/2000/svg\" height=\"24px\"viewBox=\"0 0 24 24\"\n",
       "       width=\"24px\">\n",
       "    <path d=\"M0 0h24v24H0V0z\" fill=\"none\"/>\n",
       "    <path d=\"M18.56 5.44l.94 2.06.94-2.06 2.06-.94-2.06-.94-.94-2.06-.94 2.06-2.06.94zm-11 1L8.5 8.5l.94-2.06 2.06-.94-2.06-.94L8.5 2.5l-.94 2.06-2.06.94zm10 10l.94 2.06.94-2.06 2.06-.94-2.06-.94-.94-2.06-.94 2.06-2.06.94z\"/><path d=\"M17.41 7.96l-1.37-1.37c-.4-.4-.92-.59-1.43-.59-.52 0-1.04.2-1.43.59L10.3 9.45l-7.72 7.72c-.78.78-.78 2.05 0 2.83L4 21.41c.39.39.9.59 1.41.59.51 0 1.02-.2 1.41-.59l7.78-7.78 2.81-2.81c.8-.78.8-2.07 0-2.86zM5.41 20L4 18.59l7.72-7.72 1.47 1.35L5.41 20z\"/>\n",
       "  </svg>\n",
       "      </button>\n",
       "      \n",
       "  <style>\n",
       "    .colab-df-container {\n",
       "      display:flex;\n",
       "      flex-wrap:wrap;\n",
       "      gap: 12px;\n",
       "    }\n",
       "\n",
       "    .colab-df-convert {\n",
       "      background-color: #E8F0FE;\n",
       "      border: none;\n",
       "      border-radius: 50%;\n",
       "      cursor: pointer;\n",
       "      display: none;\n",
       "      fill: #1967D2;\n",
       "      height: 32px;\n",
       "      padding: 0 0 0 0;\n",
       "      width: 32px;\n",
       "    }\n",
       "\n",
       "    .colab-df-convert:hover {\n",
       "      background-color: #E2EBFA;\n",
       "      box-shadow: 0px 1px 2px rgba(60, 64, 67, 0.3), 0px 1px 3px 1px rgba(60, 64, 67, 0.15);\n",
       "      fill: #174EA6;\n",
       "    }\n",
       "\n",
       "    [theme=dark] .colab-df-convert {\n",
       "      background-color: #3B4455;\n",
       "      fill: #D2E3FC;\n",
       "    }\n",
       "\n",
       "    [theme=dark] .colab-df-convert:hover {\n",
       "      background-color: #434B5C;\n",
       "      box-shadow: 0px 1px 3px 1px rgba(0, 0, 0, 0.15);\n",
       "      filter: drop-shadow(0px 1px 2px rgba(0, 0, 0, 0.3));\n",
       "      fill: #FFFFFF;\n",
       "    }\n",
       "  </style>\n",
       "\n",
       "      <script>\n",
       "        const buttonEl =\n",
       "          document.querySelector('#df-90a6d148-719a-43b0-90ae-08ce1438f77e button.colab-df-convert');\n",
       "        buttonEl.style.display =\n",
       "          google.colab.kernel.accessAllowed ? 'block' : 'none';\n",
       "\n",
       "        async function convertToInteractive(key) {\n",
       "          const element = document.querySelector('#df-90a6d148-719a-43b0-90ae-08ce1438f77e');\n",
       "          const dataTable =\n",
       "            await google.colab.kernel.invokeFunction('convertToInteractive',\n",
       "                                                     [key], {});\n",
       "          if (!dataTable) return;\n",
       "\n",
       "          const docLinkHtml = 'Like what you see? Visit the ' +\n",
       "            '<a target=\"_blank\" href=https://colab.research.google.com/notebooks/data_table.ipynb>data table notebook</a>'\n",
       "            + ' to learn more about interactive tables.';\n",
       "          element.innerHTML = '';\n",
       "          dataTable['output_type'] = 'display_data';\n",
       "          await google.colab.output.renderOutput(dataTable, element);\n",
       "          const docLink = document.createElement('div');\n",
       "          docLink.innerHTML = docLinkHtml;\n",
       "          element.appendChild(docLink);\n",
       "        }\n",
       "      </script>\n",
       "    </div>\n",
       "  </div>\n",
       "  "
      ],
      "text/plain": [
       "        labels  lepton pT  lepton eta  lepton phi  missing energy magnitude  \\\n",
       "0          0.0   1.138683   -0.726635   -0.005790                  0.204118   \n",
       "1          1.0   0.404633    1.014821   -1.050041                  1.136441   \n",
       "2          0.0   1.137585    0.325251    1.453598                  0.804114   \n",
       "3          0.0   1.380438   -0.595149   -0.727112                  0.465392   \n",
       "4          1.0   0.962628    1.191110   -1.161568                  1.541759   \n",
       "...        ...        ...         ...         ...                       ...   \n",
       "999995     1.0   0.721422    1.623552    1.477457                  0.686271   \n",
       "999996     0.0   0.331612   -0.221145   -0.049624                  1.204492   \n",
       "999997     1.0   0.400790    0.846325    0.566930                  1.019508   \n",
       "999998     1.0   1.094943    0.214219   -0.193333                  1.558868   \n",
       "999999     1.0   0.814939    0.368106   -1.724198                  0.787842   \n",
       "\n",
       "        missing energy phi  jet 1 pt  jet 1 eta  jet 1 phi  jet 1 b-tag  ...  \\\n",
       "0                 0.153842  1.585904  -0.045576  -1.448527     1.086538  ...   \n",
       "1                -1.403536  3.218436  -1.944837   0.801788     0.000000  ...   \n",
       "2                 0.893516  0.418095  -1.164536  -0.585919     0.000000  ...   \n",
       "3                -0.057453  0.399224  -0.076273   1.080084     2.173076  ...   \n",
       "4                 0.569159  1.337374   0.810973   0.458075     1.086538  ...   \n",
       "...                    ...       ...        ...        ...          ...  ...   \n",
       "999995           -0.281346  1.012260   1.695248  -0.722296     0.000000  ...   \n",
       "999996           -0.422887  0.779944  -0.436717   0.490783     2.173076  ...   \n",
       "999997           -0.907278  0.905446  -0.064390   1.379447     0.000000  ...   \n",
       "999998           -0.447798  2.356229  -0.188169   1.575696     0.000000  ...   \n",
       "999999            0.240327  1.134739   0.088105   1.269126     2.173076  ...   \n",
       "\n",
       "        jet 4 eta  jet 4 phi  jet 4 b-tag      m_jj     m_jjj      m_lv  \\\n",
       "0       -2.439800   0.073642     0.000000  1.790497  1.730592  0.980587   \n",
       "1       -1.174742  -0.912542     0.000000  1.072789  0.649697  0.981147   \n",
       "2        0.280201  -0.982461     3.101961  0.816500  0.933867  0.988956   \n",
       "3        1.261267   1.129085     0.000000  0.563342  0.857068  0.992465   \n",
       "4        0.413452   1.309431     3.101961  1.596246  1.146864  1.687726   \n",
       "...           ...        ...          ...       ...       ...       ...   \n",
       "999995   0.872338  -0.759387     0.000000  0.503514  1.064794  0.986955   \n",
       "999996  -1.564503  -0.700011     0.000000  0.783572  1.037146  0.988166   \n",
       "999997   0.252718  -0.656728     3.101961  0.675152  0.846188  0.982969   \n",
       "999998   0.600005  -0.633976     0.000000  1.553325  1.625376  1.000506   \n",
       "999999  -1.293002   0.221803     3.101961  0.774443  0.656949  1.087967   \n",
       "\n",
       "           m_jlv      m_bb     m_wbb    m_wwbb  \n",
       "0       0.743065  2.378752  1.534863  1.227558  \n",
       "1       2.004577  0.521853  1.246037  1.461494  \n",
       "2       0.852772  0.415455  0.737194  0.691437  \n",
       "3       0.875139  0.512037  0.686362  0.887047  \n",
       "4       1.178736  0.925320  1.094308  0.991339  \n",
       "...          ...       ...       ...       ...  \n",
       "999995  1.028497  1.186128  1.021383  0.876147  \n",
       "999996  1.016495  1.074260  0.905516  0.832388  \n",
       "999997  0.755627  0.690340  0.628058  0.613142  \n",
       "999998  0.909016  0.317308  1.170940  1.174410  \n",
       "999999  0.849058  0.885539  0.934052  0.817784  \n",
       "\n",
       "[1000000 rows x 29 columns]"
      ]
     },
     "execution_count": 3,
     "metadata": {},
     "output_type": "execute_result"
    }
   ],
   "source": [
    "higgs_df_subset_1M"
   ]
  },
  {
   "cell_type": "code",
   "execution_count": 4,
   "metadata": {
    "id": "SrNBa5IaWiY2"
   },
   "outputs": [],
   "source": [
    "X_2  = higgs_df_subset_1M.drop(columns = \"labels\")\n",
    "y_2 = higgs_df_subset_1M[\"labels\"]\n",
    "import sklearn\n",
    "from sklearn.model_selection import train_test_split\n",
    "X_train_2,X_test_2, y_train_2, y_test_2 = sklearn.model_selection.train_test_split(X_2,y_2, test_size=0.1, random_state=42, shuffle=True)\n"
   ]
  },
  {
   "cell_type": "code",
   "execution_count": 5,
   "metadata": {
    "colab": {
     "base_uri": "https://localhost:8080/"
    },
    "id": "wh_TAVbH5_cS",
    "outputId": "dfb61cf4-d8e1-4dfe-b125-c36f04abe923"
   },
   "outputs": [
    {
     "data": {
      "text/plain": [
       "array([[ 0.07698427, -0.2064811 ,  0.14270308, ...,  0.17144011,\n",
       "         0.30802015,  0.29493686],\n",
       "       [ 0.17588701, -0.08943365,  0.0814417 , ...,  0.15250059,\n",
       "         0.18445288,  0.16348773],\n",
       "       [ 0.28982145, -0.03753603, -0.14026131, ...,  0.17654363,\n",
       "         0.18631549,  0.18275347],\n",
       "       ...,\n",
       "       [ 0.19341948,  0.15594531, -0.2644997 , ...,  0.04310668,\n",
       "         0.13831779,  0.18432919],\n",
       "       [ 0.12775341, -0.29667257, -0.21784223, ...,  0.16247403,\n",
       "         0.12411202,  0.1180993 ],\n",
       "       [ 0.05182394, -0.07203228, -0.2407318 , ...,  0.11954834,\n",
       "         0.13920714,  0.14846587]])"
      ]
     },
     "execution_count": 5,
     "metadata": {},
     "output_type": "execute_result"
    }
   ],
   "source": [
    "\n",
    "X_train_normalize = sklearn.preprocessing.normalize(X_train_2, norm='l2')\n",
    "X_train_normalize\n",
    "X_test_normalize = sklearn.preprocessing.normalize(X_test_2, norm='l2')\n",
    "X_test_normalize"
   ]
  },
  {
   "cell_type": "code",
   "execution_count": 6,
   "metadata": {
    "colab": {
     "base_uri": "https://localhost:8080/"
    },
    "id": "vITJQRjciQtl",
    "outputId": "12eb8135-6bda-459b-d83f-16bc6d988122"
   },
   "outputs": [
    {
     "data": {
      "text/plain": [
       "(900000, 28)"
      ]
     },
     "execution_count": 6,
     "metadata": {},
     "output_type": "execute_result"
    }
   ],
   "source": [
    "\n",
    "X_train_normalize.shape"
   ]
  },
  {
   "cell_type": "code",
   "execution_count": 7,
   "metadata": {
    "colab": {
     "base_uri": "https://localhost:8080/"
    },
    "id": "ToQ4v2DH5_Z_",
    "outputId": "cb80afd1-20c5-4781-ccbc-f7426f89a7e4"
   },
   "outputs": [
    {
     "name": "stdout",
     "output_type": "stream",
     "text": [
      "Epoch 1/5\n",
      "28125/28125 [==============================] - 113s 4ms/step - loss: 0.6003 - accuracy: 0.6728 - val_loss: 0.5795 - val_accuracy: 0.6932\n",
      "Epoch 2/5\n",
      "28125/28125 [==============================] - 92s 3ms/step - loss: 0.5726 - accuracy: 0.6991 - val_loss: 0.5668 - val_accuracy: 0.7039\n",
      "Epoch 3/5\n",
      "28125/28125 [==============================] - 86s 3ms/step - loss: 0.5633 - accuracy: 0.7068 - val_loss: 0.5569 - val_accuracy: 0.7121\n",
      "Epoch 4/5\n",
      "28125/28125 [==============================] - 89s 3ms/step - loss: 0.5568 - accuracy: 0.7115 - val_loss: 0.5622 - val_accuracy: 0.7081\n",
      "Epoch 5/5\n",
      "28125/28125 [==============================] - 84s 3ms/step - loss: 0.5517 - accuracy: 0.7153 - val_loss: 0.5488 - val_accuracy: 0.7160\n"
     ]
    }
   ],
   "source": [
    "import tensorflow as tf\n",
    "tf.random.set_seed(42)\n",
    "\n",
    "higgs_model_1_normalize_1M = tf.keras.Sequential([\n",
    "  tf.keras.layers.Dense(100, activation = 'relu'),\n",
    "  tf.keras.layers.Dense(10, activation = 'relu'),\n",
    "  tf.keras.layers.Dense(1, activation = 'sigmoid')\n",
    "])\n",
    "\n",
    "higgs_model_1_normalize_1M.compile(loss = tf.keras.losses.BinaryCrossentropy(),\n",
    "                      optimizer = tf.keras.optimizers.Adam(),\n",
    "                      metrics = ['accuracy'])\n",
    "\n",
    "history_1_normalize_1M = higgs_model_1_normalize_1M.fit(X_train_normalize, y_train_2, epochs = 5, validation_data = (X_test_normalize,y_test_2))"
   ]
  },
  {
   "cell_type": "code",
   "execution_count": 8,
   "metadata": {
    "colab": {
     "base_uri": "https://localhost:8080/"
    },
    "id": "QaH_K9MqaM7i",
    "outputId": "e8457ba5-1b10-431a-a003-b791e1195fe3"
   },
   "outputs": [
    {
     "data": {
      "text/plain": [
       "TensorShape([100000])"
      ]
     },
     "execution_count": 8,
     "metadata": {},
     "output_type": "execute_result"
    }
   ],
   "source": [
    "y_pred = higgs_model_1_normalize_1M.predict(X_test_normalize)\n",
    "\n",
    "y_pred_rev = y_pred > 0.9\n",
    "y_pred_revised = np.array(y_pred_rev)\n",
    "y_pred_revised = tf.squeeze(y_pred_revised)\n",
    "y_pred_revised.shape"
   ]
  },
  {
   "cell_type": "code",
   "execution_count": 9,
   "metadata": {
    "colab": {
     "base_uri": "https://localhost:8080/"
    },
    "id": "fMuKYsb1ajkp",
    "outputId": "d4cd6785-6e2d-4839-edf3-f3fceeb15399"
   },
   "outputs": [
    {
     "data": {
      "text/plain": [
       "TensorShape([100000])"
      ]
     },
     "execution_count": 9,
     "metadata": {},
     "output_type": "execute_result"
    }
   ],
   "source": [
    "y_pred = higgs_model_1_normalize_1M.predict(X_test_2)\n",
    "\n",
    "y_pred_rev = y_pred > 0.9\n",
    "y_pred_revised = np.array(y_pred_rev)\n",
    "y_pred_revised = tf.squeeze(y_pred_revised)\n",
    "y_pred_revised.shape"
   ]
  },
  {
   "cell_type": "code",
   "execution_count": 10,
   "metadata": {
    "colab": {
     "base_uri": "https://localhost:8080/"
    },
    "id": "lPrFjKnyau3B",
    "outputId": "2b81cea9-7a67-402e-cb0e-421325208e14"
   },
   "outputs": [
    {
     "name": "stdout",
     "output_type": "stream",
     "text": [
      "--2022-03-22 11:54:47--  https://raw.githubusercontent.com/mrdbourke/tensorflow-deep-learning/main/extras/helper_functions.py\n",
      "Resolving raw.githubusercontent.com (raw.githubusercontent.com)... 185.199.108.133, 185.199.109.133, 185.199.110.133, ...\n",
      "Connecting to raw.githubusercontent.com (raw.githubusercontent.com)|185.199.108.133|:443... connected.\n",
      "HTTP request sent, awaiting response... 200 OK\n",
      "Length: 10246 (10K) [text/plain]\n",
      "Saving to: ‘helper_functions.py’\n",
      "\n",
      "\r",
      "helper_functions.py   0%[                    ]       0  --.-KB/s               \r",
      "helper_functions.py 100%[===================>]  10.01K  --.-KB/s    in 0s      \n",
      "\n",
      "2022-03-22 11:54:47 (85.5 MB/s) - ‘helper_functions.py’ saved [10246/10246]\n",
      "\n"
     ]
    }
   ],
   "source": [
    "!wget https://raw.githubusercontent.com/mrdbourke/tensorflow-deep-learning/main/extras/helper_functions.py\n",
    "from helper_functions import make_confusion_matrix"
   ]
  },
  {
   "cell_type": "code",
   "execution_count": 11,
   "metadata": {
    "colab": {
     "base_uri": "https://localhost:8080/",
     "height": 574
    },
    "id": "jHFHwHBYaZRU",
    "outputId": "5433f12a-695d-41c0-e5a4-168023c662e1"
   },
   "outputs": [
    {
     "data": {
      "image/png": "[encoded data removed]",
      "text/plain": [
       "<Figure size 720x720 with 2 Axes>"
      ]
     },
     "metadata": {
      "needs_background": "light"
     },
     "output_type": "display_data"
    }
   ],
   "source": [
    "make_confusion_matrix(y_true= y_test_2, y_pred=y_pred_revised, classes=None, figsize=(10, 10), text_size=15, norm=False, savefig=True)"
   ]
  },
  {
   "cell_type": "code",
   "execution_count": 21,
   "metadata": {
    "colab": {
     "base_uri": "https://localhost:8080/",
     "height": 574
    },
    "id": "DKuIJaByhDej",
    "outputId": "48ff84de-6fd4-4509-f664-b5d22af9aee7"
   },
   "outputs": [
    {
     "data": {
      "image/png": "[encoded data removed]",
      "text/plain": [
       "<Figure size 720x720 with 2 Axes>"
      ]
     },
     "metadata": {
      "needs_background": "light"
     },
     "output_type": "display_data"
    }
   ],
   "source": [
    "make_confusion_matrix(y_true= y_test_2, y_pred=y_pred_revised, classes=None, figsize=(10, 10), text_size=15, norm=False, savefig=True)"
   ]
  },
  {
   "cell_type": "code",
   "execution_count": 12,
   "metadata": {
    "colab": {
     "base_uri": "https://localhost:8080/",
     "height": 573
    },
    "id": "Qzqhllvecv3U",
    "outputId": "a20eaed0-8eef-4f76-be14-cf06cb2633ee"
   },
   "outputs": [
    {
     "data": {
      "image/png": "[encoded data removed]",
      "text/plain": [
       "<Figure size 432x288 with 1 Axes>"
      ]
     },
     "metadata": {
      "needs_background": "light"
     },
     "output_type": "display_data"
    },
    {
     "data": {
      "image/png": "[encoded data removed]",
      "text/plain": [
       "<Figure size 432x288 with 1 Axes>"
      ]
     },
     "metadata": {
      "needs_background": "light"
     },
     "output_type": "display_data"
    }
   ],
   "source": [
    "from helper_functions import plot_loss_curves\n",
    "plot_loss_curves(history_1_normalize_1M)"
   ]
  },
  {
   "cell_type": "code",
   "execution_count": 13,
   "metadata": {
    "colab": {
     "base_uri": "https://localhost:8080/"
    },
    "id": "mawh13P-cvt3",
    "outputId": "c5189030-2adc-4ec1-86d2-aad752c0fc33"
   },
   "outputs": [
    {
     "name": "stdout",
     "output_type": "stream",
     "text": [
      "Epoch 1/5\n",
      "28125/28125 [==============================] - 93s 3ms/step - loss: 0.5478 - accuracy: 0.7180 - val_loss: 0.5450 - val_accuracy: 0.7208\n",
      "Epoch 2/5\n",
      "28125/28125 [==============================] - 95s 3ms/step - loss: 0.5449 - accuracy: 0.7204 - val_loss: 0.5455 - val_accuracy: 0.7201\n",
      "Epoch 3/5\n",
      "28125/28125 [==============================] - 94s 3ms/step - loss: 0.5423 - accuracy: 0.7224 - val_loss: 0.5380 - val_accuracy: 0.7249\n",
      "Epoch 4/5\n",
      "28125/28125 [==============================] - 99s 4ms/step - loss: 0.5401 - accuracy: 0.7239 - val_loss: 0.5449 - val_accuracy: 0.7200\n",
      "Epoch 5/5\n",
      "28125/28125 [==============================] - 104s 4ms/step - loss: 0.5381 - accuracy: 0.7253 - val_loss: 0.5365 - val_accuracy: 0.7258\n"
     ]
    }
   ],
   "source": [
    "import tensorflow as tf\n",
    "tf.random.set_seed(42)\n",
    "\n",
    "higgs_model_2_normalize_1M = tf.keras.Sequential([\n",
    "  tf.keras.layers.Dense(100, activation = 'relu'),\n",
    "  tf.keras.layers.Dense(100, activation = 'relu'),\n",
    "  tf.keras.layers.Dense(10, activation = 'relu'),\n",
    "  tf.keras.layers.Dense(1, activation = 'sigmoid')\n",
    "])\n",
    "\n",
    "higgs_model_2_normalize_1M.compile(loss = tf.keras.losses.BinaryCrossentropy(),\n",
    "                      optimizer = tf.keras.optimizers.Adam(learning_rate = 0.1),\n",
    "                      metrics = ['accuracy'])\n",
    "\n",
    "history_2_normalize_1M = higgs_model_1_normalize_1M.fit(X_train_normalize, y_train_2, epochs = 5, validation_data = (X_test_normalize,y_test_2))"
   ]
  },
  {
   "cell_type": "code",
   "execution_count": 21,
   "metadata": {
    "colab": {
     "base_uri": "https://localhost:8080/"
    },
    "id": "n9OfQex0hJRB",
    "outputId": "ce2798a2-b4a3-4846-8fb5-7e7a4355da5f"
   },
   "outputs": [
    {
     "data": {
      "text/plain": [
       "TensorShape([100000])"
      ]
     },
     "execution_count": 21,
     "metadata": {},
     "output_type": "execute_result"
    }
   ],
   "source": [
    "y_pred = higgs_model_2_normalize_1M.predict(X_test_2)\n",
    "\n",
    "y_pred_rev = y_pred > 0.6\n",
    "y_pred_revised = np.array(y_pred_rev)\n",
    "y_pred_revised = tf.squeeze(y_pred_revised)\n",
    "y_pred_revised.shape"
   ]
  },
  {
   "cell_type": "code",
   "execution_count": 22,
   "metadata": {
    "colab": {
     "base_uri": "https://localhost:8080/",
     "height": 574
    },
    "id": "9CHgzZ4ZhJNf",
    "outputId": "d8928e2c-95b7-4734-f2d6-91de412b0d98"
   },
   "outputs": [
    {
     "data": {
      "image/png": "[encoded data removed]",
      "text/plain": [
       "<Figure size 720x720 with 2 Axes>"
      ]
     },
     "metadata": {
      "needs_background": "light"
     },
     "output_type": "display_data"
    }
   ],
   "source": [
    "make_confusion_matrix(y_true= y_test_2, y_pred=y_pred_revised, classes=None, figsize=(10, 10), text_size=15, norm=False, savefig=True)"
   ]
  },
  {
   "cell_type": "code",
   "execution_count": 16,
   "metadata": {
    "colab": {
     "base_uri": "https://localhost:8080/"
    },
    "id": "HG6B8aoNhJLi",
    "outputId": "44fbe0ad-83a2-4f78-bc2e-291b46d880c2"
   },
   "outputs": [
    {
     "name": "stdout",
     "output_type": "stream",
     "text": [
      "INFO:tensorflow:Assets written to: /content/drive/MyDrive/higgs_model_2_normalize_1M/assets\n"
     ]
    }
   ],
   "source": [
    "tf.keras.models.save_model(higgs_model_2_normalize_1M,filepath = \"/content/drive/MyDrive/higgs_model_2_normalize_1M\" )"
   ]
  },
  {
   "cell_type": "code",
   "execution_count": 24,
   "metadata": {
    "id": "lC2we6GCrGPh"
   },
   "outputs": [],
   "source": [
    "from helper_functions import create_tensorboard_callback"
   ]
  },
  {
   "cell_type": "code",
   "execution_count": 26,
   "metadata": {
    "colab": {
     "base_uri": "https://localhost:8080/"
    },
    "id": "_wRivEfYhJJY",
    "outputId": "7b346582-cae0-4c8d-cc13-5969d18d553d"
   },
   "outputs": [
    {
     "name": "stdout",
     "output_type": "stream",
     "text": [
      "Saving TensorBoard log files to: higgs_noise_detection_model_with_300_units/HIGGS_MODEL_NOISE_DETECTION_WITH_1M_300HIDDENUNITS/20220322-125120\n",
      "Epoch 1/5\n",
      "28125/28125 [==============================] - 98s 3ms/step - loss: 0.6236 - accuracy: 0.6521 - val_loss: 0.6204 - val_accuracy: 0.6639\n",
      "Epoch 2/5\n",
      "28125/28125 [==============================] - 100s 4ms/step - loss: 0.6160 - accuracy: 0.6635 - val_loss: 0.6197 - val_accuracy: 0.6569\n",
      "Epoch 3/5\n",
      "28125/28125 [==============================] - 104s 4ms/step - loss: 0.6152 - accuracy: 0.6652 - val_loss: 0.6173 - val_accuracy: 0.6715\n",
      "Epoch 4/5\n",
      "28125/28125 [==============================] - 99s 4ms/step - loss: 0.6150 - accuracy: 0.6651 - val_loss: 0.6198 - val_accuracy: 0.6669\n",
      "Epoch 5/5\n",
      "28125/28125 [==============================] - 99s 4ms/step - loss: 0.6144 - accuracy: 0.6656 - val_loss: 0.6094 - val_accuracy: 0.6725\n"
     ]
    }
   ],
   "source": [
    "import tensorflow as tf\n",
    "tf.random.set_seed(42)\n",
    "\n",
    "higgs_model_3_normalize_1M = tf.keras.Sequential([\n",
    "  tf.keras.layers.Dense(300, activation = 'relu'),\n",
    "  tf.keras.layers.Dense(1, activation = 'sigmoid')\n",
    "])\n",
    "\n",
    "higgs_model_3_normalize_1M.compile(loss = tf.keras.losses.BinaryCrossentropy(),\n",
    "                      optimizer = tf.keras.optimizers.Adam(learning_rate = 0.05),\n",
    "                      metrics = ['accuracy'])\n",
    "\n",
    "history_3_normalize_1M = higgs_model_3_normalize_1M.fit(X_train_normalize, y_train_2, epochs = 5, validation_data = (X_test_normalize,y_test_2),callbacks =[create_tensorboard_callback(dir_name = \"higgs_noise_detection_model_with_300_units\", experiment_name='HIGGS_MODEL_NOISE_DETECTION_WITH_1M_300HIDDENUNITS')])"
   ]
  },
  {
   "cell_type": "code",
   "execution_count": 27,
   "metadata": {
    "colab": {
     "base_uri": "https://localhost:8080/"
    },
    "id": "sJ-gQXznhJHM",
    "outputId": "541dc93f-3129-41b6-bd80-00c7077f71f2"
   },
   "outputs": [
    {
     "data": {
      "text/plain": [
       "TensorShape([100000])"
      ]
     },
     "execution_count": 27,
     "metadata": {},
     "output_type": "execute_result"
    }
   ],
   "source": [
    "y_pred = higgs_model_3_normalize_1M.predict(X_test_normalize)\n",
    "\n",
    "y_pred_rev = y_pred > 0.9\n",
    "y_pred_revised = np.array(y_pred_rev)\n",
    "y_pred_revised = tf.squeeze(y_pred_revised)\n",
    "y_pred_revised.shape"
   ]
  },
  {
   "cell_type": "code",
   "execution_count": 28,
   "metadata": {
    "colab": {
     "base_uri": "https://localhost:8080/",
     "height": 574
    },
    "id": "H23POGhhhJFG",
    "outputId": "918f284e-a0e5-4b48-81c1-dbda21775ee0"
   },
   "outputs": [
    {
     "data": {
      "image/png": "[encoded data removed]",
      "text/plain": [
       "<Figure size 720x720 with 2 Axes>"
      ]
     },
     "metadata": {
      "needs_background": "light"
     },
     "output_type": "display_data"
    }
   ],
   "source": [
    "make_confusion_matrix(y_true= y_test_2, y_pred=y_pred_revised, classes=None, figsize=(10, 10), text_size=15, norm=False, savefig=True)"
   ]
  },
  {
   "cell_type": "code",
   "execution_count": 35,
   "metadata": {
    "colab": {
     "base_uri": "https://localhost:8080/"
    },
    "id": "1MO3TOib5_X1",
    "outputId": "13ecb6b4-b348-43fd-90e7-abb871dcc65a"
   },
   "outputs": [
    {
     "name": "stdout",
     "output_type": "stream",
     "text": [
      "313/313 [==============================] - 1s 3ms/step - loss: 2.7336 - accuracy: 0.5635\n"
     ]
    },
    {
     "data": {
      "text/plain": [
       "[2.7335827350616455, 0.5634999871253967]"
      ]
     },
     "execution_count": 35,
     "metadata": {},
     "output_type": "execute_result"
    }
   ],
   "source": [
    "higgs_model_2.evaluate(X_test, y_test)"
   ]
  },
  {
   "cell_type": "code",
   "execution_count": 36,
   "metadata": {
    "colab": {
     "base_uri": "https://localhost:8080/",
     "height": 573
    },
    "id": "CtwQkNWmja_m",
    "outputId": "8b014840-dc8a-411e-86ca-ba3c7ae18b5b"
   },
   "outputs": [
    {
     "data": {
      "image/png": "[encoded data removed]",
      "text/plain": [
       "<Figure size 432x288 with 1 Axes>"
      ]
     },
     "metadata": {
      "needs_background": "light"
     },
     "output_type": "display_data"
    },
    {
     "data": {
      "image/png": "[encoded data removed]",
      "text/plain": [
       "<Figure size 432x288 with 1 Axes>"
      ]
     },
     "metadata": {
      "needs_background": "light"
     },
     "output_type": "display_data"
    }
   ],
   "source": [
    "plot_loss_curves(history_2)"
   ]
  },
  {
   "cell_type": "code",
   "execution_count": 37,
   "metadata": {
    "colab": {
     "base_uri": "https://localhost:8080/"
    },
    "id": "i-i4ixrt5_Vn",
    "outputId": "0952245a-b4d9-44ef-c0c9-54d5ef8d7117"
   },
   "outputs": [
    {
     "name": "stdout",
     "output_type": "stream",
     "text": [
      "Epoch 1/5\n",
      "2813/2813 [==============================] - 12s 4ms/step - loss: 0.6455 - accuracy: 0.6213 - val_loss: 1.1575 - val_accuracy: 0.6536\n",
      "Epoch 2/5\n",
      "2813/2813 [==============================] - 12s 4ms/step - loss: 0.6087 - accuracy: 0.6647 - val_loss: 1.2744 - val_accuracy: 0.6539\n",
      "Epoch 3/5\n",
      "2813/2813 [==============================] - 12s 4ms/step - loss: 0.5959 - accuracy: 0.6773 - val_loss: 1.4428 - val_accuracy: 0.6607\n",
      "Epoch 4/5\n",
      "2813/2813 [==============================] - 11s 4ms/step - loss: 0.5887 - accuracy: 0.6850 - val_loss: 1.4042 - val_accuracy: 0.6596\n",
      "Epoch 5/5\n",
      "2813/2813 [==============================] - 12s 4ms/step - loss: 0.5825 - accuracy: 0.6907 - val_loss: 2.2254 - val_accuracy: 0.5800\n"
     ]
    }
   ],
   "source": [
    "tf.random.set_seed(42)\n",
    "\n",
    "higgs_model_3 = tf.keras.Sequential([\n",
    "  tf.keras.layers.Dense(100, activation = 'relu'),\n",
    "  tf.keras.layers.Dense(100, activation = 'relu'),\n",
    "  tf.keras.layers.Dense(10, activation = 'relu'),\n",
    "  tf.keras.layers.Dense(1, activation = 'sigmoid')\n",
    "])\n",
    "\n",
    "higgs_model_3.compile(loss = tf.keras.losses.BinaryCrossentropy(),\n",
    "                      optimizer = tf.keras.optimizers.Adam(),\n",
    "                      metrics = ['accuracy'])\n",
    "\n",
    "history_3 = higgs_model_3.fit(X_train_normalize, y_train, epochs = 5, validation_data = (X_test,y_test))"
   ]
  },
  {
   "cell_type": "code",
   "execution_count": 38,
   "metadata": {
    "colab": {
     "base_uri": "https://localhost:8080/"
    },
    "id": "6rBYjaYP5_TN",
    "outputId": "4d2d83ff-5d89-478b-b8c7-700ebde87d83"
   },
   "outputs": [
    {
     "name": "stdout",
     "output_type": "stream",
     "text": [
      "313/313 [==============================] - 1s 3ms/step - loss: 2.2254 - accuracy: 0.5800\n"
     ]
    },
    {
     "data": {
      "text/plain": [
       "[2.225376605987549, 0.5799999833106995]"
      ]
     },
     "execution_count": 38,
     "metadata": {},
     "output_type": "execute_result"
    }
   ],
   "source": [
    "higgs_model_3.evaluate(X_test, y_test)"
   ]
  },
  {
   "cell_type": "code",
   "execution_count": 39,
   "metadata": {
    "colab": {
     "base_uri": "https://localhost:8080/",
     "height": 573
    },
    "id": "X1GwhAjv3d2R",
    "outputId": "51ab988e-6762-4af6-cb79-b2bc430702ac"
   },
   "outputs": [
    {
     "data": {
      "image/png": "[encoded data removed]",
      "text/plain": [
       "<Figure size 432x288 with 1 Axes>"
      ]
     },
     "metadata": {
      "needs_background": "light"
     },
     "output_type": "display_data"
    },
    {
     "data": {
      "image/png": "[encoded data removed]",
      "text/plain": [
       "<Figure size 432x288 with 1 Axes>"
      ]
     },
     "metadata": {
      "needs_background": "light"
     },
     "output_type": "display_data"
    }
   ],
   "source": [
    "plot_loss_curves(history_3)"
   ]
  },
  {
   "cell_type": "markdown",
   "metadata": {
    "id": "7h0I0drEr1HI"
   },
   "source": [
    "### References:  \n",
    "* [Higgs Dataset UCI Machine learning Repository](https://archive.ics.uci.edu/ml/datasets/HIGGS)\n",
    "* [Tensorflow documentation](https://www.tensorflow.org/api_docs)\n",
    "* [Scikit Learn Preprocessing Documentation](https://scikit-learn.org/stable/modules/preprocessing.html)\n"
   ]
  }
 ],
 "metadata": {
  "colab": {
   "collapsed_sections": [],
   "name": "Higgs_Dataset_Machine_learning.ipynb",
   "provenance": [],
   "toc_visible": true
  },
  "kernelspec": {
   "display_name": "Python 3 (ipykernel)",
   "language": "python",
   "name": "python3"
  },
  "language_info": {
   "codemirror_mode": {
    "name": "ipython",
    "version": 3
   },
   "file_extension": ".py",
   "mimetype": "text/x-python",
   "name": "python",
   "nbconvert_exporter": "python",
   "pygments_lexer": "ipython3",
   "version": "3.9.7"
  }
 },
 "nbformat": 4,
 "nbformat_minor": 1
}
