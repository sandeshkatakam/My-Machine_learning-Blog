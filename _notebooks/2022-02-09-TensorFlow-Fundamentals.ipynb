{
  "nbformat": 4,
  "nbformat_minor": 0,
  "metadata": {
    "colab": {
      "name": "TensorFlow Fundamentals.ipynb",
      "provenance": [],
      "collapsed_sections": [
        "5pxLC0GFCJJf",
        "L6uW_qkBPK9g",
        "uUWa0WBoSUeY",
        "UtIz6u5ESix7",
        "JGgEQPfWm1LO",
        "tk4Fx3v0pBqE",
        "ThweaEVrpli-",
        "CTNSw34Ur7Cw",
        "JX6Hj1f7wOT5",
        "eiWEH_QQzQMi",
        "h32Gj2o20IOA",
        "bXbmK0pQeiP_",
        "r-PDgqCZZCnM",
        "LrqWi_zaalTi",
        "A5zKSxY0e3Pm",
        "dAwlatUVi4id",
        "8flAr1zQjvTc",
        "lI7lj5SgpFQb",
        "NmjQfk9YpF-k"
      ]
    },
    "kernelspec": {
      "name": "python3",
      "display_name": "Python 3"
    },
    "language_info": {
      "name": "python"
    }
  },
  "cells": [
      {
   "cell_type": "markdown",
   "metadata": {},
   "source": [
    "# TensorFlow Fundamentals\n",
    "> Notebook on fundamental concepts of tensorflow\n",
    "\n",
    "- toc: true \n",
    "- badges: true\n",
    "- comments: true\n",
    "- categories: [TensorFlow, MachineLearning]\n",
    "- image: images/tflogo.png"
   ]
  },
    {
      "cell_type": "markdown",
      "source": [
        "## Fundamental concepts of TensorFlow:  \n",
        "This notebook is an account of my working for the Tensorflow tutorial by Daniel Bourke on Youtube. The Notebook covers key concepts of tensorflow essential for Deep Learning.  It also highlights key points of using the various methods of TensorFlow library and also notes the possible common errors we are going to encounter during tensorflow. The possible fixes for the errors are also included in the notebook.\n",
        "\n",
        "**TensorFlow:**  \n",
        "TensorFlow is google's open-source end to end machine learning library. The basic units of the library are tensors which are generalization of matrices to higher dimensions. TensorFlow library helps in doing the computation of tensors faster by accelerating the computation process through GPUs/TPUs.\n",
        "The other important library for scientific computing is NumPy and TensorFlow works well with NumPy. The only difference is tensor flow has high functionality can be used to quickly implement the code even for complex deep learning architectures, which can help us experiment more and spend more effort on making it better rather than focussing on building the Neural Networks from scratch. You can also pass on the python functions with tensorflow to accelerate the function calls.\n",
        "\n",
        "Concepts covered in this Notebook:\n",
        "* Introduction to tensors\n",
        "* Getting information from tensors\n",
        "* Manipulating tensors\n",
        "* Tensors and Numpy\n",
        "* using @tf.function(a way to speed up your python functions)\n",
        "* Using GPUs with TensorFlow (or TPUs)\n",
        "* Solutions to Exercises given in the tutorial notebook."
      ],
      "metadata": {
        "id": "5pxLC0GFCJJf"
      }
    },
    {
      "cell_type": "markdown",
      "source": [
        "## Introduction to Tensors"
      ],
      "metadata": {
        "id": "SKJG8JKJB9zX"
      }
    },
    {
      "cell_type": "code",
      "source": [
        "# Import Tensorflow\n",
        "import tensorflow as tf\n",
        "print(tf.__version__)"
      ],
      "metadata": {
        "id": "Plo3oDnNCH7E",
        "colab": {
          "base_uri": "https://localhost:8080/"
        },
        "outputId": "4e69aa67-b9fa-4017-c8f6-9fb937a350ce"
      },
      "execution_count": 1,
      "outputs": [
        {
          "output_type": "stream",
          "name": "stdout",
          "text": [
            "2.7.0\n"
          ]
        }
      ]
    },
    {
      "cell_type": "code",
      "source": [
        "# Create tensors with tf.constant()\n",
        "\n",
        "scalar = tf.constant(7)\n",
        "scalar"
      ],
      "metadata": {
        "colab": {
          "base_uri": "https://localhost:8080/"
        },
        "id": "Pqwf2Nv3DCkP",
        "outputId": "1057d2a8-0a74-42a9-dfff-b882e1430a96"
      },
      "execution_count": 2,
      "outputs": [
        {
          "output_type": "execute_result",
          "data": {
            "text/plain": [
              "<tf.Tensor: shape=(), dtype=int32, numpy=7>"
            ]
          },
          "metadata": {},
          "execution_count": 2
        }
      ]
    },
    {
      "cell_type": "code",
      "source": [
        "# additional examples for creating a tensor\n",
        "\n",
        "a_scalar_1 = tf.constant(3)\n",
        "a_scalar_2 = tf.constant(4)"
      ],
      "metadata": {
        "id": "WUpV4GcuDMll"
      },
      "execution_count": 3,
      "outputs": []
    },
    {
      "cell_type": "code",
      "source": [
        "scalar.ndim"
      ],
      "metadata": {
        "colab": {
          "base_uri": "https://localhost:8080/"
        },
        "id": "89gxpNqbDhn9",
        "outputId": "a02064c4-3bbf-4355-b45d-acffe6c623de"
      },
      "execution_count": 4,
      "outputs": [
        {
          "output_type": "execute_result",
          "data": {
            "text/plain": [
              "0"
            ]
          },
          "metadata": {},
          "execution_count": 4
        }
      ]
    },
    {
      "cell_type": "code",
      "source": [
        "a_scalar_1.ndim"
      ],
      "metadata": {
        "colab": {
          "base_uri": "https://localhost:8080/"
        },
        "id": "EsW197vaDjZc",
        "outputId": "c12d93ee-550b-461b-a681-e91d866509e8"
      },
      "execution_count": 5,
      "outputs": [
        {
          "output_type": "execute_result",
          "data": {
            "text/plain": [
              "0"
            ]
          },
          "metadata": {},
          "execution_count": 5
        }
      ]
    },
    {
      "cell_type": "code",
      "source": [
        "# Create a vector\n",
        "vector = tf.constant([10,101,11])\n",
        "vector"
      ],
      "metadata": {
        "colab": {
          "base_uri": "https://localhost:8080/"
        },
        "id": "negb8dapDlak",
        "outputId": "d9f212dc-92e8-4bbf-b6cd-72b665386ee9"
      },
      "execution_count": 6,
      "outputs": [
        {
          "output_type": "execute_result",
          "data": {
            "text/plain": [
              "<tf.Tensor: shape=(3,), dtype=int32, numpy=array([ 10, 101,  11], dtype=int32)>"
            ]
          },
          "metadata": {},
          "execution_count": 6
        }
      ]
    },
    {
      "cell_type": "code",
      "source": [
        "# dimensions of the above vector\n",
        "vector.ndim"
      ],
      "metadata": {
        "colab": {
          "base_uri": "https://localhost:8080/"
        },
        "id": "K8IwAUJADuCN",
        "outputId": "085db4a6-5ff6-47c5-fabd-45b4feb37bd6"
      },
      "execution_count": 7,
      "outputs": [
        {
          "output_type": "execute_result",
          "data": {
            "text/plain": [
              "1"
            ]
          },
          "metadata": {},
          "execution_count": 7
        }
      ]
    },
    {
      "cell_type": "code",
      "source": [
        "#create a matrix \n",
        "matrix = tf.constant([[2,3,4],[5,6,7],[8,9,0]])\n",
        "matrix"
      ],
      "metadata": {
        "colab": {
          "base_uri": "https://localhost:8080/"
        },
        "id": "yqEYIlt9DyKl",
        "outputId": "061731e6-44a8-4252-8e7a-35276c45cd1f"
      },
      "execution_count": 8,
      "outputs": [
        {
          "output_type": "execute_result",
          "data": {
            "text/plain": [
              "<tf.Tensor: shape=(3, 3), dtype=int32, numpy=\n",
              "array([[2, 3, 4],\n",
              "       [5, 6, 7],\n",
              "       [8, 9, 0]], dtype=int32)>"
            ]
          },
          "metadata": {},
          "execution_count": 8
        }
      ]
    },
    {
      "cell_type": "code",
      "source": [
        "# checking the dimensions of the matrix above\n",
        "matrix.ndim"
      ],
      "metadata": {
        "colab": {
          "base_uri": "https://localhost:8080/"
        },
        "id": "xibZkCpND7U1",
        "outputId": "f1226779-5598-4a47-f151-5d531e830c4b"
      },
      "execution_count": 9,
      "outputs": [
        {
          "output_type": "execute_result",
          "data": {
            "text/plain": [
              "2"
            ]
          },
          "metadata": {},
          "execution_count": 9
        }
      ]
    },
    {
      "cell_type": "code",
      "source": [
        "# create another matrix \n",
        "another_matrix = tf.constant([[10.,7.,4.],[3.,2.,4.]], dtype =tf.float16)\n",
        "another_matrix"
      ],
      "metadata": {
        "colab": {
          "base_uri": "https://localhost:8080/"
        },
        "id": "Eak2q_5JEFCu",
        "outputId": "3feb9522-1c6c-4a65-8dfd-f62f19e5d18e"
      },
      "execution_count": 10,
      "outputs": [
        {
          "output_type": "execute_result",
          "data": {
            "text/plain": [
              "<tf.Tensor: shape=(2, 3), dtype=float16, numpy=\n",
              "array([[10.,  7.,  4.],\n",
              "       [ 3.,  2.,  4.]], dtype=float16)>"
            ]
          },
          "metadata": {},
          "execution_count": 10
        }
      ]
    },
    {
      "cell_type": "code",
      "source": [
        "# create another matrix with float 32 dtypte\n",
        "another_matrix_1 = tf.constant([[10.,7.,4.],[3.,2.,4.]], dtype =tf.float32)\n",
        "another_matrix_1"
      ],
      "metadata": {
        "colab": {
          "base_uri": "https://localhost:8080/"
        },
        "id": "2uDQtKJrEW6m",
        "outputId": "f0ac5b20-4c41-47d7-913e-1b42b214cd47"
      },
      "execution_count": 11,
      "outputs": [
        {
          "output_type": "execute_result",
          "data": {
            "text/plain": [
              "<tf.Tensor: shape=(2, 3), dtype=float32, numpy=\n",
              "array([[10.,  7.,  4.],\n",
              "       [ 3.,  2.,  4.]], dtype=float32)>"
            ]
          },
          "metadata": {},
          "execution_count": 11
        }
      ]
    },
    {
      "cell_type": "markdown",
      "source": [
        "The difference between both the dtypes are precision. The higher the no after the \"float\" the more exact the values inside the matrix stored in your computer. "
      ],
      "metadata": {
        "id": "zmnp3OF6KCHG"
      }
    },
    {
      "cell_type": "code",
      "source": [
        "# what is the number of dimensions of the matrices we created\n",
        "\n",
        "another_matrix.ndim"
      ],
      "metadata": {
        "colab": {
          "base_uri": "https://localhost:8080/"
        },
        "id": "YDrFHXm8KTk2",
        "outputId": "4d98e92f-4f52-4f46-cbf6-fed3dc0fff10"
      },
      "execution_count": 12,
      "outputs": [
        {
          "output_type": "execute_result",
          "data": {
            "text/plain": [
              "2"
            ]
          },
          "metadata": {},
          "execution_count": 12
        }
      ]
    },
    {
      "cell_type": "markdown",
      "source": [
        "Even though the matrix is (3,2) the ndim function gives the value 2. Because the number of elements in the shape gives us the number of dimensions of the matrix. Here, we have two elements (3,2) for the shape of the matrix so the ndim gives the output 2"
      ],
      "metadata": {
        "id": "z0KvgoPIKbrl"
      }
    },
    {
      "cell_type": "code",
      "source": [
        "# another example to demonstrate ndim\n",
        "example_mat = tf.constant([[[1,2,3],[3,4,5]],\n",
        "                           [[6,7,3],[3,2,4]],\n",
        "                           [[3,2,1],[2,1,4]]])\n",
        "example_mat\n"
      ],
      "metadata": {
        "colab": {
          "base_uri": "https://localhost:8080/"
        },
        "id": "_ZODVEMlK62m",
        "outputId": "7dfb7673-e28b-49e6-bba5-ffda342e8c35"
      },
      "execution_count": 13,
      "outputs": [
        {
          "output_type": "execute_result",
          "data": {
            "text/plain": [
              "<tf.Tensor: shape=(3, 2, 3), dtype=int32, numpy=\n",
              "array([[[1, 2, 3],\n",
              "        [3, 4, 5]],\n",
              "\n",
              "       [[6, 7, 3],\n",
              "        [3, 2, 4]],\n",
              "\n",
              "       [[3, 2, 1],\n",
              "        [2, 1, 4]]], dtype=int32)>"
            ]
          },
          "metadata": {},
          "execution_count": 13
        }
      ]
    },
    {
      "cell_type": "code",
      "source": [
        "# now let us check the number of dimensions of the matrix\n",
        "example_mat.ndim"
      ],
      "metadata": {
        "colab": {
          "base_uri": "https://localhost:8080/"
        },
        "id": "tQiF9Tt8LRRo",
        "outputId": "df17aa54-ff53-4a91-c715-443d780fc38f"
      },
      "execution_count": 14,
      "outputs": [
        {
          "output_type": "execute_result",
          "data": {
            "text/plain": [
              "3"
            ]
          },
          "metadata": {},
          "execution_count": 14
        }
      ]
    },
    {
      "cell_type": "markdown",
      "source": [
        "So, we have created a matrix with shape (3,2,3) there are three elements in the value of shape. so the ndim returned the value 3"
      ],
      "metadata": {
        "id": "Ld2ALPiGL0l-"
      }
    },
    {
      "cell_type": "code",
      "source": [
        "#Let's create another tensor\n",
        "\n",
        "tensor = tf.constant([[[1.,0.3,0.5],\n",
        "                       [0.2,0.5,0.9],\n",
        "                       [3.,6.,7.]],\n",
        "                      \n",
        "                      [[0.2,0.5,0.8],\n",
        "                       [2.,3.5,6.7],\n",
        "                       [4.,8.,0.]],\n",
        "                      \n",
        "                      [[2.8,5.6,7.9],\n",
        "                       [0.6,7.9,6.8],\n",
        "                       [3.4,5.6,7.8]]], dtype = tf.float16)\n",
        "tensor"
      ],
      "metadata": {
        "colab": {
          "base_uri": "https://localhost:8080/"
        },
        "id": "YusrOCXzMRRP",
        "outputId": "933cd49d-1466-4151-aa67-ad8f2d33ee79"
      },
      "execution_count": 15,
      "outputs": [
        {
          "output_type": "execute_result",
          "data": {
            "text/plain": [
              "<tf.Tensor: shape=(3, 3, 3), dtype=float16, numpy=\n",
              "array([[[1. , 0.3, 0.5],\n",
              "        [0.2, 0.5, 0.9],\n",
              "        [3. , 6. , 7. ]],\n",
              "\n",
              "       [[0.2, 0.5, 0.8],\n",
              "        [2. , 3.5, 6.7],\n",
              "        [4. , 8. , 0. ]],\n",
              "\n",
              "       [[2.8, 5.6, 7.9],\n",
              "        [0.6, 7.9, 6.8],\n",
              "        [3.4, 5.6, 7.8]]], dtype=float16)>"
            ]
          },
          "metadata": {},
          "execution_count": 15
        }
      ]
    },
    {
      "cell_type": "code",
      "source": [
        "# let's check the dimnesions of the tensor we created\n",
        "\n",
        "tensor.ndim"
      ],
      "metadata": {
        "colab": {
          "base_uri": "https://localhost:8080/"
        },
        "id": "H9ZEm5dkNhCm",
        "outputId": "b93c704a-b5c9-4740-d51f-a343a8568391"
      },
      "execution_count": 16,
      "outputs": [
        {
          "output_type": "execute_result",
          "data": {
            "text/plain": [
              "3"
            ]
          },
          "metadata": {},
          "execution_count": 16
        }
      ]
    },
    {
      "cell_type": "markdown",
      "source": [
        "so, now we created a tensor of 3 dimension."
      ],
      "metadata": {
        "id": "KGNnGJdWNnog"
      }
    },
    {
      "cell_type": "markdown",
      "source": [
        "What we have created so far:\n",
        "\n",
        "* Scalar: a single number\n",
        "* Vector: a number with direction\n",
        "* matrix: a two dimensional array of numbers\n",
        "* Tensor: an n-dimensional array of numbers\n",
        "  * 0-dimensional tensor is scalar\n",
        "  * 1-dimensional tensor is vector"
      ],
      "metadata": {
        "id": "QWT2o-tMPLAS"
      }
    },
    {
      "cell_type": "markdown",
      "source": [
        "### Creating tensors with `tf.Variable`:"
      ],
      "metadata": {
        "id": "L6uW_qkBPK9g"
      }
    },
    {
      "cell_type": "code",
      "source": [
        "# creating the same tensor with tf.Variable() as above\n",
        "\n",
        "changeable_tensor = tf.Variable([10,7])\n",
        "unchangeable_tensor = tf.constant([10,7])\n",
        "changeable_tensor, unchangeable_tensor"
      ],
      "metadata": {
        "colab": {
          "base_uri": "https://localhost:8080/"
        },
        "id": "wfRrAuCbPzx3",
        "outputId": "174bdffb-aa8a-4fa5-aa2d-cda09d98d367"
      },
      "execution_count": 17,
      "outputs": [
        {
          "output_type": "execute_result",
          "data": {
            "text/plain": [
              "(<tf.Variable 'Variable:0' shape=(2,) dtype=int32, numpy=array([10,  7], dtype=int32)>,\n",
              " <tf.Tensor: shape=(2,), dtype=int32, numpy=array([10,  7], dtype=int32)>)"
            ]
          },
          "metadata": {},
          "execution_count": 17
        }
      ]
    },
    {
      "cell_type": "code",
      "source": [
        "# Let's try to change one of the elements in our changeable tensor\n",
        "changeable_tensor[0] = 7\n",
        "changeable_tensor"
      ],
      "metadata": {
        "colab": {
          "base_uri": "https://localhost:8080/",
          "height": 201
        },
        "id": "rWNqeqVWPK6J",
        "outputId": "9553b2c3-07ef-46df-9a1b-582027c76011"
      },
      "execution_count": 18,
      "outputs": [
        {
          "output_type": "error",
          "ename": "TypeError",
          "evalue": "ignored",
          "traceback": [
            "\u001b[0;31m---------------------------------------------------------------------------\u001b[0m",
            "\u001b[0;31mTypeError\u001b[0m                                 Traceback (most recent call last)",
            "\u001b[0;32m<ipython-input-18-9972a815a90d>\u001b[0m in \u001b[0;36m<module>\u001b[0;34m()\u001b[0m\n\u001b[1;32m      1\u001b[0m \u001b[0;31m# Let's try to change one of the elements in our changeable tensor\u001b[0m\u001b[0;34m\u001b[0m\u001b[0;34m\u001b[0m\u001b[0;34m\u001b[0m\u001b[0m\n\u001b[0;32m----> 2\u001b[0;31m \u001b[0mchangeable_tensor\u001b[0m\u001b[0;34m[\u001b[0m\u001b[0;36m0\u001b[0m\u001b[0;34m]\u001b[0m \u001b[0;34m=\u001b[0m \u001b[0;36m7\u001b[0m\u001b[0;34m\u001b[0m\u001b[0;34m\u001b[0m\u001b[0m\n\u001b[0m\u001b[1;32m      3\u001b[0m \u001b[0mchangeable_tensor\u001b[0m\u001b[0;34m\u001b[0m\u001b[0;34m\u001b[0m\u001b[0m\n",
            "\u001b[0;31mTypeError\u001b[0m: 'ResourceVariable' object does not support item assignment"
          ]
        }
      ]
    },
    {
      "cell_type": "code",
      "source": [
        "# Then we try .assign()\n",
        "\n",
        "changeable_tensor[0].assign(7)\n",
        "changeable_tensor"
      ],
      "metadata": {
        "colab": {
          "base_uri": "https://localhost:8080/"
        },
        "id": "yeu_vCEYPK3a",
        "outputId": "9557fa7a-34a1-4370-d7c7-4001927755b8"
      },
      "execution_count": 19,
      "outputs": [
        {
          "output_type": "execute_result",
          "data": {
            "text/plain": [
              "<tf.Variable 'Variable:0' shape=(2,) dtype=int32, numpy=array([7, 7], dtype=int32)>"
            ]
          },
          "metadata": {},
          "execution_count": 19
        }
      ]
    },
    {
      "cell_type": "code",
      "source": [
        "# try changing the elements in unchangeable tensor\n",
        "unchangeable_tensor[0] = 7\n"
      ],
      "metadata": {
        "colab": {
          "base_uri": "https://localhost:8080/",
          "height": 184
        },
        "id": "pABze34WPK04",
        "outputId": "0910de16-7c7f-4b37-b03f-f2966419d8b8"
      },
      "execution_count": 20,
      "outputs": [
        {
          "output_type": "error",
          "ename": "TypeError",
          "evalue": "ignored",
          "traceback": [
            "\u001b[0;31m---------------------------------------------------------------------------\u001b[0m",
            "\u001b[0;31mTypeError\u001b[0m                                 Traceback (most recent call last)",
            "\u001b[0;32m<ipython-input-20-007f4e4cfc7f>\u001b[0m in \u001b[0;36m<module>\u001b[0;34m()\u001b[0m\n\u001b[1;32m      1\u001b[0m \u001b[0;31m# try changing the elements in unchangeable tensor\u001b[0m\u001b[0;34m\u001b[0m\u001b[0;34m\u001b[0m\u001b[0;34m\u001b[0m\u001b[0m\n\u001b[0;32m----> 2\u001b[0;31m \u001b[0munchangeable_tensor\u001b[0m\u001b[0;34m[\u001b[0m\u001b[0;36m0\u001b[0m\u001b[0;34m]\u001b[0m \u001b[0;34m=\u001b[0m \u001b[0;36m7\u001b[0m\u001b[0;34m\u001b[0m\u001b[0;34m\u001b[0m\u001b[0m\n\u001b[0m",
            "\u001b[0;31mTypeError\u001b[0m: 'tensorflow.python.framework.ops.EagerTensor' object does not support item assignment"
          ]
        }
      ]
    },
    {
      "cell_type": "code",
      "source": [
        "unchangeable_tensor[0].assign(7)\n",
        "unchangeable_tensor"
      ],
      "metadata": {
        "colab": {
          "base_uri": "https://localhost:8080/",
          "height": 305
        },
        "id": "xKeTzDqVPKvl",
        "outputId": "041113ae-0a4b-4e7f-b853-44bd1eca18bb"
      },
      "execution_count": 21,
      "outputs": [
        {
          "output_type": "error",
          "ename": "AttributeError",
          "evalue": "ignored",
          "traceback": [
            "\u001b[0;31m---------------------------------------------------------------------------\u001b[0m",
            "\u001b[0;31mAttributeError\u001b[0m                            Traceback (most recent call last)",
            "\u001b[0;32m<ipython-input-21-958e786d8d1f>\u001b[0m in \u001b[0;36m<module>\u001b[0;34m()\u001b[0m\n\u001b[0;32m----> 1\u001b[0;31m \u001b[0munchangeable_tensor\u001b[0m\u001b[0;34m[\u001b[0m\u001b[0;36m0\u001b[0m\u001b[0;34m]\u001b[0m\u001b[0;34m.\u001b[0m\u001b[0massign\u001b[0m\u001b[0;34m(\u001b[0m\u001b[0;36m7\u001b[0m\u001b[0;34m)\u001b[0m\u001b[0;34m\u001b[0m\u001b[0;34m\u001b[0m\u001b[0m\n\u001b[0m\u001b[1;32m      2\u001b[0m \u001b[0munchangeable_tensor\u001b[0m\u001b[0;34m\u001b[0m\u001b[0;34m\u001b[0m\u001b[0m\n",
            "\u001b[0;32m/usr/local/lib/python3.7/dist-packages/tensorflow/python/framework/ops.py\u001b[0m in \u001b[0;36m__getattr__\u001b[0;34m(self, name)\u001b[0m\n\u001b[1;32m    440\u001b[0m         \u001b[0;32mfrom\u001b[0m \u001b[0mtensorflow\u001b[0m\u001b[0;34m.\u001b[0m\u001b[0mpython\u001b[0m\u001b[0;34m.\u001b[0m\u001b[0mops\u001b[0m\u001b[0;34m.\u001b[0m\u001b[0mnumpy_ops\u001b[0m \u001b[0;32mimport\u001b[0m \u001b[0mnp_config\u001b[0m\u001b[0;34m\u001b[0m\u001b[0;34m\u001b[0m\u001b[0m\n\u001b[1;32m    441\u001b[0m         np_config.enable_numpy_behavior()\"\"\".format(type(self).__name__, name))\n\u001b[0;32m--> 442\u001b[0;31m     \u001b[0mself\u001b[0m\u001b[0;34m.\u001b[0m\u001b[0m__getattribute__\u001b[0m\u001b[0;34m(\u001b[0m\u001b[0mname\u001b[0m\u001b[0;34m)\u001b[0m\u001b[0;34m\u001b[0m\u001b[0;34m\u001b[0m\u001b[0m\n\u001b[0m\u001b[1;32m    443\u001b[0m \u001b[0;34m\u001b[0m\u001b[0m\n\u001b[1;32m    444\u001b[0m   \u001b[0;34m@\u001b[0m\u001b[0mstaticmethod\u001b[0m\u001b[0;34m\u001b[0m\u001b[0;34m\u001b[0m\u001b[0m\n",
            "\u001b[0;31mAttributeError\u001b[0m: 'tensorflow.python.framework.ops.EagerTensor' object has no attribute 'assign'"
          ]
        }
      ]
    },
    {
      "cell_type": "markdown",
      "source": [
        "As you can see the difference between `tf.Variable` and `tf.constant`. The former one is mutable and you can change and manipulate the elements using the `tf.Variable` and the latter created an immutable object where you cannot change or manipulate the values of the type `tf.Constant`"
      ],
      "metadata": {
        "id": "hiwQ8BfIPKiD"
      }
    },
    {
      "cell_type": "markdown",
      "source": [
        "**Note:** Rarely in practice you will decide whether to use `tf.constant` or `tf.Variable` to create tensors as TensorFlow does this for you. However, if in doubt, use `tf.constant` and change it later if needed"
      ],
      "metadata": {
        "id": "oRfsMCO-PKLH"
      }
    },
    {
      "cell_type": "markdown",
      "source": [
        "### Creating random tensors:\n",
        "Random tensors of some arbitary size which contain random numbers.\n",
        "These are useful during intializing random weights at beginning of neural networks. The Neural Network then learns the paramaters using gradient descent."
      ],
      "metadata": {
        "id": "uUWa0WBoSUeY"
      }
    },
    {
      "cell_type": "code",
      "source": [
        "# create two random but the same tensors\n",
        "random_1 = tf.random.Generator.from_seed(42)\n",
        "random_1 = random_1.normal(shape = (3,2))\n",
        "\n",
        "another_random_1 = tf.random.Generator.from_seed(42)\n",
        "another_random_1 = another_random_1.normal(shape = (3,2))\n",
        "\n",
        "# Let's check if they are equal?\n",
        "\n",
        "random_1, another_random_1, random_1 == another_random_1"
      ],
      "metadata": {
        "colab": {
          "base_uri": "https://localhost:8080/"
        },
        "id": "dmqe0Bq2Sh22",
        "outputId": "c5664ca7-ff3c-4f1e-c994-b87d0b5495f4"
      },
      "execution_count": 22,
      "outputs": [
        {
          "output_type": "execute_result",
          "data": {
            "text/plain": [
              "(<tf.Tensor: shape=(3, 2), dtype=float32, numpy=\n",
              " array([[-0.7565803 , -0.06854702],\n",
              "        [ 0.07595026, -1.2573844 ],\n",
              "        [-0.23193763, -1.8107855 ]], dtype=float32)>,\n",
              " <tf.Tensor: shape=(3, 2), dtype=float32, numpy=\n",
              " array([[-0.7565803 , -0.06854702],\n",
              "        [ 0.07595026, -1.2573844 ],\n",
              "        [-0.23193763, -1.8107855 ]], dtype=float32)>,\n",
              " <tf.Tensor: shape=(3, 2), dtype=bool, numpy=\n",
              " array([[ True,  True],\n",
              "        [ True,  True],\n",
              "        [ True,  True]])>)"
            ]
          },
          "metadata": {},
          "execution_count": 22
        }
      ]
    },
    {
      "cell_type": "markdown",
      "source": [
        "So, the random tensors appear as random but they are infact pseudo random numbers. The seed acts like a starting trigger for the underlying random algorithm. Specifying the seed value will help us in producing the same results since the a random generator function produce the same random value everytime if we use a same seed value."
      ],
      "metadata": {
        "id": "EfikxL9UkYpW"
      }
    },
    {
      "cell_type": "markdown",
      "source": [
        "This can help when we are reproducing the same model from any where. The paramters that neural network is learning in each step will be different if we get different intialization values of our weights. If we used the same seed value as mentioned in the previously implemented model we can generate the same intialization at the beginning and produce the exact same results."
      ],
      "metadata": {
        "id": "A8sJ972xlOYW"
      }
    },
    {
      "cell_type": "code",
      "source": [
        "random_2 = tf.random.Generator.from_seed(42) # seed is set for reproducing the same result\n",
        "random_2 = random_2.normal(shape = (3,4))"
      ],
      "metadata": {
        "id": "fj9W9HgmSjMT"
      },
      "execution_count": 23,
      "outputs": []
    },
    {
      "cell_type": "code",
      "source": [
        "random_2"
      ],
      "metadata": {
        "colab": {
          "base_uri": "https://localhost:8080/"
        },
        "id": "y9iO8pc1SjJu",
        "outputId": "72d8d7ac-70fb-4052-8c03-e9bb6e873a94"
      },
      "execution_count": 24,
      "outputs": [
        {
          "output_type": "execute_result",
          "data": {
            "text/plain": [
              "<tf.Tensor: shape=(3, 4), dtype=float32, numpy=\n",
              "array([[-0.7565803 , -0.06854702,  0.07595026, -1.2573844 ],\n",
              "       [-0.23193763, -1.8107855 ,  0.09988727, -0.50998646],\n",
              "       [-0.7535805 , -0.57166284,  0.1480774 , -0.23362993]],\n",
              "      dtype=float32)>"
            ]
          },
          "metadata": {},
          "execution_count": 24
        }
      ]
    },
    {
      "cell_type": "code",
      "source": [
        "random_3 = tf.random.Generator.from_seed(42)\n",
        "random_3 = random_3.normal(shape = (4,4))\n",
        "random_3"
      ],
      "metadata": {
        "colab": {
          "base_uri": "https://localhost:8080/"
        },
        "id": "hljXtddESjGr",
        "outputId": "34791622-e927-476d-89f7-b71cc3535717"
      },
      "execution_count": 25,
      "outputs": [
        {
          "output_type": "execute_result",
          "data": {
            "text/plain": [
              "<tf.Tensor: shape=(4, 4), dtype=float32, numpy=\n",
              "array([[-0.7565803 , -0.06854702,  0.07595026, -1.2573844 ],\n",
              "       [-0.23193763, -1.8107855 ,  0.09988727, -0.50998646],\n",
              "       [-0.7535805 , -0.57166284,  0.1480774 , -0.23362993],\n",
              "       [-0.3522796 ,  0.40621263, -1.0523509 ,  1.2054597 ]],\n",
              "      dtype=float32)>"
            ]
          },
          "metadata": {},
          "execution_count": 25
        }
      ]
    },
    {
      "cell_type": "code",
      "source": [
        "# let's create a much bigger tensor\n",
        "random_4 = tf.random.Generator.from_seed(21)\n",
        "random_4 = random_4.normal(shape = (10,10))\n",
        "random_4"
      ],
      "metadata": {
        "colab": {
          "base_uri": "https://localhost:8080/"
        },
        "id": "EYTArkyOSjEB",
        "outputId": "7747c6ca-3b3c-435b-92a5-427b5b251194"
      },
      "execution_count": 26,
      "outputs": [
        {
          "output_type": "execute_result",
          "data": {
            "text/plain": [
              "<tf.Tensor: shape=(10, 10), dtype=float32, numpy=\n",
              "array([[-1.322665  , -0.02279496, -0.1383193 ,  0.44207528, -0.7531523 ,\n",
              "         2.0261486 , -0.06997604,  0.85445154,  0.1175475 ,  0.03493892],\n",
              "       [-1.5700307 ,  0.4457582 ,  0.10944034, -0.8035768 , -1.7166729 ,\n",
              "         0.3738578 , -0.14371012, -0.34646833,  1.1456194 , -0.416     ],\n",
              "       [ 0.43369916,  1.0241015 , -0.74785167, -0.59090924, -1.2060374 ,\n",
              "         0.8307429 ,  1.0951619 ,  1.3672234 , -0.54532146,  1.9302735 ],\n",
              "       [-0.3151453 , -0.8761205 , -2.7316678 , -0.15730922,  1.3692921 ,\n",
              "        -0.4367834 ,  0.8357487 ,  0.20849545,  1.4040174 , -2.735283  ],\n",
              "       [ 1.2232229 , -1.8653691 ,  0.00511209, -1.0493753 ,  0.7901182 ,\n",
              "         1.585549  ,  0.4356279 ,  0.23645182, -0.1589871 ,  1.302304  ],\n",
              "       [ 0.9592239 ,  0.85874265, -1.5181769 ,  1.4020647 ,  1.5570306 ,\n",
              "        -0.96762174,  0.495291  , -0.648484  , -1.8700892 ,  2.7830641 ],\n",
              "       [-0.645002  ,  0.18022095, -0.14656258,  0.34374258,  0.41367555,\n",
              "         0.17573498, -1.0871261 ,  0.45905176,  0.20386009,  0.562024  ],\n",
              "       [-2.3001142 , -1.349454  ,  0.81485   ,  1.2790666 ,  0.02203509,\n",
              "         1.5428121 ,  0.78953624,  0.53897345, -0.48535708,  0.74055266],\n",
              "       [ 0.31662667, -1.4391748 ,  0.58923835, -1.4268045 , -0.7565803 ,\n",
              "        -0.06854702,  0.07595026, -1.2573844 , -0.23193763, -1.8107855 ],\n",
              "       [ 0.09988727, -0.50998646, -0.7535805 , -0.57166284,  0.1480774 ,\n",
              "        -0.23362993, -0.3522796 ,  0.40621263, -1.0523509 ,  1.2054597 ]],\n",
              "      dtype=float32)>"
            ]
          },
          "metadata": {},
          "execution_count": 26
        }
      ]
    },
    {
      "cell_type": "code",
      "source": [
        "# let's create a random tensor with more dimensions\n",
        "random_5 = tf.random.Generator.from_seed(5)\n",
        "random_5 = random_5.normal(shape = (3,3,3))\n",
        "random_5"
      ],
      "metadata": {
        "colab": {
          "base_uri": "https://localhost:8080/"
        },
        "id": "qLtDH1xrSjBO",
        "outputId": "d4e75183-2a3c-4f26-d1e2-e3fc658653a1"
      },
      "execution_count": 27,
      "outputs": [
        {
          "output_type": "execute_result",
          "data": {
            "text/plain": [
              "<tf.Tensor: shape=(3, 3, 3), dtype=float32, numpy=\n",
              "array([[[ 1.0278524 ,  0.27974114, -0.01347923],\n",
              "        [ 1.845181  ,  0.97061104, -1.0242516 ],\n",
              "        [-0.6544423 , -0.29738766, -1.3240396 ]],\n",
              "\n",
              "       [[ 0.28785667, -0.8757901 , -0.08857018],\n",
              "        [ 0.69211644,  0.84215707, -0.06378496],\n",
              "        [ 0.92800784, -0.6039789 , -0.1766927 ]],\n",
              "\n",
              "       [[ 0.04221033,  0.29037967, -0.29604465],\n",
              "        [-0.21134205,  0.01063002,  1.5165398 ],\n",
              "        [ 0.27305737, -0.29925638, -0.3652325 ]]], dtype=float32)>"
            ]
          },
          "metadata": {},
          "execution_count": 27
        }
      ]
    },
    {
      "cell_type": "code",
      "source": [
        "# let's create another random tensor with more dimensions\n",
        "random_6 = tf.random.Generator.from_seed(6)\n",
        "random_6 = random_6.normal(shape = (5,5,5))\n",
        "random_6"
      ],
      "metadata": {
        "colab": {
          "base_uri": "https://localhost:8080/"
        },
        "id": "Oh5G77G1Si7m",
        "outputId": "caf39572-89a3-4e53-901d-63c9d97811ea"
      },
      "execution_count": 28,
      "outputs": [
        {
          "output_type": "execute_result",
          "data": {
            "text/plain": [
              "<tf.Tensor: shape=(5, 5, 5), dtype=float32, numpy=\n",
              "array([[[ 0.97061104, -1.0242516 , -0.6544423 , -0.29738766,\n",
              "         -1.3240396 ],\n",
              "        [ 0.28785667, -0.8757901 , -0.08857018,  0.69211644,\n",
              "          0.84215707],\n",
              "        [-0.06378496,  0.92800784, -0.6039789 , -0.1766927 ,\n",
              "          0.04221033],\n",
              "        [ 0.29037967, -0.29604465, -0.21134205,  0.01063002,\n",
              "          1.5165398 ],\n",
              "        [ 0.27305737, -0.29925638, -0.3652325 ,  0.61883307,\n",
              "         -1.0130816 ]],\n",
              "\n",
              "       [[ 0.28291714,  1.2132233 ,  0.46988967,  0.37944323,\n",
              "         -0.6664026 ],\n",
              "        [ 0.6054596 ,  0.19181173,  0.8045827 ,  0.4769051 ,\n",
              "         -0.7812124 ],\n",
              "        [-0.996891  ,  0.33149973, -0.5445254 ,  1.5222508 ,\n",
              "          0.59303206],\n",
              "        [-0.63509274,  0.3703566 , -1.0939722 , -0.4601445 ,\n",
              "          1.5420506 ],\n",
              "        [-0.16822556, -0.4390865 , -0.4129243 ,  0.35877243,\n",
              "         -1.9095894 ]],\n",
              "\n",
              "       [[-0.2094769 ,  0.8286217 , -0.06695071, -0.35105535,\n",
              "          1.0884082 ],\n",
              "        [-1.3863064 ,  0.88051325, -1.6833194 ,  0.86754173,\n",
              "         -0.19625713],\n",
              "        [-1.322665  , -0.02279496, -0.1383193 ,  0.44207528,\n",
              "         -0.7531523 ],\n",
              "        [ 2.0261486 , -0.06997604,  0.85445154,  0.1175475 ,\n",
              "          0.03493892],\n",
              "        [-1.5700307 ,  0.4457582 ,  0.10944034, -0.8035768 ,\n",
              "         -1.7166729 ]],\n",
              "\n",
              "       [[ 0.3738578 , -0.14371012, -0.34646833,  1.1456194 ,\n",
              "         -0.416     ],\n",
              "        [ 0.43369916,  1.0241015 , -0.74785167, -0.59090924,\n",
              "         -1.2060374 ],\n",
              "        [ 0.8307429 ,  1.0951619 ,  1.3672234 , -0.54532146,\n",
              "          1.9302735 ],\n",
              "        [-0.3151453 , -0.8761205 , -2.7316678 , -0.15730922,\n",
              "          1.3692921 ],\n",
              "        [-0.4367834 ,  0.8357487 ,  0.20849545,  1.4040174 ,\n",
              "         -2.735283  ]],\n",
              "\n",
              "       [[ 1.2232229 , -1.8653691 ,  0.00511209, -1.0493753 ,\n",
              "          0.7901182 ],\n",
              "        [ 1.585549  ,  0.4356279 ,  0.23645182, -0.1589871 ,\n",
              "          1.302304  ],\n",
              "        [ 0.9592239 ,  0.85874265, -1.5181769 ,  1.4020647 ,\n",
              "          1.5570306 ],\n",
              "        [-0.96762174,  0.495291  , -0.648484  , -1.8700892 ,\n",
              "          2.7830641 ],\n",
              "        [-0.645002  ,  0.18022095, -0.14656258,  0.34374258,\n",
              "          0.41367555]]], dtype=float32)>"
            ]
          },
          "metadata": {},
          "execution_count": 28
        }
      ]
    },
    {
      "cell_type": "markdown",
      "source": [
        "### shuffle the order of elements in a tensor\n",
        "\n",
        "\n",
        "\n"
      ],
      "metadata": {
        "id": "UtIz6u5ESix7"
      }
    },
    {
      "cell_type": "code",
      "source": [
        "# shuffle a tensor (valuable for when you want to shuffle  )\n",
        "not_shuffled = tf.constant([[10,7],\n",
        "                            [3,4],\n",
        "                            [2,3]])\n",
        "# shuffle our non-shuffled tensor:\n",
        "tf.random.shuffle(not_shuffled)"
      ],
      "metadata": {
        "colab": {
          "base_uri": "https://localhost:8080/"
        },
        "id": "7mhtJpKulHL_",
        "outputId": "5d0df49e-5c41-47f1-eaf9-f7dc53c3cc50"
      },
      "execution_count": 29,
      "outputs": [
        {
          "output_type": "execute_result",
          "data": {
            "text/plain": [
              "<tf.Tensor: shape=(3, 2), dtype=int32, numpy=\n",
              "array([[ 3,  4],\n",
              "       [ 2,  3],\n",
              "       [10,  7]], dtype=int32)>"
            ]
          },
          "metadata": {},
          "execution_count": 29
        }
      ]
    },
    {
      "cell_type": "code",
      "source": [
        "not_shuffled"
      ],
      "metadata": {
        "colab": {
          "base_uri": "https://localhost:8080/"
        },
        "id": "QfM1WEgImcJX",
        "outputId": "599a9210-6e52-48df-ae7c-55650df6b181"
      },
      "execution_count": 30,
      "outputs": [
        {
          "output_type": "execute_result",
          "data": {
            "text/plain": [
              "<tf.Tensor: shape=(3, 2), dtype=int32, numpy=\n",
              "array([[10,  7],\n",
              "       [ 3,  4],\n",
              "       [ 2,  3]], dtype=int32)>"
            ]
          },
          "metadata": {},
          "execution_count": 30
        }
      ]
    },
    {
      "cell_type": "code",
      "source": [
        "# Let's shuffle our non-shuffled tensor again:\n",
        "tf.random.shuffle(not_shuffled)"
      ],
      "metadata": {
        "colab": {
          "base_uri": "https://localhost:8080/"
        },
        "id": "ktQym6h9m72G",
        "outputId": "12f9bf43-3d47-42db-9609-628d021e5617"
      },
      "execution_count": 31,
      "outputs": [
        {
          "output_type": "execute_result",
          "data": {
            "text/plain": [
              "<tf.Tensor: shape=(3, 2), dtype=int32, numpy=\n",
              "array([[ 3,  4],\n",
              "       [10,  7],\n",
              "       [ 2,  3]], dtype=int32)>"
            ]
          },
          "metadata": {},
          "execution_count": 31
        }
      ]
    },
    {
      "cell_type": "code",
      "source": [
        "# Let's shuffle our non-shuffled tensor again:\n",
        "tf.random.shuffle(not_shuffled, seed = 42)"
      ],
      "metadata": {
        "colab": {
          "base_uri": "https://localhost:8080/"
        },
        "id": "nkHbxNChnAMv",
        "outputId": "14f71294-34da-4237-c0dd-830ff4b71cf1"
      },
      "execution_count": 32,
      "outputs": [
        {
          "output_type": "execute_result",
          "data": {
            "text/plain": [
              "<tf.Tensor: shape=(3, 2), dtype=int32, numpy=\n",
              "array([[ 2,  3],\n",
              "       [ 3,  4],\n",
              "       [10,  7]], dtype=int32)>"
            ]
          },
          "metadata": {},
          "execution_count": 32
        }
      ]
    },
    {
      "cell_type": "code",
      "source": [
        "# Let's shuffle our non-shuffled tensor again:\n",
        "tf.random.shuffle(not_shuffled, seed = 42)\n",
        "# this kind of setting the seed only work at operation-level \n",
        "# we need to declare a global seed to make this work"
      ],
      "metadata": {
        "colab": {
          "base_uri": "https://localhost:8080/"
        },
        "id": "NEFBVtK2nrpV",
        "outputId": "5570d094-7622-4f5a-bd59-e56353d39bf3"
      },
      "execution_count": 33,
      "outputs": [
        {
          "output_type": "execute_result",
          "data": {
            "text/plain": [
              "<tf.Tensor: shape=(3, 2), dtype=int32, numpy=\n",
              "array([[ 2,  3],\n",
              "       [ 3,  4],\n",
              "       [10,  7]], dtype=int32)>"
            ]
          },
          "metadata": {},
          "execution_count": 33
        }
      ]
    },
    {
      "cell_type": "markdown",
      "source": [
        "Even though we set the same seed the value is getting changed. Why is this happening?\n",
        "refer to this link :[`tf.random.seed_set` documentation](https://www.tensorflow.org/api_docs/python/tf/random/set_seed)"
      ],
      "metadata": {
        "id": "hWw9MZ-0ntY-"
      }
    },
    {
      "cell_type": "code",
      "source": [
        "# Let's shuffle our non-shuffled tensor :\n",
        "# Here we set the seed as global seed \n",
        "tf.random.set_seed(42)\n",
        "\n",
        "tf.random.shuffle(not_shuffled)"
      ],
      "metadata": {
        "colab": {
          "base_uri": "https://localhost:8080/"
        },
        "id": "yBzSNHfQnFZx",
        "outputId": "481fb1e4-249f-4c4c-ec62-58d0cef87d36"
      },
      "execution_count": 34,
      "outputs": [
        {
          "output_type": "execute_result",
          "data": {
            "text/plain": [
              "<tf.Tensor: shape=(3, 2), dtype=int32, numpy=\n",
              "array([[ 3,  4],\n",
              "       [ 2,  3],\n",
              "       [10,  7]], dtype=int32)>"
            ]
          },
          "metadata": {},
          "execution_count": 34
        }
      ]
    },
    {
      "cell_type": "markdown",
      "source": [
        "#### Exercise working:\n",
        "Exercise:  Read through tensorflow docs on random seed generation. Practice 5 random seed generation examples.\n",
        "\n"
      ],
      "metadata": {
        "id": "JGgEQPfWm1LO"
      }
    },
    {
      "cell_type": "markdown",
      "source": [
        "### Other ways to make tensors"
      ],
      "metadata": {
        "id": "tk4Fx3v0pBqE"
      }
    },
    {
      "cell_type": "code",
      "source": [
        "# tf.ones examples:\n",
        "# we need to pass the arguments : shape, dtype etc.\n",
        "# create a tensor of all ones\n",
        "tf.ones([10,7])"
      ],
      "metadata": {
        "colab": {
          "base_uri": "https://localhost:8080/"
        },
        "id": "zntRq6OlpF_e",
        "outputId": "b8b36671-3238-4780-88ec-9c29a1412b83"
      },
      "execution_count": 35,
      "outputs": [
        {
          "output_type": "execute_result",
          "data": {
            "text/plain": [
              "<tf.Tensor: shape=(10, 7), dtype=float32, numpy=\n",
              "array([[1., 1., 1., 1., 1., 1., 1.],\n",
              "       [1., 1., 1., 1., 1., 1., 1.],\n",
              "       [1., 1., 1., 1., 1., 1., 1.],\n",
              "       [1., 1., 1., 1., 1., 1., 1.],\n",
              "       [1., 1., 1., 1., 1., 1., 1.],\n",
              "       [1., 1., 1., 1., 1., 1., 1.],\n",
              "       [1., 1., 1., 1., 1., 1., 1.],\n",
              "       [1., 1., 1., 1., 1., 1., 1.],\n",
              "       [1., 1., 1., 1., 1., 1., 1.],\n",
              "       [1., 1., 1., 1., 1., 1., 1.]], dtype=float32)>"
            ]
          },
          "metadata": {},
          "execution_count": 35
        }
      ]
    },
    {
      "cell_type": "code",
      "source": [
        "# create tensor of all zeros given a certain shape\n",
        "tf.zeros([10,7])"
      ],
      "metadata": {
        "colab": {
          "base_uri": "https://localhost:8080/"
        },
        "id": "y3DnMX5fpZzH",
        "outputId": "45bbfa1a-48c4-4009-f960-5cf3803c36eb"
      },
      "execution_count": 36,
      "outputs": [
        {
          "output_type": "execute_result",
          "data": {
            "text/plain": [
              "<tf.Tensor: shape=(10, 7), dtype=float32, numpy=\n",
              "array([[0., 0., 0., 0., 0., 0., 0.],\n",
              "       [0., 0., 0., 0., 0., 0., 0.],\n",
              "       [0., 0., 0., 0., 0., 0., 0.],\n",
              "       [0., 0., 0., 0., 0., 0., 0.],\n",
              "       [0., 0., 0., 0., 0., 0., 0.],\n",
              "       [0., 0., 0., 0., 0., 0., 0.],\n",
              "       [0., 0., 0., 0., 0., 0., 0.],\n",
              "       [0., 0., 0., 0., 0., 0., 0.],\n",
              "       [0., 0., 0., 0., 0., 0., 0.],\n",
              "       [0., 0., 0., 0., 0., 0., 0.]], dtype=float32)>"
            ]
          },
          "metadata": {},
          "execution_count": 36
        }
      ]
    },
    {
      "cell_type": "markdown",
      "source": [
        "### Turn Numpy arrays into tensors:\n",
        "\n",
        "The main difference between Numpy and TensorFlow tensors is that tensors can be run on GPUs/TPUs."
      ],
      "metadata": {
        "id": "ThweaEVrpli-"
      }
    },
    {
      "cell_type": "code",
      "source": [
        "# You can also turn NumPy arrays into tensors\n",
        "import numpy as np\n",
        "numpy_A = np.arange(1,25,dtype = np.int32)\n",
        "numpy_A\n",
        "# X = tf.constant(some_matrix) # capital for tensor or matrix\n",
        "# y = tf.constant(vector) # non-capital for vector"
      ],
      "metadata": {
        "colab": {
          "base_uri": "https://localhost:8080/"
        },
        "id": "flZL4KsTpgVY",
        "outputId": "bb088be9-c82a-456b-a907-11d33b5c28ef"
      },
      "execution_count": 37,
      "outputs": [
        {
          "output_type": "execute_result",
          "data": {
            "text/plain": [
              "array([ 1,  2,  3,  4,  5,  6,  7,  8,  9, 10, 11, 12, 13, 14, 15, 16, 17,\n",
              "       18, 19, 20, 21, 22, 23, 24], dtype=int32)"
            ]
          },
          "metadata": {},
          "execution_count": 37
        }
      ]
    },
    {
      "cell_type": "code",
      "source": [
        "A = tf.constant(numpy_A, shape = (2,3,4))\n",
        "B = tf.constant(numpy_A)\n",
        "\n",
        "A,B\n"
      ],
      "metadata": {
        "colab": {
          "base_uri": "https://localhost:8080/"
        },
        "id": "bdjCT6OvqIHK",
        "outputId": "324ccf12-b659-41cc-858b-a4fe1be1d39b"
      },
      "execution_count": 38,
      "outputs": [
        {
          "output_type": "execute_result",
          "data": {
            "text/plain": [
              "(<tf.Tensor: shape=(2, 3, 4), dtype=int32, numpy=\n",
              " array([[[ 1,  2,  3,  4],\n",
              "         [ 5,  6,  7,  8],\n",
              "         [ 9, 10, 11, 12]],\n",
              " \n",
              "        [[13, 14, 15, 16],\n",
              "         [17, 18, 19, 20],\n",
              "         [21, 22, 23, 24]]], dtype=int32)>,\n",
              " <tf.Tensor: shape=(24,), dtype=int32, numpy=\n",
              " array([ 1,  2,  3,  4,  5,  6,  7,  8,  9, 10, 11, 12, 13, 14, 15, 16, 17,\n",
              "        18, 19, 20, 21, 22, 23, 24], dtype=int32)>)"
            ]
          },
          "metadata": {},
          "execution_count": 38
        }
      ]
    },
    {
      "cell_type": "code",
      "source": [
        "A.ndim"
      ],
      "metadata": {
        "colab": {
          "base_uri": "https://localhost:8080/"
        },
        "id": "saMmku9-rGM0",
        "outputId": "e717208b-d90b-482d-ca78-60172863a0d4"
      },
      "execution_count": 39,
      "outputs": [
        {
          "output_type": "execute_result",
          "data": {
            "text/plain": [
              "3"
            ]
          },
          "metadata": {},
          "execution_count": 39
        }
      ]
    },
    {
      "cell_type": "markdown",
      "source": [
        "The unmodified shape is the same shape as our NumPy vector. If you want to change the shape of the array with tf.constant, we need to make sure the product of the three values of dimensions should be equal to the no. of values in the unmodified array"
      ],
      "metadata": {
        "id": "WG2J6yD8qtTY"
      }
    },
    {
      "cell_type": "markdown",
      "source": [
        "So, anything we have in NumPy we can pass it to a tensor."
      ],
      "metadata": {
        "id": "q0r_6U77qU2e"
      }
    },
    {
      "cell_type": "code",
      "source": [
        "## practice examples:\n",
        "numpy_C = np.arange(1,101,dtype = np.float16)\n",
        "numpy_D = np.arange(1,37,dtype = np.float32)\n",
        "numpy_C, numpy_D"
      ],
      "metadata": {
        "colab": {
          "base_uri": "https://localhost:8080/"
        },
        "id": "CMwFm5OvqRLm",
        "outputId": "97313fb2-ef52-4a80-8d6a-9a06a2abc6d5"
      },
      "execution_count": 40,
      "outputs": [
        {
          "output_type": "execute_result",
          "data": {
            "text/plain": [
              "(array([  1.,   2.,   3.,   4.,   5.,   6.,   7.,   8.,   9.,  10.,  11.,\n",
              "         12.,  13.,  14.,  15.,  16.,  17.,  18.,  19.,  20.,  21.,  22.,\n",
              "         23.,  24.,  25.,  26.,  27.,  28.,  29.,  30.,  31.,  32.,  33.,\n",
              "         34.,  35.,  36.,  37.,  38.,  39.,  40.,  41.,  42.,  43.,  44.,\n",
              "         45.,  46.,  47.,  48.,  49.,  50.,  51.,  52.,  53.,  54.,  55.,\n",
              "         56.,  57.,  58.,  59.,  60.,  61.,  62.,  63.,  64.,  65.,  66.,\n",
              "         67.,  68.,  69.,  70.,  71.,  72.,  73.,  74.,  75.,  76.,  77.,\n",
              "         78.,  79.,  80.,  81.,  82.,  83.,  84.,  85.,  86.,  87.,  88.,\n",
              "         89.,  90.,  91.,  92.,  93.,  94.,  95.,  96.,  97.,  98.,  99.,\n",
              "        100.], dtype=float16),\n",
              " array([ 1.,  2.,  3.,  4.,  5.,  6.,  7.,  8.,  9., 10., 11., 12., 13.,\n",
              "        14., 15., 16., 17., 18., 19., 20., 21., 22., 23., 24., 25., 26.,\n",
              "        27., 28., 29., 30., 31., 32., 33., 34., 35., 36.], dtype=float32))"
            ]
          },
          "metadata": {},
          "execution_count": 40
        }
      ]
    },
    {
      "cell_type": "code",
      "source": [
        "# converting the NumPy arrays to tensors:\n",
        "C = tf.constant(numpy_C, shape = (10,10))\n",
        "D = tf.constant(numpy_D,shape = (6,6))\n",
        "C,D"
      ],
      "metadata": {
        "colab": {
          "base_uri": "https://localhost:8080/"
        },
        "id": "QZ4vbq9mrb4w",
        "outputId": "beb57ae6-0e7a-46e8-da1f-245f365b90c8"
      },
      "execution_count": 41,
      "outputs": [
        {
          "output_type": "execute_result",
          "data": {
            "text/plain": [
              "(<tf.Tensor: shape=(10, 10), dtype=float16, numpy=\n",
              " array([[  1.,   2.,   3.,   4.,   5.,   6.,   7.,   8.,   9.,  10.],\n",
              "        [ 11.,  12.,  13.,  14.,  15.,  16.,  17.,  18.,  19.,  20.],\n",
              "        [ 21.,  22.,  23.,  24.,  25.,  26.,  27.,  28.,  29.,  30.],\n",
              "        [ 31.,  32.,  33.,  34.,  35.,  36.,  37.,  38.,  39.,  40.],\n",
              "        [ 41.,  42.,  43.,  44.,  45.,  46.,  47.,  48.,  49.,  50.],\n",
              "        [ 51.,  52.,  53.,  54.,  55.,  56.,  57.,  58.,  59.,  60.],\n",
              "        [ 61.,  62.,  63.,  64.,  65.,  66.,  67.,  68.,  69.,  70.],\n",
              "        [ 71.,  72.,  73.,  74.,  75.,  76.,  77.,  78.,  79.,  80.],\n",
              "        [ 81.,  82.,  83.,  84.,  85.,  86.,  87.,  88.,  89.,  90.],\n",
              "        [ 91.,  92.,  93.,  94.,  95.,  96.,  97.,  98.,  99., 100.]],\n",
              "       dtype=float16)>, <tf.Tensor: shape=(6, 6), dtype=float32, numpy=\n",
              " array([[ 1.,  2.,  3.,  4.,  5.,  6.],\n",
              "        [ 7.,  8.,  9., 10., 11., 12.],\n",
              "        [13., 14., 15., 16., 17., 18.],\n",
              "        [19., 20., 21., 22., 23., 24.],\n",
              "        [25., 26., 27., 28., 29., 30.],\n",
              "        [31., 32., 33., 34., 35., 36.]], dtype=float32)>)"
            ]
          },
          "metadata": {},
          "execution_count": 41
        }
      ]
    },
    {
      "cell_type": "code",
      "source": [
        "# dimensions of the C and D tensors created:\n",
        "C.ndim, D.ndim"
      ],
      "metadata": {
        "colab": {
          "base_uri": "https://localhost:8080/"
        },
        "id": "foapAm7aru5o",
        "outputId": "75131766-1226-421c-fc0b-909200dee48e"
      },
      "execution_count": 42,
      "outputs": [
        {
          "output_type": "execute_result",
          "data": {
            "text/plain": [
              "(2, 2)"
            ]
          },
          "metadata": {},
          "execution_count": 42
        }
      ]
    },
    {
      "cell_type": "markdown",
      "source": [
        "### Getting Information from tensors:\n",
        "Attributes:  \n",
        "When dealing with tensors you probably want to e aware of the following attributes:\n",
        "* Shape : The length of each of the dimensions of a tensor\n",
        "  * code: `tensor.shape`\n",
        "* Rank: The number of tensor dimensions. A scalar has a rank 0, vector has rank 1,a matrix is rank 2, a tensor has a rank n.\n",
        "  * code: `tensor.ndim`\n",
        "* Axis or dimension : A particular dimension of a tensor\n",
        "  * code: `tensor[0]`, `tensor[:,1]` etc\n",
        "* Size : The total number of items in the tensor.\n",
        "  * code: tf.size(tensor)"
      ],
      "metadata": {
        "id": "CTNSw34Ur7Cw"
      }
    },
    {
      "cell_type": "code",
      "source": [
        "# create a rank 4 tensor(4 dimensions)\n",
        "rank_4_tensor = tf.zeros(shape = [2,3,4,5])\n",
        "rank_4_tensor"
      ],
      "metadata": {
        "colab": {
          "base_uri": "https://localhost:8080/"
        },
        "id": "jVgwEWvwsHgv",
        "outputId": "18bd8ee4-6c8a-4407-b036-935001893b6f"
      },
      "execution_count": 43,
      "outputs": [
        {
          "output_type": "execute_result",
          "data": {
            "text/plain": [
              "<tf.Tensor: shape=(2, 3, 4, 5), dtype=float32, numpy=\n",
              "array([[[[0., 0., 0., 0., 0.],\n",
              "         [0., 0., 0., 0., 0.],\n",
              "         [0., 0., 0., 0., 0.],\n",
              "         [0., 0., 0., 0., 0.]],\n",
              "\n",
              "        [[0., 0., 0., 0., 0.],\n",
              "         [0., 0., 0., 0., 0.],\n",
              "         [0., 0., 0., 0., 0.],\n",
              "         [0., 0., 0., 0., 0.]],\n",
              "\n",
              "        [[0., 0., 0., 0., 0.],\n",
              "         [0., 0., 0., 0., 0.],\n",
              "         [0., 0., 0., 0., 0.],\n",
              "         [0., 0., 0., 0., 0.]]],\n",
              "\n",
              "\n",
              "       [[[0., 0., 0., 0., 0.],\n",
              "         [0., 0., 0., 0., 0.],\n",
              "         [0., 0., 0., 0., 0.],\n",
              "         [0., 0., 0., 0., 0.]],\n",
              "\n",
              "        [[0., 0., 0., 0., 0.],\n",
              "         [0., 0., 0., 0., 0.],\n",
              "         [0., 0., 0., 0., 0.],\n",
              "         [0., 0., 0., 0., 0.]],\n",
              "\n",
              "        [[0., 0., 0., 0., 0.],\n",
              "         [0., 0., 0., 0., 0.],\n",
              "         [0., 0., 0., 0., 0.],\n",
              "         [0., 0., 0., 0., 0.]]]], dtype=float32)>"
            ]
          },
          "metadata": {},
          "execution_count": 43
        }
      ]
    },
    {
      "cell_type": "code",
      "source": [
        "rank_4_tensor[0]"
      ],
      "metadata": {
        "colab": {
          "base_uri": "https://localhost:8080/"
        },
        "id": "EgRQECznt1K_",
        "outputId": "578b3909-76ce-4aff-9270-034d67f19471"
      },
      "execution_count": 44,
      "outputs": [
        {
          "output_type": "execute_result",
          "data": {
            "text/plain": [
              "<tf.Tensor: shape=(3, 4, 5), dtype=float32, numpy=\n",
              "array([[[0., 0., 0., 0., 0.],\n",
              "        [0., 0., 0., 0., 0.],\n",
              "        [0., 0., 0., 0., 0.],\n",
              "        [0., 0., 0., 0., 0.]],\n",
              "\n",
              "       [[0., 0., 0., 0., 0.],\n",
              "        [0., 0., 0., 0., 0.],\n",
              "        [0., 0., 0., 0., 0.],\n",
              "        [0., 0., 0., 0., 0.]],\n",
              "\n",
              "       [[0., 0., 0., 0., 0.],\n",
              "        [0., 0., 0., 0., 0.],\n",
              "        [0., 0., 0., 0., 0.],\n",
              "        [0., 0., 0., 0., 0.]]], dtype=float32)>"
            ]
          },
          "metadata": {},
          "execution_count": 44
        }
      ]
    },
    {
      "cell_type": "code",
      "source": [
        "# get the \n",
        "rank_4_tensor[:,1]"
      ],
      "metadata": {
        "colab": {
          "base_uri": "https://localhost:8080/"
        },
        "id": "LKzf43m-t2vL",
        "outputId": "41d08e5c-6fd5-4b80-c1d0-a62033debc47"
      },
      "execution_count": 45,
      "outputs": [
        {
          "output_type": "execute_result",
          "data": {
            "text/plain": [
              "<tf.Tensor: shape=(2, 4, 5), dtype=float32, numpy=\n",
              "array([[[0., 0., 0., 0., 0.],\n",
              "        [0., 0., 0., 0., 0.],\n",
              "        [0., 0., 0., 0., 0.],\n",
              "        [0., 0., 0., 0., 0.]],\n",
              "\n",
              "       [[0., 0., 0., 0., 0.],\n",
              "        [0., 0., 0., 0., 0.],\n",
              "        [0., 0., 0., 0., 0.],\n",
              "        [0., 0., 0., 0., 0.]]], dtype=float32)>"
            ]
          },
          "metadata": {},
          "execution_count": 45
        }
      ]
    },
    {
      "cell_type": "code",
      "source": [
        "rank_4_tensor.shape, rank_4_tensor.ndim, tf.size(rank_4_tensor)"
      ],
      "metadata": {
        "colab": {
          "base_uri": "https://localhost:8080/"
        },
        "id": "3m3cBUY6t2l3",
        "outputId": "35b5ffec-65d0-4b09-fe6f-58e108207328"
      },
      "execution_count": 46,
      "outputs": [
        {
          "output_type": "execute_result",
          "data": {
            "text/plain": [
              "(TensorShape([2, 3, 4, 5]), 4, <tf.Tensor: shape=(), dtype=int32, numpy=120>)"
            ]
          },
          "metadata": {},
          "execution_count": 46
        }
      ]
    },
    {
      "cell_type": "code",
      "source": [
        "# get various attributes of tensor:\n",
        "print(\"Datatype of every element\", rank_4_tensor.dtype)\n",
        "print(\"Number of dimensions (rank): \", rank_4_tensor.ndim)\n",
        "print(\"Shape of tensor: \", rank_4_tensor.shape)\n",
        "print(\"Elements along the 0 axis:\", rank_4_tensor.shape[0])\n",
        "print(\"Elements along the last axis:\", rank_4_tensor.shape[-1])\n",
        "print(\"Total number of elements in our tensor:\",tf.size(rank_4_tensor).numpy() )"
      ],
      "metadata": {
        "colab": {
          "base_uri": "https://localhost:8080/"
        },
        "id": "taH9Qo-7uUvw",
        "outputId": "24400af0-05c9-46b3-d1d3-6b486cda274b"
      },
      "execution_count": 47,
      "outputs": [
        {
          "output_type": "stream",
          "name": "stdout",
          "text": [
            "Datatype of every element <dtype: 'float32'>\n",
            "Number of dimensions (rank):  4\n",
            "Shape of tensor:  (2, 3, 4, 5)\n",
            "Elements along the 0 axis: 2\n",
            "Elements along the last axis: 5\n",
            "Total number of elements in our tensor: 120\n"
          ]
        }
      ]
    },
    {
      "cell_type": "code",
      "source": [
        "# sample practice\n",
        "# we can put all the print statements in a function to reuse it whenever we want\n",
        "def print_attributes_of_tensor(tensor_name):\n",
        "   print(\"Datatype of every element\", tensor_name.dtype)\n",
        "   print(\"Number of dimensions (rank): \", tensor_name.ndim)\n",
        "   print(\"Shape of tensor: \", tensor_name.shape)\n",
        "   print(\"Elements along the 0 axis:\", tensor_name.shape[0])\n",
        "   print(\"Elements along the last axis:\", tensor_name.shape[-1])\n",
        "   print(\"Total number of elements in our tensor:\",tf.size(tensor_name).numpy())\n",
        "   return 0\n"
      ],
      "metadata": {
        "id": "4kvE_P82vGCw"
      },
      "execution_count": 48,
      "outputs": []
    },
    {
      "cell_type": "code",
      "source": [
        "print_attributes_of_tensor(rank_4_tensor)"
      ],
      "metadata": {
        "colab": {
          "base_uri": "https://localhost:8080/"
        },
        "id": "IRqjSADAv3AX",
        "outputId": "13418b67-ec0f-476e-dd0e-0d03e63574ae"
      },
      "execution_count": 49,
      "outputs": [
        {
          "output_type": "stream",
          "name": "stdout",
          "text": [
            "Datatype of every element <dtype: 'float32'>\n",
            "Number of dimensions (rank):  4\n",
            "Shape of tensor:  (2, 3, 4, 5)\n",
            "Elements along the 0 axis: 2\n",
            "Elements along the last axis: 5\n",
            "Total number of elements in our tensor: 120\n"
          ]
        },
        {
          "output_type": "execute_result",
          "data": {
            "text/plain": [
              "0"
            ]
          },
          "metadata": {},
          "execution_count": 49
        }
      ]
    },
    {
      "cell_type": "markdown",
      "source": [
        "Now, we can reuse the function to print the attributes of any tensor by passing the tensor name as function argument. We can add more print statement to display more attributes of the tensor."
      ],
      "metadata": {
        "id": "GWC9eRkAwBbv"
      }
    },
    {
      "cell_type": "markdown",
      "source": [
        "### Indexing tensors:\n",
        "Tensors can be indexed just like Python Lists"
      ],
      "metadata": {
        "id": "JX6Hj1f7wOT5"
      }
    },
    {
      "cell_type": "code",
      "source": [
        "some_list = [1,2,3,4]\n",
        "some_list[:2]"
      ],
      "metadata": {
        "colab": {
          "base_uri": "https://localhost:8080/"
        },
        "id": "n10vKRr0wpkc",
        "outputId": "7c2af1f0-1692-4107-c4ef-a3772f89ffba"
      },
      "execution_count": 50,
      "outputs": [
        {
          "output_type": "execute_result",
          "data": {
            "text/plain": [
              "[1, 2]"
            ]
          },
          "metadata": {},
          "execution_count": 50
        }
      ]
    },
    {
      "cell_type": "code",
      "source": [
        "some_list[:1]"
      ],
      "metadata": {
        "colab": {
          "base_uri": "https://localhost:8080/"
        },
        "id": "w1EHoQRgxcyw",
        "outputId": "4ebfdd56-c82a-4978-e4cf-c74a85a1414a"
      },
      "execution_count": 51,
      "outputs": [
        {
          "output_type": "execute_result",
          "data": {
            "text/plain": [
              "[1]"
            ]
          },
          "metadata": {},
          "execution_count": 51
        }
      ]
    },
    {
      "cell_type": "code",
      "source": [
        "# get the first 2 elements along each dimension\n",
        "rank_4_tensor[:2,:2,:2,:2]"
      ],
      "metadata": {
        "colab": {
          "base_uri": "https://localhost:8080/"
        },
        "id": "L_Df0GlKwfRH",
        "outputId": "9bd94ac2-1db8-486d-beac-d1cfb4d8e650"
      },
      "execution_count": 52,
      "outputs": [
        {
          "output_type": "execute_result",
          "data": {
            "text/plain": [
              "<tf.Tensor: shape=(2, 2, 2, 2), dtype=float32, numpy=\n",
              "array([[[[0., 0.],\n",
              "         [0., 0.]],\n",
              "\n",
              "        [[0., 0.],\n",
              "         [0., 0.]]],\n",
              "\n",
              "\n",
              "       [[[0., 0.],\n",
              "         [0., 0.]],\n",
              "\n",
              "        [[0., 0.],\n",
              "         [0., 0.]]]], dtype=float32)>"
            ]
          },
          "metadata": {},
          "execution_count": 52
        }
      ]
    },
    {
      "cell_type": "code",
      "source": [
        "rank_4_tensor.shape"
      ],
      "metadata": {
        "colab": {
          "base_uri": "https://localhost:8080/"
        },
        "id": "UhczbyxDxOUY",
        "outputId": "c8b08225-1f36-4154-e5b9-2debffc1df42"
      },
      "execution_count": 53,
      "outputs": [
        {
          "output_type": "execute_result",
          "data": {
            "text/plain": [
              "TensorShape([2, 3, 4, 5])"
            ]
          },
          "metadata": {},
          "execution_count": 53
        }
      ]
    },
    {
      "cell_type": "code",
      "source": [
        "# Get the first element from each dimension from each index except for the final one\n",
        "rank_4_tensor[:,:1,:1,:]"
      ],
      "metadata": {
        "colab": {
          "base_uri": "https://localhost:8080/"
        },
        "id": "4nu9zSraw7lN",
        "outputId": "c0152423-3443-4e08-b129-340df6c3a75b"
      },
      "execution_count": 54,
      "outputs": [
        {
          "output_type": "execute_result",
          "data": {
            "text/plain": [
              "<tf.Tensor: shape=(2, 1, 1, 5), dtype=float32, numpy=\n",
              "array([[[[0., 0., 0., 0., 0.]]],\n",
              "\n",
              "\n",
              "       [[[0., 0., 0., 0., 0.]]]], dtype=float32)>"
            ]
          },
          "metadata": {},
          "execution_count": 54
        }
      ]
    },
    {
      "cell_type": "code",
      "source": [
        "# create a rank 2 tensor(2 dimensions)\n",
        "rank_2_tensor = tf.constant([[10,7],\n",
        "                             [3,4]])\n",
        "rank_2_tensor"
      ],
      "metadata": {
        "colab": {
          "base_uri": "https://localhost:8080/"
        },
        "id": "HI_JE7tXxgA7",
        "outputId": "a7c5585a-ffee-4d61-e584-c0824650fe67"
      },
      "execution_count": 55,
      "outputs": [
        {
          "output_type": "execute_result",
          "data": {
            "text/plain": [
              "<tf.Tensor: shape=(2, 2), dtype=int32, numpy=\n",
              "array([[10,  7],\n",
              "       [ 3,  4]], dtype=int32)>"
            ]
          },
          "metadata": {},
          "execution_count": 55
        }
      ]
    },
    {
      "cell_type": "code",
      "source": [
        "print_attributes_of_tensor(rank_2_tensor)"
      ],
      "metadata": {
        "colab": {
          "base_uri": "https://localhost:8080/"
        },
        "id": "VimQxubVyBcV",
        "outputId": "8a0979f1-3da2-487f-b983-ab58ff0bb1fe"
      },
      "execution_count": 56,
      "outputs": [
        {
          "output_type": "stream",
          "name": "stdout",
          "text": [
            "Datatype of every element <dtype: 'int32'>\n",
            "Number of dimensions (rank):  2\n",
            "Shape of tensor:  (2, 2)\n",
            "Elements along the 0 axis: 2\n",
            "Elements along the last axis: 2\n",
            "Total number of elements in our tensor: 4\n"
          ]
        },
        {
          "output_type": "execute_result",
          "data": {
            "text/plain": [
              "0"
            ]
          },
          "metadata": {},
          "execution_count": 56
        }
      ]
    },
    {
      "cell_type": "code",
      "source": [
        "some_list, some_list[-1]"
      ],
      "metadata": {
        "colab": {
          "base_uri": "https://localhost:8080/"
        },
        "id": "9w3eHXuextIc",
        "outputId": "512c54d3-d6a8-4b79-f205-04976bba36c5"
      },
      "execution_count": 57,
      "outputs": [
        {
          "output_type": "execute_result",
          "data": {
            "text/plain": [
              "([1, 2, 3, 4], 4)"
            ]
          },
          "metadata": {},
          "execution_count": 57
        }
      ]
    },
    {
      "cell_type": "code",
      "source": [
        "# Get the last item of each of row of our rank2 tensor:\n",
        "rank_2_tensor[:,-1]"
      ],
      "metadata": {
        "colab": {
          "base_uri": "https://localhost:8080/"
        },
        "id": "LsN3gpqTxtC1",
        "outputId": "e2033b1c-708c-43d1-e5be-1ba9f5c94b2f"
      },
      "execution_count": 58,
      "outputs": [
        {
          "output_type": "execute_result",
          "data": {
            "text/plain": [
              "<tf.Tensor: shape=(2,), dtype=int32, numpy=array([7, 4], dtype=int32)>"
            ]
          },
          "metadata": {},
          "execution_count": 58
        }
      ]
    },
    {
      "cell_type": "code",
      "source": [
        "# Add in extra dimension to our rank 2 tensor\n",
        "rank_3_tensor = rank_2_tensor[..., tf.newaxis]\n",
        "rank_3_tensor"
      ],
      "metadata": {
        "colab": {
          "base_uri": "https://localhost:8080/"
        },
        "id": "2HlMSlVKx7Z1",
        "outputId": "dd663149-5b05-4ec0-ed6d-323b88f0b6db"
      },
      "execution_count": 59,
      "outputs": [
        {
          "output_type": "execute_result",
          "data": {
            "text/plain": [
              "<tf.Tensor: shape=(2, 2, 1), dtype=int32, numpy=\n",
              "array([[[10],\n",
              "        [ 7]],\n",
              "\n",
              "       [[ 3],\n",
              "        [ 4]]], dtype=int32)>"
            ]
          },
          "metadata": {},
          "execution_count": 59
        }
      ]
    },
    {
      "cell_type": "markdown",
      "source": [
        "**we added a new dimension at the end**  \n",
        "\"...\" means indicating all the other previous present dimensions and the new axis gets added at the end"
      ],
      "metadata": {
        "id": "2hG2cnJ6x7V-"
      }
    },
    {
      "cell_type": "code",
      "source": [
        "# Alternative to tf.newaxis\n",
        "tf.expand_dims(rank_2_tensor, axis = -1) # \"-1\" means expand the final axis\n",
        "# see the documentation for more details"
      ],
      "metadata": {
        "id": "d6Im0KxmycxM",
        "colab": {
          "base_uri": "https://localhost:8080/"
        },
        "outputId": "31e19e40-e3b2-4d83-f40a-ded782b40a87"
      },
      "execution_count": 60,
      "outputs": [
        {
          "output_type": "execute_result",
          "data": {
            "text/plain": [
              "<tf.Tensor: shape=(2, 2, 1), dtype=int32, numpy=\n",
              "array([[[10],\n",
              "        [ 7]],\n",
              "\n",
              "       [[ 3],\n",
              "        [ 4]]], dtype=int32)>"
            ]
          },
          "metadata": {},
          "execution_count": 60
        }
      ]
    },
    {
      "cell_type": "code",
      "source": [
        "# Expand the 0-axis:\n",
        "tf.expand_dims(rank_2_tensor, axis = 0) # expand the 0-axis\n"
      ],
      "metadata": {
        "colab": {
          "base_uri": "https://localhost:8080/"
        },
        "id": "MztjRjUfycCO",
        "outputId": "48ba498e-df16-4f01-8d5f-6c6a3cfac1b3"
      },
      "execution_count": 61,
      "outputs": [
        {
          "output_type": "execute_result",
          "data": {
            "text/plain": [
              "<tf.Tensor: shape=(1, 2, 2), dtype=int32, numpy=\n",
              "array([[[10,  7],\n",
              "        [ 3,  4]]], dtype=int32)>"
            ]
          },
          "metadata": {},
          "execution_count": 61
        }
      ]
    },
    {
      "cell_type": "code",
      "source": [
        "# one more example:\n",
        "tf.expand_dims(rank_2_tensor, axis = 1)"
      ],
      "metadata": {
        "colab": {
          "base_uri": "https://localhost:8080/"
        },
        "id": "ziSi_Z2zzHb4",
        "outputId": "dcac91b5-4d3f-4c19-f01c-7d3d3a47e5d2"
      },
      "execution_count": 62,
      "outputs": [
        {
          "output_type": "execute_result",
          "data": {
            "text/plain": [
              "<tf.Tensor: shape=(2, 1, 2), dtype=int32, numpy=\n",
              "array([[[10,  7]],\n",
              "\n",
              "       [[ 3,  4]]], dtype=int32)>"
            ]
          },
          "metadata": {},
          "execution_count": 62
        }
      ]
    },
    {
      "cell_type": "code",
      "source": [
        "# More practice on indexing tensors"
      ],
      "metadata": {
        "id": "lxPscFdxw3mJ"
      },
      "execution_count": 63,
      "outputs": []
    },
    {
      "cell_type": "markdown",
      "source": [
        "### Manipulating tensors(tensors operations):\n",
        "\n",
        "**Basic Operations** \n",
        "`+`,`-`,`*`,`/`\n"
      ],
      "metadata": {
        "id": "eiWEH_QQzQMi"
      }
    },
    {
      "cell_type": "code",
      "source": [
        "# You can add values to a tensor using the addition operator\n",
        "tensor = tf.constant([[10,7],\n",
        "                      [3,4]])\n",
        "tensor+10"
      ],
      "metadata": {
        "colab": {
          "base_uri": "https://localhost:8080/"
        },
        "id": "33vrTRpOzTh4",
        "outputId": "c2a08d0f-6748-430b-f8d4-730e6d5f9baf"
      },
      "execution_count": 64,
      "outputs": [
        {
          "output_type": "execute_result",
          "data": {
            "text/plain": [
              "<tf.Tensor: shape=(2, 2), dtype=int32, numpy=\n",
              "array([[20, 17],\n",
              "       [13, 14]], dtype=int32)>"
            ]
          },
          "metadata": {},
          "execution_count": 64
        }
      ]
    },
    {
      "cell_type": "code",
      "source": [
        "tensor*15"
      ],
      "metadata": {
        "colab": {
          "base_uri": "https://localhost:8080/"
        },
        "id": "9Yvrkxi1zt2w",
        "outputId": "ee26e0a6-8871-40d2-cd34-6cc797c0339f"
      },
      "execution_count": 65,
      "outputs": [
        {
          "output_type": "execute_result",
          "data": {
            "text/plain": [
              "<tf.Tensor: shape=(2, 2), dtype=int32, numpy=\n",
              "array([[150, 105],\n",
              "       [ 45,  60]], dtype=int32)>"
            ]
          },
          "metadata": {},
          "execution_count": 65
        }
      ]
    },
    {
      "cell_type": "code",
      "source": [
        "tensor - 10"
      ],
      "metadata": {
        "colab": {
          "base_uri": "https://localhost:8080/"
        },
        "id": "nvJF_7IDzxGB",
        "outputId": "6a6e7c88-b039-4208-8e2c-a02f0645ad64"
      },
      "execution_count": 66,
      "outputs": [
        {
          "output_type": "execute_result",
          "data": {
            "text/plain": [
              "<tf.Tensor: shape=(2, 2), dtype=int32, numpy=\n",
              "array([[ 0, -3],\n",
              "       [-7, -6]], dtype=int32)>"
            ]
          },
          "metadata": {},
          "execution_count": 66
        }
      ]
    },
    {
      "cell_type": "code",
      "source": [
        "tensor /10"
      ],
      "metadata": {
        "colab": {
          "base_uri": "https://localhost:8080/"
        },
        "id": "diTg-KXSzzfB",
        "outputId": "e8091b30-f1ff-41ff-b4f7-f75eeed6388c"
      },
      "execution_count": 67,
      "outputs": [
        {
          "output_type": "execute_result",
          "data": {
            "text/plain": [
              "<tf.Tensor: shape=(2, 2), dtype=float64, numpy=\n",
              "array([[1. , 0.7],\n",
              "       [0.3, 0.4]])>"
            ]
          },
          "metadata": {},
          "execution_count": 67
        }
      ]
    },
    {
      "cell_type": "code",
      "source": [
        "# original tensor remains the same\n",
        "tensor"
      ],
      "metadata": {
        "colab": {
          "base_uri": "https://localhost:8080/"
        },
        "id": "EaRSC2Nuepxd",
        "outputId": "79b421f8-64ee-4a47-d935-ca539a33d8cb"
      },
      "execution_count": 68,
      "outputs": [
        {
          "output_type": "execute_result",
          "data": {
            "text/plain": [
              "<tf.Tensor: shape=(2, 2), dtype=int32, numpy=\n",
              "array([[10,  7],\n",
              "       [ 3,  4]], dtype=int32)>"
            ]
          },
          "metadata": {},
          "execution_count": 68
        }
      ]
    },
    {
      "cell_type": "code",
      "source": [
        "# we can use the tensor flow built-in function also\n",
        "tf.math.multiply(tensor,3)"
      ],
      "metadata": {
        "colab": {
          "base_uri": "https://localhost:8080/"
        },
        "id": "kLs8Ywukz0_4",
        "outputId": "e7062208-0fd1-4795-fafa-2c3a4da30201"
      },
      "execution_count": 69,
      "outputs": [
        {
          "output_type": "execute_result",
          "data": {
            "text/plain": [
              "<tf.Tensor: shape=(2, 2), dtype=int32, numpy=\n",
              "array([[30, 21],\n",
              "       [ 9, 12]], dtype=int32)>"
            ]
          },
          "metadata": {},
          "execution_count": 69
        }
      ]
    },
    {
      "cell_type": "code",
      "source": [
        "# we can use alias and avoid using tf.math.add instead we can just use tf.add\n",
        "tf.add(tensor,tensor)"
      ],
      "metadata": {
        "colab": {
          "base_uri": "https://localhost:8080/"
        },
        "id": "D0KfO_fP0EI4",
        "outputId": "579be40d-f570-46c9-93b7-db8415e85212"
      },
      "execution_count": 70,
      "outputs": [
        {
          "output_type": "execute_result",
          "data": {
            "text/plain": [
              "<tf.Tensor: shape=(2, 2), dtype=int32, numpy=\n",
              "array([[20, 14],\n",
              "       [ 6,  8]], dtype=int32)>"
            ]
          },
          "metadata": {},
          "execution_count": 70
        }
      ]
    },
    {
      "cell_type": "markdown",
      "source": [
        "### Matrix Multiplication in TensorFlow:\n",
        "\n",
        "In Machine learning, matrix multiplication is one of the most common tensor operations."
      ],
      "metadata": {
        "id": "h32Gj2o20IOA"
      }
    },
    {
      "cell_type": "code",
      "source": [
        "# Matrix Multiplication in tensorflow: tf.linalg.matmul\n",
        "print(tensor)\n",
        "tf.linalg.matmul(tensor, tensor) # or tf.matmul also works\n"
      ],
      "metadata": {
        "colab": {
          "base_uri": "https://localhost:8080/"
        },
        "id": "gg9AqypS2YUB",
        "outputId": "b2ba7a33-593d-4d39-eba7-ef4ef8bd80eb"
      },
      "execution_count": 71,
      "outputs": [
        {
          "output_type": "stream",
          "name": "stdout",
          "text": [
            "tf.Tensor(\n",
            "[[10  7]\n",
            " [ 3  4]], shape=(2, 2), dtype=int32)\n"
          ]
        },
        {
          "output_type": "execute_result",
          "data": {
            "text/plain": [
              "<tf.Tensor: shape=(2, 2), dtype=int32, numpy=\n",
              "array([[121,  98],\n",
              "       [ 42,  37]], dtype=int32)>"
            ]
          },
          "metadata": {},
          "execution_count": 71
        }
      ]
    },
    {
      "cell_type": "code",
      "source": [
        "tensor, tensor"
      ],
      "metadata": {
        "colab": {
          "base_uri": "https://localhost:8080/"
        },
        "id": "Qn9WOyDp3U7j",
        "outputId": "64e99431-2065-4856-c269-ec233187ec7a"
      },
      "execution_count": 72,
      "outputs": [
        {
          "output_type": "execute_result",
          "data": {
            "text/plain": [
              "(<tf.Tensor: shape=(2, 2), dtype=int32, numpy=\n",
              " array([[10,  7],\n",
              "        [ 3,  4]], dtype=int32)>, <tf.Tensor: shape=(2, 2), dtype=int32, numpy=\n",
              " array([[10,  7],\n",
              "        [ 3,  4]], dtype=int32)>)"
            ]
          },
          "metadata": {},
          "execution_count": 72
        }
      ]
    },
    {
      "cell_type": "code",
      "source": [
        "# It is performing the element-wise multiplication on tensors\n",
        "tensor * tensor"
      ],
      "metadata": {
        "colab": {
          "base_uri": "https://localhost:8080/"
        },
        "id": "UXolipLh252R",
        "outputId": "b154ede5-76e3-4e86-9f08-d6c7cfbaca7c"
      },
      "execution_count": 73,
      "outputs": [
        {
          "output_type": "execute_result",
          "data": {
            "text/plain": [
              "<tf.Tensor: shape=(2, 2), dtype=int32, numpy=\n",
              "array([[100,  49],\n",
              "       [  9,  16]], dtype=int32)>"
            ]
          },
          "metadata": {},
          "execution_count": 73
        }
      ]
    },
    {
      "cell_type": "code",
      "source": [
        "# matrix multiplication with Python opertor \"@\"\n",
        "tensor @ tensor"
      ],
      "metadata": {
        "colab": {
          "base_uri": "https://localhost:8080/"
        },
        "id": "FbN2_cV1293p",
        "outputId": "43c10e0f-3559-4a6d-ca2c-0c809393a8be"
      },
      "execution_count": 74,
      "outputs": [
        {
          "output_type": "execute_result",
          "data": {
            "text/plain": [
              "<tf.Tensor: shape=(2, 2), dtype=int32, numpy=\n",
              "array([[121,  98],\n",
              "       [ 42,  37]], dtype=int32)>"
            ]
          },
          "metadata": {},
          "execution_count": 74
        }
      ]
    },
    {
      "cell_type": "code",
      "source": [
        "#check the shape of the tensor\n",
        "tensor.shape"
      ],
      "metadata": {
        "colab": {
          "base_uri": "https://localhost:8080/"
        },
        "id": "oQx82WZS3ghI",
        "outputId": "704fea97-08c9-453e-86e1-81cff32c08e4"
      },
      "execution_count": 75,
      "outputs": [
        {
          "output_type": "execute_result",
          "data": {
            "text/plain": [
              "TensorShape([2, 2])"
            ]
          },
          "metadata": {},
          "execution_count": 75
        }
      ]
    },
    {
      "cell_type": "code",
      "source": [
        "# create a tensor (3,2) \n",
        "X = tf.constant([[1,2],\n",
        "                 [3,4],\n",
        "                 [5,6]])\n",
        "# create another (3,2) \n",
        "Y = tf.constant([[7,8],\n",
        "                 [9,10],\n",
        "                 [11,12]])            \n",
        "                 "
      ],
      "metadata": {
        "id": "twYRpHsv3i9S"
      },
      "execution_count": 76,
      "outputs": []
    },
    {
      "cell_type": "code",
      "source": [
        "# Try to matrix multiply tensors of same shape.\n",
        "X @ Y\n",
        "''' This gives an error because X and Y doesn't satisfy \n",
        "the criteria for matrix multiplication '''"
      ],
      "metadata": {
        "colab": {
          "base_uri": "https://localhost:8080/",
          "height": 364
        },
        "id": "656wkKxB4IeA",
        "outputId": "464f8a1c-d31a-4e85-b4fe-d41339bee47b"
      },
      "execution_count": 77,
      "outputs": [
        {
          "output_type": "error",
          "ename": "InvalidArgumentError",
          "evalue": "ignored",
          "traceback": [
            "\u001b[0;31m---------------------------------------------------------------------------\u001b[0m",
            "\u001b[0;31mInvalidArgumentError\u001b[0m                      Traceback (most recent call last)",
            "\u001b[0;32m<ipython-input-77-04133f28c872>\u001b[0m in \u001b[0;36m<module>\u001b[0;34m()\u001b[0m\n\u001b[1;32m      1\u001b[0m \u001b[0;31m# Try to matrix multiply tensors of same shape.\u001b[0m\u001b[0;34m\u001b[0m\u001b[0;34m\u001b[0m\u001b[0;34m\u001b[0m\u001b[0m\n\u001b[0;32m----> 2\u001b[0;31m \u001b[0mX\u001b[0m \u001b[0;34m@\u001b[0m \u001b[0mY\u001b[0m\u001b[0;34m\u001b[0m\u001b[0;34m\u001b[0m\u001b[0m\n\u001b[0m\u001b[1;32m      3\u001b[0m ''' This gives an error because X and Y doesn't satisfy \n\u001b[1;32m      4\u001b[0m the criteria for matrix multiplication '''\n",
            "\u001b[0;32m/usr/local/lib/python3.7/dist-packages/tensorflow/python/util/traceback_utils.py\u001b[0m in \u001b[0;36merror_handler\u001b[0;34m(*args, **kwargs)\u001b[0m\n\u001b[1;32m    151\u001b[0m     \u001b[0;32mexcept\u001b[0m \u001b[0mException\u001b[0m \u001b[0;32mas\u001b[0m \u001b[0me\u001b[0m\u001b[0;34m:\u001b[0m\u001b[0;34m\u001b[0m\u001b[0;34m\u001b[0m\u001b[0m\n\u001b[1;32m    152\u001b[0m       \u001b[0mfiltered_tb\u001b[0m \u001b[0;34m=\u001b[0m \u001b[0m_process_traceback_frames\u001b[0m\u001b[0;34m(\u001b[0m\u001b[0me\u001b[0m\u001b[0;34m.\u001b[0m\u001b[0m__traceback__\u001b[0m\u001b[0;34m)\u001b[0m\u001b[0;34m\u001b[0m\u001b[0;34m\u001b[0m\u001b[0m\n\u001b[0;32m--> 153\u001b[0;31m       \u001b[0;32mraise\u001b[0m \u001b[0me\u001b[0m\u001b[0;34m.\u001b[0m\u001b[0mwith_traceback\u001b[0m\u001b[0;34m(\u001b[0m\u001b[0mfiltered_tb\u001b[0m\u001b[0;34m)\u001b[0m \u001b[0;32mfrom\u001b[0m \u001b[0;32mNone\u001b[0m\u001b[0;34m\u001b[0m\u001b[0;34m\u001b[0m\u001b[0m\n\u001b[0m\u001b[1;32m    154\u001b[0m     \u001b[0;32mfinally\u001b[0m\u001b[0;34m:\u001b[0m\u001b[0;34m\u001b[0m\u001b[0;34m\u001b[0m\u001b[0m\n\u001b[1;32m    155\u001b[0m       \u001b[0;32mdel\u001b[0m \u001b[0mfiltered_tb\u001b[0m\u001b[0;34m\u001b[0m\u001b[0;34m\u001b[0m\u001b[0m\n",
            "\u001b[0;32m/usr/local/lib/python3.7/dist-packages/tensorflow/python/framework/ops.py\u001b[0m in \u001b[0;36mraise_from_not_ok_status\u001b[0;34m(e, name)\u001b[0m\n\u001b[1;32m   7105\u001b[0m \u001b[0;32mdef\u001b[0m \u001b[0mraise_from_not_ok_status\u001b[0m\u001b[0;34m(\u001b[0m\u001b[0me\u001b[0m\u001b[0;34m,\u001b[0m \u001b[0mname\u001b[0m\u001b[0;34m)\u001b[0m\u001b[0;34m:\u001b[0m\u001b[0;34m\u001b[0m\u001b[0;34m\u001b[0m\u001b[0m\n\u001b[1;32m   7106\u001b[0m   \u001b[0me\u001b[0m\u001b[0;34m.\u001b[0m\u001b[0mmessage\u001b[0m \u001b[0;34m+=\u001b[0m \u001b[0;34m(\u001b[0m\u001b[0;34m\" name: \"\u001b[0m \u001b[0;34m+\u001b[0m \u001b[0mname\u001b[0m \u001b[0;32mif\u001b[0m \u001b[0mname\u001b[0m \u001b[0;32mis\u001b[0m \u001b[0;32mnot\u001b[0m \u001b[0;32mNone\u001b[0m \u001b[0;32melse\u001b[0m \u001b[0;34m\"\"\u001b[0m\u001b[0;34m)\u001b[0m\u001b[0;34m\u001b[0m\u001b[0;34m\u001b[0m\u001b[0m\n\u001b[0;32m-> 7107\u001b[0;31m   \u001b[0;32mraise\u001b[0m \u001b[0mcore\u001b[0m\u001b[0;34m.\u001b[0m\u001b[0m_status_to_exception\u001b[0m\u001b[0;34m(\u001b[0m\u001b[0me\u001b[0m\u001b[0;34m)\u001b[0m \u001b[0;32mfrom\u001b[0m \u001b[0;32mNone\u001b[0m  \u001b[0;31m# pylint: disable=protected-access\u001b[0m\u001b[0;34m\u001b[0m\u001b[0;34m\u001b[0m\u001b[0m\n\u001b[0m\u001b[1;32m   7108\u001b[0m \u001b[0;34m\u001b[0m\u001b[0m\n\u001b[1;32m   7109\u001b[0m \u001b[0;34m\u001b[0m\u001b[0m\n",
            "\u001b[0;31mInvalidArgumentError\u001b[0m: Matrix size-incompatible: In[0]: [3,2], In[1]: [3,2] [Op:MatMul]"
          ]
        }
      ]
    },
    {
      "cell_type": "code",
      "source": [
        "# Try to matrix multiply tensors of same shape.\n",
        "tf.matmul(X,Y)\n",
        "''' This gives an error because X and Y doesn't satisfy \n",
        "the criteria for matrix multiplication '''"
      ],
      "metadata": {
        "colab": {
          "base_uri": "https://localhost:8080/",
          "height": 364
        },
        "id": "JXARxYZ1k6VR",
        "outputId": "59b97f22-f429-4d76-b672-6676225d60a9"
      },
      "execution_count": 78,
      "outputs": [
        {
          "output_type": "error",
          "ename": "InvalidArgumentError",
          "evalue": "ignored",
          "traceback": [
            "\u001b[0;31m---------------------------------------------------------------------------\u001b[0m",
            "\u001b[0;31mInvalidArgumentError\u001b[0m                      Traceback (most recent call last)",
            "\u001b[0;32m<ipython-input-78-6bfc63f024cf>\u001b[0m in \u001b[0;36m<module>\u001b[0;34m()\u001b[0m\n\u001b[1;32m      1\u001b[0m \u001b[0;31m# Try to matrix multiply tensors of same shape.\u001b[0m\u001b[0;34m\u001b[0m\u001b[0;34m\u001b[0m\u001b[0;34m\u001b[0m\u001b[0m\n\u001b[0;32m----> 2\u001b[0;31m \u001b[0mtf\u001b[0m\u001b[0;34m.\u001b[0m\u001b[0mmatmul\u001b[0m\u001b[0;34m(\u001b[0m\u001b[0mX\u001b[0m\u001b[0;34m,\u001b[0m\u001b[0mY\u001b[0m\u001b[0;34m)\u001b[0m\u001b[0;34m\u001b[0m\u001b[0;34m\u001b[0m\u001b[0m\n\u001b[0m\u001b[1;32m      3\u001b[0m ''' This gives an error because X and Y doesn't satisfy \n\u001b[1;32m      4\u001b[0m the criteria for matrix multiplication '''\n",
            "\u001b[0;32m/usr/local/lib/python3.7/dist-packages/tensorflow/python/util/traceback_utils.py\u001b[0m in \u001b[0;36merror_handler\u001b[0;34m(*args, **kwargs)\u001b[0m\n\u001b[1;32m    151\u001b[0m     \u001b[0;32mexcept\u001b[0m \u001b[0mException\u001b[0m \u001b[0;32mas\u001b[0m \u001b[0me\u001b[0m\u001b[0;34m:\u001b[0m\u001b[0;34m\u001b[0m\u001b[0;34m\u001b[0m\u001b[0m\n\u001b[1;32m    152\u001b[0m       \u001b[0mfiltered_tb\u001b[0m \u001b[0;34m=\u001b[0m \u001b[0m_process_traceback_frames\u001b[0m\u001b[0;34m(\u001b[0m\u001b[0me\u001b[0m\u001b[0;34m.\u001b[0m\u001b[0m__traceback__\u001b[0m\u001b[0;34m)\u001b[0m\u001b[0;34m\u001b[0m\u001b[0;34m\u001b[0m\u001b[0m\n\u001b[0;32m--> 153\u001b[0;31m       \u001b[0;32mraise\u001b[0m \u001b[0me\u001b[0m\u001b[0;34m.\u001b[0m\u001b[0mwith_traceback\u001b[0m\u001b[0;34m(\u001b[0m\u001b[0mfiltered_tb\u001b[0m\u001b[0;34m)\u001b[0m \u001b[0;32mfrom\u001b[0m \u001b[0;32mNone\u001b[0m\u001b[0;34m\u001b[0m\u001b[0;34m\u001b[0m\u001b[0m\n\u001b[0m\u001b[1;32m    154\u001b[0m     \u001b[0;32mfinally\u001b[0m\u001b[0;34m:\u001b[0m\u001b[0;34m\u001b[0m\u001b[0;34m\u001b[0m\u001b[0m\n\u001b[1;32m    155\u001b[0m       \u001b[0;32mdel\u001b[0m \u001b[0mfiltered_tb\u001b[0m\u001b[0;34m\u001b[0m\u001b[0;34m\u001b[0m\u001b[0m\n",
            "\u001b[0;32m/usr/local/lib/python3.7/dist-packages/tensorflow/python/framework/ops.py\u001b[0m in \u001b[0;36mraise_from_not_ok_status\u001b[0;34m(e, name)\u001b[0m\n\u001b[1;32m   7105\u001b[0m \u001b[0;32mdef\u001b[0m \u001b[0mraise_from_not_ok_status\u001b[0m\u001b[0;34m(\u001b[0m\u001b[0me\u001b[0m\u001b[0;34m,\u001b[0m \u001b[0mname\u001b[0m\u001b[0;34m)\u001b[0m\u001b[0;34m:\u001b[0m\u001b[0;34m\u001b[0m\u001b[0;34m\u001b[0m\u001b[0m\n\u001b[1;32m   7106\u001b[0m   \u001b[0me\u001b[0m\u001b[0;34m.\u001b[0m\u001b[0mmessage\u001b[0m \u001b[0;34m+=\u001b[0m \u001b[0;34m(\u001b[0m\u001b[0;34m\" name: \"\u001b[0m \u001b[0;34m+\u001b[0m \u001b[0mname\u001b[0m \u001b[0;32mif\u001b[0m \u001b[0mname\u001b[0m \u001b[0;32mis\u001b[0m \u001b[0;32mnot\u001b[0m \u001b[0;32mNone\u001b[0m \u001b[0;32melse\u001b[0m \u001b[0;34m\"\"\u001b[0m\u001b[0;34m)\u001b[0m\u001b[0;34m\u001b[0m\u001b[0;34m\u001b[0m\u001b[0m\n\u001b[0;32m-> 7107\u001b[0;31m   \u001b[0;32mraise\u001b[0m \u001b[0mcore\u001b[0m\u001b[0;34m.\u001b[0m\u001b[0m_status_to_exception\u001b[0m\u001b[0;34m(\u001b[0m\u001b[0me\u001b[0m\u001b[0;34m)\u001b[0m \u001b[0;32mfrom\u001b[0m \u001b[0;32mNone\u001b[0m  \u001b[0;31m# pylint: disable=protected-access\u001b[0m\u001b[0;34m\u001b[0m\u001b[0;34m\u001b[0m\u001b[0m\n\u001b[0m\u001b[1;32m   7108\u001b[0m \u001b[0;34m\u001b[0m\u001b[0m\n\u001b[1;32m   7109\u001b[0m \u001b[0;34m\u001b[0m\u001b[0m\n",
            "\u001b[0;31mInvalidArgumentError\u001b[0m: Matrix size-incompatible: In[0]: [3,2], In[1]: [3,2] [Op:MatMul]"
          ]
        }
      ]
    },
    {
      "cell_type": "markdown",
      "source": [
        "This fails because for two matrices to be multiplied the dimensions should satisfy these two  criteria: \n",
        "* Inner dimensions must match\n",
        "* The resulting matrix has the shape of the inner dimensions"
      ],
      "metadata": {
        "id": "2-QROJIu4pDl"
      }
    },
    {
      "cell_type": "code",
      "source": [
        "# Make the inner dimensions of X and Y match and then mutliply the matrices\n",
        "tf.reshape(Y, shape = (2,3))\n"
      ],
      "metadata": {
        "id": "DYjvOIgb4jM4",
        "colab": {
          "base_uri": "https://localhost:8080/"
        },
        "outputId": "a753d87e-1af3-48db-e785-8b73b85272c9"
      },
      "execution_count": 79,
      "outputs": [
        {
          "output_type": "execute_result",
          "data": {
            "text/plain": [
              "<tf.Tensor: shape=(2, 3), dtype=int32, numpy=\n",
              "array([[ 7,  8,  9],\n",
              "       [10, 11, 12]], dtype=int32)>"
            ]
          },
          "metadata": {},
          "execution_count": 79
        }
      ]
    },
    {
      "cell_type": "code",
      "source": [
        "# now we mutliply and check\n",
        "tf.matmul(X,Y)\n"
      ],
      "metadata": {
        "colab": {
          "base_uri": "https://localhost:8080/",
          "height": 329
        },
        "id": "I0pO0OQPoFQ2",
        "outputId": "9073b312-c886-4bbd-ab7e-7233dc82274a"
      },
      "execution_count": 80,
      "outputs": [
        {
          "output_type": "error",
          "ename": "InvalidArgumentError",
          "evalue": "ignored",
          "traceback": [
            "\u001b[0;31m---------------------------------------------------------------------------\u001b[0m",
            "\u001b[0;31mInvalidArgumentError\u001b[0m                      Traceback (most recent call last)",
            "\u001b[0;32m<ipython-input-80-9e9781d51065>\u001b[0m in \u001b[0;36m<module>\u001b[0;34m()\u001b[0m\n\u001b[1;32m      1\u001b[0m \u001b[0;31m# now we mutliply and check\u001b[0m\u001b[0;34m\u001b[0m\u001b[0;34m\u001b[0m\u001b[0;34m\u001b[0m\u001b[0m\n\u001b[0;32m----> 2\u001b[0;31m \u001b[0mtf\u001b[0m\u001b[0;34m.\u001b[0m\u001b[0mmatmul\u001b[0m\u001b[0;34m(\u001b[0m\u001b[0mX\u001b[0m\u001b[0;34m,\u001b[0m\u001b[0mY\u001b[0m\u001b[0;34m)\u001b[0m\u001b[0;34m\u001b[0m\u001b[0;34m\u001b[0m\u001b[0m\n\u001b[0m",
            "\u001b[0;32m/usr/local/lib/python3.7/dist-packages/tensorflow/python/util/traceback_utils.py\u001b[0m in \u001b[0;36merror_handler\u001b[0;34m(*args, **kwargs)\u001b[0m\n\u001b[1;32m    151\u001b[0m     \u001b[0;32mexcept\u001b[0m \u001b[0mException\u001b[0m \u001b[0;32mas\u001b[0m \u001b[0me\u001b[0m\u001b[0;34m:\u001b[0m\u001b[0;34m\u001b[0m\u001b[0;34m\u001b[0m\u001b[0m\n\u001b[1;32m    152\u001b[0m       \u001b[0mfiltered_tb\u001b[0m \u001b[0;34m=\u001b[0m \u001b[0m_process_traceback_frames\u001b[0m\u001b[0;34m(\u001b[0m\u001b[0me\u001b[0m\u001b[0;34m.\u001b[0m\u001b[0m__traceback__\u001b[0m\u001b[0;34m)\u001b[0m\u001b[0;34m\u001b[0m\u001b[0;34m\u001b[0m\u001b[0m\n\u001b[0;32m--> 153\u001b[0;31m       \u001b[0;32mraise\u001b[0m \u001b[0me\u001b[0m\u001b[0;34m.\u001b[0m\u001b[0mwith_traceback\u001b[0m\u001b[0;34m(\u001b[0m\u001b[0mfiltered_tb\u001b[0m\u001b[0;34m)\u001b[0m \u001b[0;32mfrom\u001b[0m \u001b[0;32mNone\u001b[0m\u001b[0;34m\u001b[0m\u001b[0;34m\u001b[0m\u001b[0m\n\u001b[0m\u001b[1;32m    154\u001b[0m     \u001b[0;32mfinally\u001b[0m\u001b[0;34m:\u001b[0m\u001b[0;34m\u001b[0m\u001b[0;34m\u001b[0m\u001b[0m\n\u001b[1;32m    155\u001b[0m       \u001b[0;32mdel\u001b[0m \u001b[0mfiltered_tb\u001b[0m\u001b[0;34m\u001b[0m\u001b[0;34m\u001b[0m\u001b[0m\n",
            "\u001b[0;32m/usr/local/lib/python3.7/dist-packages/tensorflow/python/framework/ops.py\u001b[0m in \u001b[0;36mraise_from_not_ok_status\u001b[0;34m(e, name)\u001b[0m\n\u001b[1;32m   7105\u001b[0m \u001b[0;32mdef\u001b[0m \u001b[0mraise_from_not_ok_status\u001b[0m\u001b[0;34m(\u001b[0m\u001b[0me\u001b[0m\u001b[0;34m,\u001b[0m \u001b[0mname\u001b[0m\u001b[0;34m)\u001b[0m\u001b[0;34m:\u001b[0m\u001b[0;34m\u001b[0m\u001b[0;34m\u001b[0m\u001b[0m\n\u001b[1;32m   7106\u001b[0m   \u001b[0me\u001b[0m\u001b[0;34m.\u001b[0m\u001b[0mmessage\u001b[0m \u001b[0;34m+=\u001b[0m \u001b[0;34m(\u001b[0m\u001b[0;34m\" name: \"\u001b[0m \u001b[0;34m+\u001b[0m \u001b[0mname\u001b[0m \u001b[0;32mif\u001b[0m \u001b[0mname\u001b[0m \u001b[0;32mis\u001b[0m \u001b[0;32mnot\u001b[0m \u001b[0;32mNone\u001b[0m \u001b[0;32melse\u001b[0m \u001b[0;34m\"\"\u001b[0m\u001b[0;34m)\u001b[0m\u001b[0;34m\u001b[0m\u001b[0;34m\u001b[0m\u001b[0m\n\u001b[0;32m-> 7107\u001b[0;31m   \u001b[0;32mraise\u001b[0m \u001b[0mcore\u001b[0m\u001b[0;34m.\u001b[0m\u001b[0m_status_to_exception\u001b[0m\u001b[0;34m(\u001b[0m\u001b[0me\u001b[0m\u001b[0;34m)\u001b[0m \u001b[0;32mfrom\u001b[0m \u001b[0;32mNone\u001b[0m  \u001b[0;31m# pylint: disable=protected-access\u001b[0m\u001b[0;34m\u001b[0m\u001b[0;34m\u001b[0m\u001b[0m\n\u001b[0m\u001b[1;32m   7108\u001b[0m \u001b[0;34m\u001b[0m\u001b[0m\n\u001b[1;32m   7109\u001b[0m \u001b[0;34m\u001b[0m\u001b[0m\n",
            "\u001b[0;31mInvalidArgumentError\u001b[0m: Matrix size-incompatible: In[0]: [3,2], In[1]: [3,2] [Op:MatMul]"
          ]
        }
      ]
    },
    {
      "cell_type": "code",
      "source": [
        "# we can write all together at once like this\n",
        "tf.matmul(X, tf.reshape(Y, shape = (2,3)))"
      ],
      "metadata": {
        "colab": {
          "base_uri": "https://localhost:8080/"
        },
        "id": "8Y0j463eqGrZ",
        "outputId": "3e87eac6-cd5d-4ecb-e8dc-f17491fdd38d"
      },
      "execution_count": 81,
      "outputs": [
        {
          "output_type": "execute_result",
          "data": {
            "text/plain": [
              "<tf.Tensor: shape=(3, 3), dtype=int32, numpy=\n",
              "array([[ 27,  30,  33],\n",
              "       [ 61,  68,  75],\n",
              "       [ 95, 106, 117]], dtype=int32)>"
            ]
          },
          "metadata": {},
          "execution_count": 81
        }
      ]
    },
    {
      "cell_type": "markdown",
      "source": [
        "This works !!!"
      ],
      "metadata": {
        "id": "i7MjD5rCoYM_"
      }
    },
    {
      "cell_type": "code",
      "source": [
        "# Now we try reshaping the X instead of Y\n",
        "tf.matmul(tf.reshape(X, shape = (2,3)), Y)"
      ],
      "metadata": {
        "colab": {
          "base_uri": "https://localhost:8080/"
        },
        "id": "EMs-qz4xqTDp",
        "outputId": "749de9eb-fa97-475b-af43-9385f59f52b6"
      },
      "execution_count": 82,
      "outputs": [
        {
          "output_type": "execute_result",
          "data": {
            "text/plain": [
              "<tf.Tensor: shape=(2, 2), dtype=int32, numpy=\n",
              "array([[ 58,  64],\n",
              "       [139, 154]], dtype=int32)>"
            ]
          },
          "metadata": {},
          "execution_count": 82
        }
      ]
    },
    {
      "cell_type": "code",
      "source": [
        "X.shape, tf.reshape(Y, shape = (2,3))"
      ],
      "metadata": {
        "colab": {
          "base_uri": "https://localhost:8080/"
        },
        "id": "jhAMa3h3o-3-",
        "outputId": "820c1c5e-e185-4bad-a2c8-56423454ac13"
      },
      "execution_count": 83,
      "outputs": [
        {
          "output_type": "execute_result",
          "data": {
            "text/plain": [
              "(TensorShape([3, 2]), <tf.Tensor: shape=(2, 3), dtype=int32, numpy=\n",
              " array([[ 7,  8,  9],\n",
              "        [10, 11, 12]], dtype=int32)>)"
            ]
          },
          "metadata": {},
          "execution_count": 83
        }
      ]
    },
    {
      "cell_type": "markdown",
      "source": [
        "You can see that the inner dimensions now match, and the output of the dot product is the same as outer "
      ],
      "metadata": {
        "id": "xtyfCzPdpGvH"
      }
    },
    {
      "cell_type": "markdown",
      "source": [
        "**Note:** Matrix Multiplication is also called the \"Dot Product\""
      ],
      "metadata": {
        "id": "Zn5lHbuJmNMp"
      }
    },
    {
      "cell_type": "code",
      "source": [
        "# can do the same thing with transpose\n",
        "X, tf.transpose(X), tf.reshape(X, shape= (3,2))\n"
      ],
      "metadata": {
        "id": "6mKtRdpS5ICE",
        "colab": {
          "base_uri": "https://localhost:8080/"
        },
        "outputId": "e8784d76-ccd4-4e4c-c4d5-d0dc3785817d"
      },
      "execution_count": 84,
      "outputs": [
        {
          "output_type": "execute_result",
          "data": {
            "text/plain": [
              "(<tf.Tensor: shape=(3, 2), dtype=int32, numpy=\n",
              " array([[1, 2],\n",
              "        [3, 4],\n",
              "        [5, 6]], dtype=int32)>, <tf.Tensor: shape=(2, 3), dtype=int32, numpy=\n",
              " array([[1, 3, 5],\n",
              "        [2, 4, 6]], dtype=int32)>, <tf.Tensor: shape=(3, 2), dtype=int32, numpy=\n",
              " array([[1, 2],\n",
              "        [3, 4],\n",
              "        [5, 6]], dtype=int32)>)"
            ]
          },
          "metadata": {},
          "execution_count": 84
        }
      ]
    },
    {
      "cell_type": "markdown",
      "source": [
        "#### The dot product\n",
        "You can perform matrix multiplication using:\n",
        "* `tf.matmul()`\n",
        "* `tf.tensordot()`\n",
        "* `@`"
      ],
      "metadata": {
        "id": "bXbmK0pQeiP_"
      }
    },
    {
      "cell_type": "markdown",
      "source": [
        "Perform the dot product on X and Y (requires X or Y to be transposed)"
      ],
      "metadata": {
        "id": "0lXw68RAeiNV"
      }
    },
    {
      "cell_type": "code",
      "source": [
        "tf.tensordot(tf.transpose(X), Y , axes =1 )"
      ],
      "metadata": {
        "id": "2xSKtV2OeiKL",
        "colab": {
          "base_uri": "https://localhost:8080/"
        },
        "outputId": "9a5ab743-d9d4-4a09-b534-b69a0d9bce22"
      },
      "execution_count": 86,
      "outputs": [
        {
          "output_type": "execute_result",
          "data": {
            "text/plain": [
              "<tf.Tensor: shape=(2, 2), dtype=int32, numpy=\n",
              "array([[ 89,  98],\n",
              "       [116, 128]], dtype=int32)>"
            ]
          },
          "metadata": {},
          "execution_count": 86
        }
      ]
    },
    {
      "cell_type": "markdown",
      "source": [
        " we can use either transpose or reshape"
      ],
      "metadata": {
        "id": "vkZN9OeZeiGs"
      }
    },
    {
      "cell_type": "code",
      "source": [
        "# Perform matrix multiplication between X and Y\n",
        "tf.matmul(X, tf.transpose(Y))"
      ],
      "metadata": {
        "colab": {
          "base_uri": "https://localhost:8080/"
        },
        "id": "Mwe1wjf0WYRw",
        "outputId": "cbbfaf3e-9039-4a5f-8317-4997ddc3f8b8"
      },
      "execution_count": 87,
      "outputs": [
        {
          "output_type": "execute_result",
          "data": {
            "text/plain": [
              "<tf.Tensor: shape=(3, 3), dtype=int32, numpy=\n",
              "array([[ 23,  29,  35],\n",
              "       [ 53,  67,  81],\n",
              "       [ 83, 105, 127]], dtype=int32)>"
            ]
          },
          "metadata": {},
          "execution_count": 87
        }
      ]
    },
    {
      "cell_type": "code",
      "source": [
        "# perform matrix multiplication between X and Y\n",
        "tf.matmul(X, tf.reshape(Y, shape = (2,3)))"
      ],
      "metadata": {
        "colab": {
          "base_uri": "https://localhost:8080/"
        },
        "id": "-ey9_AK_WYLq",
        "outputId": "8ea0a388-a256-4d9f-fbcf-f07a904d467a"
      },
      "execution_count": 88,
      "outputs": [
        {
          "output_type": "execute_result",
          "data": {
            "text/plain": [
              "<tf.Tensor: shape=(3, 3), dtype=int32, numpy=\n",
              "array([[ 27,  30,  33],\n",
              "       [ 61,  68,  75],\n",
              "       [ 95, 106, 117]], dtype=int32)>"
            ]
          },
          "metadata": {},
          "execution_count": 88
        }
      ]
    },
    {
      "cell_type": "markdown",
      "source": [
        "we are getting different values for the dot product in the above two cases. That means `tf.reshape()` and `tf.transpose()` does not exactly do the same thing. In some cases we might get output of both the functions same but not always."
      ],
      "metadata": {
        "id": "Dodzca75WYIz"
      }
    },
    {
      "cell_type": "code",
      "source": [
        "# Check values of Y, reshape Y and transposed Y\n",
        "print(\"Normal Y:\")\n",
        "print(Y, \"\\n\")\n",
        "\n",
        "print(\"Y reshaped to (2,3):\")\n",
        "print(tf.reshape(Y, (2,3)),\"\\n\")\n",
        "\n",
        "print(\"Y transposed:\")\n",
        "print(tf.transpose(Y))\n"
      ],
      "metadata": {
        "colab": {
          "base_uri": "https://localhost:8080/"
        },
        "id": "Uf_Fd_LJWYFz",
        "outputId": "c9ae0bb3-17ce-48fd-a09a-59962ba45e68"
      },
      "execution_count": 90,
      "outputs": [
        {
          "output_type": "stream",
          "name": "stdout",
          "text": [
            "Normal Y:\n",
            "tf.Tensor(\n",
            "[[ 7  8]\n",
            " [ 9 10]\n",
            " [11 12]], shape=(3, 2), dtype=int32) \n",
            "\n",
            "Y reshaped to (2,3):\n",
            "tf.Tensor(\n",
            "[[ 7  8  9]\n",
            " [10 11 12]], shape=(2, 3), dtype=int32) \n",
            "\n",
            "Y transposed:\n",
            "tf.Tensor(\n",
            "[[ 7  9 11]\n",
            " [ 8 10 12]], shape=(2, 3), dtype=int32)\n"
          ]
        }
      ]
    },
    {
      "cell_type": "code",
      "source": [
        "tf.matmul(X, tf.transpose(Y))"
      ],
      "metadata": {
        "id": "wOVUQKpveh_Z",
        "colab": {
          "base_uri": "https://localhost:8080/"
        },
        "outputId": "b99b1a8b-cc92-4cb5-a99f-67ad398f0019"
      },
      "execution_count": 92,
      "outputs": [
        {
          "output_type": "execute_result",
          "data": {
            "text/plain": [
              "<tf.Tensor: shape=(3, 3), dtype=int32, numpy=\n",
              "array([[ 23,  29,  35],\n",
              "       [ 53,  67,  81],\n",
              "       [ 83, 105, 127]], dtype=int32)>"
            ]
          },
          "metadata": {},
          "execution_count": 92
        }
      ]
    },
    {
      "cell_type": "markdown",
      "source": [
        "Generally, when performing matrix multiplication on two tensors, and one of the axes doesn't line up, you will transpose rather than reshape one of the tensors to satisfy the matrix multiplication rules."
      ],
      "metadata": {
        "id": "XHRA6IkKYkxr"
      }
    },
    {
      "cell_type": "markdown",
      "source": [
        "### Changing the datatype of a tensor\n",
        "\n",
        "The default datatype for tensors is int32 but however if you want to use other datatype for your tensor. we can change the datatype of the tensor."
      ],
      "metadata": {
        "id": "r-PDgqCZZCnM"
      }
    },
    {
      "cell_type": "code",
      "source": [
        "# Create a new tensor with default datatype\n",
        "B = tf.constant([1.7,7.4])\n",
        "B.dtype"
      ],
      "metadata": {
        "colab": {
          "base_uri": "https://localhost:8080/"
        },
        "id": "onhmrvPQZMhW",
        "outputId": "4d568b59-cd96-4be2-ebe7-612e638d7c8f"
      },
      "execution_count": 94,
      "outputs": [
        {
          "output_type": "execute_result",
          "data": {
            "text/plain": [
              "tf.float32"
            ]
          },
          "metadata": {},
          "execution_count": 94
        }
      ]
    },
    {
      "cell_type": "code",
      "source": [
        "C = tf.constant([7,10])\n",
        "C.dtype"
      ],
      "metadata": {
        "colab": {
          "base_uri": "https://localhost:8080/"
        },
        "id": "vInJQXTPZkeX",
        "outputId": "53ad228d-c3e5-45dc-e93a-6934de6244bb"
      },
      "execution_count": 95,
      "outputs": [
        {
          "output_type": "execute_result",
          "data": {
            "text/plain": [
              "tf.int32"
            ]
          },
          "metadata": {},
          "execution_count": 95
        }
      ]
    },
    {
      "cell_type": "code",
      "source": [
        "# Change from float32 to float16 -- This is reduced precision\n",
        "D = tf.cast(B, dtype = tf.float16)\n",
        "D, D.dtype"
      ],
      "metadata": {
        "colab": {
          "base_uri": "https://localhost:8080/"
        },
        "id": "1FmYuTVxZpg7",
        "outputId": "12a07042-1da3-4f6f-e1d9-1e86d534f529"
      },
      "execution_count": 100,
      "outputs": [
        {
          "output_type": "execute_result",
          "data": {
            "text/plain": [
              "(<tf.Tensor: shape=(2,), dtype=float16, numpy=array([1.7, 7.4], dtype=float16)>,\n",
              " tf.float16)"
            ]
          },
          "metadata": {},
          "execution_count": 100
        }
      ]
    },
    {
      "cell_type": "code",
      "source": [
        "# change from int32 to float32\n",
        "E = tf.cast(C, dtype = tf.float32)\n",
        "E.dtype"
      ],
      "metadata": {
        "colab": {
          "base_uri": "https://localhost:8080/"
        },
        "id": "eHDfreWzaJcP",
        "outputId": "15c7c795-85ae-44fa-d41f-b4e26e57e178"
      },
      "execution_count": 104,
      "outputs": [
        {
          "output_type": "execute_result",
          "data": {
            "text/plain": [
              "tf.float32"
            ]
          },
          "metadata": {},
          "execution_count": 104
        }
      ]
    },
    {
      "cell_type": "code",
      "source": [
        "E_float16 = tf.cast(E, dtype = tf.float16)\n",
        "E_float16"
      ],
      "metadata": {
        "colab": {
          "base_uri": "https://localhost:8080/"
        },
        "id": "RTwZdF2Tacm8",
        "outputId": "15b67889-c5d0-408a-ee1f-f81fbb3c22d1"
      },
      "execution_count": 105,
      "outputs": [
        {
          "output_type": "execute_result",
          "data": {
            "text/plain": [
              "<tf.Tensor: shape=(2,), dtype=float16, numpy=array([ 7., 10.], dtype=float16)>"
            ]
          },
          "metadata": {},
          "execution_count": 105
        }
      ]
    },
    {
      "cell_type": "markdown",
      "source": [
        "### Aggregating tensors\n",
        "\n",
        "Aggregating tensors  = condensing them from multiple values down to a smaller amount of values."
      ],
      "metadata": {
        "id": "LrqWi_zaalTi"
      }
    },
    {
      "cell_type": "code",
      "source": [
        "# Get a aboslute values \n",
        "D = tf.constant([-7,10])\n",
        "D"
      ],
      "metadata": {
        "colab": {
          "base_uri": "https://localhost:8080/"
        },
        "id": "etkp08_hb1w-",
        "outputId": "49a11af7-0039-40f7-c228-80a56aee4049"
      },
      "execution_count": 106,
      "outputs": [
        {
          "output_type": "execute_result",
          "data": {
            "text/plain": [
              "<tf.Tensor: shape=(2,), dtype=int32, numpy=array([-7, 10], dtype=int32)>"
            ]
          },
          "metadata": {},
          "execution_count": 106
        }
      ]
    },
    {
      "cell_type": "code",
      "source": [
        "# Get the absolute values\n",
        "tf.abs(D)"
      ],
      "metadata": {
        "colab": {
          "base_uri": "https://localhost:8080/"
        },
        "id": "ji6EjZkucdxB",
        "outputId": "cd1ac789-c4f0-4c20-82fb-9d19fce10271"
      },
      "execution_count": 107,
      "outputs": [
        {
          "output_type": "execute_result",
          "data": {
            "text/plain": [
              "<tf.Tensor: shape=(2,), dtype=int32, numpy=array([ 7, 10], dtype=int32)>"
            ]
          },
          "metadata": {},
          "execution_count": 107
        }
      ]
    },
    {
      "cell_type": "markdown",
      "source": [
        "Let's go through the following forms of aggregation:\n",
        "* Get the minimum\n",
        "* Get the maximum\n",
        "* Get the mean of a tensor\n",
        "* Get the sum of a tensor"
      ],
      "metadata": {
        "id": "APVs3cYccird"
      }
    },
    {
      "cell_type": "code",
      "source": [
        "# create a random tensor with values between 0 and 100 of size 50\n",
        "E = tf.constant(np.random.randint(0,100,size = 50))\n",
        "E"
      ],
      "metadata": {
        "colab": {
          "base_uri": "https://localhost:8080/"
        },
        "id": "LGfVGfD8clHf",
        "outputId": "7d9613d3-955c-4739-ea7c-a8352561ee17"
      },
      "execution_count": 108,
      "outputs": [
        {
          "output_type": "execute_result",
          "data": {
            "text/plain": [
              "<tf.Tensor: shape=(50,), dtype=int64, numpy=\n",
              "array([50, 30,  8,  9, 11, 58, 26, 64, 89,  4, 96, 20, 19, 35, 25, 33, 53,\n",
              "       45, 15, 73, 59, 29, 22, 16, 54, 65, 16, 87, 25, 13, 50, 35, 77, 10,\n",
              "       88, 34, 49, 70, 99, 37,  3, 93, 98, 48, 50, 35, 66, 97, 37, 93])>"
            ]
          },
          "metadata": {},
          "execution_count": 108
        }
      ]
    },
    {
      "cell_type": "code",
      "source": [
        "tf.size(E), E.shape, E.ndim"
      ],
      "metadata": {
        "colab": {
          "base_uri": "https://localhost:8080/"
        },
        "id": "L5JGApE_clEI",
        "outputId": "18f9d928-4b50-43e2-e9ec-e343fcac667e"
      },
      "execution_count": 109,
      "outputs": [
        {
          "output_type": "execute_result",
          "data": {
            "text/plain": [
              "(<tf.Tensor: shape=(), dtype=int32, numpy=50>, TensorShape([50]), 1)"
            ]
          },
          "metadata": {},
          "execution_count": 109
        }
      ]
    },
    {
      "cell_type": "code",
      "source": [
        "# Find the minimum \n",
        "tf.reduce_min(E)"
      ],
      "metadata": {
        "colab": {
          "base_uri": "https://localhost:8080/"
        },
        "id": "WH8__vCMclA-",
        "outputId": "de64a755-caec-4c11-8cde-21b452823ad8"
      },
      "execution_count": 110,
      "outputs": [
        {
          "output_type": "execute_result",
          "data": {
            "text/plain": [
              "<tf.Tensor: shape=(), dtype=int64, numpy=3>"
            ]
          },
          "metadata": {},
          "execution_count": 110
        }
      ]
    },
    {
      "cell_type": "code",
      "source": [
        "# Find the maximum \n",
        "tf.reduce_max(E)"
      ],
      "metadata": {
        "colab": {
          "base_uri": "https://localhost:8080/"
        },
        "id": "hwV_BrKMck-V",
        "outputId": "1aa8b372-4273-4f74-fbec-7479fc42b6e4"
      },
      "execution_count": 111,
      "outputs": [
        {
          "output_type": "execute_result",
          "data": {
            "text/plain": [
              "<tf.Tensor: shape=(), dtype=int64, numpy=99>"
            ]
          },
          "metadata": {},
          "execution_count": 111
        }
      ]
    },
    {
      "cell_type": "code",
      "source": [
        "# Find the mean\n",
        "tf.reduce_mean(E)"
      ],
      "metadata": {
        "colab": {
          "base_uri": "https://localhost:8080/"
        },
        "id": "x2rmamGGck71",
        "outputId": "47919b89-aba0-4cfc-a8d0-a564b3509d1b"
      },
      "execution_count": 112,
      "outputs": [
        {
          "output_type": "execute_result",
          "data": {
            "text/plain": [
              "<tf.Tensor: shape=(), dtype=int64, numpy=46>"
            ]
          },
          "metadata": {},
          "execution_count": 112
        }
      ]
    },
    {
      "cell_type": "code",
      "source": [
        "# Find the sum\n",
        "tf.reduce_sum(E)"
      ],
      "metadata": {
        "colab": {
          "base_uri": "https://localhost:8080/"
        },
        "id": "L4WwL59Xck41",
        "outputId": "c235cc70-bb8c-4847-e687-3891617bdb18"
      },
      "execution_count": 113,
      "outputs": [
        {
          "output_type": "execute_result",
          "data": {
            "text/plain": [
              "<tf.Tensor: shape=(), dtype=int64, numpy=2318>"
            ]
          },
          "metadata": {},
          "execution_count": 113
        }
      ]
    },
    {
      "cell_type": "markdown",
      "source": [
        "**Exercise:**   \n",
        "Find the variance and standard deviation of our `E` tensor using TensorFlow methods"
      ],
      "metadata": {
        "id": "FHLTegdyck1b"
      }
    },
    {
      "cell_type": "code",
      "source": [
        "# To find the variance of the tensor we need to access tfp module\n",
        "# Find the variance of our tensor\n",
        "import tensorflow_probability as tfp\n",
        "tfp.stats.variance(E)"
      ],
      "metadata": {
        "colab": {
          "base_uri": "https://localhost:8080/"
        },
        "id": "kqDH7aefd0s6",
        "outputId": "d7260e0f-5629-4add-c1f4-6c533cd9e280"
      },
      "execution_count": 115,
      "outputs": [
        {
          "output_type": "execute_result",
          "data": {
            "text/plain": [
              "<tf.Tensor: shape=(), dtype=int64, numpy=832>"
            ]
          },
          "metadata": {},
          "execution_count": 115
        }
      ]
    },
    {
      "cell_type": "code",
      "source": [
        "tf.math.reduce_std(E)\n",
        "# Error : The input must be either real or complex\n",
        "# so cast it to float32 "
      ],
      "metadata": {
        "colab": {
          "base_uri": "https://localhost:8080/",
          "height": 329
        },
        "id": "4dzpamxIefvB",
        "outputId": "c53520ed-f7af-4a68-d36b-977f127ed526"
      },
      "execution_count": 120,
      "outputs": [
        {
          "output_type": "error",
          "ename": "TypeError",
          "evalue": "ignored",
          "traceback": [
            "\u001b[0;31m---------------------------------------------------------------------------\u001b[0m",
            "\u001b[0;31mTypeError\u001b[0m                                 Traceback (most recent call last)",
            "\u001b[0;32m<ipython-input-120-a76c926197b7>\u001b[0m in \u001b[0;36m<module>\u001b[0;34m()\u001b[0m\n\u001b[0;32m----> 1\u001b[0;31m \u001b[0mtf\u001b[0m\u001b[0;34m.\u001b[0m\u001b[0mmath\u001b[0m\u001b[0;34m.\u001b[0m\u001b[0mreduce_std\u001b[0m\u001b[0;34m(\u001b[0m\u001b[0mE\u001b[0m\u001b[0;34m)\u001b[0m\u001b[0;34m\u001b[0m\u001b[0;34m\u001b[0m\u001b[0m\n\u001b[0m\u001b[1;32m      2\u001b[0m \u001b[0;31m# Error : The input must be either real or complex\u001b[0m\u001b[0;34m\u001b[0m\u001b[0;34m\u001b[0m\u001b[0;34m\u001b[0m\u001b[0m\n",
            "\u001b[0;32m/usr/local/lib/python3.7/dist-packages/tensorflow/python/util/traceback_utils.py\u001b[0m in \u001b[0;36merror_handler\u001b[0;34m(*args, **kwargs)\u001b[0m\n\u001b[1;32m    151\u001b[0m     \u001b[0;32mexcept\u001b[0m \u001b[0mException\u001b[0m \u001b[0;32mas\u001b[0m \u001b[0me\u001b[0m\u001b[0;34m:\u001b[0m\u001b[0;34m\u001b[0m\u001b[0;34m\u001b[0m\u001b[0m\n\u001b[1;32m    152\u001b[0m       \u001b[0mfiltered_tb\u001b[0m \u001b[0;34m=\u001b[0m \u001b[0m_process_traceback_frames\u001b[0m\u001b[0;34m(\u001b[0m\u001b[0me\u001b[0m\u001b[0;34m.\u001b[0m\u001b[0m__traceback__\u001b[0m\u001b[0;34m)\u001b[0m\u001b[0;34m\u001b[0m\u001b[0;34m\u001b[0m\u001b[0m\n\u001b[0;32m--> 153\u001b[0;31m       \u001b[0;32mraise\u001b[0m \u001b[0me\u001b[0m\u001b[0;34m.\u001b[0m\u001b[0mwith_traceback\u001b[0m\u001b[0;34m(\u001b[0m\u001b[0mfiltered_tb\u001b[0m\u001b[0;34m)\u001b[0m \u001b[0;32mfrom\u001b[0m \u001b[0;32mNone\u001b[0m\u001b[0;34m\u001b[0m\u001b[0;34m\u001b[0m\u001b[0m\n\u001b[0m\u001b[1;32m    154\u001b[0m     \u001b[0;32mfinally\u001b[0m\u001b[0;34m:\u001b[0m\u001b[0;34m\u001b[0m\u001b[0;34m\u001b[0m\u001b[0m\n\u001b[1;32m    155\u001b[0m       \u001b[0;32mdel\u001b[0m \u001b[0mfiltered_tb\u001b[0m\u001b[0;34m\u001b[0m\u001b[0;34m\u001b[0m\u001b[0m\n",
            "\u001b[0;32m/usr/local/lib/python3.7/dist-packages/tensorflow/python/ops/math_ops.py\u001b[0m in \u001b[0;36mreduce_variance\u001b[0;34m(input_tensor, axis, keepdims, name)\u001b[0m\n\u001b[1;32m   2673\u001b[0m     \u001b[0mmeans\u001b[0m \u001b[0;34m=\u001b[0m \u001b[0mreduce_mean\u001b[0m\u001b[0;34m(\u001b[0m\u001b[0minput_tensor\u001b[0m\u001b[0;34m,\u001b[0m \u001b[0maxis\u001b[0m\u001b[0;34m=\u001b[0m\u001b[0maxis\u001b[0m\u001b[0;34m,\u001b[0m \u001b[0mkeepdims\u001b[0m\u001b[0;34m=\u001b[0m\u001b[0;32mTrue\u001b[0m\u001b[0;34m)\u001b[0m\u001b[0;34m\u001b[0m\u001b[0;34m\u001b[0m\u001b[0m\n\u001b[1;32m   2674\u001b[0m     \u001b[0;32mif\u001b[0m \u001b[0mmeans\u001b[0m\u001b[0;34m.\u001b[0m\u001b[0mdtype\u001b[0m\u001b[0;34m.\u001b[0m\u001b[0mis_integer\u001b[0m\u001b[0;34m:\u001b[0m\u001b[0;34m\u001b[0m\u001b[0;34m\u001b[0m\u001b[0m\n\u001b[0;32m-> 2675\u001b[0;31m       raise TypeError(f\"Input must be either real or complex. \"\n\u001b[0m\u001b[1;32m   2676\u001b[0m                       f\"Received integer type {means.dtype}.\")\n\u001b[1;32m   2677\u001b[0m     \u001b[0mdiff\u001b[0m \u001b[0;34m=\u001b[0m \u001b[0minput_tensor\u001b[0m \u001b[0;34m-\u001b[0m \u001b[0mmeans\u001b[0m\u001b[0;34m\u001b[0m\u001b[0;34m\u001b[0m\u001b[0m\n",
            "\u001b[0;31mTypeError\u001b[0m: Input must be either real or complex. Received integer type <dtype: 'int64'>."
          ]
        }
      ]
    },
    {
      "cell_type": "code",
      "source": [
        "# Find the standard deviation\n",
        "tf.math.reduce_std(tf.cast(E, dtype = tf.float32))\n",
        "# The method works only if the tensor elements are either real or complex"
      ],
      "metadata": {
        "colab": {
          "base_uri": "https://localhost:8080/"
        },
        "id": "vHnIC4_peDms",
        "outputId": "7be9e36f-9756-420c-9257-06945784b1ba"
      },
      "execution_count": 117,
      "outputs": [
        {
          "output_type": "execute_result",
          "data": {
            "text/plain": [
              "<tf.Tensor: shape=(), dtype=float32, numpy=28.844936>"
            ]
          },
          "metadata": {},
          "execution_count": 117
        }
      ]
    },
    {
      "cell_type": "markdown",
      "source": [
        "### Find the positional maximum and minimum\n",
        "\n",
        "We find this helpful for our output probabilities that come from neural network."
      ],
      "metadata": {
        "id": "A5zKSxY0e3Pm"
      }
    },
    {
      "cell_type": "code",
      "source": [
        "# Create a new tensor for finding positional minimum and maximum\n",
        "tf.random.set_seed(42)\n",
        "F = tf.random.uniform(shape =[50])\n",
        "F"
      ],
      "metadata": {
        "colab": {
          "base_uri": "https://localhost:8080/"
        },
        "id": "nK7qJx3lfbfr",
        "outputId": "cd5a9533-07bd-4d22-ea79-466803f8d940"
      },
      "execution_count": 121,
      "outputs": [
        {
          "output_type": "execute_result",
          "data": {
            "text/plain": [
              "<tf.Tensor: shape=(50,), dtype=float32, numpy=\n",
              "array([0.6645621 , 0.44100678, 0.3528825 , 0.46448255, 0.03366041,\n",
              "       0.68467236, 0.74011743, 0.8724445 , 0.22632635, 0.22319686,\n",
              "       0.3103881 , 0.7223358 , 0.13318717, 0.5480639 , 0.5746088 ,\n",
              "       0.8996835 , 0.00946367, 0.5212307 , 0.6345445 , 0.1993283 ,\n",
              "       0.72942245, 0.54583454, 0.10756552, 0.6767061 , 0.6602763 ,\n",
              "       0.33695042, 0.60141766, 0.21062577, 0.8527372 , 0.44062173,\n",
              "       0.9485276 , 0.23752594, 0.81179297, 0.5263394 , 0.494308  ,\n",
              "       0.21612847, 0.8457197 , 0.8718841 , 0.3083862 , 0.6868038 ,\n",
              "       0.23764038, 0.7817228 , 0.9671384 , 0.06870162, 0.79873943,\n",
              "       0.66028714, 0.5871513 , 0.16461694, 0.7381023 , 0.32054043],\n",
              "      dtype=float32)>"
            ]
          },
          "metadata": {},
          "execution_count": 121
        }
      ]
    },
    {
      "cell_type": "code",
      "source": [
        "# Find the positional max\n",
        "tf.argmax(F)"
      ],
      "metadata": {
        "colab": {
          "base_uri": "https://localhost:8080/"
        },
        "id": "yLUpV2tjgNDq",
        "outputId": "9bc4da59-74a4-45ef-fd0e-d901faa47bd5"
      },
      "execution_count": 123,
      "outputs": [
        {
          "output_type": "execute_result",
          "data": {
            "text/plain": [
              "<tf.Tensor: shape=(), dtype=int64, numpy=42>"
            ]
          },
          "metadata": {},
          "execution_count": 123
        }
      ]
    },
    {
      "cell_type": "code",
      "source": [
        "np.argmax(F)"
      ],
      "metadata": {
        "colab": {
          "base_uri": "https://localhost:8080/"
        },
        "id": "1V7gOUaygTKB",
        "outputId": "c042051a-4526-4b08-e498-950ae76a92ff"
      },
      "execution_count": 124,
      "outputs": [
        {
          "output_type": "execute_result",
          "data": {
            "text/plain": [
              "42"
            ]
          },
          "metadata": {},
          "execution_count": 124
        }
      ]
    },
    {
      "cell_type": "code",
      "source": [
        "# Index on our largest value position\n",
        "F[tf.argmax(F)]"
      ],
      "metadata": {
        "colab": {
          "base_uri": "https://localhost:8080/"
        },
        "id": "eUbIOgR9gY-2",
        "outputId": "eb6aabb5-c713-4961-99d2-c1e3a808d325"
      },
      "execution_count": 125,
      "outputs": [
        {
          "output_type": "execute_result",
          "data": {
            "text/plain": [
              "<tf.Tensor: shape=(), dtype=float32, numpy=0.9671384>"
            ]
          },
          "metadata": {},
          "execution_count": 125
        }
      ]
    },
    {
      "cell_type": "code",
      "source": [
        "# Check for equality\n",
        "assert F[tf.argmax(F)] == tf.reduce_max(F)"
      ],
      "metadata": {
        "id": "AjZ2uYxBggNG"
      },
      "execution_count": 127,
      "outputs": []
    },
    {
      "cell_type": "markdown",
      "source": [
        "No error so we got it right!"
      ],
      "metadata": {
        "id": "tsxo4AfJgsYJ"
      }
    },
    {
      "cell_type": "code",
      "source": [
        "F[tf.argmax(F)] == tf.reduce_max(F)"
      ],
      "metadata": {
        "colab": {
          "base_uri": "https://localhost:8080/"
        },
        "id": "OBaxKiwogzRb",
        "outputId": "4fa4c3cf-3c0e-42d2-c558-b7323c0b1428"
      },
      "execution_count": 128,
      "outputs": [
        {
          "output_type": "execute_result",
          "data": {
            "text/plain": [
              "<tf.Tensor: shape=(), dtype=bool, numpy=True>"
            ]
          },
          "metadata": {},
          "execution_count": 128
        }
      ]
    },
    {
      "cell_type": "code",
      "source": [
        "# Find the positional minimum\n",
        "tf.argmin(F)"
      ],
      "metadata": {
        "colab": {
          "base_uri": "https://localhost:8080/"
        },
        "id": "wpSEBFbVg2b4",
        "outputId": "c19e847d-1472-487c-be5a-a4bb24395b0e"
      },
      "execution_count": 129,
      "outputs": [
        {
          "output_type": "execute_result",
          "data": {
            "text/plain": [
              "<tf.Tensor: shape=(), dtype=int64, numpy=16>"
            ]
          },
          "metadata": {},
          "execution_count": 129
        }
      ]
    },
    {
      "cell_type": "code",
      "source": [
        "# Find the minimum using the positional minimum Index\n",
        "F[tf.argmin(F)]"
      ],
      "metadata": {
        "colab": {
          "base_uri": "https://localhost:8080/"
        },
        "id": "t1u-0cFxhCF4",
        "outputId": "5d58e229-e7f1-44bf-e785-a40a565ec96f"
      },
      "execution_count": 130,
      "outputs": [
        {
          "output_type": "execute_result",
          "data": {
            "text/plain": [
              "<tf.Tensor: shape=(), dtype=float32, numpy=0.009463668>"
            ]
          },
          "metadata": {},
          "execution_count": 130
        }
      ]
    },
    {
      "cell_type": "markdown",
      "source": [
        "### Squeezing a tensor (removing all single dimensions)"
      ],
      "metadata": {
        "id": "JCgsQSE8hH-7"
      }
    },
    {
      "cell_type": "code",
      "source": [
        "# Create a tensor to get started\n",
        "tf.random.set_seed(42)\n",
        "G = tf.constant(tf.random.uniform(shape = [50]), shape = (1,1,1,1,50))\n",
        "G"
      ],
      "metadata": {
        "colab": {
          "base_uri": "https://localhost:8080/"
        },
        "id": "DXzMrSH3hZH2",
        "outputId": "3d07bf2f-0306-4ad6-df62-a3bb37d56d4b"
      },
      "execution_count": 132,
      "outputs": [
        {
          "output_type": "execute_result",
          "data": {
            "text/plain": [
              "<tf.Tensor: shape=(1, 1, 1, 1, 50), dtype=float32, numpy=\n",
              "array([[[[[0.6645621 , 0.44100678, 0.3528825 , 0.46448255, 0.03366041,\n",
              "           0.68467236, 0.74011743, 0.8724445 , 0.22632635, 0.22319686,\n",
              "           0.3103881 , 0.7223358 , 0.13318717, 0.5480639 , 0.5746088 ,\n",
              "           0.8996835 , 0.00946367, 0.5212307 , 0.6345445 , 0.1993283 ,\n",
              "           0.72942245, 0.54583454, 0.10756552, 0.6767061 , 0.6602763 ,\n",
              "           0.33695042, 0.60141766, 0.21062577, 0.8527372 , 0.44062173,\n",
              "           0.9485276 , 0.23752594, 0.81179297, 0.5263394 , 0.494308  ,\n",
              "           0.21612847, 0.8457197 , 0.8718841 , 0.3083862 , 0.6868038 ,\n",
              "           0.23764038, 0.7817228 , 0.9671384 , 0.06870162, 0.79873943,\n",
              "           0.66028714, 0.5871513 , 0.16461694, 0.7381023 , 0.32054043]]]]],\n",
              "      dtype=float32)>"
            ]
          },
          "metadata": {},
          "execution_count": 132
        }
      ]
    },
    {
      "cell_type": "code",
      "source": [
        "G.shape"
      ],
      "metadata": {
        "colab": {
          "base_uri": "https://localhost:8080/"
        },
        "id": "56apQd-5hZFj",
        "outputId": "ab39b337-5d31-4a55-fed0-3f7f8a2c6520"
      },
      "execution_count": 133,
      "outputs": [
        {
          "output_type": "execute_result",
          "data": {
            "text/plain": [
              "TensorShape([1, 1, 1, 1, 50])"
            ]
          },
          "metadata": {},
          "execution_count": 133
        }
      ]
    },
    {
      "cell_type": "code",
      "source": [
        "G_squeezed = tf.squeeze(G)\n",
        "G_squeezed, G_squeezed.shape"
      ],
      "metadata": {
        "colab": {
          "base_uri": "https://localhost:8080/"
        },
        "id": "6RVcDLt_hZCy",
        "outputId": "8bf65cdd-8a51-4ab4-c901-885f9b37addd"
      },
      "execution_count": 135,
      "outputs": [
        {
          "output_type": "execute_result",
          "data": {
            "text/plain": [
              "(<tf.Tensor: shape=(50,), dtype=float32, numpy=\n",
              " array([0.6645621 , 0.44100678, 0.3528825 , 0.46448255, 0.03366041,\n",
              "        0.68467236, 0.74011743, 0.8724445 , 0.22632635, 0.22319686,\n",
              "        0.3103881 , 0.7223358 , 0.13318717, 0.5480639 , 0.5746088 ,\n",
              "        0.8996835 , 0.00946367, 0.5212307 , 0.6345445 , 0.1993283 ,\n",
              "        0.72942245, 0.54583454, 0.10756552, 0.6767061 , 0.6602763 ,\n",
              "        0.33695042, 0.60141766, 0.21062577, 0.8527372 , 0.44062173,\n",
              "        0.9485276 , 0.23752594, 0.81179297, 0.5263394 , 0.494308  ,\n",
              "        0.21612847, 0.8457197 , 0.8718841 , 0.3083862 , 0.6868038 ,\n",
              "        0.23764038, 0.7817228 , 0.9671384 , 0.06870162, 0.79873943,\n",
              "        0.66028714, 0.5871513 , 0.16461694, 0.7381023 , 0.32054043],\n",
              "       dtype=float32)>, TensorShape([50]))"
            ]
          },
          "metadata": {},
          "execution_count": 135
        }
      ]
    },
    {
      "cell_type": "markdown",
      "source": [
        "### One hot encoding tensors\n",
        "\n",
        "What is one-hot encoding?  \n",
        "\n"
      ],
      "metadata": {
        "id": "soB2HfjwhxL8"
      }
    },
    {
      "cell_type": "code",
      "source": [
        "# Create a list of indices\n",
        "some_list = [0,1,2,3] # could be red, green , blue , purple\n",
        "\n",
        "# one hot encoding our list of indices \n",
        "tf.one_hot(some_list, depth = 4)"
      ],
      "metadata": {
        "colab": {
          "base_uri": "https://localhost:8080/"
        },
        "id": "ti0TMUOyiRNT",
        "outputId": "612aa314-ff46-4ee9-f749-fc35fcb89cf4"
      },
      "execution_count": 136,
      "outputs": [
        {
          "output_type": "execute_result",
          "data": {
            "text/plain": [
              "<tf.Tensor: shape=(4, 4), dtype=float32, numpy=\n",
              "array([[1., 0., 0., 0.],\n",
              "       [0., 1., 0., 0.],\n",
              "       [0., 0., 1., 0.],\n",
              "       [0., 0., 0., 1.]], dtype=float32)>"
            ]
          },
          "metadata": {},
          "execution_count": 136
        }
      ]
    },
    {
      "cell_type": "code",
      "source": [
        "# Specify custom values for one hot encoding\n",
        "tf.one_hot(some_list, depth = 4, on_value = \"Yo I love deep learning\", off_value = \"I also like to write\")"
      ],
      "metadata": {
        "colab": {
          "base_uri": "https://localhost:8080/"
        },
        "id": "yh190SNlijDi",
        "outputId": "87700ac1-b10a-41ee-8e43-b2f09eaf52ad"
      },
      "execution_count": 138,
      "outputs": [
        {
          "output_type": "execute_result",
          "data": {
            "text/plain": [
              "<tf.Tensor: shape=(4, 4), dtype=string, numpy=\n",
              "array([[b'Yo I love deep learning', b'I also like to write',\n",
              "        b'I also like to write', b'I also like to write'],\n",
              "       [b'I also like to write', b'Yo I love deep learning',\n",
              "        b'I also like to write', b'I also like to write'],\n",
              "       [b'I also like to write', b'I also like to write',\n",
              "        b'Yo I love deep learning', b'I also like to write'],\n",
              "       [b'I also like to write', b'I also like to write',\n",
              "        b'I also like to write', b'Yo I love deep learning']],\n",
              "      dtype=object)>"
            ]
          },
          "metadata": {},
          "execution_count": 138
        }
      ]
    },
    {
      "cell_type": "markdown",
      "source": [
        "### More on math functions:\n",
        "\n",
        "* squaring\n",
        "* log\n",
        "* square root"
      ],
      "metadata": {
        "id": "dAwlatUVi4id"
      }
    },
    {
      "cell_type": "code",
      "source": [
        "# vreate a new tensor\n",
        "H = tf.range(1,10)\n",
        "H"
      ],
      "metadata": {
        "colab": {
          "base_uri": "https://localhost:8080/"
        },
        "id": "e6QOYrUCjNJP",
        "outputId": "ee2b249c-8748-45b7-d30c-8f88c1cd7b1f"
      },
      "execution_count": 140,
      "outputs": [
        {
          "output_type": "execute_result",
          "data": {
            "text/plain": [
              "<tf.Tensor: shape=(9,), dtype=int32, numpy=array([1, 2, 3, 4, 5, 6, 7, 8, 9], dtype=int32)>"
            ]
          },
          "metadata": {},
          "execution_count": 140
        }
      ]
    },
    {
      "cell_type": "code",
      "source": [
        "tf.square(H)"
      ],
      "metadata": {
        "colab": {
          "base_uri": "https://localhost:8080/"
        },
        "id": "Nl3SnqSRjTF8",
        "outputId": "1e4b0e2b-4dc8-4715-982b-80fe08bdb98b"
      },
      "execution_count": 141,
      "outputs": [
        {
          "output_type": "execute_result",
          "data": {
            "text/plain": [
              "<tf.Tensor: shape=(9,), dtype=int32, numpy=array([ 1,  4,  9, 16, 25, 36, 49, 64, 81], dtype=int32)>"
            ]
          },
          "metadata": {},
          "execution_count": 141
        }
      ]
    },
    {
      "cell_type": "code",
      "source": [
        "tf.sqrt(H)"
      ],
      "metadata": {
        "colab": {
          "base_uri": "https://localhost:8080/",
          "height": 347
        },
        "id": "eTONautOjS-n",
        "outputId": "e683131d-66c3-4a25-b04a-75a2e880d8e1"
      },
      "execution_count": 142,
      "outputs": [
        {
          "output_type": "error",
          "ename": "InvalidArgumentError",
          "evalue": "ignored",
          "traceback": [
            "\u001b[0;31m---------------------------------------------------------------------------\u001b[0m",
            "\u001b[0;31mInvalidArgumentError\u001b[0m                      Traceback (most recent call last)",
            "\u001b[0;32m<ipython-input-142-f2dbaafeb52c>\u001b[0m in \u001b[0;36m<module>\u001b[0;34m()\u001b[0m\n\u001b[0;32m----> 1\u001b[0;31m \u001b[0mtf\u001b[0m\u001b[0;34m.\u001b[0m\u001b[0msqrt\u001b[0m\u001b[0;34m(\u001b[0m\u001b[0mH\u001b[0m\u001b[0;34m)\u001b[0m\u001b[0;34m\u001b[0m\u001b[0;34m\u001b[0m\u001b[0m\n\u001b[0m",
            "\u001b[0;32m/usr/local/lib/python3.7/dist-packages/tensorflow/python/util/traceback_utils.py\u001b[0m in \u001b[0;36merror_handler\u001b[0;34m(*args, **kwargs)\u001b[0m\n\u001b[1;32m    151\u001b[0m     \u001b[0;32mexcept\u001b[0m \u001b[0mException\u001b[0m \u001b[0;32mas\u001b[0m \u001b[0me\u001b[0m\u001b[0;34m:\u001b[0m\u001b[0;34m\u001b[0m\u001b[0;34m\u001b[0m\u001b[0m\n\u001b[1;32m    152\u001b[0m       \u001b[0mfiltered_tb\u001b[0m \u001b[0;34m=\u001b[0m \u001b[0m_process_traceback_frames\u001b[0m\u001b[0;34m(\u001b[0m\u001b[0me\u001b[0m\u001b[0;34m.\u001b[0m\u001b[0m__traceback__\u001b[0m\u001b[0;34m)\u001b[0m\u001b[0;34m\u001b[0m\u001b[0;34m\u001b[0m\u001b[0m\n\u001b[0;32m--> 153\u001b[0;31m       \u001b[0;32mraise\u001b[0m \u001b[0me\u001b[0m\u001b[0;34m.\u001b[0m\u001b[0mwith_traceback\u001b[0m\u001b[0;34m(\u001b[0m\u001b[0mfiltered_tb\u001b[0m\u001b[0;34m)\u001b[0m \u001b[0;32mfrom\u001b[0m \u001b[0;32mNone\u001b[0m\u001b[0;34m\u001b[0m\u001b[0;34m\u001b[0m\u001b[0m\n\u001b[0m\u001b[1;32m    154\u001b[0m     \u001b[0;32mfinally\u001b[0m\u001b[0;34m:\u001b[0m\u001b[0;34m\u001b[0m\u001b[0;34m\u001b[0m\u001b[0m\n\u001b[1;32m    155\u001b[0m       \u001b[0;32mdel\u001b[0m \u001b[0mfiltered_tb\u001b[0m\u001b[0;34m\u001b[0m\u001b[0;34m\u001b[0m\u001b[0m\n",
            "\u001b[0;32m/usr/local/lib/python3.7/dist-packages/tensorflow/python/framework/ops.py\u001b[0m in \u001b[0;36mraise_from_not_ok_status\u001b[0;34m(e, name)\u001b[0m\n\u001b[1;32m   7105\u001b[0m \u001b[0;32mdef\u001b[0m \u001b[0mraise_from_not_ok_status\u001b[0m\u001b[0;34m(\u001b[0m\u001b[0me\u001b[0m\u001b[0;34m,\u001b[0m \u001b[0mname\u001b[0m\u001b[0;34m)\u001b[0m\u001b[0;34m:\u001b[0m\u001b[0;34m\u001b[0m\u001b[0;34m\u001b[0m\u001b[0m\n\u001b[1;32m   7106\u001b[0m   \u001b[0me\u001b[0m\u001b[0;34m.\u001b[0m\u001b[0mmessage\u001b[0m \u001b[0;34m+=\u001b[0m \u001b[0;34m(\u001b[0m\u001b[0;34m\" name: \"\u001b[0m \u001b[0;34m+\u001b[0m \u001b[0mname\u001b[0m \u001b[0;32mif\u001b[0m \u001b[0mname\u001b[0m \u001b[0;32mis\u001b[0m \u001b[0;32mnot\u001b[0m \u001b[0;32mNone\u001b[0m \u001b[0;32melse\u001b[0m \u001b[0;34m\"\"\u001b[0m\u001b[0;34m)\u001b[0m\u001b[0;34m\u001b[0m\u001b[0;34m\u001b[0m\u001b[0m\n\u001b[0;32m-> 7107\u001b[0;31m   \u001b[0;32mraise\u001b[0m \u001b[0mcore\u001b[0m\u001b[0;34m.\u001b[0m\u001b[0m_status_to_exception\u001b[0m\u001b[0;34m(\u001b[0m\u001b[0me\u001b[0m\u001b[0;34m)\u001b[0m \u001b[0;32mfrom\u001b[0m \u001b[0;32mNone\u001b[0m  \u001b[0;31m# pylint: disable=protected-access\u001b[0m\u001b[0;34m\u001b[0m\u001b[0;34m\u001b[0m\u001b[0m\n\u001b[0m\u001b[1;32m   7108\u001b[0m \u001b[0;34m\u001b[0m\u001b[0m\n\u001b[1;32m   7109\u001b[0m \u001b[0;34m\u001b[0m\u001b[0m\n",
            "\u001b[0;31mInvalidArgumentError\u001b[0m: Value for attr 'T' of int32 is not in the list of allowed values: bfloat16, half, float, double, complex64, complex128\n\t; NodeDef: {{node Sqrt}}; Op<name=Sqrt; signature=x:T -> y:T; attr=T:type,allowed=[DT_BFLOAT16, DT_HALF, DT_FLOAT, DT_DOUBLE, DT_COMPLEX64, DT_COMPLEX128]> [Op:Sqrt]"
          ]
        }
      ]
    },
    {
      "cell_type": "markdown",
      "source": [
        "we got an error here because tensors of dtype int32 is not allowed as arguments for sqrt function. So, we cast it to different datatype"
      ],
      "metadata": {
        "id": "r0XtvL4XjS8B"
      }
    },
    {
      "cell_type": "code",
      "source": [
        "# Find the square root\n",
        "tf.sqrt(tf.cast(H, dtype = tf.float32))"
      ],
      "metadata": {
        "colab": {
          "base_uri": "https://localhost:8080/"
        },
        "id": "WW5kKZkYjS6u",
        "outputId": "a8c0482d-2d6c-4aee-8a10-fbec3f06e745"
      },
      "execution_count": 143,
      "outputs": [
        {
          "output_type": "execute_result",
          "data": {
            "text/plain": [
              "<tf.Tensor: shape=(9,), dtype=float32, numpy=\n",
              "array([0.99999994, 1.4142134 , 1.7320508 , 1.9999999 , 2.236068  ,\n",
              "       2.4494896 , 2.6457512 , 2.8284268 , 3.        ], dtype=float32)>"
            ]
          },
          "metadata": {},
          "execution_count": 143
        }
      ]
    },
    {
      "cell_type": "code",
      "source": [
        "# Find the log\n",
        "tf.math.log(H)"
      ],
      "metadata": {
        "colab": {
          "base_uri": "https://localhost:8080/",
          "height": 364
        },
        "id": "p53VV3s8jS3l",
        "outputId": "fca2b73f-5be1-4fe5-f182-c1b7861fadd8"
      },
      "execution_count": 144,
      "outputs": [
        {
          "output_type": "error",
          "ename": "InvalidArgumentError",
          "evalue": "ignored",
          "traceback": [
            "\u001b[0;31m---------------------------------------------------------------------------\u001b[0m",
            "\u001b[0;31mInvalidArgumentError\u001b[0m                      Traceback (most recent call last)",
            "\u001b[0;32m<ipython-input-144-d7e970c5bd0b>\u001b[0m in \u001b[0;36m<module>\u001b[0;34m()\u001b[0m\n\u001b[1;32m      1\u001b[0m \u001b[0;31m# Find the log\u001b[0m\u001b[0;34m\u001b[0m\u001b[0;34m\u001b[0m\u001b[0;34m\u001b[0m\u001b[0m\n\u001b[0;32m----> 2\u001b[0;31m \u001b[0mtf\u001b[0m\u001b[0;34m.\u001b[0m\u001b[0mmath\u001b[0m\u001b[0;34m.\u001b[0m\u001b[0mlog\u001b[0m\u001b[0;34m(\u001b[0m\u001b[0mH\u001b[0m\u001b[0;34m)\u001b[0m\u001b[0;34m\u001b[0m\u001b[0;34m\u001b[0m\u001b[0m\n\u001b[0m",
            "\u001b[0;32m/usr/local/lib/python3.7/dist-packages/tensorflow/python/ops/gen_math_ops.py\u001b[0m in \u001b[0;36mlog\u001b[0;34m(x, name)\u001b[0m\n\u001b[1;32m   5468\u001b[0m       \u001b[0;32mreturn\u001b[0m \u001b[0m_result\u001b[0m\u001b[0;34m\u001b[0m\u001b[0;34m\u001b[0m\u001b[0m\n\u001b[1;32m   5469\u001b[0m     \u001b[0;32mexcept\u001b[0m \u001b[0m_core\u001b[0m\u001b[0;34m.\u001b[0m\u001b[0m_NotOkStatusException\u001b[0m \u001b[0;32mas\u001b[0m \u001b[0me\u001b[0m\u001b[0;34m:\u001b[0m\u001b[0;34m\u001b[0m\u001b[0;34m\u001b[0m\u001b[0m\n\u001b[0;32m-> 5470\u001b[0;31m       \u001b[0m_ops\u001b[0m\u001b[0;34m.\u001b[0m\u001b[0mraise_from_not_ok_status\u001b[0m\u001b[0;34m(\u001b[0m\u001b[0me\u001b[0m\u001b[0;34m,\u001b[0m \u001b[0mname\u001b[0m\u001b[0;34m)\u001b[0m\u001b[0;34m\u001b[0m\u001b[0;34m\u001b[0m\u001b[0m\n\u001b[0m\u001b[1;32m   5471\u001b[0m     \u001b[0;32mexcept\u001b[0m \u001b[0m_core\u001b[0m\u001b[0;34m.\u001b[0m\u001b[0m_FallbackException\u001b[0m\u001b[0;34m:\u001b[0m\u001b[0;34m\u001b[0m\u001b[0;34m\u001b[0m\u001b[0m\n\u001b[1;32m   5472\u001b[0m       \u001b[0;32mpass\u001b[0m\u001b[0;34m\u001b[0m\u001b[0;34m\u001b[0m\u001b[0m\n",
            "\u001b[0;32m/usr/local/lib/python3.7/dist-packages/tensorflow/python/framework/ops.py\u001b[0m in \u001b[0;36mraise_from_not_ok_status\u001b[0;34m(e, name)\u001b[0m\n\u001b[1;32m   7105\u001b[0m \u001b[0;32mdef\u001b[0m \u001b[0mraise_from_not_ok_status\u001b[0m\u001b[0;34m(\u001b[0m\u001b[0me\u001b[0m\u001b[0;34m,\u001b[0m \u001b[0mname\u001b[0m\u001b[0;34m)\u001b[0m\u001b[0;34m:\u001b[0m\u001b[0;34m\u001b[0m\u001b[0;34m\u001b[0m\u001b[0m\n\u001b[1;32m   7106\u001b[0m   \u001b[0me\u001b[0m\u001b[0;34m.\u001b[0m\u001b[0mmessage\u001b[0m \u001b[0;34m+=\u001b[0m \u001b[0;34m(\u001b[0m\u001b[0;34m\" name: \"\u001b[0m \u001b[0;34m+\u001b[0m \u001b[0mname\u001b[0m \u001b[0;32mif\u001b[0m \u001b[0mname\u001b[0m \u001b[0;32mis\u001b[0m \u001b[0;32mnot\u001b[0m \u001b[0;32mNone\u001b[0m \u001b[0;32melse\u001b[0m \u001b[0;34m\"\"\u001b[0m\u001b[0;34m)\u001b[0m\u001b[0;34m\u001b[0m\u001b[0;34m\u001b[0m\u001b[0m\n\u001b[0;32m-> 7107\u001b[0;31m   \u001b[0;32mraise\u001b[0m \u001b[0mcore\u001b[0m\u001b[0;34m.\u001b[0m\u001b[0m_status_to_exception\u001b[0m\u001b[0;34m(\u001b[0m\u001b[0me\u001b[0m\u001b[0;34m)\u001b[0m \u001b[0;32mfrom\u001b[0m \u001b[0;32mNone\u001b[0m  \u001b[0;31m# pylint: disable=protected-access\u001b[0m\u001b[0;34m\u001b[0m\u001b[0;34m\u001b[0m\u001b[0m\n\u001b[0m\u001b[1;32m   7108\u001b[0m \u001b[0;34m\u001b[0m\u001b[0m\n\u001b[1;32m   7109\u001b[0m \u001b[0;34m\u001b[0m\u001b[0m\n",
            "\u001b[0;31mInvalidArgumentError\u001b[0m: Value for attr 'T' of int32 is not in the list of allowed values: bfloat16, half, float, double, complex64, complex128\n\t; NodeDef: {{node Log}}; Op<name=Log; signature=x:T -> y:T; attr=T:type,allowed=[DT_BFLOAT16, DT_HALF, DT_FLOAT, DT_DOUBLE, DT_COMPLEX64, DT_COMPLEX128]> [Op:Log]"
          ]
        }
      ]
    },
    {
      "cell_type": "markdown",
      "source": [
        "we also get the same error for this too. so cast the argument tensor to one of the allowed values."
      ],
      "metadata": {
        "id": "Kqzq8dQjjvYX"
      }
    },
    {
      "cell_type": "code",
      "source": [
        "tf.math.log(tf.cast(H, dtype = tf.float32))"
      ],
      "metadata": {
        "colab": {
          "base_uri": "https://localhost:8080/"
        },
        "id": "QmZxEaxKjvV4",
        "outputId": "24cbba64-9091-46c4-903c-09d2bb1df2be"
      },
      "execution_count": 145,
      "outputs": [
        {
          "output_type": "execute_result",
          "data": {
            "text/plain": [
              "<tf.Tensor: shape=(9,), dtype=float32, numpy=\n",
              "array([0.       , 0.6931472, 1.0986123, 1.3862944, 1.609438 , 1.7917595,\n",
              "       1.9459102, 2.0794415, 2.1972246], dtype=float32)>"
            ]
          },
          "metadata": {},
          "execution_count": 145
        }
      ]
    },
    {
      "cell_type": "markdown",
      "source": [
        "### Tensors and NumPy\n",
        "\n",
        "NumPy is a package used for scientific computing. The most fundamental type in NumPy is numpy array.  \n",
        "TensorFlow interacts beautifully with NumPy arrays."
      ],
      "metadata": {
        "id": "8flAr1zQjvTc"
      }
    },
    {
      "cell_type": "code",
      "source": [
        "# Create a tensor directly from a Numpy array\n",
        "J = tf.constant(np.array([3.,7.,10.]))\n",
        "J"
      ],
      "metadata": {
        "colab": {
          "base_uri": "https://localhost:8080/"
        },
        "id": "Lin9vCzSjRJe",
        "outputId": "2eab154c-3236-492b-ba73-1a796588fcdd"
      },
      "execution_count": 154,
      "outputs": [
        {
          "output_type": "execute_result",
          "data": {
            "text/plain": [
              "<tf.Tensor: shape=(3,), dtype=float64, numpy=array([ 3.,  7., 10.])>"
            ]
          },
          "metadata": {},
          "execution_count": 154
        }
      ]
    },
    {
      "cell_type": "code",
      "source": [
        "# Convert our tensor back to a NumPy array\n",
        "np.array(J), type(np.array(J))"
      ],
      "metadata": {
        "colab": {
          "base_uri": "https://localhost:8080/"
        },
        "id": "CloRXvrwkaqC",
        "outputId": "b00ad4c3-8b88-4bea-d3be-2e7a63bf9cca"
      },
      "execution_count": 155,
      "outputs": [
        {
          "output_type": "execute_result",
          "data": {
            "text/plain": [
              "(array([ 3.,  7., 10.]), numpy.ndarray)"
            ]
          },
          "metadata": {},
          "execution_count": 155
        }
      ]
    },
    {
      "cell_type": "code",
      "source": [
        "# convert tensor J to a NumPy array\n",
        "J.numpy() , type(J.numpy())"
      ],
      "metadata": {
        "colab": {
          "base_uri": "https://localhost:8080/"
        },
        "id": "RDspvWrnkySD",
        "outputId": "fe6f8a83-3a22-4930-b5cd-7c58e82f4c4b"
      },
      "execution_count": 156,
      "outputs": [
        {
          "output_type": "execute_result",
          "data": {
            "text/plain": [
              "(array([ 3.,  7., 10.]), numpy.ndarray)"
            ]
          },
          "metadata": {},
          "execution_count": 156
        }
      ]
    },
    {
      "cell_type": "code",
      "source": [
        "J = tf.constant([3.])\n",
        "J.numpy()[0]"
      ],
      "metadata": {
        "colab": {
          "base_uri": "https://localhost:8080/"
        },
        "id": "T75kbi1oki4O",
        "outputId": "44f1e3f1-b2ea-4db8-813e-2d2861bdeec1"
      },
      "execution_count": 157,
      "outputs": [
        {
          "output_type": "execute_result",
          "data": {
            "text/plain": [
              "3.0"
            ]
          },
          "metadata": {},
          "execution_count": 157
        }
      ]
    },
    {
      "cell_type": "code",
      "source": [
        "# The default types of each are slightly different\n",
        "numpy_J = tf.constant(np.array([3.,7.,10.]))\n",
        "tensor_J = tf.constant([3.,7.,10.])\n",
        "# Check the datatypes of each\n",
        "numpy_J.dtype , tensor_J.dtype"
      ],
      "metadata": {
        "colab": {
          "base_uri": "https://localhost:8080/"
        },
        "id": "qHT27xBekv4p",
        "outputId": "c6a150e6-0725-4ede-ff00-7359c050eb73"
      },
      "execution_count": 158,
      "outputs": [
        {
          "output_type": "execute_result",
          "data": {
            "text/plain": [
              "(tf.float64, tf.float32)"
            ]
          },
          "metadata": {},
          "execution_count": 158
        }
      ]
    },
    {
      "cell_type": "markdown",
      "source": [
        "We can see above that creating tensors directly from tensorflow will create a default dtype of float32 values but if we pass in numpy array to `tf.constant` the default dtype of created tensor is float64"
      ],
      "metadata": {
        "id": "7E7A-r-tlUhq"
      }
    },
    {
      "cell_type": "markdown",
      "source": [
        "### Using `@tf.function`  \n",
        "\n",
        "In your TensorFlow adventures, you might come across Python functions which have the decorator [`@tf.function`](https://www.tensorflow.org/api_docs/python/tf/function).  \n",
        "\n",
        "But in short, decorators modify a function in one way or another.  \n",
        "\n",
        "In the `@tf.function` decorator case, it turns a Python function into a callable TensorFlow graph. Which is a fancy way of saying, if you've written your own Python function, and you decorate it with `@tf.function`, when you export your code (to potentially run on another device), TensorFlow will attempt to convert it into a fast(er) version of itself (by making it part of a computation graph).\n",
        "\n",
        "For more on this, read the [Better performnace with tf.function](https://www.tensorflow.org/guide/function) guide."
      ],
      "metadata": {
        "id": "lI7lj5SgpFQb"
      }
    },
    {
      "cell_type": "code",
      "source": [
        "# Create a simple function\n",
        "def function(x, y):\n",
        "  return x ** 2 + y\n",
        "\n",
        "x = tf.constant(np.arange(0, 10))\n",
        "y = tf.constant(np.arange(10, 20))\n",
        "function(x, y)"
      ],
      "metadata": {
        "colab": {
          "base_uri": "https://localhost:8080/"
        },
        "id": "F14AaJkbpGGo",
        "outputId": "ef282315-388c-43a4-ecc2-a011ad60c645"
      },
      "execution_count": 159,
      "outputs": [
        {
          "output_type": "execute_result",
          "data": {
            "text/plain": [
              "<tf.Tensor: shape=(10,), dtype=int64, numpy=array([ 10,  12,  16,  22,  30,  40,  52,  66,  82, 100])>"
            ]
          },
          "metadata": {},
          "execution_count": 159
        }
      ]
    },
    {
      "cell_type": "code",
      "source": [
        "# Create the same function and decorate it with tf.function\n",
        "@tf.function\n",
        "def tf_function(x, y):\n",
        "  return x ** 2 + y\n",
        "\n",
        "tf_function(x, y)"
      ],
      "metadata": {
        "colab": {
          "base_uri": "https://localhost:8080/"
        },
        "id": "hoHtAbiLpGDh",
        "outputId": "6ef2e798-fede-4ce6-f0cb-16045136a4f1"
      },
      "execution_count": 160,
      "outputs": [
        {
          "output_type": "execute_result",
          "data": {
            "text/plain": [
              "<tf.Tensor: shape=(10,), dtype=int64, numpy=array([ 10,  12,  16,  22,  30,  40,  52,  66,  82, 100])>"
            ]
          },
          "metadata": {},
          "execution_count": 160
        }
      ]
    },
    {
      "cell_type": "markdown",
      "source": [
        "If you noticed no difference between the above two functions (the decorated one and the non-decorated one) you'd be right.\n",
        "\n",
        "Much of the difference happens behind the scenes. One of the main ones being potential code speed-ups where possible."
      ],
      "metadata": {
        "id": "6Ol9X9yQpGBG"
      }
    },
    {
      "cell_type": "markdown",
      "source": [
        "### Using GPUs:\n",
        "\n",
        "\n",
        "We've mentioned GPUs plenty of times throughout this notebook.\n",
        "\n",
        "So how do you check if you've got one available?\n",
        "\n",
        "You can check if you've got access to a GPU using [`tf.config.list_physical_devices()`](https://www.tensorflow.org/guide/gpu)."
      ],
      "metadata": {
        "id": "NmjQfk9YpF-k"
      }
    },
    {
      "cell_type": "code",
      "source": [
        "print(tf.config.list_physical_devices('GPU'))"
      ],
      "metadata": {
        "colab": {
          "base_uri": "https://localhost:8080/"
        },
        "id": "oDDfagB-pnDJ",
        "outputId": "c92f529b-8df3-416d-b0fd-cd8f68192f3c"
      },
      "execution_count": 161,
      "outputs": [
        {
          "output_type": "stream",
          "name": "stdout",
          "text": [
            "[]\n"
          ]
        }
      ]
    },
    {
      "cell_type": "markdown",
      "source": [
        "The PC I am working from has no GPU support."
      ],
      "metadata": {
        "id": "6khrwecjpovK"
      }
    },
    {
      "cell_type": "code",
      "source": [
        "import tensorflow as tf\n",
        "print(tf.config.list_physical_devices('GPU'))"
      ],
      "metadata": {
        "colab": {
          "base_uri": "https://localhost:8080/"
        },
        "id": "0pZfO_sLpnAA",
        "outputId": "7afa6709-5fc4-494f-b04b-3adf23456efe"
      },
      "execution_count": 162,
      "outputs": [
        {
          "output_type": "stream",
          "name": "stdout",
          "text": [
            "[]\n"
          ]
        }
      ]
    },
    {
      "cell_type": "markdown",
      "source": [
        "If you've got access to a GPU, the cell above should output something like:\n",
        "\n",
        "`[PhysicalDevice(name='/physical_device:GPU:0', device_type='GPU')]`\n",
        "\n",
        "You can also find information about your GPU using `!nvidia-smi`."
      ],
      "metadata": {
        "id": "fyWE22glp2z8"
      }
    },
    {
      "cell_type": "markdown",
      "source": [
        "> 🔑 **Note:** If you have access to a GPU, TensorFlow will automatically use it whenever possible."
      ],
      "metadata": {
        "id": "SFXvmaBDp-P9"
      }
    },
    {
      "cell_type": "markdown",
      "source": [
        "### Solutions to the Exercises given in the tutorial Notebook:"
      ],
      "metadata": {
        "id": "fljGfo_lqYmQ"
      }
    },
    {
      "cell_type": "markdown",
      "source": [
        "1. Create a vector, scalar, matrix and tensor with values of your choosing using `tf.constant()`."
      ],
      "metadata": {
        "id": "FP2mWm6UqYiv"
      }
    },
    {
      "cell_type": "code",
      "source": [
        "# solution:\n",
        "A1 = tf.constant([3]) # scalar\n",
        "A2 = tf.constant([10, 7]) # vector\n",
        "A3 = tf.constant([[10,7],\n",
        "            [3,4]]) # matrix\n",
        "A4 = tf.constant([[[10,7,3],\n",
        "             [3,4,5]],\n",
        "            [[2,3,4],\n",
        "             [7,8,9]],\n",
        "            [[1,2,3],\n",
        "             [6,7,8]]]) # tensor of dimension 3\n",
        "            \n",
        "A1,A2,A3,A4"
      ],
      "metadata": {
        "colab": {
          "base_uri": "https://localhost:8080/"
        },
        "id": "fyJSZ6tUqYf1",
        "outputId": "aea2eb35-7796-4537-8e48-795ed3c37cbf"
      },
      "execution_count": 167,
      "outputs": [
        {
          "output_type": "execute_result",
          "data": {
            "text/plain": [
              "(<tf.Tensor: shape=(1,), dtype=int32, numpy=array([3], dtype=int32)>,\n",
              " <tf.Tensor: shape=(2,), dtype=int32, numpy=array([10,  7], dtype=int32)>,\n",
              " <tf.Tensor: shape=(2, 2), dtype=int32, numpy=\n",
              " array([[10,  7],\n",
              "        [ 3,  4]], dtype=int32)>,\n",
              " <tf.Tensor: shape=(3, 2, 3), dtype=int32, numpy=\n",
              " array([[[10,  7,  3],\n",
              "         [ 3,  4,  5]],\n",
              " \n",
              "        [[ 2,  3,  4],\n",
              "         [ 7,  8,  9]],\n",
              " \n",
              "        [[ 1,  2,  3],\n",
              "         [ 6,  7,  8]]], dtype=int32)>)"
            ]
          },
          "metadata": {},
          "execution_count": 167
        }
      ]
    },
    {
      "cell_type": "markdown",
      "source": [
        "2. Find the shape, rank and size of the tensors you created in 1."
      ],
      "metadata": {
        "id": "sYS-SWXure7J"
      }
    },
    {
      "cell_type": "code",
      "source": [
        "# For A1 -- scalar\n",
        "tf.shape(A1), tf.size(A1), tf.rank(A1)"
      ],
      "metadata": {
        "colab": {
          "base_uri": "https://localhost:8080/"
        },
        "id": "yTNx5dkkre3g",
        "outputId": "b6b7397e-cb32-41fb-951b-34d582d90ff1"
      },
      "execution_count": 169,
      "outputs": [
        {
          "output_type": "execute_result",
          "data": {
            "text/plain": [
              "(<tf.Tensor: shape=(1,), dtype=int32, numpy=array([1], dtype=int32)>,\n",
              " <tf.Tensor: shape=(), dtype=int32, numpy=1>,\n",
              " <tf.Tensor: shape=(), dtype=int32, numpy=1>)"
            ]
          },
          "metadata": {},
          "execution_count": 169
        }
      ]
    },
    {
      "cell_type": "code",
      "source": [
        "# For A2 -- vector\n",
        "tf.shape(A2), tf.size(A2), tf.rank(A2)"
      ],
      "metadata": {
        "colab": {
          "base_uri": "https://localhost:8080/"
        },
        "id": "K_ZmAUEhre0u",
        "outputId": "ce408e28-75c5-4bf8-a1b5-dadb77800006"
      },
      "execution_count": 170,
      "outputs": [
        {
          "output_type": "execute_result",
          "data": {
            "text/plain": [
              "(<tf.Tensor: shape=(1,), dtype=int32, numpy=array([2], dtype=int32)>,\n",
              " <tf.Tensor: shape=(), dtype=int32, numpy=2>,\n",
              " <tf.Tensor: shape=(), dtype=int32, numpy=1>)"
            ]
          },
          "metadata": {},
          "execution_count": 170
        }
      ]
    },
    {
      "cell_type": "code",
      "source": [
        "# For A3 -- matrix\n",
        "tf.shape(A3), tf.size(A3), tf.rank(A3)"
      ],
      "metadata": {
        "colab": {
          "base_uri": "https://localhost:8080/"
        },
        "id": "xJb5L1i_reyE",
        "outputId": "17be5300-1a56-462b-86f7-c3885ae692e5"
      },
      "execution_count": 171,
      "outputs": [
        {
          "output_type": "execute_result",
          "data": {
            "text/plain": [
              "(<tf.Tensor: shape=(2,), dtype=int32, numpy=array([2, 2], dtype=int32)>,\n",
              " <tf.Tensor: shape=(), dtype=int32, numpy=4>,\n",
              " <tf.Tensor: shape=(), dtype=int32, numpy=2>)"
            ]
          },
          "metadata": {},
          "execution_count": 171
        }
      ]
    },
    {
      "cell_type": "code",
      "source": [
        "# For A4 -- tensor of 3 dimensions\n",
        "tf.shape(A4), tf.size(A4), tf.rank(A4)"
      ],
      "metadata": {
        "colab": {
          "base_uri": "https://localhost:8080/"
        },
        "id": "PuFFOkewrevc",
        "outputId": "a8fb2892-aa78-4d1f-cb47-40ba91346029"
      },
      "execution_count": 172,
      "outputs": [
        {
          "output_type": "execute_result",
          "data": {
            "text/plain": [
              "(<tf.Tensor: shape=(3,), dtype=int32, numpy=array([3, 2, 3], dtype=int32)>,\n",
              " <tf.Tensor: shape=(), dtype=int32, numpy=18>,\n",
              " <tf.Tensor: shape=(), dtype=int32, numpy=3>)"
            ]
          },
          "metadata": {},
          "execution_count": 172
        }
      ]
    },
    {
      "cell_type": "markdown",
      "source": [
        "3. Create two tensors containing random values between 0 and 1 with shape `[5, 300]`."
      ],
      "metadata": {
        "id": "-c3MITZTsY6S"
      }
    },
    {
      "cell_type": "code",
      "source": [
        "tf.random.set_seed(42)\n",
        "B1 = tf.random.uniform([5,300], minval = 0, maxval = 1) # it works even if we not specify the min and max val since the function arguments defaults to 0 and 1\n",
        "B2 = tf.random.uniform([5,300], minval = 0, maxval = 1) \n",
        "B1,B2"
      ],
      "metadata": {
        "colab": {
          "base_uri": "https://localhost:8080/"
        },
        "id": "Li_xc7kqsY3K",
        "outputId": "b55157c3-d293-4b97-c46c-c23c550b8155"
      },
      "execution_count": 173,
      "outputs": [
        {
          "output_type": "execute_result",
          "data": {
            "text/plain": [
              "(<tf.Tensor: shape=(5, 300), dtype=float32, numpy=\n",
              " array([[0.6645621 , 0.44100678, 0.3528825 , ..., 0.31410468, 0.7593535 ,\n",
              "         0.03699052],\n",
              "        [0.532024  , 0.29129946, 0.10571766, ..., 0.54052293, 0.31425726,\n",
              "         0.2200619 ],\n",
              "        [0.08404207, 0.03614604, 0.97732127, ..., 0.21516645, 0.9786098 ,\n",
              "         0.00726748],\n",
              "        [0.7396945 , 0.6653172 , 0.0787828 , ..., 0.7117733 , 0.07013571,\n",
              "         0.9409125 ],\n",
              "        [0.15861344, 0.12024033, 0.27218235, ..., 0.8824879 , 0.1432488 ,\n",
              "         0.44135118]], dtype=float32)>,\n",
              " <tf.Tensor: shape=(5, 300), dtype=float32, numpy=\n",
              " array([[0.68789124, 0.48447883, 0.9309944 , ..., 0.6920762 , 0.33180213,\n",
              "         0.9212563 ],\n",
              "        [0.27369928, 0.10631859, 0.6218617 , ..., 0.4382149 , 0.30427706,\n",
              "         0.51477313],\n",
              "        [0.00920248, 0.37280262, 0.8177401 , ..., 0.56786287, 0.49201214,\n",
              "         0.9892651 ],\n",
              "        [0.88608265, 0.08672249, 0.12160683, ..., 0.91770685, 0.72545695,\n",
              "         0.8280058 ],\n",
              "        [0.36690474, 0.9200133 , 0.9646884 , ..., 0.69012   , 0.7137332 ,\n",
              "         0.2584542 ]], dtype=float32)>)"
            ]
          },
          "metadata": {},
          "execution_count": 173
        }
      ]
    },
    {
      "cell_type": "markdown",
      "source": [
        "4. Multiply the two tensors you created in 3 using matrix multiplication."
      ],
      "metadata": {
        "id": "qKcLWu4ysY0f"
      }
    },
    {
      "cell_type": "code",
      "source": [
        "tf.matmul(B1,tf.transpose(B2))"
      ],
      "metadata": {
        "colab": {
          "base_uri": "https://localhost:8080/"
        },
        "id": "7FFh4pDgsYx_",
        "outputId": "a9b89828-a482-42ea-92ed-cbbc371564f0"
      },
      "execution_count": 175,
      "outputs": [
        {
          "output_type": "execute_result",
          "data": {
            "text/plain": [
              "<tf.Tensor: shape=(5, 5), dtype=float32, numpy=\n",
              "array([[80.33344 , 73.40498 , 77.15962 , 73.98368 , 80.90053 ],\n",
              "       [75.146355, 68.80437 , 74.24302 , 71.841835, 75.60206 ],\n",
              "       [79.7594  , 75.644554, 77.797585, 74.74873 , 80.559845],\n",
              "       [75.085266, 69.06406 , 74.307755, 72.27616 , 76.05668 ],\n",
              "       [85.056885, 74.266266, 78.00687 , 74.88678 , 83.13418 ]],\n",
              "      dtype=float32)>"
            ]
          },
          "metadata": {},
          "execution_count": 175
        }
      ]
    },
    {
      "cell_type": "code",
      "source": [
        "tf.matmul(tf.transpose(B1), B2)"
      ],
      "metadata": {
        "colab": {
          "base_uri": "https://localhost:8080/"
        },
        "id": "VhDHrOC8sYvH",
        "outputId": "a9b9398c-712f-42aa-964b-097f5f64db3f"
      },
      "execution_count": 176,
      "outputs": [
        {
          "output_type": "execute_result",
          "data": {
            "text/plain": [
              "<tf.Tensor: shape=(300, 300), dtype=float32, numpy=\n",
              "array([[1.317161  , 0.61993605, 1.2612379 , ..., 1.5290778 , 1.0735596 ,\n",
              "        1.6227092 ],\n",
              "       [1.0170685 , 0.42642498, 0.8181824 , ..., 1.1469344 , 0.8212255 ,\n",
              "        1.1739546 ],\n",
              "       [0.45034647, 0.8037954 , 1.4656199 , ..., 1.105671  , 0.88152766,\n",
              "        1.481925  ],\n",
              "       ...,\n",
              "       [1.3204696 , 1.1634867 , 1.7423928 , ..., 1.8386563 , 1.5207756 ,\n",
              "        1.5979093 ],\n",
              "       [0.73207504, 0.90400356, 1.8493464 , ..., 1.3821819 , 0.98218614,\n",
              "        1.924531  ],\n",
              "       [1.0814031 , 0.5316744 , 0.7174167 , ..., 1.2942287 , 1.0804075 ,\n",
              "        1.0476992 ]], dtype=float32)>"
            ]
          },
          "metadata": {},
          "execution_count": 176
        }
      ]
    },
    {
      "cell_type": "markdown",
      "source": [
        "5. Multiply the two tensors you created in 3 using dot product."
      ],
      "metadata": {
        "id": "N2bwuucRsYsa"
      }
    },
    {
      "cell_type": "code",
      "source": [
        "tf.tensordot(B1,tf.transpose(B2), axes = 1)"
      ],
      "metadata": {
        "colab": {
          "base_uri": "https://localhost:8080/"
        },
        "id": "3exwDm-HsYpn",
        "outputId": "7e5e050d-c324-4634-82d4-c0f8b6b3078a"
      },
      "execution_count": 181,
      "outputs": [
        {
          "output_type": "execute_result",
          "data": {
            "text/plain": [
              "<tf.Tensor: shape=(5, 5), dtype=float32, numpy=\n",
              "array([[80.33344 , 73.40498 , 77.15962 , 73.98368 , 80.90053 ],\n",
              "       [75.146355, 68.80437 , 74.24302 , 71.841835, 75.60206 ],\n",
              "       [79.7594  , 75.644554, 77.797585, 74.74873 , 80.559845],\n",
              "       [75.085266, 69.06406 , 74.307755, 72.27616 , 76.05668 ],\n",
              "       [85.056885, 74.266266, 78.00687 , 74.88678 , 83.13418 ]],\n",
              "      dtype=float32)>"
            ]
          },
          "metadata": {},
          "execution_count": 181
        }
      ]
    },
    {
      "cell_type": "markdown",
      "source": [
        "6. Create a tensor with random values between 0 and 1 with shape `[224, 224, 3]`."
      ],
      "metadata": {
        "id": "wNJ_QH_3t145"
      }
    },
    {
      "cell_type": "code",
      "source": [
        "tf.random.set_seed(42)\n",
        "randtensor = tf.random.uniform([224,224,3])\n",
        "randtensor"
      ],
      "metadata": {
        "colab": {
          "base_uri": "https://localhost:8080/"
        },
        "id": "cAxEMl8zt1yd",
        "outputId": "60b1fe00-8988-4f28-e4a9-6d9a0d49a17a"
      },
      "execution_count": 184,
      "outputs": [
        {
          "output_type": "execute_result",
          "data": {
            "text/plain": [
              "<tf.Tensor: shape=(224, 224, 3), dtype=float32, numpy=\n",
              "array([[[0.6645621 , 0.44100678, 0.3528825 ],\n",
              "        [0.46448255, 0.03366041, 0.68467236],\n",
              "        [0.74011743, 0.8724445 , 0.22632635],\n",
              "        ...,\n",
              "        [0.42612267, 0.09686017, 0.16105258],\n",
              "        [0.1487099 , 0.04513884, 0.9497483 ],\n",
              "        [0.4393103 , 0.28527975, 0.96971095]],\n",
              "\n",
              "       [[0.73308516, 0.5657046 , 0.33238935],\n",
              "        [0.8838178 , 0.87544763, 0.56711245],\n",
              "        [0.8879347 , 0.47661996, 0.42041814],\n",
              "        ...,\n",
              "        [0.7716515 , 0.9116473 , 0.3229897 ],\n",
              "        [0.43050945, 0.83253574, 0.45549798],\n",
              "        [0.29816985, 0.9639522 , 0.3316357 ]],\n",
              "\n",
              "       [[0.41132426, 0.2179662 , 0.53570235],\n",
              "        [0.5112119 , 0.6484759 , 0.8894886 ],\n",
              "        [0.42459428, 0.20189774, 0.85781324],\n",
              "        ...,\n",
              "        [0.02888799, 0.3995477 , 0.11355484],\n",
              "        [0.68524575, 0.04945195, 0.17778492],\n",
              "        [0.97627187, 0.79811585, 0.9411576 ]],\n",
              "\n",
              "       ...,\n",
              "\n",
              "       [[0.9019445 , 0.27011132, 0.8090267 ],\n",
              "        [0.32395256, 0.6672456 , 0.940673  ],\n",
              "        [0.7166116 , 0.8860713 , 0.6777594 ],\n",
              "        ...,\n",
              "        [0.8318608 , 0.39227867, 0.68916583],\n",
              "        [0.1599741 , 0.46428144, 0.4656595 ],\n",
              "        [0.8619243 , 0.24755931, 0.33835268]],\n",
              "\n",
              "       [[0.47570062, 0.09377229, 0.11811328],\n",
              "        [0.0523994 , 0.38206005, 0.12188685],\n",
              "        [0.2757113 , 0.44918692, 0.9179864 ],\n",
              "        ...,\n",
              "        [0.4974177 , 0.4562863 , 0.8261535 ],\n",
              "        [0.60251105, 0.27676368, 0.258716  ],\n",
              "        [0.7977431 , 0.74125385, 0.76062095]],\n",
              "\n",
              "       [[0.4755299 , 0.4661665 , 0.14167643],\n",
              "        [0.9103775 , 0.41117966, 0.83182037],\n",
              "        [0.79765654, 0.38330686, 0.5313202 ],\n",
              "        ...,\n",
              "        [0.94517136, 0.17730081, 0.00362825],\n",
              "        [0.6170398 , 0.9977623 , 0.8315122 ],\n",
              "        [0.6683676 , 0.68716586, 0.4447713 ]]], dtype=float32)>"
            ]
          },
          "metadata": {},
          "execution_count": 184
        }
      ]
    },
    {
      "cell_type": "markdown",
      "source": [
        "7. Find the min and max values of the tensor you created in 6."
      ],
      "metadata": {
        "id": "P5jAMsX_t1v4"
      }
    },
    {
      "cell_type": "code",
      "source": [
        "tf.reduce_max(randtensor)"
      ],
      "metadata": {
        "colab": {
          "base_uri": "https://localhost:8080/"
        },
        "id": "2HtckjR9t1qu",
        "outputId": "9a73ecfc-9753-42e0-c4e2-0db320f583a2"
      },
      "execution_count": 185,
      "outputs": [
        {
          "output_type": "execute_result",
          "data": {
            "text/plain": [
              "<tf.Tensor: shape=(), dtype=float32, numpy=0.999998>"
            ]
          },
          "metadata": {},
          "execution_count": 185
        }
      ]
    },
    {
      "cell_type": "code",
      "source": [
        "tf.reduce_min(randtensor)"
      ],
      "metadata": {
        "colab": {
          "base_uri": "https://localhost:8080/"
        },
        "id": "2LUe3Fg_t1oN",
        "outputId": "c11c2c3c-fe64-49f4-d468-e3530037c407"
      },
      "execution_count": 186,
      "outputs": [
        {
          "output_type": "execute_result",
          "data": {
            "text/plain": [
              "<tf.Tensor: shape=(), dtype=float32, numpy=3.5762787e-07>"
            ]
          },
          "metadata": {},
          "execution_count": 186
        }
      ]
    },
    {
      "cell_type": "markdown",
      "source": [
        "8. Created a tensor with random values of shape `[1, 224, 224, 3]` then squeeze it to change the shape to `[224, 224, 3]`."
      ],
      "metadata": {
        "id": "qZSeEeCHuZw5"
      }
    },
    {
      "cell_type": "code",
      "source": [
        "tf.random.set_seed(42)\n",
        "for_squeeze = tf.random.uniform([1,224,224,3])\n",
        "for_squeeze"
      ],
      "metadata": {
        "colab": {
          "base_uri": "https://localhost:8080/"
        },
        "id": "pZnVBgTEuZuh",
        "outputId": "868fbd23-1f47-4b63-f7e4-96012f451d1a"
      },
      "execution_count": 188,
      "outputs": [
        {
          "output_type": "execute_result",
          "data": {
            "text/plain": [
              "<tf.Tensor: shape=(1, 224, 224, 3), dtype=float32, numpy=\n",
              "array([[[[0.6645621 , 0.44100678, 0.3528825 ],\n",
              "         [0.46448255, 0.03366041, 0.68467236],\n",
              "         [0.74011743, 0.8724445 , 0.22632635],\n",
              "         ...,\n",
              "         [0.42612267, 0.09686017, 0.16105258],\n",
              "         [0.1487099 , 0.04513884, 0.9497483 ],\n",
              "         [0.4393103 , 0.28527975, 0.96971095]],\n",
              "\n",
              "        [[0.73308516, 0.5657046 , 0.33238935],\n",
              "         [0.8838178 , 0.87544763, 0.56711245],\n",
              "         [0.8879347 , 0.47661996, 0.42041814],\n",
              "         ...,\n",
              "         [0.7716515 , 0.9116473 , 0.3229897 ],\n",
              "         [0.43050945, 0.83253574, 0.45549798],\n",
              "         [0.29816985, 0.9639522 , 0.3316357 ]],\n",
              "\n",
              "        [[0.41132426, 0.2179662 , 0.53570235],\n",
              "         [0.5112119 , 0.6484759 , 0.8894886 ],\n",
              "         [0.42459428, 0.20189774, 0.85781324],\n",
              "         ...,\n",
              "         [0.02888799, 0.3995477 , 0.11355484],\n",
              "         [0.68524575, 0.04945195, 0.17778492],\n",
              "         [0.97627187, 0.79811585, 0.9411576 ]],\n",
              "\n",
              "        ...,\n",
              "\n",
              "        [[0.9019445 , 0.27011132, 0.8090267 ],\n",
              "         [0.32395256, 0.6672456 , 0.940673  ],\n",
              "         [0.7166116 , 0.8860713 , 0.6777594 ],\n",
              "         ...,\n",
              "         [0.8318608 , 0.39227867, 0.68916583],\n",
              "         [0.1599741 , 0.46428144, 0.4656595 ],\n",
              "         [0.8619243 , 0.24755931, 0.33835268]],\n",
              "\n",
              "        [[0.47570062, 0.09377229, 0.11811328],\n",
              "         [0.0523994 , 0.38206005, 0.12188685],\n",
              "         [0.2757113 , 0.44918692, 0.9179864 ],\n",
              "         ...,\n",
              "         [0.4974177 , 0.4562863 , 0.8261535 ],\n",
              "         [0.60251105, 0.27676368, 0.258716  ],\n",
              "         [0.7977431 , 0.74125385, 0.76062095]],\n",
              "\n",
              "        [[0.4755299 , 0.4661665 , 0.14167643],\n",
              "         [0.9103775 , 0.41117966, 0.83182037],\n",
              "         [0.79765654, 0.38330686, 0.5313202 ],\n",
              "         ...,\n",
              "         [0.94517136, 0.17730081, 0.00362825],\n",
              "         [0.6170398 , 0.9977623 , 0.8315122 ],\n",
              "         [0.6683676 , 0.68716586, 0.4447713 ]]]], dtype=float32)>"
            ]
          },
          "metadata": {},
          "execution_count": 188
        }
      ]
    },
    {
      "cell_type": "code",
      "source": [
        "G_squeezed = tf.squeeze(for_squeeze)\n",
        "G_squeezed, G_squeezed.shape"
      ],
      "metadata": {
        "colab": {
          "base_uri": "https://localhost:8080/"
        },
        "id": "QCugi8cZuZsc",
        "outputId": "be390372-00e3-44c2-fc10-a04de7980e8d"
      },
      "execution_count": 189,
      "outputs": [
        {
          "output_type": "execute_result",
          "data": {
            "text/plain": [
              "(<tf.Tensor: shape=(224, 224, 3), dtype=float32, numpy=\n",
              " array([[[0.6645621 , 0.44100678, 0.3528825 ],\n",
              "         [0.46448255, 0.03366041, 0.68467236],\n",
              "         [0.74011743, 0.8724445 , 0.22632635],\n",
              "         ...,\n",
              "         [0.42612267, 0.09686017, 0.16105258],\n",
              "         [0.1487099 , 0.04513884, 0.9497483 ],\n",
              "         [0.4393103 , 0.28527975, 0.96971095]],\n",
              " \n",
              "        [[0.73308516, 0.5657046 , 0.33238935],\n",
              "         [0.8838178 , 0.87544763, 0.56711245],\n",
              "         [0.8879347 , 0.47661996, 0.42041814],\n",
              "         ...,\n",
              "         [0.7716515 , 0.9116473 , 0.3229897 ],\n",
              "         [0.43050945, 0.83253574, 0.45549798],\n",
              "         [0.29816985, 0.9639522 , 0.3316357 ]],\n",
              " \n",
              "        [[0.41132426, 0.2179662 , 0.53570235],\n",
              "         [0.5112119 , 0.6484759 , 0.8894886 ],\n",
              "         [0.42459428, 0.20189774, 0.85781324],\n",
              "         ...,\n",
              "         [0.02888799, 0.3995477 , 0.11355484],\n",
              "         [0.68524575, 0.04945195, 0.17778492],\n",
              "         [0.97627187, 0.79811585, 0.9411576 ]],\n",
              " \n",
              "        ...,\n",
              " \n",
              "        [[0.9019445 , 0.27011132, 0.8090267 ],\n",
              "         [0.32395256, 0.6672456 , 0.940673  ],\n",
              "         [0.7166116 , 0.8860713 , 0.6777594 ],\n",
              "         ...,\n",
              "         [0.8318608 , 0.39227867, 0.68916583],\n",
              "         [0.1599741 , 0.46428144, 0.4656595 ],\n",
              "         [0.8619243 , 0.24755931, 0.33835268]],\n",
              " \n",
              "        [[0.47570062, 0.09377229, 0.11811328],\n",
              "         [0.0523994 , 0.38206005, 0.12188685],\n",
              "         [0.2757113 , 0.44918692, 0.9179864 ],\n",
              "         ...,\n",
              "         [0.4974177 , 0.4562863 , 0.8261535 ],\n",
              "         [0.60251105, 0.27676368, 0.258716  ],\n",
              "         [0.7977431 , 0.74125385, 0.76062095]],\n",
              " \n",
              "        [[0.4755299 , 0.4661665 , 0.14167643],\n",
              "         [0.9103775 , 0.41117966, 0.83182037],\n",
              "         [0.79765654, 0.38330686, 0.5313202 ],\n",
              "         ...,\n",
              "         [0.94517136, 0.17730081, 0.00362825],\n",
              "         [0.6170398 , 0.9977623 , 0.8315122 ],\n",
              "         [0.6683676 , 0.68716586, 0.4447713 ]]], dtype=float32)>,\n",
              " TensorShape([224, 224, 3]))"
            ]
          },
          "metadata": {},
          "execution_count": 189
        }
      ]
    },
    {
      "cell_type": "markdown",
      "source": [
        "9. Create a tensor with shape `[10]` using your own choice of values, then find the index which has the maximum value."
      ],
      "metadata": {
        "id": "f43mka76uZpW"
      }
    },
    {
      "cell_type": "code",
      "source": [
        "tf.random.set_seed(42)\n",
        "nine_ans = tf.random.uniform([10], maxval = 10,dtype = tf.int32)\n",
        "nine_ans"
      ],
      "metadata": {
        "colab": {
          "base_uri": "https://localhost:8080/"
        },
        "id": "kCXDNMh1uZmi",
        "outputId": "77649f29-be9b-4a0f-cb0b-20f6e6120349"
      },
      "execution_count": 203,
      "outputs": [
        {
          "output_type": "execute_result",
          "data": {
            "text/plain": [
              "<tf.Tensor: shape=(10,), dtype=int32, numpy=array([7, 9, 1, 6, 2, 4, 3, 3, 1, 1], dtype=int32)>"
            ]
          },
          "metadata": {},
          "execution_count": 203
        }
      ]
    },
    {
      "cell_type": "code",
      "source": [
        "tf.argmax(nine_ans)"
      ],
      "metadata": {
        "colab": {
          "base_uri": "https://localhost:8080/"
        },
        "id": "8jgvNMZ7vZM8",
        "outputId": "cd6efa2a-aa0d-4f10-bc2a-4e140bbd025a"
      },
      "execution_count": 204,
      "outputs": [
        {
          "output_type": "execute_result",
          "data": {
            "text/plain": [
              "<tf.Tensor: shape=(), dtype=int64, numpy=1>"
            ]
          },
          "metadata": {},
          "execution_count": 204
        }
      ]
    },
    {
      "cell_type": "markdown",
      "source": [
        "10. One-hot encode the tensor you created in 9."
      ],
      "metadata": {
        "id": "uBIPLMccvaGQ"
      }
    },
    {
      "cell_type": "code",
      "source": [
        "tf.one_hot(tf.cast(nine_ans,dtype = tf.int32), depth = 10)"
      ],
      "metadata": {
        "colab": {
          "base_uri": "https://localhost:8080/"
        },
        "id": "CBixWdNrvaDn",
        "outputId": "960a01b5-7891-4ed2-a80d-64ffe0a6b51e"
      },
      "execution_count": 205,
      "outputs": [
        {
          "output_type": "execute_result",
          "data": {
            "text/plain": [
              "<tf.Tensor: shape=(10, 10), dtype=float32, numpy=\n",
              "array([[0., 0., 0., 0., 0., 0., 0., 1., 0., 0.],\n",
              "       [0., 0., 0., 0., 0., 0., 0., 0., 0., 1.],\n",
              "       [0., 1., 0., 0., 0., 0., 0., 0., 0., 0.],\n",
              "       [0., 0., 0., 0., 0., 0., 1., 0., 0., 0.],\n",
              "       [0., 0., 1., 0., 0., 0., 0., 0., 0., 0.],\n",
              "       [0., 0., 0., 0., 1., 0., 0., 0., 0., 0.],\n",
              "       [0., 0., 0., 1., 0., 0., 0., 0., 0., 0.],\n",
              "       [0., 0., 0., 1., 0., 0., 0., 0., 0., 0.],\n",
              "       [0., 1., 0., 0., 0., 0., 0., 0., 0., 0.],\n",
              "       [0., 1., 0., 0., 0., 0., 0., 0., 0., 0.]], dtype=float32)>"
            ]
          },
          "metadata": {},
          "execution_count": 205
        }
      ]
    },
    {
      "cell_type": "markdown",
      "source": [
        "**Bibliography**:\n",
        "* [Tensorflow Daniel Bourke 2021 Youtube](https://youtu.be/tpCFfeUEGs8)"
      ],
      "metadata": {
        "id": "buJ_kUDOlpa8"
      }
    }
  ]
}
