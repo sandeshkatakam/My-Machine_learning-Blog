{
 "cells": [
  {
   "cell_type": "markdown",
   "metadata": {},
   "source": [
    "# \"Transfer Learning with TensorFlow : Feature Extraction\"\n",
    "> \"Notebook demonstrates Transfer Learning using Feature Extraction in TensorFlow\"\n",
    "\n",
    "- toc: true\n",
    "- badges: true\n",
    "- comments: true\n",
    "- categories: [Deep Learning, NeuralNetworks, TensorFlow, Transfer-Learning, Feature-Extraction]\n",
    "- image: images/efficientnet.png"
   ]
  },
  {
   "cell_type": "markdown",
   "metadata": {
    "id": "Zds_xieR_GXe"
   },
   "source": [
    "## Transfer Learning with TensorFlow : Feature Extraction  \n",
    "> This Notebook is an account of my working for the Udemy course : [TensorFlow Developer Certificate in 2022: Zero to Mastery](https://www.udemy.com/course/tensorflow-developer-certificate-machine-learning-zero-to-mastery/).\n",
    "\n",
    "Transfer learning is a machine learning method where a model developed for a task is reused as the starting point for a model on a second task.\n",
    "\n",
    "It is a popular approach in deep learning where pre-trained models are used as the starting point on computer vision and natural language processing tasks given the vast compute and time resources required to develop neural network models on these problems and from the huge jumps in skill that they provide on related problems."
   ]
  },
  {
   "cell_type": "markdown",
   "metadata": {
    "id": "2hpdfZcxK643"
   },
   "source": [
    "Concepts covered in this Notebook:  \n",
    "* Introduce transfer learning with TensorFlow\n",
    "* Using a small dataset to experiment faster(10% of training samples)\n",
    "* Building a transfer learning feature extraction model with TensorFlow Hub.\n",
    "* Use TensorBoard to track modelling experiments and results"
   ]
  },
  {
   "cell_type": "markdown",
   "metadata": {
    "id": "2MnCCap9HUsl"
   },
   "source": [
    "**Why use transfer learning?**  \n",
    "\n",
    "* Can leverage an existing neural network architecture **proven to work** on problems similar to our own\n",
    "* Can leverage a working network architecture which has **already learned patterns** on similar data to our own (often results in great ML products with less data)\n"
   ]
  },
  {
   "cell_type": "markdown",
   "metadata": {
    "id": "eELe13wLHUvv"
   },
   "source": [
    "Example of tranfer learning use cases:  \n",
    "* Computer Vision (using ImageNet for our Image classification problems)\n",
    "* Natural Language Processing (detecting spam mails - spam filter)"
   ]
  },
  {
   "cell_type": "markdown",
   "metadata": {
    "id": "em6PbYNrHUni"
   },
   "source": [
    "### Downloading and getting familiar with data\n"
   ]
  },
  {
   "cell_type": "code",
   "execution_count": 1,
   "metadata": {
    "colab": {
     "base_uri": "https://localhost:8080/"
    },
    "id": "5M2Q8-YUHUet",
    "outputId": "d7ec14cc-d74b-464e-c578-215befe14617"
   },
   "outputs": [
    {
     "name": "stdout",
     "output_type": "stream",
     "text": [
      "--2022-02-18 07:42:56--  https://storage.googleapis.com/ztm_tf_course/food_vision/10_food_classes_10_percent.zip\n",
      "Resolving storage.googleapis.com (storage.googleapis.com)... 142.251.5.128, 74.125.133.128, 74.125.140.128, ...\n",
      "Connecting to storage.googleapis.com (storage.googleapis.com)|142.251.5.128|:443... connected.\n",
      "HTTP request sent, awaiting response... 200 OK\n",
      "Length: 168546183 (161M) [application/zip]\n",
      "Saving to: ‘10_food_classes_10_percent.zip’\n",
      "\n",
      "10_food_classes_10_ 100%[===================>] 160.74M  60.3MB/s    in 2.7s    \n",
      "\n",
      "2022-02-18 07:42:59 (60.3 MB/s) - ‘10_food_classes_10_percent.zip’ saved [168546183/168546183]\n",
      "\n"
     ]
    }
   ],
   "source": [
    "# Get data (10% of 10 food classes from food101 dataset from kaggle)\n",
    "import zipfile\n",
    "\n",
    "# Download the data\n",
    "!wget https://storage.googleapis.com/ztm_tf_course/food_vision/10_food_classes_10_percent.zip\n",
    "\n",
    "# Unzip the downloaded file\n",
    "zip_ref = zipfile.ZipFile(\"10_food_classes_10_percent.zip\")\n",
    "zip_ref.extractall()\n",
    "zip_ref.close()\n"
   ]
  },
  {
   "cell_type": "code",
   "execution_count": 2,
   "metadata": {
    "id": "g9dnRKR5HUTR"
   },
   "outputs": [],
   "source": [
    "# How many images in each folder\n",
    "import os\n",
    " \n",
    "# Walk through 10 percent data dir and list number of files\n",
    "for dirpath, dirnames, filenames in os.walk(\"10_food_classes_10_percent)\"):\n",
    "  print(f\"There are {len(dirnames)} directories and {len(filenames)} images in '{dirpath}'.\")"
   ]
  },
  {
   "cell_type": "markdown",
   "metadata": {
    "id": "hsPC9AG9HUP8"
   },
   "source": [
    "### Creating data loader (preparing the data)  \n",
    "\n",
    "We'll use the `ImageDataGenerator` class to load in our images in batches.\n"
   ]
  },
  {
   "cell_type": "code",
   "execution_count": 3,
   "metadata": {
    "colab": {
     "base_uri": "https://localhost:8080/"
    },
    "id": "5MTnMPNdHUK6",
    "outputId": "71ef886d-d094-42b4-a5a0-cdd52ecbd886"
   },
   "outputs": [
    {
     "name": "stdout",
     "output_type": "stream",
     "text": [
      "Training images:\n",
      "Found 750 images belonging to 10 classes.\n",
      "Testing Images:\n",
      "Found 2500 images belonging to 10 classes.\n"
     ]
    }
   ],
   "source": [
    "# Setup data inputs\n",
    "from tensorflow.keras.preprocessing.image import ImageDataGenerator\n",
    "\n",
    "IMAGE_SHAPE = (224,224)\n",
    "BATCH_SIZE = 32\n",
    "\n",
    "train_dir = \"10_food_classes_10_percent/train\"\n",
    "test_dir = \"10_food_classes_10_percent/test\"\n",
    "\n",
    "train_datagen = ImageDataGenerator(rescale=1/255.)\n",
    "test_datagen = ImageDataGenerator(rescale = 1/255.)\n",
    "\n",
    "print(\"Training images:\")\n",
    "train_data_10_percent = train_datagen.flow_from_directory(train_dir,\n",
    "                                                          target_size = IMAGE_SHAPE,\n",
    "                                                          batch_size = BATCH_SIZE,\n",
    "                                                          class_mode = \"categorical\")\n",
    "\n",
    "print(\"Testing Images:\")\n",
    "test_data = test_datagen.flow_from_directory(test_dir,\n",
    "                                             target_size = IMAGE_SHAPE,\n",
    "                                             batch_size = 32,\n",
    "                                             class_mode =\"categorical\")"
   ]
  },
  {
   "cell_type": "markdown",
   "metadata": {
    "id": "BMu8qiDoQx54"
   },
   "source": [
    "### Setting up callbacks (things to run whilst our model trains)\n",
    "\n",
    "Callbacks are extra functionality you can add to your models to be performed during or after training. Some of the most popular callbacks:  \n",
    "\n",
    "* Tracking experiments with the `TensorBoard` callback  \n",
    "* Model checkpoint with the `ModelCheckpoint` callback\n",
    "* Stopping a model from training (before it trains too long and overfits) with the `EarlyStopping` callback  \n",
    "\n",
    "Some popular callbacks include:    \n",
    "\n",
    "| Callback name | Use case | Code |\n",
    "| --- | --- | --- |\n",
    "| TensorBoard | Log the performance of multiple models and then view and compare these models in a visual way on TensorBoard (a dashboard for inspecting neural network parameters). Helpful to compare the results of different models on your data | `tf.keras.callbacks.TensorBoard()` |\n",
    "| Model checkpointing | Save your model as it trains so you can stop training if needed and come back to continue off where you left. Helpful if training takes a long time and can't be done in one sitting | `tf.keras.callbacks.ModelCheckpoint()` |\n",
    "| Early Stopping | Leave your model training for an arbitary amount of time and have it stop training automatically when it ceases to improve. Helpful when you've got a large dataset and don't know how long training will take | `tf.keras.callbacks.EarlyStopping()`"
   ]
  },
  {
   "cell_type": "code",
   "execution_count": 4,
   "metadata": {
    "id": "E077l4rGXUPT"
   },
   "outputs": [],
   "source": [
    "# Create TensorBoard callback (functionized because we need to create a new one for each model)\n",
    "import datetime\n",
    "import tensorflow as tf\n",
    "\n",
    "def create_tensorboard_callback(dir_name, experiment_name):\n",
    "  log_dir = dir_name + \"/\" + experiment_name + \"/\" + datetime.datetime.now().strftime(\"%Y%m%d-%H%M%S\")\n",
    "  tensorboard_callback = tf.keras.callbacks.TensorBoard(log_dir = log_dir)\n",
    "  print(f\"Saving TensorBoard log files to : {log_dir}\")\n",
    "  return tensorboard_callback\n"
   ]
  },
  {
   "cell_type": "markdown",
   "metadata": {
    "id": "ImRmpsbLZ0e8"
   },
   "source": [
    "> **Note:**  You can customize the directory where your TensorBoard logs (model training metrics) get saved to whatever you like. The `log_dir` parameter we've created above is only one option."
   ]
  },
  {
   "cell_type": "markdown",
   "metadata": {
    "id": "W_mFpBK0amsy"
   },
   "source": [
    "### Creating models using Tensorflow Hub  \n",
    "\n",
    "TensorFlow Hub is the repository of pre-trained machine learning models created with tensorflow.  \n",
    "\n",
    "We are going to do a similar process, except the majority of our model's layers are going to come from TensorFlow Hub.\n",
    "\n",
    "[TensorFlow Hub](https://www.tensorflow.org/hub)"
   ]
  },
  {
   "cell_type": "code",
   "execution_count": 5,
   "metadata": {
    "id": "fstRn16QatVY"
   },
   "outputs": [],
   "source": [
    "# Let's compare the following two models\n",
    "efficientnet_url = \"https://tfhub.dev/google/efficientnet/b0/classification/1\"\n",
    "\n",
    "resnet_url = \"https://tfhub.dev/google/imagenet/resnet_v2_50/feature_vector/5\""
   ]
  },
  {
   "cell_type": "code",
   "execution_count": 6,
   "metadata": {
    "id": "LaIZDn6datSZ"
   },
   "outputs": [],
   "source": [
    "# Import dependencies\n",
    "import tensorflow as tf\n",
    "import tensorflow_hub as hub\n",
    "from tensorflow.keras import layers"
   ]
  },
  {
   "cell_type": "code",
   "execution_count": 7,
   "metadata": {
    "id": "EaWQzoKoasKV"
   },
   "outputs": [],
   "source": [
    "# Let's make a create_model() function to  create a model from a URL\n",
    "def create_model(model_url, num_classes = 10):\n",
    "  \"\"\"\n",
    "  Takes a TensorFlow Hub URL and creates a Keras Sequential model with it\n",
    "\n",
    "  Args:\n",
    "    model_url(str): A TensorFlow Hub features extraction URL.\n",
    "    num_classes(int) : Number of output neurons in the output layer,\n",
    "      should be equal to number of target classes, default 10.\n",
    "\n",
    "  Returns:\n",
    "    An uncompiled Keras Sequential model with model_url as feature extractor\n",
    "    layers and Dense output layers with num_classes output neurons.\n",
    "  \"\"\"\n",
    "  # Download the pretrained model and save it \n",
    "  feature_extractor_layer = hub.KerasLayer(model_url,\n",
    "                                           trainable =False,\n",
    "                                           name = \"feature_extraction_layer\",\n",
    "                                           input_shape = IMAGE_SHAPE+(3,)) # Freeze the already learned parameters\n",
    "\n",
    "  # Create our model\n",
    "  model = tf.keras.Sequential([\n",
    "     feature_extractor_layer,\n",
    "     layers.Dense(num_classes, activation = \"softmax\", name = \"output_layer\")                               \n",
    "  ])      \n",
    "\n",
    "  return model                                  \n",
    "  "
   ]
  },
  {
   "cell_type": "markdown",
   "metadata": {
    "id": "6xAjYjIqasHt"
   },
   "source": [
    "### Creating and testing ResNet TensorFlow Hub Feature Extraction model"
   ]
  },
  {
   "cell_type": "code",
   "execution_count": 8,
   "metadata": {
    "id": "HC8DDXO-asFO"
   },
   "outputs": [],
   "source": [
    "# Create Resnet model\n",
    "resnet_model = create_model(resnet_url,\n",
    "                            num_classes=train_data_10_percent.num_classes)"
   ]
  },
  {
   "cell_type": "code",
   "execution_count": 9,
   "metadata": {
    "id": "QAFNpqr3g3ud"
   },
   "outputs": [],
   "source": [
    "resnet_model.compile(loss = \"categorical_crossentropy\",\n",
    "                     optimizer = tf.keras.optimizers.Adam(),\n",
    "                     metrics = [\"accuracy\"])"
   ]
  },
  {
   "cell_type": "code",
   "execution_count": 10,
   "metadata": {
    "colab": {
     "base_uri": "https://localhost:8080/"
    },
    "id": "92WvUoW4asC_",
    "outputId": "38257b44-1012-4b96-c4ae-92f503e81c8b"
   },
   "outputs": [
    {
     "name": "stdout",
     "output_type": "stream",
     "text": [
      "Model: \"sequential\"\n",
      "_________________________________________________________________\n",
      " Layer (type)                Output Shape              Param #   \n",
      "=================================================================\n",
      " feature_extraction_layer (K  (None, 2048)             23564800  \n",
      " erasLayer)                                                      \n",
      "                                                                 \n",
      " output_layer (Dense)        (None, 10)                20490     \n",
      "                                                                 \n",
      "=================================================================\n",
      "Total params: 23,585,290\n",
      "Trainable params: 20,490\n",
      "Non-trainable params: 23,564,800\n",
      "_________________________________________________________________\n"
     ]
    }
   ],
   "source": [
    "resnet_model.summary()"
   ]
  },
  {
   "cell_type": "markdown",
   "metadata": {
    "id": "Ir9JgJbcgoWl"
   },
   "source": [
    "whoaa..the number of parameters are ~23 Million. But only ~20,000 are trainable parameters other are from the freeze model we uploaded from the tensorflow hub. Here's look at the Resnet50 architecture:  \n",
    "\n",
    "![](https://raw.githubusercontent.com/mrdbourke/tensorflow-deep-learning/main/images/04-resnet-feature-extractor.png)\n",
    "*What our current model looks like. A ResNet50V2 backbone with a custom dense layer on top (10 classes instead of 1000 ImageNet classes). **Note:** The Image shows ResNet34 instead of ResNet50. **Image source:** https://arxiv.org/abs/1512.03385.*\n"
   ]
  },
  {
   "cell_type": "code",
   "execution_count": 11,
   "metadata": {
    "colab": {
     "base_uri": "https://localhost:8080/"
    },
    "id": "jPrWoWN1hD21",
    "outputId": "b35e84a0-718a-4bf6-feec-5c8645d85d8f"
   },
   "outputs": [
    {
     "name": "stdout",
     "output_type": "stream",
     "text": [
      "Saving TensorBoard log files to : tensorflow_hub/resnet50V2/20220218-074315\n",
      "Epoch 1/5\n",
      "24/24 [==============================] - 39s 1s/step - loss: 1.9621 - accuracy: 0.3333 - val_loss: 1.2971 - val_accuracy: 0.5844\n",
      "Epoch 2/5\n",
      "24/24 [==============================] - 26s 1s/step - loss: 0.9486 - accuracy: 0.7053 - val_loss: 0.8931 - val_accuracy: 0.7084\n",
      "Epoch 3/5\n",
      "24/24 [==============================] - 26s 1s/step - loss: 0.6548 - accuracy: 0.8067 - val_loss: 0.7746 - val_accuracy: 0.7440\n",
      "Epoch 4/5\n",
      "24/24 [==============================] - 21s 905ms/step - loss: 0.5017 - accuracy: 0.8707 - val_loss: 0.7280 - val_accuracy: 0.7560\n",
      "Epoch 5/5\n",
      "24/24 [==============================] - 21s 908ms/step - loss: 0.4017 - accuracy: 0.9133 - val_loss: 0.6811 - val_accuracy: 0.7732\n"
     ]
    }
   ],
   "source": [
    "# Fit the resnet model to our 10% of the data \n",
    "resnet_history = resnet_model.fit(train_data_10_percent,\n",
    "                 epochs = 5,\n",
    "                 steps_per_epoch =len(train_data_10_percent),\n",
    "                 validation_data = test_data,\n",
    "                 validation_steps = len(test_data),\n",
    "                 callbacks = [create_tensorboard_callback(dir_name=\"tensorflow_hub\",\n",
    "                                                          experiment_name =\"resnet50V2\")])"
   ]
  },
  {
   "cell_type": "markdown",
   "metadata": {
    "id": "m0O4naTjrliM"
   },
   "source": [
    "Our transfer learning feature extractor model outperformed all of the previous models we built by hand. We have achieved around ~91% accuracy!! with only 10% of the data. we have a validation accuracy ~77%"
   ]
  },
  {
   "cell_type": "code",
   "execution_count": 17,
   "metadata": {
    "id": "c1fTVUvPasAI"
   },
   "outputs": [],
   "source": [
    "# let's create a function to plot our loss curves\n",
    "# we can put a function like this into a script called \"helper.py and import \"\n",
    "import matplotlib.pyplot as plt\n",
    "plt.style.use('dark_background') # set dark background for plots\n",
    "\n",
    "def plot_loss_curves(history):\n",
    "  \"\"\"\n",
    "  Returns training and validation metrics\n",
    "\n",
    "  Args: \n",
    "    history : TensorFlow History object.\n",
    "\n",
    "  Returns:\n",
    "    plots of training/validation loss and accuracy metrics\n",
    "\n",
    "  \"\"\"\n",
    "  \n",
    "  loss = history.history[\"loss\"]\n",
    "  val_loss = history.history[\"val_loss\"] \n",
    "\n",
    "  accuracy = history.history[\"accuracy\"]\n",
    "  val_accuracy = history.history[\"val_accuracy\"]\n",
    "\n",
    "  epochs = range(len(history.history[\"loss\"]))\n",
    "\n",
    "  # Plot loss\n",
    "  plt.plot(epochs, loss, label = \"training_loss\")\n",
    "  plt.plot(epochs, val_loss, label = \"validation_loss\")\n",
    "  plt.title(\"Loss\")\n",
    "  plt.xlabel(\"Epochs\")\n",
    "  plt.legend()\n",
    "\n",
    "  # Plot Accuracy\n",
    "  plt.figure()\n",
    "  plt.plot(epochs, accuracy, label =\"training_accuracy\")\n",
    "  plt.plot(epochs, val_accuracy, label = \"validation_accuracy\")\n",
    "  plt.title(\"Accuracy\")\n",
    "  plt.xlabel(\"Accuracy\")\n",
    "  plt.legend();"
   ]
  },
  {
   "cell_type": "code",
   "execution_count": 18,
   "metadata": {
    "colab": {
     "base_uri": "https://localhost:8080/",
     "height": 573
    },
    "id": "JYepR4ynar9I",
    "outputId": "46f0f329-e93b-413a-cb24-e339876472b7"
   },
   "outputs": [
    {
     "data": {
      "image/png": "[encoded data removed]",
      "text/plain": [
       "<Figure size 432x288 with 1 Axes>"
      ]
     },
     "metadata": {},
     "output_type": "display_data"
    },
    {
     "data": {
      "image/png": "[encoded data removed]",
      "text/plain": [
       "<Figure size 432x288 with 1 Axes>"
      ]
     },
     "metadata": {},
     "output_type": "display_data"
    }
   ],
   "source": [
    "plot_loss_curves(resnet_history)"
   ]
  },
  {
   "cell_type": "markdown",
   "metadata": {
    "id": "mstf-FFlar6q"
   },
   "source": [
    "### Creating and testing EfficientNetB0 TensorFlow Hub Feature Extraction model"
   ]
  },
  {
   "cell_type": "code",
   "execution_count": 19,
   "metadata": {
    "colab": {
     "base_uri": "https://localhost:8080/"
    },
    "id": "VK8mkElCar4O",
    "outputId": "d8e19724-2478-4274-fc43-a1a5d184a977"
   },
   "outputs": [
    {
     "name": "stdout",
     "output_type": "stream",
     "text": [
      "Saving TensorBoard log files to : tensorflow_hub/efficientnetb0/20220218-075921\n",
      "Epoch 1/5\n",
      "24/24 [==============================] - 26s 902ms/step - loss: 1.8412 - accuracy: 0.4000 - val_loss: 0.9458 - val_accuracy: 0.7020\n",
      "Epoch 2/5\n",
      "24/24 [==============================] - 19s 820ms/step - loss: 0.7660 - accuracy: 0.7600 - val_loss: 0.6298 - val_accuracy: 0.7928\n",
      "Epoch 3/5\n",
      "24/24 [==============================] - 20s 847ms/step - loss: 0.5194 - accuracy: 0.8480 - val_loss: 0.5491 - val_accuracy: 0.8240\n",
      "Epoch 4/5\n",
      "24/24 [==============================] - 19s 836ms/step - loss: 0.3962 - accuracy: 0.8907 - val_loss: 0.5118 - val_accuracy: 0.8316\n",
      "Epoch 5/5\n",
      "24/24 [==============================] - 19s 834ms/step - loss: 0.3268 - accuracy: 0.9187 - val_loss: 0.4939 - val_accuracy: 0.8420\n"
     ]
    }
   ],
   "source": [
    "# Create Efficient model\n",
    "efficientnet_model = create_model(model_url=efficientnet_url,\n",
    "                            num_classes=train_data_10_percent.num_classes)\n",
    "\n",
    "# Compile the EfficientNet model\n",
    "efficientnet_model.compile(loss = \"categorical_crossentropy\",\n",
    "                           optimizer = tf.keras.optimizers.Adam(),\n",
    "                           metrics = [\"accuracy\"])\n",
    "\n",
    "# Fit EfficientNet model to 10% of training data\n",
    "efficientnet_history = efficientnet_model.fit(train_data_10_percent,\n",
    "                                              epochs =5,\n",
    "                                              steps_per_epoch =len(train_data_10_percent),\n",
    "                                              validation_data = test_data,\n",
    "                                              validation_steps = len(test_data),\n",
    "                                              callbacks = [create_tensorboard_callback(dir_name =\"tensorflow_hub\",\n",
    "                                                                                       experiment_name=\"efficientnetb0\")])"
   ]
  },
  {
   "cell_type": "markdown",
   "metadata": {
    "id": "iI-n7IZD27-A"
   },
   "source": [
    "We have done really well with EfficientNetb0 model. we have training accuracy ~91% and validation accuracy ~84%."
   ]
  },
  {
   "cell_type": "code",
   "execution_count": 20,
   "metadata": {
    "colab": {
     "base_uri": "https://localhost:8080/",
     "height": 573
    },
    "id": "_L2uqfRtar1Q",
    "outputId": "797cdee2-f566-444e-cb54-070584dc48cc"
   },
   "outputs": [
    {
     "data": {
      "image/png": "[encoded data removed]",
      "text/plain": [
       "<Figure size 432x288 with 1 Axes>"
      ]
     },
     "metadata": {},
     "output_type": "display_data"
    },
    {
     "data": {
      "image/png": "[encoded data removed]",
      "text/plain": [
       "<Figure size 432x288 with 1 Axes>"
      ]
     },
     "metadata": {},
     "output_type": "display_data"
    }
   ],
   "source": [
    "# Let's plot the loss curves\n",
    "plot_loss_curves(efficientnet_history)"
   ]
  },
  {
   "cell_type": "code",
   "execution_count": 21,
   "metadata": {
    "colab": {
     "base_uri": "https://localhost:8080/"
    },
    "id": "bCs-CXDA2mzz",
    "outputId": "3fcb12e7-1e4a-4c92-b69c-9eab1c28fb9e"
   },
   "outputs": [
    {
     "name": "stdout",
     "output_type": "stream",
     "text": [
      "Model: \"sequential_1\"\n",
      "_________________________________________________________________\n",
      " Layer (type)                Output Shape              Param #   \n",
      "=================================================================\n",
      " feature_extraction_layer (K  (None, 1000)             5330564   \n",
      " erasLayer)                                                      \n",
      "                                                                 \n",
      " output_layer (Dense)        (None, 10)                10010     \n",
      "                                                                 \n",
      "=================================================================\n",
      "Total params: 5,340,574\n",
      "Trainable params: 10,010\n",
      "Non-trainable params: 5,330,564\n",
      "_________________________________________________________________\n"
     ]
    }
   ],
   "source": [
    "efficientnet_model.summary()"
   ]
  },
  {
   "cell_type": "code",
   "execution_count": 22,
   "metadata": {
    "colab": {
     "base_uri": "https://localhost:8080/"
    },
    "id": "ZlthUDkF3N5r",
    "outputId": "cd4fca46-8dcf-4e08-b499-7933c1efc876"
   },
   "outputs": [
    {
     "name": "stdout",
     "output_type": "stream",
     "text": [
      "Model: \"sequential\"\n",
      "_________________________________________________________________\n",
      " Layer (type)                Output Shape              Param #   \n",
      "=================================================================\n",
      " feature_extraction_layer (K  (None, 2048)             23564800  \n",
      " erasLayer)                                                      \n",
      "                                                                 \n",
      " output_layer (Dense)        (None, 10)                20490     \n",
      "                                                                 \n",
      "=================================================================\n",
      "Total params: 23,585,290\n",
      "Trainable params: 20,490\n",
      "Non-trainable params: 23,564,800\n",
      "_________________________________________________________________\n"
     ]
    }
   ],
   "source": [
    "resnet_model.summary()"
   ]
  },
  {
   "cell_type": "markdown",
   "metadata": {
    "id": "y5ZmBHru3TO5"
   },
   "source": [
    "The EfficientNet architecture performs really good even though the number of parameters in the model are far less than ResNet model. "
   ]
  },
  {
   "cell_type": "code",
   "execution_count": 26,
   "metadata": {
    "colab": {
     "base_uri": "https://localhost:8080/"
    },
    "id": "PunZSzsg5XnI",
    "outputId": "9a47f406-a791-4e4b-d8ea-07c172ab4951"
   },
   "outputs": [
    {
     "data": {
      "text/plain": [
       "311"
      ]
     },
     "execution_count": 26,
     "metadata": {},
     "output_type": "execute_result"
    }
   ],
   "source": [
    "len(efficientnet_model.layers[0].weights)"
   ]
  },
  {
   "cell_type": "markdown",
   "metadata": {
    "id": "3wherogl5O-u"
   },
   "source": [
    "our Neural network learns these weights/parameters for extracting and generalizing features for better prediction on new data"
   ]
  },
  {
   "cell_type": "markdown",
   "metadata": {
    "id": "NA1pe2f83fVu"
   },
   "source": [
    "### Different types of transfer learning  \n",
    "\n",
    "* **\"As is\" transfer learning** - using an existing model with no changes(eg. using ImageNet model on 1000 ImageNet classes, none of your own)  \n",
    "* **\"Feature extraction\"** transfer learning - use the pre-learned patterns of an existing model (eg. EffiientNetB0 trained on ImageNet) and adjust the output layer for your own problem(eg. 1000 classes -> 10 classes of food)  \n",
    "* **\"Fine tuning\" transfer learning** - use the prelearned patterns of an existing model and \"fine-tune\" many or all of the underlying layers(including new output layers)  \n",
    "\n",
    "![](https://raw.githubusercontent.com/mrdbourke/tensorflow-deep-learning/main/images/04-different-kinds-of-transfer-learning.png)\n",
    "*The different kinds of transfer learning. An original model, a feature extraction model (only top 2-3 layers change) and a fine-tuning model (many or all of original model get changed).*"
   ]
  },
  {
   "cell_type": "markdown",
   "metadata": {
    "id": "YhX0eNTH3fTE"
   },
   "source": [
    "### Comparing our model's results using TensorBoard  \n",
    "\n",
    "**What is TensorBoard?**  \n",
    "* A way to visually explore your machine learning models performance and internals.  \n",
    "* Host, track and share your machine learning experiments on [TensorBoard.dev](https://tensorboard.dev/)  \n",
    "\n",
    "> **Note:** When you upload things to TensorBoard.dev, your experiments are public. So, if you're running private experiments (things you don't want other to see) do not upload them to TensorBoard.dev"
   ]
  },
  {
   "cell_type": "code",
   "execution_count": null,
   "metadata": {
    "id": "B0JnLPpA3fOk"
   },
   "outputs": [],
   "source": [
    "# Run thie code  cell for uploading the experiment to TensorBoard\n",
    "# Upload TensorBoard dev records\n",
    "!tensorboard dev upload --logdir ./tensorflow_hub/ \\\n",
    "  --name \"EfficientNetB0 vs. ResNet50V2\" \\\n",
    "  --description \"Comparing two different TF Hub Feature extraction model architectures using 10% of the training data\" \\\n",
    "  --one_shot"
   ]
  },
  {
   "cell_type": "code",
   "execution_count": 28,
   "metadata": {
    "colab": {
     "base_uri": "https://localhost:8080/"
    },
    "id": "As7cGJDY3fMC",
    "outputId": "24ffb9da-085a-4aa7-d859-5f5963296af3"
   },
   "outputs": [
    {
     "name": "stdout",
     "output_type": "stream",
     "text": [
      "https://tensorboard.dev/experiment/1OBT56EnQ7GbJSOdsOKjZg/\n",
      "\tName                 EfficientNetB0 vs. ResNet50V2\n",
      "\tDescription          Comparing two different TF Hub Feature extraction model architectures using 10% of the training data\n",
      "\tId                   1OBT56EnQ7GbJSOdsOKjZg\n",
      "\tCreated              2022-02-18 08:32:35 (5 minutes ago)\n",
      "\tUpdated              2022-02-18 08:32:38 (5 minutes ago)\n",
      "\tRuns                 4\n",
      "\tTags                 5\n",
      "\tScalars              60\n",
      "\tTensor bytes         0\n",
      "\tBinary object bytes  3145194\n",
      "Total: 1 experiment(s)\n"
     ]
    }
   ],
   "source": [
    "#Check out what TensorBoard experiments you have\n",
    "!tensorboard dev list"
   ]
  },
  {
   "cell_type": "code",
   "execution_count": null,
   "metadata": {
    "id": "HRoFtMGC3fKI"
   },
   "outputs": [],
   "source": [
    "# Delete an experiment \n",
    "# !tensorboard dev delete --experiment_id [copy your id here]"
   ]
  },
  {
   "cell_type": "markdown",
   "metadata": {
    "id": "Yw-BS-TN3SaZ"
   },
   "source": [
    "Weights&Biases also integreates with TensorFlow so we can use that as visualization tool."
   ]
  },
  {
   "cell_type": "markdown",
   "metadata": {
    "id": "KfBwE_UK_wqy"
   },
   "source": [
    "## References:  \n",
    "\n",
    "* [weights&bisases](https://wandb.ai/site)\n",
    "* [TensorBoard experiment](https://tensorboard.dev/experiment/1OBT56EnQ7GbJSOdsOKjZg/)\n",
    "* [TensorFlow Developer Certificate in 2022: Zero to Mastery](https://www.udemy.com/course/tensorflow-developer-certificate-machine-learning-zero-to-mastery/)"
   ]
  }
 ],
 "metadata": {
  "colab": {
   "collapsed_sections": [],
   "name": "Transfer_Learning_in_TensorFlow_Feature_Extraction.ipynb",
   "provenance": []
  },
  "kernelspec": {
   "display_name": "Python 3 (ipykernel)",
   "language": "python",
   "name": "python3"
  },
  "language_info": {
   "codemirror_mode": {
    "name": "ipython",
    "version": 3
   },
   "file_extension": ".py",
   "mimetype": "text/x-python",
   "name": "python",
   "nbconvert_exporter": "python",
   "pygments_lexer": "ipython3",
   "version": "3.9.7"
  }
 },
 "nbformat": 4,
 "nbformat_minor": 1
}
